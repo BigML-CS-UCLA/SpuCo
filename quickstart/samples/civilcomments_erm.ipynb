{
 "cells": [
  {
   "cell_type": "code",
   "execution_count": 11,
   "metadata": {},
   "outputs": [
    {
     "name": "stdout",
     "output_type": "stream",
     "text": [
      "Looking in indexes: https://pypi.org/simple, https://pypi.ngc.nvidia.com\n",
      "Processing /home/yuyang/SpuCo\n",
      "  Installing build dependencies ... \u001b[?25ldone\n",
      "\u001b[?25h  Getting requirements to build wheel ... \u001b[?25ldone\n",
      "\u001b[?25h  Installing backend dependencies ... \u001b[?25ldone\n",
      "\u001b[?25h  Preparing metadata (pyproject.toml) ... \u001b[?25ldone\n",
      "\u001b[?25hRequirement already satisfied: torch>=2.0.0 in /home/yuyang/SpuCo/.conda/lib/python3.10/site-packages (from spuco==0.0.1) (2.0.1)\n",
      "Requirement already satisfied: numpy>=1.23.5 in /home/yuyang/SpuCo/.conda/lib/python3.10/site-packages (from spuco==0.0.1) (1.24.3)\n",
      "Requirement already satisfied: matplotlib>=3.7.1 in /home/yuyang/SpuCo/.conda/lib/python3.10/site-packages (from spuco==0.0.1) (3.7.1)\n",
      "Requirement already satisfied: setuptools>=61.0 in /home/yuyang/SpuCo/.conda/lib/python3.10/site-packages (from spuco==0.0.1) (66.0.0)\n",
      "Requirement already satisfied: torchvision>=0.15.1 in /home/yuyang/SpuCo/.conda/lib/python3.10/site-packages (from spuco==0.0.1) (0.15.2)\n",
      "Requirement already satisfied: tqdm>=4.65.0 in /home/yuyang/SpuCo/.conda/lib/python3.10/site-packages (from spuco==0.0.1) (4.65.0)\n",
      "Requirement already satisfied: scikit-learn>=0.20.0 in /home/yuyang/SpuCo/.conda/lib/python3.10/site-packages (from spuco==0.0.1) (1.2.2)\n",
      "Requirement already satisfied: wilds>=2.0.0 in /home/yuyang/SpuCo/.conda/lib/python3.10/site-packages (from spuco==0.0.1) (2.0.0)\n",
      "Requirement already satisfied: transformers>=3.5.0 in /home/yuyang/SpuCo/.conda/lib/python3.10/site-packages (from spuco==0.0.1) (4.29.2)\n",
      "Requirement already satisfied: python-dateutil>=2.7 in /home/yuyang/SpuCo/.conda/lib/python3.10/site-packages (from matplotlib>=3.7.1->spuco==0.0.1) (2.8.2)\n",
      "Requirement already satisfied: pyparsing>=2.3.1 in /home/yuyang/SpuCo/.conda/lib/python3.10/site-packages (from matplotlib>=3.7.1->spuco==0.0.1) (3.0.9)\n",
      "Requirement already satisfied: contourpy>=1.0.1 in /home/yuyang/SpuCo/.conda/lib/python3.10/site-packages (from matplotlib>=3.7.1->spuco==0.0.1) (1.0.7)\n",
      "Requirement already satisfied: cycler>=0.10 in /home/yuyang/SpuCo/.conda/lib/python3.10/site-packages (from matplotlib>=3.7.1->spuco==0.0.1) (0.11.0)\n",
      "Requirement already satisfied: packaging>=20.0 in /home/yuyang/SpuCo/.conda/lib/python3.10/site-packages (from matplotlib>=3.7.1->spuco==0.0.1) (23.1)\n",
      "Requirement already satisfied: kiwisolver>=1.0.1 in /home/yuyang/SpuCo/.conda/lib/python3.10/site-packages (from matplotlib>=3.7.1->spuco==0.0.1) (1.4.4)\n",
      "Requirement already satisfied: fonttools>=4.22.0 in /home/yuyang/SpuCo/.conda/lib/python3.10/site-packages (from matplotlib>=3.7.1->spuco==0.0.1) (4.39.4)\n",
      "Requirement already satisfied: pillow>=6.2.0 in /home/yuyang/SpuCo/.conda/lib/python3.10/site-packages (from matplotlib>=3.7.1->spuco==0.0.1) (9.5.0)\n",
      "Requirement already satisfied: threadpoolctl>=2.0.0 in /home/yuyang/SpuCo/.conda/lib/python3.10/site-packages (from scikit-learn>=0.20.0->spuco==0.0.1) (3.1.0)\n",
      "Requirement already satisfied: joblib>=1.1.1 in /home/yuyang/SpuCo/.conda/lib/python3.10/site-packages (from scikit-learn>=0.20.0->spuco==0.0.1) (1.2.0)\n",
      "Requirement already satisfied: scipy>=1.3.2 in /home/yuyang/SpuCo/.conda/lib/python3.10/site-packages (from scikit-learn>=0.20.0->spuco==0.0.1) (1.10.1)\n",
      "Requirement already satisfied: nvidia-cudnn-cu11==8.5.0.96 in /home/yuyang/SpuCo/.conda/lib/python3.10/site-packages (from torch>=2.0.0->spuco==0.0.1) (8.5.0.96)\n",
      "Requirement already satisfied: networkx in /home/yuyang/SpuCo/.conda/lib/python3.10/site-packages (from torch>=2.0.0->spuco==0.0.1) (3.1)\n",
      "Requirement already satisfied: nvidia-cuda-cupti-cu11==11.7.101 in /home/yuyang/SpuCo/.conda/lib/python3.10/site-packages (from torch>=2.0.0->spuco==0.0.1) (11.7.101)\n",
      "Requirement already satisfied: sympy in /home/yuyang/SpuCo/.conda/lib/python3.10/site-packages (from torch>=2.0.0->spuco==0.0.1) (1.12)\n",
      "Requirement already satisfied: nvidia-cusparse-cu11==11.7.4.91 in /home/yuyang/SpuCo/.conda/lib/python3.10/site-packages (from torch>=2.0.0->spuco==0.0.1) (11.7.4.91)\n",
      "Requirement already satisfied: nvidia-curand-cu11==10.2.10.91 in /home/yuyang/SpuCo/.conda/lib/python3.10/site-packages (from torch>=2.0.0->spuco==0.0.1) (10.2.10.91)\n",
      "Requirement already satisfied: nvidia-cusolver-cu11==11.4.0.1 in /home/yuyang/SpuCo/.conda/lib/python3.10/site-packages (from torch>=2.0.0->spuco==0.0.1) (11.4.0.1)\n",
      "Requirement already satisfied: typing-extensions in /home/yuyang/SpuCo/.conda/lib/python3.10/site-packages (from torch>=2.0.0->spuco==0.0.1) (4.5.0)\n",
      "Requirement already satisfied: nvidia-nccl-cu11==2.14.3 in /home/yuyang/SpuCo/.conda/lib/python3.10/site-packages (from torch>=2.0.0->spuco==0.0.1) (2.14.3)\n",
      "Requirement already satisfied: nvidia-nvtx-cu11==11.7.91 in /home/yuyang/SpuCo/.conda/lib/python3.10/site-packages (from torch>=2.0.0->spuco==0.0.1) (11.7.91)\n",
      "Requirement already satisfied: jinja2 in /home/yuyang/SpuCo/.conda/lib/python3.10/site-packages (from torch>=2.0.0->spuco==0.0.1) (3.1.2)\n",
      "Requirement already satisfied: nvidia-cufft-cu11==10.9.0.58 in /home/yuyang/SpuCo/.conda/lib/python3.10/site-packages (from torch>=2.0.0->spuco==0.0.1) (10.9.0.58)\n",
      "Requirement already satisfied: nvidia-cuda-nvrtc-cu11==11.7.99 in /home/yuyang/SpuCo/.conda/lib/python3.10/site-packages (from torch>=2.0.0->spuco==0.0.1) (11.7.99)\n",
      "Requirement already satisfied: triton==2.0.0 in /home/yuyang/SpuCo/.conda/lib/python3.10/site-packages (from torch>=2.0.0->spuco==0.0.1) (2.0.0)\n",
      "Requirement already satisfied: nvidia-cublas-cu11==11.10.3.66 in /home/yuyang/SpuCo/.conda/lib/python3.10/site-packages (from torch>=2.0.0->spuco==0.0.1) (11.10.3.66)\n",
      "Requirement already satisfied: filelock in /home/yuyang/SpuCo/.conda/lib/python3.10/site-packages (from torch>=2.0.0->spuco==0.0.1) (3.12.0)\n",
      "Requirement already satisfied: nvidia-cuda-runtime-cu11==11.7.99 in /home/yuyang/SpuCo/.conda/lib/python3.10/site-packages (from torch>=2.0.0->spuco==0.0.1) (11.7.99)\n",
      "Requirement already satisfied: wheel in /home/yuyang/SpuCo/.conda/lib/python3.10/site-packages (from nvidia-cublas-cu11==11.10.3.66->torch>=2.0.0->spuco==0.0.1) (0.38.4)\n",
      "Requirement already satisfied: lit in /home/yuyang/SpuCo/.conda/lib/python3.10/site-packages (from triton==2.0.0->torch>=2.0.0->spuco==0.0.1) (16.0.5)\n",
      "Requirement already satisfied: cmake in /home/yuyang/SpuCo/.conda/lib/python3.10/site-packages (from triton==2.0.0->torch>=2.0.0->spuco==0.0.1) (3.26.3)\n",
      "Requirement already satisfied: requests in /home/yuyang/SpuCo/.conda/lib/python3.10/site-packages (from torchvision>=0.15.1->spuco==0.0.1) (2.30.0)\n",
      "Requirement already satisfied: huggingface-hub<1.0,>=0.14.1 in /home/yuyang/SpuCo/.conda/lib/python3.10/site-packages (from transformers>=3.5.0->spuco==0.0.1) (0.14.1)\n",
      "Requirement already satisfied: regex!=2019.12.17 in /home/yuyang/SpuCo/.conda/lib/python3.10/site-packages (from transformers>=3.5.0->spuco==0.0.1) (2023.5.5)\n",
      "Requirement already satisfied: pyyaml>=5.1 in /home/yuyang/SpuCo/.conda/lib/python3.10/site-packages (from transformers>=3.5.0->spuco==0.0.1) (6.0)\n",
      "Requirement already satisfied: tokenizers!=0.11.3,<0.14,>=0.11.1 in /home/yuyang/SpuCo/.conda/lib/python3.10/site-packages (from transformers>=3.5.0->spuco==0.0.1) (0.13.3)\n",
      "Requirement already satisfied: outdated>=0.2.0 in /home/yuyang/SpuCo/.conda/lib/python3.10/site-packages (from wilds>=2.0.0->spuco==0.0.1) (0.2.2)\n",
      "Requirement already satisfied: pandas>=1.1.0 in /home/yuyang/SpuCo/.conda/lib/python3.10/site-packages (from wilds>=2.0.0->spuco==0.0.1) (2.0.1)\n",
      "Requirement already satisfied: ogb>=1.2.6 in /home/yuyang/SpuCo/.conda/lib/python3.10/site-packages (from wilds>=2.0.0->spuco==0.0.1) (1.3.6)\n",
      "Requirement already satisfied: pytz>=2020.4 in /home/yuyang/SpuCo/.conda/lib/python3.10/site-packages (from wilds>=2.0.0->spuco==0.0.1) (2023.3)\n",
      "Requirement already satisfied: fsspec in /home/yuyang/SpuCo/.conda/lib/python3.10/site-packages (from huggingface-hub<1.0,>=0.14.1->transformers>=3.5.0->spuco==0.0.1) (2023.5.0)\n",
      "Requirement already satisfied: six>=1.12.0 in /home/yuyang/SpuCo/.conda/lib/python3.10/site-packages (from ogb>=1.2.6->wilds>=2.0.0->spuco==0.0.1) (1.16.0)\n",
      "Requirement already satisfied: urllib3>=1.24.0 in /home/yuyang/SpuCo/.conda/lib/python3.10/site-packages (from ogb>=1.2.6->wilds>=2.0.0->spuco==0.0.1) (2.0.2)\n",
      "Requirement already satisfied: littleutils in /home/yuyang/SpuCo/.conda/lib/python3.10/site-packages (from outdated>=0.2.0->wilds>=2.0.0->spuco==0.0.1) (0.2.2)\n",
      "Requirement already satisfied: tzdata>=2022.1 in /home/yuyang/SpuCo/.conda/lib/python3.10/site-packages (from pandas>=1.1.0->wilds>=2.0.0->spuco==0.0.1) (2023.3)\n",
      "Requirement already satisfied: MarkupSafe>=2.0 in /home/yuyang/SpuCo/.conda/lib/python3.10/site-packages (from jinja2->torch>=2.0.0->spuco==0.0.1) (2.1.2)\n",
      "Requirement already satisfied: idna<4,>=2.5 in /home/yuyang/SpuCo/.conda/lib/python3.10/site-packages (from requests->torchvision>=0.15.1->spuco==0.0.1) (3.4)\n",
      "Requirement already satisfied: charset-normalizer<4,>=2 in /home/yuyang/SpuCo/.conda/lib/python3.10/site-packages (from requests->torchvision>=0.15.1->spuco==0.0.1) (3.1.0)\n",
      "Requirement already satisfied: certifi>=2017.4.17 in /home/yuyang/SpuCo/.conda/lib/python3.10/site-packages (from requests->torchvision>=0.15.1->spuco==0.0.1) (2023.5.7)\n",
      "Requirement already satisfied: mpmath>=0.19 in /home/yuyang/SpuCo/.conda/lib/python3.10/site-packages (from sympy->torch>=2.0.0->spuco==0.0.1) (1.3.0)\n",
      "Building wheels for collected packages: spuco\n",
      "  Building wheel for spuco (pyproject.toml) ... \u001b[?25ldone\n",
      "\u001b[?25h  Created wheel for spuco: filename=spuco-0.0.1-py3-none-any.whl size=80923 sha256=e11320bf7a12099cc6995ea26ec44b1e1f38a19169cd2fdad8f2e5cb9e06da19\n",
      "  Stored in directory: /tmp/pip-ephem-wheel-cache-ugq24k7m/wheels/99/d4/10/c6136b4f67d7a1fd0d788e21f761b3004ee3bbbfae90fc0ca1\n",
      "Successfully built spuco\n",
      "Installing collected packages: spuco\n",
      "  Attempting uninstall: spuco\n",
      "    Found existing installation: spuco 0.0.1\n",
      "    Uninstalling spuco-0.0.1:\n",
      "      Successfully uninstalled spuco-0.0.1\n",
      "Successfully installed spuco-0.0.1\n",
      "Note: you may need to restart the kernel to use updated packages.\n"
     ]
    }
   ],
   "source": [
    "%pip install ../../"
   ]
  },
  {
   "cell_type": "code",
   "execution_count": 1,
   "metadata": {},
   "outputs": [],
   "source": [
    "import torch \n",
    "\n",
    "device = torch.device(\"cuda:7\")"
   ]
  },
  {
   "cell_type": "code",
   "execution_count": 2,
   "metadata": {},
   "outputs": [
    {
     "name": "stderr",
     "output_type": "stream",
     "text": [
      "/home/yuyang/SpuCo/.conda/lib/python3.10/site-packages/tqdm/auto.py:21: TqdmWarning: IProgress not found. Please update jupyter and ipywidgets. See https://ipywidgets.readthedocs.io/en/stable/user_install.html\n",
      "  from .autonotebook import tqdm as notebook_tqdm\n"
     ]
    }
   ],
   "source": [
    "from spuco.utils import set_seed\n",
    "\n",
    "set_seed(0)"
   ]
  },
  {
   "cell_type": "code",
   "execution_count": 3,
   "metadata": {},
   "outputs": [],
   "source": [
    "from wilds import get_dataset\n",
    "from spuco.utils import initialize_bert_transform\n",
    "\n",
    "# Load the full dataset, and download it if necessary\n",
    "dataset = get_dataset(dataset=\"civilcomments\", download=True, root_dir=\"/data\")\n",
    "transform = initialize_bert_transform(model=\"distilbert-base-uncased\", max_token_length=300)\n",
    "\n",
    "# Get the training set\n",
    "train_data = dataset.get_subset(\n",
    "    \"train\",\n",
    "    transform=transform,\n",
    ")\n",
    "\n",
    "# Get the training set\n",
    "test_data = dataset.get_subset(\n",
    "    \"test\",\n",
    "    transform=transform,\n",
    ")"
   ]
  },
  {
   "cell_type": "code",
   "execution_count": 4,
   "metadata": {},
   "outputs": [
    {
     "name": "stderr",
     "output_type": "stream",
     "text": [
      "Partitioning data indices into groups: 100%|██████████| 269038/269038 [00:00<00:00, 3196360.59it/s]\n",
      "Partitioning data indices into groups: 100%|██████████| 133782/133782 [00:00<00:00, 3278503.19it/s]\n"
     ]
    }
   ],
   "source": [
    "from spuco.utils import WILDSDatasetWrapper\n",
    "\n",
    "trainset = WILDSDatasetWrapper(dataset=train_data, metadata_spurious_label=\"identity_any\", verbose=True)\n",
    "testset = WILDSDatasetWrapper(dataset=test_data, metadata_spurious_label=\"identity_any\", verbose=True)"
   ]
  },
  {
   "cell_type": "code",
   "execution_count": 5,
   "metadata": {},
   "outputs": [
    {
     "data": {
      "text/plain": [
       "{(1, 1): 0.06904229142351638,\n",
       " (1, 0): 0.044380347757565844,\n",
       " (0, 0): 0.5338576706636238,\n",
       " (0, 1): 0.35271969015529403}"
      ]
     },
     "execution_count": 5,
     "metadata": {},
     "output_type": "execute_result"
    }
   ],
   "source": [
    "trainset.group_weights"
   ]
  },
  {
   "cell_type": "code",
   "execution_count": 6,
   "metadata": {},
   "outputs": [
    {
     "name": "stderr",
     "output_type": "stream",
     "text": [
      "Some weights of the model checkpoint at distilbert-base-uncased were not used when initializing DistilBert: ['vocab_transform.weight', 'vocab_transform.bias', 'vocab_projector.weight', 'vocab_layer_norm.weight', 'vocab_projector.bias', 'vocab_layer_norm.bias']\n",
      "- This IS expected if you are initializing DistilBert from the checkpoint of a model trained on another task or with another architecture (e.g. initializing a BertForSequenceClassification model from a BertForPreTraining model).\n",
      "- This IS NOT expected if you are initializing DistilBert from the checkpoint of a model that you expect to be exactly identical (initializing a BertForSequenceClassification model from a BertForSequenceClassification model).\n"
     ]
    }
   ],
   "source": [
    "from spuco.models import model_factory \n",
    "\n",
    "model = model_factory(\"distilbert\", (0,0,0), trainset.num_classes).to(device)"
   ]
  },
  {
   "cell_type": "code",
   "execution_count": null,
   "metadata": {},
   "outputs": [],
   "source": [
    "from torch.optim import AdamW\n",
    "from spuco.invariant_train import ERM \n",
    "\n",
    "lr = 1e-5\n",
    "weight_decay = 0.01\n",
    "num_epochs = 1\n",
    "batch_size = 16\n",
    "max_grad_norm = 1.0\n",
    "\n",
    "no_decay = ['bias', 'LayerNorm.weight']\n",
    "params = [\n",
    "    {'params': [p for n, p in model.named_parameters() if not any(nd in n for nd in no_decay)], 'weight_decay': weight_decay},\n",
    "    {'params': [p for n, p in model.named_parameters() if any(nd in n for nd in no_decay)], 'weight_decay': 0.0}\n",
    "    ]\n",
    "optimizer = AdamW(\n",
    "    params,\n",
    "    lr=lr, \n",
    "    weight_decay=weight_decay)\n",
    "\n",
    "from transformers import get_linear_schedule_with_warmup\n",
    "n_train_steps = len(trainset) // batch_size * num_epochs\n",
    "scheduler = get_linear_schedule_with_warmup(\n",
    "    optimizer,\n",
    "    num_training_steps=n_train_steps,\n",
    "    num_warmup_steps=0)\n",
    "\n",
    "erm = ERM(\n",
    "    model=model,\n",
    "    num_epochs=num_epochs,\n",
    "    trainset=trainset,\n",
    "    batch_size=batch_size,\n",
    "    optimizer=optimizer,\n",
    "    lr_scheduler=scheduler,\n",
    "    max_grad_norm=max_grad_norm,\n",
    "    device=device,\n",
    "    verbose=True,\n",
    ")\n",
    "erm.train()"
   ]
  },
  {
   "cell_type": "code",
   "execution_count": null,
   "metadata": {},
   "outputs": [],
   "source": [
    "from spuco.evaluate import Evaluator\n",
    "\n",
    "evaluator = Evaluator(\n",
    "    testset=testset,\n",
    "    group_partition=testset.group_partition,\n",
    "    group_weights=trainset.group_weights,\n",
    "    batch_size=64,\n",
    "    model=model,\n",
    "    device=device,\n",
    "    verbose=True\n",
    ")\n",
    "evaluator.evaluate()"
   ]
  }
 ],
 "metadata": {
  "kernelspec": {
   "display_name": "clip",
   "language": "python",
   "name": "python3"
  },
  "language_info": {
   "codemirror_mode": {
    "name": "ipython",
    "version": 3
   },
   "file_extension": ".py",
   "mimetype": "text/x-python",
   "name": "python",
   "nbconvert_exporter": "python",
   "pygments_lexer": "ipython3",
   "version": "3.10.11"
  },
  "orig_nbformat": 4
 },
 "nbformat": 4,
 "nbformat_minor": 2
}
