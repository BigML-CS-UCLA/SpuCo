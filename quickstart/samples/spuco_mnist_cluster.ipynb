{
 "cells": [
  {
   "cell_type": "code",
   "execution_count": 15,
   "metadata": {},
   "outputs": [
    {
     "name": "stdout",
     "output_type": "stream",
     "text": [
      "Processing /home/sjoshi/spuco\n",
      "  Installing build dependencies ... \u001b[?25ldone\n",
      "\u001b[?25h  Getting requirements to build wheel ... \u001b[?25ldone\n",
      "\u001b[?25h  Installing backend dependencies ... \u001b[?25ldone\n",
      "\u001b[?25h  Preparing metadata (pyproject.toml) ... \u001b[?25ldone\n",
      "\u001b[?25hRequirement already satisfied: matplotlib>=3.7.1 in /home/sjoshi/anaconda3/envs/clip/lib/python3.10/site-packages (from spuco==0.0.1) (3.7.1)\n",
      "Requirement already satisfied: numpy>=1.23.5 in /home/sjoshi/anaconda3/envs/clip/lib/python3.10/site-packages (from spuco==0.0.1) (1.24.3)\n",
      "Requirement already satisfied: setuptools>=61.0 in /home/sjoshi/anaconda3/envs/clip/lib/python3.10/site-packages (from spuco==0.0.1) (67.7.2)\n",
      "Requirement already satisfied: torch>=2.0.0 in /home/sjoshi/anaconda3/envs/clip/lib/python3.10/site-packages (from spuco==0.0.1) (2.0.1)\n",
      "Requirement already satisfied: torchvision>=0.15.1 in /home/sjoshi/anaconda3/envs/clip/lib/python3.10/site-packages (from spuco==0.0.1) (0.15.2)\n",
      "Requirement already satisfied: tqdm>=4.65.0 in /home/sjoshi/anaconda3/envs/clip/lib/python3.10/site-packages (from spuco==0.0.1) (4.65.0)\n",
      "Requirement already satisfied: contourpy>=1.0.1 in /home/sjoshi/anaconda3/envs/clip/lib/python3.10/site-packages (from matplotlib>=3.7.1->spuco==0.0.1) (1.0.7)\n",
      "Requirement already satisfied: cycler>=0.10 in /home/sjoshi/anaconda3/envs/clip/lib/python3.10/site-packages (from matplotlib>=3.7.1->spuco==0.0.1) (0.11.0)\n",
      "Requirement already satisfied: fonttools>=4.22.0 in /home/sjoshi/anaconda3/envs/clip/lib/python3.10/site-packages (from matplotlib>=3.7.1->spuco==0.0.1) (4.39.4)\n",
      "Requirement already satisfied: kiwisolver>=1.0.1 in /home/sjoshi/anaconda3/envs/clip/lib/python3.10/site-packages (from matplotlib>=3.7.1->spuco==0.0.1) (1.4.4)\n",
      "Requirement already satisfied: packaging>=20.0 in /home/sjoshi/anaconda3/envs/clip/lib/python3.10/site-packages (from matplotlib>=3.7.1->spuco==0.0.1) (23.1)\n",
      "Requirement already satisfied: pillow>=6.2.0 in /home/sjoshi/anaconda3/envs/clip/lib/python3.10/site-packages (from matplotlib>=3.7.1->spuco==0.0.1) (9.5.0)\n",
      "Requirement already satisfied: pyparsing>=2.3.1 in /home/sjoshi/anaconda3/envs/clip/lib/python3.10/site-packages (from matplotlib>=3.7.1->spuco==0.0.1) (3.0.9)\n",
      "Requirement already satisfied: python-dateutil>=2.7 in /home/sjoshi/anaconda3/envs/clip/lib/python3.10/site-packages (from matplotlib>=3.7.1->spuco==0.0.1) (2.8.2)\n",
      "Requirement already satisfied: filelock in /home/sjoshi/anaconda3/envs/clip/lib/python3.10/site-packages (from torch>=2.0.0->spuco==0.0.1) (3.12.0)\n",
      "Requirement already satisfied: typing-extensions in /home/sjoshi/anaconda3/envs/clip/lib/python3.10/site-packages (from torch>=2.0.0->spuco==0.0.1) (4.5.0)\n",
      "Requirement already satisfied: sympy in /home/sjoshi/anaconda3/envs/clip/lib/python3.10/site-packages (from torch>=2.0.0->spuco==0.0.1) (1.12)\n",
      "Requirement already satisfied: networkx in /home/sjoshi/anaconda3/envs/clip/lib/python3.10/site-packages (from torch>=2.0.0->spuco==0.0.1) (3.1)\n",
      "Requirement already satisfied: jinja2 in /home/sjoshi/anaconda3/envs/clip/lib/python3.10/site-packages (from torch>=2.0.0->spuco==0.0.1) (3.1.2)\n",
      "Requirement already satisfied: nvidia-cuda-nvrtc-cu11==11.7.99 in /home/sjoshi/anaconda3/envs/clip/lib/python3.10/site-packages (from torch>=2.0.0->spuco==0.0.1) (11.7.99)\n",
      "Requirement already satisfied: nvidia-cuda-runtime-cu11==11.7.99 in /home/sjoshi/anaconda3/envs/clip/lib/python3.10/site-packages (from torch>=2.0.0->spuco==0.0.1) (11.7.99)\n",
      "Requirement already satisfied: nvidia-cuda-cupti-cu11==11.7.101 in /home/sjoshi/anaconda3/envs/clip/lib/python3.10/site-packages (from torch>=2.0.0->spuco==0.0.1) (11.7.101)\n",
      "Requirement already satisfied: nvidia-cudnn-cu11==8.5.0.96 in /home/sjoshi/anaconda3/envs/clip/lib/python3.10/site-packages (from torch>=2.0.0->spuco==0.0.1) (8.5.0.96)\n",
      "Requirement already satisfied: nvidia-cublas-cu11==11.10.3.66 in /home/sjoshi/anaconda3/envs/clip/lib/python3.10/site-packages (from torch>=2.0.0->spuco==0.0.1) (11.10.3.66)\n",
      "Requirement already satisfied: nvidia-cufft-cu11==10.9.0.58 in /home/sjoshi/anaconda3/envs/clip/lib/python3.10/site-packages (from torch>=2.0.0->spuco==0.0.1) (10.9.0.58)\n",
      "Requirement already satisfied: nvidia-curand-cu11==10.2.10.91 in /home/sjoshi/anaconda3/envs/clip/lib/python3.10/site-packages (from torch>=2.0.0->spuco==0.0.1) (10.2.10.91)\n",
      "Requirement already satisfied: nvidia-cusolver-cu11==11.4.0.1 in /home/sjoshi/anaconda3/envs/clip/lib/python3.10/site-packages (from torch>=2.0.0->spuco==0.0.1) (11.4.0.1)\n",
      "Requirement already satisfied: nvidia-cusparse-cu11==11.7.4.91 in /home/sjoshi/anaconda3/envs/clip/lib/python3.10/site-packages (from torch>=2.0.0->spuco==0.0.1) (11.7.4.91)\n",
      "Requirement already satisfied: nvidia-nccl-cu11==2.14.3 in /home/sjoshi/anaconda3/envs/clip/lib/python3.10/site-packages (from torch>=2.0.0->spuco==0.0.1) (2.14.3)\n",
      "Requirement already satisfied: nvidia-nvtx-cu11==11.7.91 in /home/sjoshi/anaconda3/envs/clip/lib/python3.10/site-packages (from torch>=2.0.0->spuco==0.0.1) (11.7.91)\n",
      "Requirement already satisfied: triton==2.0.0 in /home/sjoshi/anaconda3/envs/clip/lib/python3.10/site-packages (from torch>=2.0.0->spuco==0.0.1) (2.0.0)\n",
      "Requirement already satisfied: wheel in /home/sjoshi/anaconda3/envs/clip/lib/python3.10/site-packages (from nvidia-cublas-cu11==11.10.3.66->torch>=2.0.0->spuco==0.0.1) (0.40.0)\n",
      "Requirement already satisfied: cmake in /home/sjoshi/anaconda3/envs/clip/lib/python3.10/site-packages (from triton==2.0.0->torch>=2.0.0->spuco==0.0.1) (3.26.3)\n",
      "Requirement already satisfied: lit in /home/sjoshi/anaconda3/envs/clip/lib/python3.10/site-packages (from triton==2.0.0->torch>=2.0.0->spuco==0.0.1) (16.0.3)\n",
      "Requirement already satisfied: requests in /home/sjoshi/anaconda3/envs/clip/lib/python3.10/site-packages (from torchvision>=0.15.1->spuco==0.0.1) (2.30.0)\n",
      "Requirement already satisfied: six>=1.5 in /home/sjoshi/anaconda3/envs/clip/lib/python3.10/site-packages (from python-dateutil>=2.7->matplotlib>=3.7.1->spuco==0.0.1) (1.16.0)\n",
      "Requirement already satisfied: MarkupSafe>=2.0 in /home/sjoshi/anaconda3/envs/clip/lib/python3.10/site-packages (from jinja2->torch>=2.0.0->spuco==0.0.1) (2.1.2)\n",
      "Requirement already satisfied: charset-normalizer<4,>=2 in /home/sjoshi/anaconda3/envs/clip/lib/python3.10/site-packages (from requests->torchvision>=0.15.1->spuco==0.0.1) (3.1.0)\n",
      "Requirement already satisfied: idna<4,>=2.5 in /home/sjoshi/anaconda3/envs/clip/lib/python3.10/site-packages (from requests->torchvision>=0.15.1->spuco==0.0.1) (3.4)\n",
      "Requirement already satisfied: urllib3<3,>=1.21.1 in /home/sjoshi/anaconda3/envs/clip/lib/python3.10/site-packages (from requests->torchvision>=0.15.1->spuco==0.0.1) (2.0.2)\n",
      "Requirement already satisfied: certifi>=2017.4.17 in /home/sjoshi/anaconda3/envs/clip/lib/python3.10/site-packages (from requests->torchvision>=0.15.1->spuco==0.0.1) (2023.5.7)\n",
      "Requirement already satisfied: mpmath>=0.19 in /home/sjoshi/anaconda3/envs/clip/lib/python3.10/site-packages (from sympy->torch>=2.0.0->spuco==0.0.1) (1.3.0)\n",
      "Building wheels for collected packages: spuco\n",
      "  Building wheel for spuco (pyproject.toml) ... \u001b[?25ldone\n",
      "\u001b[?25h  Created wheel for spuco: filename=spuco-0.0.1-py3-none-any.whl size=32490 sha256=a360723b8aac5fc6f5d8af26389a25a7d6a742076372cccb7dba6270eb091820\n",
      "  Stored in directory: /tmp/pip-ephem-wheel-cache-64umlx9l/wheels/ef/5d/43/a265894b1d52121a51705a208277e8d9a9670e95fa1a2e7ae6\n",
      "Successfully built spuco\n",
      "Installing collected packages: spuco\n",
      "  Attempting uninstall: spuco\n",
      "    Found existing installation: spuco 0.0.1\n",
      "    Uninstalling spuco-0.0.1:\n",
      "      Successfully uninstalled spuco-0.0.1\n",
      "Successfully installed spuco-0.0.1\n",
      "Note: you may need to restart the kernel to use updated packages.\n"
     ]
    }
   ],
   "source": [
    "%pip install ../../"
   ]
  },
  {
   "cell_type": "code",
   "execution_count": 16,
   "metadata": {},
   "outputs": [],
   "source": [
    "import torch \n",
    "\n",
    "device = torch.device(\"cuda:7\")"
   ]
  },
  {
   "cell_type": "code",
   "execution_count": 17,
   "metadata": {},
   "outputs": [],
   "source": [
    "from spuco.datasets import SpuCoMNIST, SpuriousFeatureDifficulty\n",
    "import torchvision.transforms as T\n",
    "\n",
    "classes = [[0, 1], [2, 3], [4, 5], [6, 7], [8, 9]]\n",
    "difficulty = SpuriousFeatureDifficulty.MAGNITUDE_EASY\n",
    "\n",
    "trainset = SpuCoMNIST(\n",
    "    root=\"/data/mnist/\",\n",
    "    spurious_feature_difficulty=difficulty,\n",
    "    spurious_correlation_strength=0.995,\n",
    "    classes=classes,\n",
    "    train=True\n",
    ")\n",
    "trainset.initialize()\n",
    "\n",
    "testset = SpuCoMNIST(\n",
    "    root=\"/data/mnist/\",\n",
    "    spurious_feature_difficulty=difficulty,\n",
    "    classes=classes,\n",
    "    train=False\n",
    ")\n",
    "testset.initialize()"
   ]
  },
  {
   "cell_type": "code",
   "execution_count": 18,
   "metadata": {},
   "outputs": [
    {
     "data": {
      "image/png": "[encoded data removed]",
      "text/plain": [
       "<PIL.Image.Image image mode=RGB size=28x28>"
      ]
     },
     "execution_count": 18,
     "metadata": {},
     "output_type": "execute_result"
    }
   ],
   "source": [
    "T.ToPILImage()(trainset[1000][0]).resize((28,28))"
   ]
  },
  {
   "cell_type": "code",
   "execution_count": 19,
   "metadata": {},
   "outputs": [
    {
     "name": "stderr",
     "output_type": "stream",
     "text": [
      "Epoch 0: 100%|██████████| 938/938 [00:03<00:00, 257.54batch/s, accuracy=96.875%, loss=0.207]  \n"
     ]
    }
   ],
   "source": [
    "from spuco.models import model_factory \n",
    "from spuco.utils import Trainer\n",
    "from torch.optim import SGD\n",
    "\n",
    "model = model_factory(\"lenet\", trainset[0][0].shape, trainset.num_classes).to(device)\n",
    "trainer = Trainer(\n",
    "    trainset=trainset,\n",
    "    model=model,\n",
    "    batch_size=64,\n",
    "    optimizer=SGD(model.parameters(), lr=1e-3, weight_decay=5e-4, momentum=0.9, nesterov=True),\n",
    "    device=device,\n",
    "    verbose=True\n",
    ")\n",
    "\n",
    "trainer.train(1)"
   ]
  },
  {
   "cell_type": "code",
   "execution_count": 22,
   "metadata": {},
   "outputs": [
    {
     "name": "stdout",
     "output_type": "stream",
     "text": [
      "Group (0, 0) Test Accuracy: 100.0\n",
      "Group (0, 1) Test Accuracy: 0.0\n",
      "Group (0, 2) Test Accuracy: 0.0\n",
      "Group (0, 3) Test Accuracy: 0.0\n",
      "Group (0, 4) Test Accuracy: 0.0\n",
      "Group (1, 0) Test Accuracy: 0.0\n",
      "Group (1, 1) Test Accuracy: 100.0\n",
      "Group (1, 2) Test Accuracy: 0.0\n",
      "Group (1, 3) Test Accuracy: 0.0\n",
      "Group (1, 4) Test Accuracy: 0.0\n",
      "Group (2, 0) Test Accuracy: 0.0\n",
      "Group (2, 1) Test Accuracy: 0.0\n",
      "Group (2, 2) Test Accuracy: 100.0\n",
      "Group (2, 3) Test Accuracy: 0.0\n",
      "Group (2, 4) Test Accuracy: 0.0\n",
      "Group (3, 0) Test Accuracy: 0.0\n",
      "Group (3, 1) Test Accuracy: 0.0\n",
      "Group (3, 2) Test Accuracy: 0.0\n",
      "Group (3, 3) Test Accuracy: 100.0\n",
      "Group (3, 4) Test Accuracy: 0.0\n",
      "Group (4, 0) Test Accuracy: 0.0\n",
      "Group (4, 1) Test Accuracy: 0.0\n",
      "Group (4, 2) Test Accuracy: 0.0\n",
      "Group (4, 3) Test Accuracy: 0.0\n",
      "Group (4, 4) Test Accuracy: 100.0\n"
     ]
    },
    {
     "data": {
      "text/plain": [
       "{(0, 0): 100.0,\n",
       " (0, 1): 0.0,\n",
       " (0, 2): 0.0,\n",
       " (0, 3): 0.0,\n",
       " (0, 4): 0.0,\n",
       " (1, 0): 0.0,\n",
       " (1, 1): 100.0,\n",
       " (1, 2): 0.0,\n",
       " (1, 3): 0.0,\n",
       " (1, 4): 0.0,\n",
       " (2, 0): 0.0,\n",
       " (2, 1): 0.0,\n",
       " (2, 2): 100.0,\n",
       " (2, 3): 0.0,\n",
       " (2, 4): 0.0,\n",
       " (3, 0): 0.0,\n",
       " (3, 1): 0.0,\n",
       " (3, 2): 0.0,\n",
       " (3, 3): 100.0,\n",
       " (3, 4): 0.0,\n",
       " (4, 0): 0.0,\n",
       " (4, 1): 0.0,\n",
       " (4, 2): 0.0,\n",
       " (4, 3): 0.0,\n",
       " (4, 4): 100.0}"
      ]
     },
     "execution_count": 22,
     "metadata": {},
     "output_type": "execute_result"
    }
   ],
   "source": [
    "from spuco.evaluate import Evaluator \n",
    "\n",
    "evaluator = Evaluator(\n",
    "    testset=testset,\n",
    "    group_partition=testset.group_partition,\n",
    "    group_weights=trainset.group_weights,\n",
    "    batch_size=64,\n",
    "    model=model,\n",
    "    device=device,\n",
    "    verbose=True\n",
    ")\n",
    "evaluator.evaluate()"
   ]
  },
  {
   "cell_type": "code",
   "execution_count": 23,
   "metadata": {},
   "outputs": [
    {
     "name": "stderr",
     "output_type": "stream",
     "text": [
      "Clustering class-wise:   0%|          | 0/5 [00:00<?, ?it/s]"
     ]
    },
    {
     "name": "stdout",
     "output_type": "stream",
     "text": [
      "For n_clusters = 2 The average silhouette_score is : 0.9628809\n"
     ]
    },
    {
     "name": "stderr",
     "output_type": "stream",
     "text": [
      "Clustering class-wise:   0%|          | 0/5 [00:04<?, ?it/s]\n"
     ]
    },
    {
     "ename": "KeyboardInterrupt",
     "evalue": "",
     "output_type": "error",
     "traceback": [
      "\u001b[0;31m---------------------------------------------------------------------------\u001b[0m",
      "\u001b[0;31mKeyboardInterrupt\u001b[0m                         Traceback (most recent call last)",
      "Cell \u001b[0;32mIn[23], line 1\u001b[0m\n\u001b[0;32m----> 1\u001b[0m group_partition \u001b[39m=\u001b[39m cluster\u001b[39m.\u001b[39;49minfer_groups()\n",
      "File \u001b[0;32m~/anaconda3/envs/clip/lib/python3.10/site-packages/spuco/group_inference/cluster.py:68\u001b[0m, in \u001b[0;36mCluster.infer_groups\u001b[0;34m(self)\u001b[0m\n\u001b[1;32m     66\u001b[0m Z \u001b[39m=\u001b[39m \u001b[39mself\u001b[39m\u001b[39m.\u001b[39mZ[\u001b[39mself\u001b[39m\u001b[39m.\u001b[39mclass_partition[class_label]]\n\u001b[1;32m     67\u001b[0m \u001b[39mif\u001b[39;00m \u001b[39mself\u001b[39m\u001b[39m.\u001b[39mnum_clusters \u001b[39m<\u001b[39m \u001b[39m2\u001b[39m:\n\u001b[0;32m---> 68\u001b[0m     partition \u001b[39m=\u001b[39m \u001b[39mself\u001b[39;49m\u001b[39m.\u001b[39;49msilhouette(Z)\n\u001b[1;32m     69\u001b[0m \u001b[39melif\u001b[39;00m \u001b[39mself\u001b[39m\u001b[39m.\u001b[39mcluster_alg \u001b[39m==\u001b[39m ClusterAlg\u001b[39m.\u001b[39mKMEANS:\n\u001b[1;32m     70\u001b[0m     _, partition \u001b[39m=\u001b[39m \u001b[39mself\u001b[39m\u001b[39m.\u001b[39mkmeans(Z)\n",
      "File \u001b[0;32m~/anaconda3/envs/clip/lib/python3.10/site-packages/spuco/group_inference/cluster.py:98\u001b[0m, in \u001b[0;36mCluster.silhouette\u001b[0;34m(self, Z)\u001b[0m\n\u001b[1;32m     96\u001b[0m cluster_labels, cluster_partition \u001b[39m=\u001b[39m \u001b[39mNone\u001b[39;00m, \u001b[39mNone\u001b[39;00m \n\u001b[1;32m     97\u001b[0m \u001b[39mif\u001b[39;00m \u001b[39mself\u001b[39m\u001b[39m.\u001b[39mcluster_alg \u001b[39m==\u001b[39m ClusterAlg\u001b[39m.\u001b[39mKMEANS:\n\u001b[0;32m---> 98\u001b[0m     cluster_labels, cluster_partition \u001b[39m=\u001b[39m \u001b[39mself\u001b[39;49m\u001b[39m.\u001b[39;49mkmeans(Z, num_clusters\u001b[39m=\u001b[39;49mnum_clusters)\n\u001b[1;32m     99\u001b[0m     silhouette_scores\u001b[39m.\u001b[39mappend(silhouette_score(Z, cluster_labels)) \n\u001b[1;32m    100\u001b[0m \u001b[39melse\u001b[39;00m: \n",
      "File \u001b[0;32m~/anaconda3/envs/clip/lib/python3.10/site-packages/spuco/group_inference/cluster.py:124\u001b[0m, in \u001b[0;36mCluster.kmeans\u001b[0;34m(self, Z, num_clusters)\u001b[0m\n\u001b[1;32m    120\u001b[0m \u001b[39m# K-Means \u001b[39;00m\n\u001b[1;32m    121\u001b[0m clusterer \u001b[39m=\u001b[39m KMeans(n_clusters\u001b[39m=\u001b[39mnum_clusters,\n\u001b[1;32m    122\u001b[0m                     random_state\u001b[39m=\u001b[39m\u001b[39mself\u001b[39m\u001b[39m.\u001b[39mrandom_seed,\n\u001b[1;32m    123\u001b[0m                     n_init\u001b[39m=\u001b[39m\u001b[39m10\u001b[39m)\n\u001b[0;32m--> 124\u001b[0m cluster_labels \u001b[39m=\u001b[39m clusterer\u001b[39m.\u001b[39;49mfit_predict(Z)\n\u001b[1;32m    125\u001b[0m \u001b[39mreturn\u001b[39;00m cluster_labels, convert_labels_to_partition(cluster_labels\u001b[39m.\u001b[39mastype(\u001b[39mint\u001b[39m)\u001b[39m.\u001b[39mtolist())\n",
      "File \u001b[0;32m~/anaconda3/envs/clip/lib/python3.10/site-packages/sklearn/cluster/_kmeans.py:1033\u001b[0m, in \u001b[0;36m_BaseKMeans.fit_predict\u001b[0;34m(self, X, y, sample_weight)\u001b[0m\n\u001b[1;32m   1010\u001b[0m \u001b[39mdef\u001b[39;00m \u001b[39mfit_predict\u001b[39m(\u001b[39mself\u001b[39m, X, y\u001b[39m=\u001b[39m\u001b[39mNone\u001b[39;00m, sample_weight\u001b[39m=\u001b[39m\u001b[39mNone\u001b[39;00m):\n\u001b[1;32m   1011\u001b[0m \u001b[39m    \u001b[39m\u001b[39m\"\"\"Compute cluster centers and predict cluster index for each sample.\u001b[39;00m\n\u001b[1;32m   1012\u001b[0m \n\u001b[1;32m   1013\u001b[0m \u001b[39m    Convenience method; equivalent to calling fit(X) followed by\u001b[39;00m\n\u001b[0;32m   (...)\u001b[0m\n\u001b[1;32m   1031\u001b[0m \u001b[39m        Index of the cluster each sample belongs to.\u001b[39;00m\n\u001b[1;32m   1032\u001b[0m \u001b[39m    \"\"\"\u001b[39;00m\n\u001b[0;32m-> 1033\u001b[0m     \u001b[39mreturn\u001b[39;00m \u001b[39mself\u001b[39;49m\u001b[39m.\u001b[39;49mfit(X, sample_weight\u001b[39m=\u001b[39;49msample_weight)\u001b[39m.\u001b[39mlabels_\n",
      "File \u001b[0;32m~/anaconda3/envs/clip/lib/python3.10/site-packages/sklearn/cluster/_kmeans.py:1468\u001b[0m, in \u001b[0;36mKMeans.fit\u001b[0;34m(self, X, y, sample_weight)\u001b[0m\n\u001b[1;32m   1465\u001b[0m     \u001b[39mprint\u001b[39m(\u001b[39m\"\u001b[39m\u001b[39mInitialization complete\u001b[39m\u001b[39m\"\u001b[39m)\n\u001b[1;32m   1467\u001b[0m \u001b[39m# run a k-means once\u001b[39;00m\n\u001b[0;32m-> 1468\u001b[0m labels, inertia, centers, n_iter_ \u001b[39m=\u001b[39m kmeans_single(\n\u001b[1;32m   1469\u001b[0m     X,\n\u001b[1;32m   1470\u001b[0m     sample_weight,\n\u001b[1;32m   1471\u001b[0m     centers_init,\n\u001b[1;32m   1472\u001b[0m     max_iter\u001b[39m=\u001b[39;49m\u001b[39mself\u001b[39;49m\u001b[39m.\u001b[39;49mmax_iter,\n\u001b[1;32m   1473\u001b[0m     verbose\u001b[39m=\u001b[39;49m\u001b[39mself\u001b[39;49m\u001b[39m.\u001b[39;49mverbose,\n\u001b[1;32m   1474\u001b[0m     tol\u001b[39m=\u001b[39;49m\u001b[39mself\u001b[39;49m\u001b[39m.\u001b[39;49m_tol,\n\u001b[1;32m   1475\u001b[0m     n_threads\u001b[39m=\u001b[39;49m\u001b[39mself\u001b[39;49m\u001b[39m.\u001b[39;49m_n_threads,\n\u001b[1;32m   1476\u001b[0m )\n\u001b[1;32m   1478\u001b[0m \u001b[39m# determine if these results are the best so far\u001b[39;00m\n\u001b[1;32m   1479\u001b[0m \u001b[39m# we chose a new run if it has a better inertia and the clustering is\u001b[39;00m\n\u001b[1;32m   1480\u001b[0m \u001b[39m# different from the best so far (it's possible that the inertia is\u001b[39;00m\n\u001b[1;32m   1481\u001b[0m \u001b[39m# slightly better even if the clustering is the same with potentially\u001b[39;00m\n\u001b[1;32m   1482\u001b[0m \u001b[39m# permuted labels, due to rounding errors)\u001b[39;00m\n\u001b[1;32m   1483\u001b[0m \u001b[39mif\u001b[39;00m best_inertia \u001b[39mis\u001b[39;00m \u001b[39mNone\u001b[39;00m \u001b[39mor\u001b[39;00m (\n\u001b[1;32m   1484\u001b[0m     inertia \u001b[39m<\u001b[39m best_inertia\n\u001b[1;32m   1485\u001b[0m     \u001b[39mand\u001b[39;00m \u001b[39mnot\u001b[39;00m _is_same_clustering(labels, best_labels, \u001b[39mself\u001b[39m\u001b[39m.\u001b[39mn_clusters)\n\u001b[1;32m   1486\u001b[0m ):\n",
      "File \u001b[0;32m~/anaconda3/envs/clip/lib/python3.10/site-packages/sklearn/cluster/_kmeans.py:719\u001b[0m, in \u001b[0;36m_kmeans_single_lloyd\u001b[0;34m(X, sample_weight, centers_init, max_iter, verbose, tol, n_threads)\u001b[0m\n\u001b[1;32m    715\u001b[0m         labels_old[:] \u001b[39m=\u001b[39m labels\n\u001b[1;32m    717\u001b[0m     \u001b[39mif\u001b[39;00m \u001b[39mnot\u001b[39;00m strict_convergence:\n\u001b[1;32m    718\u001b[0m         \u001b[39m# rerun E-step so that predicted labels match cluster centers\u001b[39;00m\n\u001b[0;32m--> 719\u001b[0m         lloyd_iter(\n\u001b[1;32m    720\u001b[0m             X,\n\u001b[1;32m    721\u001b[0m             sample_weight,\n\u001b[1;32m    722\u001b[0m             centers,\n\u001b[1;32m    723\u001b[0m             centers,\n\u001b[1;32m    724\u001b[0m             weight_in_clusters,\n\u001b[1;32m    725\u001b[0m             labels,\n\u001b[1;32m    726\u001b[0m             center_shift,\n\u001b[1;32m    727\u001b[0m             n_threads,\n\u001b[1;32m    728\u001b[0m             update_centers\u001b[39m=\u001b[39;49m\u001b[39mFalse\u001b[39;49;00m,\n\u001b[1;32m    729\u001b[0m         )\n\u001b[1;32m    731\u001b[0m inertia \u001b[39m=\u001b[39m _inertia(X, sample_weight, centers, labels, n_threads)\n\u001b[1;32m    733\u001b[0m \u001b[39mreturn\u001b[39;00m labels, inertia, centers, i \u001b[39m+\u001b[39m \u001b[39m1\u001b[39m\n",
      "\u001b[0;31mKeyboardInterrupt\u001b[0m: "
     ]
    }
   ],
   "source": [
    "from spuco.group_inference import Cluster, ClusterAlg\n",
    "from spuco.utils import get_class_labels\n",
    "\n",
    "logits = trainer.get_trainset_outputs()\n",
    "cluster = Cluster(\n",
    "    Z=logits,\n",
    "    class_labels=get_class_labels(trainset),\n",
    "    cluster_alg=ClusterAlg.KMEANS,\n",
    "    num_clusters=2,\n",
    "    device=device,\n",
    "    verbose=True\n",
    ")\n",
    "group_partition = cluster.infer_groups()"
   ]
  },
  {
   "cell_type": "code",
   "execution_count": null,
   "metadata": {},
   "outputs": [],
   "source": [
    "for key in sorted(group_partition.keys()):\n",
    "    print(key, len(group_partition[key]))"
   ]
  },
  {
   "cell_type": "code",
   "execution_count": null,
   "metadata": {},
   "outputs": [],
   "source": [
    "from spuco.evaluate import Evaluator \n",
    "\n",
    "evaluator = Evaluator(\n",
    "    testset=trainset,\n",
    "    group_partition=group_partition,\n",
    "    group_weights=trainset.group_weights,\n",
    "    batch_size=64,\n",
    "    model=model,\n",
    "    device=device,\n",
    "    verbose=True\n",
    ")\n",
    "evaluator.evaluate()"
   ]
  },
  {
   "cell_type": "code",
   "execution_count": null,
   "metadata": {},
   "outputs": [],
   "source": [
    "from torch.optim import SGD\n",
    "from spuco.invariant_train import GroupBalanceERM, ClassBalanceERM\n",
    "from spuco.models import model_factory \n",
    "\n",
    "model = model_factory(\"lenet\", trainset[0][0].shape, trainset.num_classes).to(device)\n",
    "group_balance_erm = ClassBalanceERM(\n",
    "    model=model,\n",
    "    num_epochs=5,\n",
    "    trainset=trainset,\n",
    "    group_partition=group_partition,\n",
    "    batch_size=64,\n",
    "    optimizer=SGD(model.parameters(), lr=1e-3, weight_decay=5e-4, momentum=0.9, nesterov=True),\n",
    "    device=device,\n",
    "    verbose=True\n",
    ")\n",
    "group_balance_erm.train()"
   ]
  },
  {
   "cell_type": "code",
   "execution_count": null,
   "metadata": {},
   "outputs": [],
   "source": [
    "from spuco.evaluate import Evaluator\n",
    "\n",
    "evaluator = Evaluator(\n",
    "    testset=testset,\n",
    "    group_partition=testset.group_partition,\n",
    "    group_weights=trainset.group_weights,\n",
    "    batch_size=64,\n",
    "    model=model,\n",
    "    device=device,\n",
    "    verbose=True\n",
    ")\n",
    "evaluator.evaluate()"
   ]
  },
  {
   "cell_type": "code",
   "execution_count": null,
   "metadata": {},
   "outputs": [],
   "source": [
    "evaluator.worst_group_accuracy"
   ]
  },
  {
   "cell_type": "code",
   "execution_count": null,
   "metadata": {},
   "outputs": [],
   "source": [
    "evaluator.average_accuracy"
   ]
  },
  {
   "cell_type": "code",
   "execution_count": null,
   "metadata": {},
   "outputs": [],
   "source": [
    "evaluator.evaluate_spurious_task()"
   ]
  }
 ],
 "metadata": {
  "kernelspec": {
   "display_name": "clip",
   "language": "python",
   "name": "python3"
  },
  "language_info": {
   "codemirror_mode": {
    "name": "ipython",
    "version": 3
   },
   "file_extension": ".py",
   "mimetype": "text/x-python",
   "name": "python",
   "nbconvert_exporter": "python",
   "pygments_lexer": "ipython3",
   "version": "3.10.9"
  },
  "orig_nbformat": 4
 },
 "nbformat": 4,
 "nbformat_minor": 2
}
