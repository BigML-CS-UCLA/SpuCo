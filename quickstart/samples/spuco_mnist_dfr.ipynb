{
 "cells": [
  {
   "cell_type": "code",
   "execution_count": 1,
   "metadata": {},
   "outputs": [
    {
     "name": "stdout",
     "output_type": "stream",
     "text": [
      "Processing /home/sjoshi/spuco\n",
      "  Installing build dependencies ... \u001b[?25ldone\n",
      "\u001b[?25h  Getting requirements to build wheel ... \u001b[?25ldone\n",
      "\u001b[?25h  Installing backend dependencies ... \u001b[?25ldone\n",
      "\u001b[?25h  Preparing metadata (pyproject.toml) ... \u001b[?25ldone\n",
      "\u001b[?25hRequirement already satisfied: matplotlib>=3.7.1 in /home/sjoshi/anaconda3/envs/clip/lib/python3.10/site-packages (from spuco==0.0.1) (3.7.1)\n",
      "Requirement already satisfied: numpy>=1.23.5 in /home/sjoshi/anaconda3/envs/clip/lib/python3.10/site-packages (from spuco==0.0.1) (1.24.3)\n",
      "Requirement already satisfied: setuptools>=61.0 in /home/sjoshi/anaconda3/envs/clip/lib/python3.10/site-packages (from spuco==0.0.1) (67.7.2)\n",
      "Requirement already satisfied: torch>=2.0.0 in /home/sjoshi/anaconda3/envs/clip/lib/python3.10/site-packages (from spuco==0.0.1) (2.0.1)\n",
      "Requirement already satisfied: torchvision>=0.15.1 in /home/sjoshi/anaconda3/envs/clip/lib/python3.10/site-packages (from spuco==0.0.1) (0.15.2)\n",
      "Requirement already satisfied: tqdm>=4.65.0 in /home/sjoshi/anaconda3/envs/clip/lib/python3.10/site-packages (from spuco==0.0.1) (4.65.0)\n",
      "Requirement already satisfied: contourpy>=1.0.1 in /home/sjoshi/anaconda3/envs/clip/lib/python3.10/site-packages (from matplotlib>=3.7.1->spuco==0.0.1) (1.0.7)\n",
      "Requirement already satisfied: cycler>=0.10 in /home/sjoshi/anaconda3/envs/clip/lib/python3.10/site-packages (from matplotlib>=3.7.1->spuco==0.0.1) (0.11.0)\n",
      "Requirement already satisfied: fonttools>=4.22.0 in /home/sjoshi/anaconda3/envs/clip/lib/python3.10/site-packages (from matplotlib>=3.7.1->spuco==0.0.1) (4.39.4)\n",
      "Requirement already satisfied: kiwisolver>=1.0.1 in /home/sjoshi/anaconda3/envs/clip/lib/python3.10/site-packages (from matplotlib>=3.7.1->spuco==0.0.1) (1.4.4)\n",
      "Requirement already satisfied: packaging>=20.0 in /home/sjoshi/anaconda3/envs/clip/lib/python3.10/site-packages (from matplotlib>=3.7.1->spuco==0.0.1) (23.1)\n",
      "Requirement already satisfied: pillow>=6.2.0 in /home/sjoshi/anaconda3/envs/clip/lib/python3.10/site-packages (from matplotlib>=3.7.1->spuco==0.0.1) (9.5.0)\n",
      "Requirement already satisfied: pyparsing>=2.3.1 in /home/sjoshi/anaconda3/envs/clip/lib/python3.10/site-packages (from matplotlib>=3.7.1->spuco==0.0.1) (3.0.9)\n",
      "Requirement already satisfied: python-dateutil>=2.7 in /home/sjoshi/anaconda3/envs/clip/lib/python3.10/site-packages (from matplotlib>=3.7.1->spuco==0.0.1) (2.8.2)\n",
      "Requirement already satisfied: filelock in /home/sjoshi/anaconda3/envs/clip/lib/python3.10/site-packages (from torch>=2.0.0->spuco==0.0.1) (3.12.0)\n",
      "Requirement already satisfied: typing-extensions in /home/sjoshi/anaconda3/envs/clip/lib/python3.10/site-packages (from torch>=2.0.0->spuco==0.0.1) (4.5.0)\n",
      "Requirement already satisfied: sympy in /home/sjoshi/anaconda3/envs/clip/lib/python3.10/site-packages (from torch>=2.0.0->spuco==0.0.1) (1.12)\n",
      "Requirement already satisfied: networkx in /home/sjoshi/anaconda3/envs/clip/lib/python3.10/site-packages (from torch>=2.0.0->spuco==0.0.1) (3.1)\n",
      "Requirement already satisfied: jinja2 in /home/sjoshi/anaconda3/envs/clip/lib/python3.10/site-packages (from torch>=2.0.0->spuco==0.0.1) (3.1.2)\n",
      "Requirement already satisfied: nvidia-cuda-nvrtc-cu11==11.7.99 in /home/sjoshi/anaconda3/envs/clip/lib/python3.10/site-packages (from torch>=2.0.0->spuco==0.0.1) (11.7.99)\n",
      "Requirement already satisfied: nvidia-cuda-runtime-cu11==11.7.99 in /home/sjoshi/anaconda3/envs/clip/lib/python3.10/site-packages (from torch>=2.0.0->spuco==0.0.1) (11.7.99)\n",
      "Requirement already satisfied: nvidia-cuda-cupti-cu11==11.7.101 in /home/sjoshi/anaconda3/envs/clip/lib/python3.10/site-packages (from torch>=2.0.0->spuco==0.0.1) (11.7.101)\n",
      "Requirement already satisfied: nvidia-cudnn-cu11==8.5.0.96 in /home/sjoshi/anaconda3/envs/clip/lib/python3.10/site-packages (from torch>=2.0.0->spuco==0.0.1) (8.5.0.96)\n",
      "Requirement already satisfied: nvidia-cublas-cu11==11.10.3.66 in /home/sjoshi/anaconda3/envs/clip/lib/python3.10/site-packages (from torch>=2.0.0->spuco==0.0.1) (11.10.3.66)\n",
      "Requirement already satisfied: nvidia-cufft-cu11==10.9.0.58 in /home/sjoshi/anaconda3/envs/clip/lib/python3.10/site-packages (from torch>=2.0.0->spuco==0.0.1) (10.9.0.58)\n",
      "Requirement already satisfied: nvidia-curand-cu11==10.2.10.91 in /home/sjoshi/anaconda3/envs/clip/lib/python3.10/site-packages (from torch>=2.0.0->spuco==0.0.1) (10.2.10.91)\n",
      "Requirement already satisfied: nvidia-cusolver-cu11==11.4.0.1 in /home/sjoshi/anaconda3/envs/clip/lib/python3.10/site-packages (from torch>=2.0.0->spuco==0.0.1) (11.4.0.1)\n",
      "Requirement already satisfied: nvidia-cusparse-cu11==11.7.4.91 in /home/sjoshi/anaconda3/envs/clip/lib/python3.10/site-packages (from torch>=2.0.0->spuco==0.0.1) (11.7.4.91)\n",
      "Requirement already satisfied: nvidia-nccl-cu11==2.14.3 in /home/sjoshi/anaconda3/envs/clip/lib/python3.10/site-packages (from torch>=2.0.0->spuco==0.0.1) (2.14.3)\n",
      "Requirement already satisfied: nvidia-nvtx-cu11==11.7.91 in /home/sjoshi/anaconda3/envs/clip/lib/python3.10/site-packages (from torch>=2.0.0->spuco==0.0.1) (11.7.91)\n",
      "Requirement already satisfied: triton==2.0.0 in /home/sjoshi/anaconda3/envs/clip/lib/python3.10/site-packages (from torch>=2.0.0->spuco==0.0.1) (2.0.0)\n",
      "Requirement already satisfied: wheel in /home/sjoshi/anaconda3/envs/clip/lib/python3.10/site-packages (from nvidia-cublas-cu11==11.10.3.66->torch>=2.0.0->spuco==0.0.1) (0.40.0)\n",
      "Requirement already satisfied: cmake in /home/sjoshi/anaconda3/envs/clip/lib/python3.10/site-packages (from triton==2.0.0->torch>=2.0.0->spuco==0.0.1) (3.26.3)\n",
      "Requirement already satisfied: lit in /home/sjoshi/anaconda3/envs/clip/lib/python3.10/site-packages (from triton==2.0.0->torch>=2.0.0->spuco==0.0.1) (16.0.3)\n",
      "Requirement already satisfied: requests in /home/sjoshi/anaconda3/envs/clip/lib/python3.10/site-packages (from torchvision>=0.15.1->spuco==0.0.1) (2.30.0)\n",
      "Requirement already satisfied: six>=1.5 in /home/sjoshi/anaconda3/envs/clip/lib/python3.10/site-packages (from python-dateutil>=2.7->matplotlib>=3.7.1->spuco==0.0.1) (1.16.0)\n",
      "Requirement already satisfied: MarkupSafe>=2.0 in /home/sjoshi/anaconda3/envs/clip/lib/python3.10/site-packages (from jinja2->torch>=2.0.0->spuco==0.0.1) (2.1.2)\n",
      "Requirement already satisfied: charset-normalizer<4,>=2 in /home/sjoshi/anaconda3/envs/clip/lib/python3.10/site-packages (from requests->torchvision>=0.15.1->spuco==0.0.1) (3.1.0)\n",
      "Requirement already satisfied: idna<4,>=2.5 in /home/sjoshi/anaconda3/envs/clip/lib/python3.10/site-packages (from requests->torchvision>=0.15.1->spuco==0.0.1) (3.4)\n",
      "Requirement already satisfied: urllib3<3,>=1.21.1 in /home/sjoshi/anaconda3/envs/clip/lib/python3.10/site-packages (from requests->torchvision>=0.15.1->spuco==0.0.1) (2.0.2)\n",
      "Requirement already satisfied: certifi>=2017.4.17 in /home/sjoshi/anaconda3/envs/clip/lib/python3.10/site-packages (from requests->torchvision>=0.15.1->spuco==0.0.1) (2023.5.7)\n",
      "Requirement already satisfied: mpmath>=0.19 in /home/sjoshi/anaconda3/envs/clip/lib/python3.10/site-packages (from sympy->torch>=2.0.0->spuco==0.0.1) (1.3.0)\n",
      "Building wheels for collected packages: spuco\n",
      "  Building wheel for spuco (pyproject.toml) ... \u001b[?25ldone\n",
      "\u001b[?25h  Created wheel for spuco: filename=spuco-0.0.1-py3-none-any.whl size=32489 sha256=9a39bcc742b2e48cdf8e2f530887e548f7b2d76f29bc01fb4a81c0272e6c4cf2\n",
      "  Stored in directory: /tmp/pip-ephem-wheel-cache-t35342ah/wheels/ef/5d/43/a265894b1d52121a51705a208277e8d9a9670e95fa1a2e7ae6\n",
      "Successfully built spuco\n",
      "Installing collected packages: spuco\n",
      "  Attempting uninstall: spuco\n",
      "    Found existing installation: spuco 0.0.1\n",
      "    Uninstalling spuco-0.0.1:\n",
      "      Successfully uninstalled spuco-0.0.1\n",
      "Successfully installed spuco-0.0.1\n",
      "Note: you may need to restart the kernel to use updated packages.\n"
     ]
    }
   ],
   "source": [
    "%pip install ../.."
   ]
  },
  {
   "cell_type": "code",
   "execution_count": 2,
   "metadata": {},
   "outputs": [],
   "source": [
    "import torch \n",
    "\n",
    "device = torch.device(\"cuda:7\")"
   ]
  },
  {
   "cell_type": "code",
   "execution_count": 17,
   "metadata": {},
   "outputs": [],
   "source": [
    "from spuco.invariant_train import ERM\n",
    "from spuco.datasets import SpuCoMNIST, SpuriousFeatureDifficulty\n",
    "import torchvision.transforms as T\n",
    "\n",
    "classes = [[0, 1], [2, 3], [4, 5], [6, 7], [8, 9]]\n",
    "difficulty = SpuriousFeatureDifficulty.MAGNITUDE_MEDIUM\n",
    "\n",
    "trainset = SpuCoMNIST(\n",
    "    root=\"/data/mnist/\",\n",
    "    spurious_feature_difficulty=difficulty,\n",
    "    spurious_correlation_strength=0.995,\n",
    "    classes=classes,\n",
    "    train=True\n",
    ")\n",
    "trainset.initialize()\n",
    "\n",
    "testset = SpuCoMNIST(\n",
    "    root=\"/data/mnist/\",\n",
    "    spurious_feature_difficulty=difficulty,\n",
    "    classes=classes,\n",
    "    train=False\n",
    ")\n",
    "testset.initialize()\n"
   ]
  },
  {
   "cell_type": "code",
   "execution_count": 18,
   "metadata": {},
   "outputs": [
    {
     "data": {
      "image/png": "[encoded data removed]",
      "text/plain": [
       "<PIL.Image.Image image mode=RGB size=28x28>"
      ]
     },
     "execution_count": 18,
     "metadata": {},
     "output_type": "execute_result"
    }
   ],
   "source": [
    "T.ToPILImage()(trainset[1000][0]).resize((28,28))"
   ]
  },
  {
   "cell_type": "code",
   "execution_count": 19,
   "metadata": {},
   "outputs": [],
   "source": [
    "from spuco.models import model_factory \n",
    "\n",
    "model = model_factory(\"lenet\", trainset[0][0].shape, trainset.num_classes).to(device)"
   ]
  },
  {
   "cell_type": "code",
   "execution_count": 20,
   "metadata": {},
   "outputs": [],
   "source": [
    "from torch.optim import SGD\n",
    "\n",
    "erm = ERM(\n",
    "    model=model,\n",
    "    num_epochs=5,\n",
    "    trainset=trainset,\n",
    "    batch_size=32,\n",
    "    optimizer=SGD(model.parameters(), lr=1e-3, weight_decay=5e-4),\n",
    "    device=device,\n",
    "    verbose=True\n",
    ")"
   ]
  },
  {
   "cell_type": "code",
   "execution_count": 21,
   "metadata": {},
   "outputs": [
    {
     "name": "stderr",
     "output_type": "stream",
     "text": [
      "Epoch 0: 100%|██████████| 1875/1875 [00:06<00:00, 267.92batch/s, accuracy=28.125%, loss=1.6] \n",
      "Epoch 1: 100%|██████████| 1875/1875 [00:06<00:00, 279.79batch/s, accuracy=37.5%, loss=1.59]  \n",
      "Epoch 2: 100%|██████████| 1875/1875 [00:06<00:00, 275.79batch/s, accuracy=43.75%, loss=1.56] \n",
      "Epoch 3: 100%|██████████| 1875/1875 [00:06<00:00, 287.01batch/s, accuracy=62.5%, loss=1.09]  \n",
      "Epoch 4: 100%|██████████| 1875/1875 [00:06<00:00, 299.67batch/s, accuracy=81.25%, loss=0.599] \n"
     ]
    }
   ],
   "source": [
    "erm.train()"
   ]
  },
  {
   "cell_type": "code",
   "execution_count": 22,
   "metadata": {},
   "outputs": [
    {
     "name": "stdout",
     "output_type": "stream",
     "text": [
      "Group (0, 0) Test Accuracy: 93.14420803782505\n",
      "Group (0, 1) Test Accuracy: 91.48936170212765\n",
      "Group (0, 2) Test Accuracy: 90.30732860520095\n",
      "Group (0, 3) Test Accuracy: 88.17966903073287\n",
      "Group (0, 4) Test Accuracy: 84.39716312056737\n",
      "Group (1, 0) Test Accuracy: 87.28606356968216\n",
      "Group (1, 1) Test Accuracy: 87.77506112469437\n",
      "Group (1, 2) Test Accuracy: 86.76470588235294\n",
      "Group (1, 3) Test Accuracy: 87.00980392156863\n",
      "Group (1, 4) Test Accuracy: 87.99019607843137\n",
      "Group (2, 0) Test Accuracy: 76.8\n",
      "Group (2, 1) Test Accuracy: 70.13333333333334\n",
      "Group (2, 2) Test Accuracy: 69.86666666666666\n",
      "Group (2, 3) Test Accuracy: 70.4\n",
      "Group (2, 4) Test Accuracy: 73.52941176470588\n",
      "Group (3, 0) Test Accuracy: 80.90452261306532\n",
      "Group (3, 1) Test Accuracy: 85.8942065491184\n",
      "Group (3, 2) Test Accuracy: 82.87153652392946\n",
      "Group (3, 3) Test Accuracy: 83.87909319899245\n",
      "Group (3, 4) Test Accuracy: 87.40554156171285\n",
      "Group (4, 0) Test Accuracy: 71.53652392947103\n",
      "Group (4, 1) Test Accuracy: 75.31486146095718\n",
      "Group (4, 2) Test Accuracy: 71.03274559193954\n",
      "Group (4, 3) Test Accuracy: 76.76767676767676\n",
      "Group (4, 4) Test Accuracy: 79.79797979797979\n"
     ]
    },
    {
     "data": {
      "text/plain": [
       "{(0, 0): 93.14420803782505,\n",
       " (0, 1): 91.48936170212765,\n",
       " (0, 2): 90.30732860520095,\n",
       " (0, 3): 88.17966903073287,\n",
       " (0, 4): 84.39716312056737,\n",
       " (1, 0): 87.28606356968216,\n",
       " (1, 1): 87.77506112469437,\n",
       " (1, 2): 86.76470588235294,\n",
       " (1, 3): 87.00980392156863,\n",
       " (1, 4): 87.99019607843137,\n",
       " (2, 0): 76.8,\n",
       " (2, 1): 70.13333333333334,\n",
       " (2, 2): 69.86666666666666,\n",
       " (2, 3): 70.4,\n",
       " (2, 4): 73.52941176470588,\n",
       " (3, 0): 80.90452261306532,\n",
       " (3, 1): 85.8942065491184,\n",
       " (3, 2): 82.87153652392946,\n",
       " (3, 3): 83.87909319899245,\n",
       " (3, 4): 87.40554156171285,\n",
       " (4, 0): 71.53652392947103,\n",
       " (4, 1): 75.31486146095718,\n",
       " (4, 2): 71.03274559193954,\n",
       " (4, 3): 76.76767676767676,\n",
       " (4, 4): 79.79797979797979}"
      ]
     },
     "execution_count": 22,
     "metadata": {},
     "output_type": "execute_result"
    }
   ],
   "source": [
    "from spuco.evaluate import Evaluator\n",
    "\n",
    "evaluator = Evaluator(\n",
    "    testset=testset,\n",
    "    group_partition=testset.group_partition,\n",
    "    group_weights=trainset.group_weights,\n",
    "    batch_size=64,\n",
    "    model=model,\n",
    "    device=device,\n",
    "    verbose=True\n",
    ")\n",
    "evaluator.evaluate()"
   ]
  },
  {
   "cell_type": "code",
   "execution_count": 23,
   "metadata": {},
   "outputs": [
    {
     "data": {
      "text/plain": [
       "((2, 2), 69.86666666666666)"
      ]
     },
     "execution_count": 23,
     "metadata": {},
     "output_type": "execute_result"
    }
   ],
   "source": [
    "evaluator.worst_group_accuracy"
   ]
  },
  {
   "cell_type": "code",
   "execution_count": 24,
   "metadata": {},
   "outputs": [
    {
     "data": {
      "text/plain": [
       "83.1767673778784"
      ]
     },
     "execution_count": 24,
     "metadata": {},
     "output_type": "execute_result"
    }
   ],
   "source": [
    "evaluator.average_accuracy"
   ]
  },
  {
   "cell_type": "code",
   "execution_count": 25,
   "metadata": {},
   "outputs": [
    {
     "data": {
      "text/plain": [
       "20.48"
      ]
     },
     "execution_count": 25,
     "metadata": {},
     "output_type": "execute_result"
    }
   ],
   "source": [
    "evaluator.evaluate_spurious_task()"
   ]
  },
  {
   "cell_type": "code",
   "execution_count": 26,
   "metadata": {},
   "outputs": [],
   "source": [
    "import random \n",
    "from torch.utils.data import Subset\n",
    "\n",
    "classes = [[0, 1], [2, 3], [4, 5], [6, 7], [8, 9]]\n",
    "\n",
    "group_balanced_set = SpuCoMNIST(\n",
    "    root=\"/data/mnist/\",\n",
    "    spurious_feature_difficulty=difficulty,\n",
    "    spurious_correlation_strength=0.2,\n",
    "    classes=classes,\n",
    "    train=True\n",
    ")\n",
    "group_balanced_set.initialize()\n",
    "group_balanced_set = Subset(group_balanced_set, [i for key in group_balanced_set.group_partition.keys() for i in group_balanced_set.group_partition[key][:240]])"
   ]
  },
  {
   "cell_type": "code",
   "execution_count": 27,
   "metadata": {},
   "outputs": [],
   "source": [
    "from spuco.finetune import DFR \n",
    "from torch.optim import SGD\n",
    "\n",
    "dfr = DFR(\n",
    "    group_balanced_dataset=group_balanced_set,\n",
    "    model=model,\n",
    "    num_epochs=10000,\n",
    "    lr=1,\n",
    "    weight_decay=1e-3,\n",
    "    verbose=True,\n",
    "    device=device\n",
    ")"
   ]
  },
  {
   "cell_type": "code",
   "execution_count": 28,
   "metadata": {},
   "outputs": [
    {
     "name": "stderr",
     "output_type": "stream",
     "text": [
      "DFR: 100%|██████████| 10000/10000 [00:04<00:00, 2121.79it/s, acc=90.8, epoch=9000]\n"
     ]
    }
   ],
   "source": [
    "dfr.train()"
   ]
  },
  {
   "cell_type": "code",
   "execution_count": 29,
   "metadata": {},
   "outputs": [
    {
     "name": "stdout",
     "output_type": "stream",
     "text": [
      "Group (0, 0) Test Accuracy: 97.63593380614657\n",
      "Group (0, 1) Test Accuracy: 97.87234042553192\n",
      "Group (0, 2) Test Accuracy: 97.39952718676123\n",
      "Group (0, 3) Test Accuracy: 97.87234042553192\n",
      "Group (0, 4) Test Accuracy: 96.21749408983452\n",
      "Group (1, 0) Test Accuracy: 90.70904645476773\n",
      "Group (1, 1) Test Accuracy: 90.70904645476773\n",
      "Group (1, 2) Test Accuracy: 92.15686274509804\n",
      "Group (1, 3) Test Accuracy: 91.91176470588235\n",
      "Group (1, 4) Test Accuracy: 89.46078431372548\n",
      "Group (2, 0) Test Accuracy: 87.2\n",
      "Group (2, 1) Test Accuracy: 82.13333333333334\n",
      "Group (2, 2) Test Accuracy: 84.8\n",
      "Group (2, 3) Test Accuracy: 82.4\n",
      "Group (2, 4) Test Accuracy: 86.36363636363636\n",
      "Group (3, 0) Test Accuracy: 89.19597989949749\n",
      "Group (3, 1) Test Accuracy: 90.93198992443325\n",
      "Group (3, 2) Test Accuracy: 88.91687657430731\n",
      "Group (3, 3) Test Accuracy: 87.40554156171285\n",
      "Group (3, 4) Test Accuracy: 90.17632241813602\n",
      "Group (4, 0) Test Accuracy: 86.90176322418137\n",
      "Group (4, 1) Test Accuracy: 86.64987405541562\n",
      "Group (4, 2) Test Accuracy: 85.64231738035265\n",
      "Group (4, 3) Test Accuracy: 88.38383838383838\n",
      "Group (4, 4) Test Accuracy: 91.66666666666667\n"
     ]
    },
    {
     "data": {
      "text/plain": [
       "{(0, 0): 97.63593380614657,\n",
       " (0, 1): 97.87234042553192,\n",
       " (0, 2): 97.39952718676123,\n",
       " (0, 3): 97.87234042553192,\n",
       " (0, 4): 96.21749408983452,\n",
       " (1, 0): 90.70904645476773,\n",
       " (1, 1): 90.70904645476773,\n",
       " (1, 2): 92.15686274509804,\n",
       " (1, 3): 91.91176470588235,\n",
       " (1, 4): 89.46078431372548,\n",
       " (2, 0): 87.2,\n",
       " (2, 1): 82.13333333333334,\n",
       " (2, 2): 84.8,\n",
       " (2, 3): 82.4,\n",
       " (2, 4): 86.36363636363636,\n",
       " (3, 0): 89.19597989949749,\n",
       " (3, 1): 90.93198992443325,\n",
       " (3, 2): 88.91687657430731,\n",
       " (3, 3): 87.40554156171285,\n",
       " (3, 4): 90.17632241813602,\n",
       " (4, 0): 86.90176322418137,\n",
       " (4, 1): 86.64987405541562,\n",
       " (4, 2): 85.64231738035265,\n",
       " (4, 3): 88.38383838383838,\n",
       " (4, 4): 91.66666666666667}"
      ]
     },
     "execution_count": 29,
     "metadata": {},
     "output_type": "execute_result"
    }
   ],
   "source": [
    "from spuco.evaluate import Evaluator\n",
    "\n",
    "evaluator = Evaluator(\n",
    "    testset=testset,\n",
    "    group_partition=testset.group_partition,\n",
    "    group_weights=trainset.group_weights,\n",
    "    batch_size=64,\n",
    "    model=model,\n",
    "    device=device,\n",
    "    verbose=True\n",
    ")\n",
    "evaluator.evaluate()"
   ]
  },
  {
   "cell_type": "code",
   "execution_count": 30,
   "metadata": {},
   "outputs": [
    {
     "data": {
      "text/plain": [
       "((2, 1), 82.13333333333334)"
      ]
     },
     "execution_count": 30,
     "metadata": {},
     "output_type": "execute_result"
    }
   ],
   "source": [
    "evaluator.worst_group_accuracy"
   ]
  }
 ],
 "metadata": {
  "kernelspec": {
   "display_name": "clip",
   "language": "python",
   "name": "python3"
  },
  "language_info": {
   "codemirror_mode": {
    "name": "ipython",
    "version": 3
   },
   "file_extension": ".py",
   "mimetype": "text/x-python",
   "name": "python",
   "nbconvert_exporter": "python",
   "pygments_lexer": "ipython3",
   "version": "3.10.9"
  },
  "orig_nbformat": 4
 },
 "nbformat": 4,
 "nbformat_minor": 2
}
