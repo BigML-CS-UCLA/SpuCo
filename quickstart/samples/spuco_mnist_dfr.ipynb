{
 "cells": [
  {
   "cell_type": "code",
   "execution_count": 1,
   "metadata": {},
   "outputs": [
    {
     "name": "stdout",
     "output_type": "stream",
     "text": [
      "Processing /home/sjoshi/spuco\n",
      "  Installing build dependencies ... \u001b[?25ldone\n",
      "\u001b[?25h  Getting requirements to build wheel ... \u001b[?25ldone\n",
      "\u001b[?25h  Installing backend dependencies ... \u001b[?25ldone\n",
      "\u001b[?25h  Preparing metadata (pyproject.toml) ... \u001b[?25ldone\n",
      "\u001b[?25hRequirement already satisfied: matplotlib>=3.7.1 in /home/sjoshi/anaconda3/envs/clip/lib/python3.10/site-packages (from spuco==0.0.1) (3.7.1)\n",
      "Requirement already satisfied: numpy>=1.23.5 in /home/sjoshi/anaconda3/envs/clip/lib/python3.10/site-packages (from spuco==0.0.1) (1.24.3)\n",
      "Requirement already satisfied: setuptools>=61.0 in /home/sjoshi/anaconda3/envs/clip/lib/python3.10/site-packages (from spuco==0.0.1) (67.7.2)\n",
      "Requirement already satisfied: torch>=2.0.0 in /home/sjoshi/anaconda3/envs/clip/lib/python3.10/site-packages (from spuco==0.0.1) (2.0.1)\n",
      "Requirement already satisfied: torchvision>=0.15.1 in /home/sjoshi/anaconda3/envs/clip/lib/python3.10/site-packages (from spuco==0.0.1) (0.15.2)\n",
      "Requirement already satisfied: tqdm>=4.65.0 in /home/sjoshi/anaconda3/envs/clip/lib/python3.10/site-packages (from spuco==0.0.1) (4.65.0)\n",
      "Requirement already satisfied: contourpy>=1.0.1 in /home/sjoshi/anaconda3/envs/clip/lib/python3.10/site-packages (from matplotlib>=3.7.1->spuco==0.0.1) (1.0.7)\n",
      "Requirement already satisfied: cycler>=0.10 in /home/sjoshi/anaconda3/envs/clip/lib/python3.10/site-packages (from matplotlib>=3.7.1->spuco==0.0.1) (0.11.0)\n",
      "Requirement already satisfied: fonttools>=4.22.0 in /home/sjoshi/anaconda3/envs/clip/lib/python3.10/site-packages (from matplotlib>=3.7.1->spuco==0.0.1) (4.39.4)\n",
      "Requirement already satisfied: kiwisolver>=1.0.1 in /home/sjoshi/anaconda3/envs/clip/lib/python3.10/site-packages (from matplotlib>=3.7.1->spuco==0.0.1) (1.4.4)\n",
      "Requirement already satisfied: packaging>=20.0 in /home/sjoshi/anaconda3/envs/clip/lib/python3.10/site-packages (from matplotlib>=3.7.1->spuco==0.0.1) (23.1)\n",
      "Requirement already satisfied: pillow>=6.2.0 in /home/sjoshi/anaconda3/envs/clip/lib/python3.10/site-packages (from matplotlib>=3.7.1->spuco==0.0.1) (9.5.0)\n",
      "Requirement already satisfied: pyparsing>=2.3.1 in /home/sjoshi/anaconda3/envs/clip/lib/python3.10/site-packages (from matplotlib>=3.7.1->spuco==0.0.1) (3.0.9)\n",
      "Requirement already satisfied: python-dateutil>=2.7 in /home/sjoshi/anaconda3/envs/clip/lib/python3.10/site-packages (from matplotlib>=3.7.1->spuco==0.0.1) (2.8.2)\n",
      "Requirement already satisfied: filelock in /home/sjoshi/anaconda3/envs/clip/lib/python3.10/site-packages (from torch>=2.0.0->spuco==0.0.1) (3.12.0)\n",
      "Requirement already satisfied: typing-extensions in /home/sjoshi/anaconda3/envs/clip/lib/python3.10/site-packages (from torch>=2.0.0->spuco==0.0.1) (4.5.0)\n",
      "Requirement already satisfied: sympy in /home/sjoshi/anaconda3/envs/clip/lib/python3.10/site-packages (from torch>=2.0.0->spuco==0.0.1) (1.12)\n",
      "Requirement already satisfied: networkx in /home/sjoshi/anaconda3/envs/clip/lib/python3.10/site-packages (from torch>=2.0.0->spuco==0.0.1) (3.1)\n",
      "Requirement already satisfied: jinja2 in /home/sjoshi/anaconda3/envs/clip/lib/python3.10/site-packages (from torch>=2.0.0->spuco==0.0.1) (3.1.2)\n",
      "Requirement already satisfied: nvidia-cuda-nvrtc-cu11==11.7.99 in /home/sjoshi/anaconda3/envs/clip/lib/python3.10/site-packages (from torch>=2.0.0->spuco==0.0.1) (11.7.99)\n",
      "Requirement already satisfied: nvidia-cuda-runtime-cu11==11.7.99 in /home/sjoshi/anaconda3/envs/clip/lib/python3.10/site-packages (from torch>=2.0.0->spuco==0.0.1) (11.7.99)\n",
      "Requirement already satisfied: nvidia-cuda-cupti-cu11==11.7.101 in /home/sjoshi/anaconda3/envs/clip/lib/python3.10/site-packages (from torch>=2.0.0->spuco==0.0.1) (11.7.101)\n",
      "Requirement already satisfied: nvidia-cudnn-cu11==8.5.0.96 in /home/sjoshi/anaconda3/envs/clip/lib/python3.10/site-packages (from torch>=2.0.0->spuco==0.0.1) (8.5.0.96)\n",
      "Requirement already satisfied: nvidia-cublas-cu11==11.10.3.66 in /home/sjoshi/anaconda3/envs/clip/lib/python3.10/site-packages (from torch>=2.0.0->spuco==0.0.1) (11.10.3.66)\n",
      "Requirement already satisfied: nvidia-cufft-cu11==10.9.0.58 in /home/sjoshi/anaconda3/envs/clip/lib/python3.10/site-packages (from torch>=2.0.0->spuco==0.0.1) (10.9.0.58)\n",
      "Requirement already satisfied: nvidia-curand-cu11==10.2.10.91 in /home/sjoshi/anaconda3/envs/clip/lib/python3.10/site-packages (from torch>=2.0.0->spuco==0.0.1) (10.2.10.91)\n",
      "Requirement already satisfied: nvidia-cusolver-cu11==11.4.0.1 in /home/sjoshi/anaconda3/envs/clip/lib/python3.10/site-packages (from torch>=2.0.0->spuco==0.0.1) (11.4.0.1)\n",
      "Requirement already satisfied: nvidia-cusparse-cu11==11.7.4.91 in /home/sjoshi/anaconda3/envs/clip/lib/python3.10/site-packages (from torch>=2.0.0->spuco==0.0.1) (11.7.4.91)\n",
      "Requirement already satisfied: nvidia-nccl-cu11==2.14.3 in /home/sjoshi/anaconda3/envs/clip/lib/python3.10/site-packages (from torch>=2.0.0->spuco==0.0.1) (2.14.3)\n",
      "Requirement already satisfied: nvidia-nvtx-cu11==11.7.91 in /home/sjoshi/anaconda3/envs/clip/lib/python3.10/site-packages (from torch>=2.0.0->spuco==0.0.1) (11.7.91)\n",
      "Requirement already satisfied: triton==2.0.0 in /home/sjoshi/anaconda3/envs/clip/lib/python3.10/site-packages (from torch>=2.0.0->spuco==0.0.1) (2.0.0)\n",
      "Requirement already satisfied: wheel in /home/sjoshi/anaconda3/envs/clip/lib/python3.10/site-packages (from nvidia-cublas-cu11==11.10.3.66->torch>=2.0.0->spuco==0.0.1) (0.40.0)\n",
      "Requirement already satisfied: cmake in /home/sjoshi/anaconda3/envs/clip/lib/python3.10/site-packages (from triton==2.0.0->torch>=2.0.0->spuco==0.0.1) (3.26.3)\n",
      "Requirement already satisfied: lit in /home/sjoshi/anaconda3/envs/clip/lib/python3.10/site-packages (from triton==2.0.0->torch>=2.0.0->spuco==0.0.1) (16.0.3)\n",
      "Requirement already satisfied: requests in /home/sjoshi/anaconda3/envs/clip/lib/python3.10/site-packages (from torchvision>=0.15.1->spuco==0.0.1) (2.30.0)\n",
      "Requirement already satisfied: six>=1.5 in /home/sjoshi/anaconda3/envs/clip/lib/python3.10/site-packages (from python-dateutil>=2.7->matplotlib>=3.7.1->spuco==0.0.1) (1.16.0)\n",
      "Requirement already satisfied: MarkupSafe>=2.0 in /home/sjoshi/anaconda3/envs/clip/lib/python3.10/site-packages (from jinja2->torch>=2.0.0->spuco==0.0.1) (2.1.2)\n",
      "Requirement already satisfied: charset-normalizer<4,>=2 in /home/sjoshi/anaconda3/envs/clip/lib/python3.10/site-packages (from requests->torchvision>=0.15.1->spuco==0.0.1) (3.1.0)\n",
      "Requirement already satisfied: idna<4,>=2.5 in /home/sjoshi/anaconda3/envs/clip/lib/python3.10/site-packages (from requests->torchvision>=0.15.1->spuco==0.0.1) (3.4)\n",
      "Requirement already satisfied: urllib3<3,>=1.21.1 in /home/sjoshi/anaconda3/envs/clip/lib/python3.10/site-packages (from requests->torchvision>=0.15.1->spuco==0.0.1) (2.0.2)\n",
      "Requirement already satisfied: certifi>=2017.4.17 in /home/sjoshi/anaconda3/envs/clip/lib/python3.10/site-packages (from requests->torchvision>=0.15.1->spuco==0.0.1) (2023.5.7)\n",
      "Requirement already satisfied: mpmath>=0.19 in /home/sjoshi/anaconda3/envs/clip/lib/python3.10/site-packages (from sympy->torch>=2.0.0->spuco==0.0.1) (1.3.0)\n",
      "Building wheels for collected packages: spuco\n",
      "  Building wheel for spuco (pyproject.toml) ... \u001b[?25ldone\n",
      "\u001b[?25h  Created wheel for spuco: filename=spuco-0.0.1-py3-none-any.whl size=32156 sha256=576b8c452da0e1f2560c28be7f253f35b9e8b5cc79063045005b73b194dceed8\n",
      "  Stored in directory: /tmp/pip-ephem-wheel-cache-dzodiv8g/wheels/ef/5d/43/a265894b1d52121a51705a208277e8d9a9670e95fa1a2e7ae6\n",
      "Successfully built spuco\n",
      "Installing collected packages: spuco\n",
      "  Attempting uninstall: spuco\n",
      "    Found existing installation: spuco 0.0.1\n",
      "    Uninstalling spuco-0.0.1:\n",
      "      Successfully uninstalled spuco-0.0.1\n",
      "Successfully installed spuco-0.0.1\n",
      "Note: you may need to restart the kernel to use updated packages.\n"
     ]
    }
   ],
   "source": [
    "%pip install ../.."
   ]
  },
  {
   "cell_type": "code",
   "execution_count": 2,
   "metadata": {},
   "outputs": [],
   "source": [
    "import torch \n",
    "\n",
    "device = torch.device(\"cuda:7\")"
   ]
  },
  {
   "cell_type": "code",
   "execution_count": 3,
   "metadata": {},
   "outputs": [],
   "source": [
    "from spuco.invariant_train import ERM\n",
    "from spuco.datasets import SpuCoMNIST, SpuriousFeatureDifficulty\n",
    "import torchvision.transforms as T\n",
    "\n",
    "classes = [[0, 1], [2, 3], [4, 5], [6, 7], [8, 9]]\n",
    "difficulty = SpuriousFeatureDifficulty.MAGNITUDE_EASY\n",
    "\n",
    "trainset = SpuCoMNIST(\n",
    "    root=\"/data/mnist/\",\n",
    "    spurious_feature_difficulty=difficulty,\n",
    "    spurious_correlation_strength=0.995,\n",
    "    classes=classes,\n",
    "    train=True\n",
    ")\n",
    "trainset.initialize()\n",
    "\n",
    "testset = SpuCoMNIST(\n",
    "    root=\"/data/mnist/\",\n",
    "    spurious_feature_difficulty=difficulty,\n",
    "    classes=classes,\n",
    "    train=False\n",
    ")\n",
    "testset.initialize()\n"
   ]
  },
  {
   "cell_type": "code",
   "execution_count": 4,
   "metadata": {},
   "outputs": [
    {
     "data": {
      "image/png": "[encoded data removed]",
      "text/plain": [
       "<PIL.Image.Image image mode=RGB size=28x28>"
      ]
     },
     "execution_count": 4,
     "metadata": {},
     "output_type": "execute_result"
    }
   ],
   "source": [
    "T.ToPILImage()(trainset[1000][0]).resize((28,28))"
   ]
  },
  {
   "cell_type": "code",
   "execution_count": 5,
   "metadata": {},
   "outputs": [],
   "source": [
    "from spuco.models import model_factory \n",
    "\n",
    "model = model_factory(\"lenet\", trainset[0][0].shape, trainset.num_classes).to(device)"
   ]
  },
  {
   "cell_type": "code",
   "execution_count": 6,
   "metadata": {},
   "outputs": [],
   "source": [
    "from torch.optim import SGD\n",
    "\n",
    "erm = ERM(\n",
    "    model=model,\n",
    "    num_epochs=5,\n",
    "    trainset=trainset,\n",
    "    batch_size=32,\n",
    "    optimizer=SGD(model.parameters(), lr=1e-3, weight_decay=5e-4),\n",
    "    device=device,\n",
    "    verbose=True\n",
    ")"
   ]
  },
  {
   "cell_type": "code",
   "execution_count": 7,
   "metadata": {},
   "outputs": [
    {
     "name": "stderr",
     "output_type": "stream",
     "text": [
      "Epoch 0: 100%|██████████| 938/938 [00:04<00:00, 191.26batch/s, accuracy=28.125%, loss=1.59] \n",
      "Epoch 1: 100%|██████████| 938/938 [00:03<00:00, 271.58batch/s, accuracy=50.0%, loss=1.57]   \n",
      "Epoch 2: 100%|██████████| 938/938 [00:03<00:00, 259.74batch/s, accuracy=56.25%, loss=0.962]  \n",
      "Epoch 3: 100%|██████████| 938/938 [00:03<00:00, 258.46batch/s, accuracy=93.75%, loss=0.337]  \n",
      "Epoch 4: 100%|██████████| 938/938 [00:03<00:00, 264.66batch/s, accuracy=100.0%, loss=0.058]   \n"
     ]
    }
   ],
   "source": [
    "erm.train()"
   ]
  },
  {
   "cell_type": "code",
   "execution_count": 8,
   "metadata": {},
   "outputs": [
    {
     "name": "stdout",
     "output_type": "stream",
     "text": [
      "Group (0, 0) Test Accuracy: 98.81796690307328\n",
      "Group (0, 1) Test Accuracy: 0.0\n",
      "Group (0, 2) Test Accuracy: 0.0\n",
      "Group (0, 3) Test Accuracy: 0.0\n",
      "Group (0, 4) Test Accuracy: 0.0\n",
      "Group (1, 0) Test Accuracy: 0.0\n",
      "Group (1, 1) Test Accuracy: 100.0\n",
      "Group (1, 2) Test Accuracy: 0.0\n",
      "Group (1, 3) Test Accuracy: 0.0\n",
      "Group (1, 4) Test Accuracy: 0.0\n",
      "Group (2, 0) Test Accuracy: 0.0\n",
      "Group (2, 1) Test Accuracy: 0.0\n",
      "Group (2, 2) Test Accuracy: 99.73333333333333\n",
      "Group (2, 3) Test Accuracy: 0.0\n",
      "Group (2, 4) Test Accuracy: 0.0\n",
      "Group (3, 0) Test Accuracy: 0.0\n",
      "Group (3, 1) Test Accuracy: 0.0\n",
      "Group (3, 2) Test Accuracy: 1.2594458438287153\n",
      "Group (3, 3) Test Accuracy: 100.0\n",
      "Group (3, 4) Test Accuracy: 0.0\n",
      "Group (4, 0) Test Accuracy: 0.5037783375314862\n",
      "Group (4, 1) Test Accuracy: 0.0\n",
      "Group (4, 2) Test Accuracy: 0.0\n",
      "Group (4, 3) Test Accuracy: 0.0\n",
      "Group (4, 4) Test Accuracy: 100.0\n"
     ]
    },
    {
     "data": {
      "text/plain": [
       "{(0, 0): 98.81796690307328,\n",
       " (0, 1): 0.0,\n",
       " (0, 2): 0.0,\n",
       " (0, 3): 0.0,\n",
       " (0, 4): 0.0,\n",
       " (1, 0): 0.0,\n",
       " (1, 1): 100.0,\n",
       " (1, 2): 0.0,\n",
       " (1, 3): 0.0,\n",
       " (1, 4): 0.0,\n",
       " (2, 0): 0.0,\n",
       " (2, 1): 0.0,\n",
       " (2, 2): 99.73333333333333,\n",
       " (2, 3): 0.0,\n",
       " (2, 4): 0.0,\n",
       " (3, 0): 0.0,\n",
       " (3, 1): 0.0,\n",
       " (3, 2): 1.2594458438287153,\n",
       " (3, 3): 100.0,\n",
       " (3, 4): 0.0,\n",
       " (4, 0): 0.5037783375314862,\n",
       " (4, 1): 0.0,\n",
       " (4, 2): 0.0,\n",
       " (4, 3): 0.0,\n",
       " (4, 4): 100.0}"
      ]
     },
     "execution_count": 8,
     "metadata": {},
     "output_type": "execute_result"
    }
   ],
   "source": [
    "from spuco.evaluate import Evaluator\n",
    "\n",
    "evaluator = Evaluator(\n",
    "    testset=testset,\n",
    "    group_partition=testset.group_partition,\n",
    "    group_weights=trainset.group_weights,\n",
    "    batch_size=64,\n",
    "    model=model,\n",
    "    device=device,\n",
    "    verbose=True\n",
    ")\n",
    "evaluator.evaluate()"
   ]
  },
  {
   "cell_type": "code",
   "execution_count": 9,
   "metadata": {},
   "outputs": [
    {
     "data": {
      "text/plain": [
       "((0, 1), 0.0)"
      ]
     },
     "execution_count": 9,
     "metadata": {},
     "output_type": "execute_result"
    }
   ],
   "source": [
    "evaluator.worst_group_accuracy"
   ]
  },
  {
   "cell_type": "code",
   "execution_count": 10,
   "metadata": {},
   "outputs": [
    {
     "data": {
      "text/plain": [
       "99.28700461959575"
      ]
     },
     "execution_count": 10,
     "metadata": {},
     "output_type": "execute_result"
    }
   ],
   "source": [
    "evaluator.average_accuracy"
   ]
  },
  {
   "cell_type": "code",
   "execution_count": 11,
   "metadata": {},
   "outputs": [
    {
     "data": {
      "text/plain": [
       "99.46"
      ]
     },
     "execution_count": 11,
     "metadata": {},
     "output_type": "execute_result"
    }
   ],
   "source": [
    "evaluator.evaluate_spurious_task()"
   ]
  },
  {
   "cell_type": "code",
   "execution_count": 32,
   "metadata": {},
   "outputs": [],
   "source": [
    "import random \n",
    "from torch.utils.data import Subset\n",
    "\n",
    "classes = [[0, 1], [2, 3], [4, 5], [6, 7], [8, 9]]\n",
    "difficulty = SpuriousFeatureDifficulty.MAGNITUDE_EASY\n",
    "\n",
    "group_balanced_set = SpuCoMNIST(\n",
    "    root=\"/data/mnist/\",\n",
    "    spurious_feature_difficulty=difficulty,\n",
    "    spurious_correlation_strength=0.2,\n",
    "    classes=classes,\n",
    "    train=True\n",
    ")\n",
    "group_balanced_set.initialize()\n",
    "group_balanced_set = Subset(group_balanced_set, [i for key in group_balanced_set.group_partition.keys() for i in group_balanced_set.group_partition[key]])"
   ]
  },
  {
   "cell_type": "code",
   "execution_count": 38,
   "metadata": {},
   "outputs": [],
   "source": [
    "from spuco.finetune import DFR \n",
    "from torch.optim import SGD\n",
    "\n",
    "dfr = DFR(\n",
    "    group_balanced_dataset=group_balanced_set,\n",
    "    model=model,\n",
    "    num_epochs=100,\n",
    "    lr=1e-2,\n",
    "    momentum=0.9,\n",
    "    verbose=True,\n",
    "    device=device\n",
    ")"
   ]
  },
  {
   "cell_type": "code",
   "execution_count": 39,
   "metadata": {},
   "outputs": [
    {
     "name": "stderr",
     "output_type": "stream",
     "text": [
      "Epoch 0: 100%|██████████| 938/938 [00:02<00:00, 359.91batch/s, accuracy=18.75%, loss=1.64]  \n",
      "Epoch 1: 100%|██████████| 938/938 [00:02<00:00, 369.88batch/s, accuracy=28.125%, loss=1.6]  \n",
      "Epoch 2: 100%|██████████| 938/938 [00:02<00:00, 357.30batch/s, accuracy=28.125%, loss=1.61] \n",
      "Epoch 3: 100%|██████████| 938/938 [00:02<00:00, 357.63batch/s, accuracy=6.25%, loss=1.65]   \n",
      "Epoch 4: 100%|██████████| 938/938 [00:02<00:00, 369.05batch/s, accuracy=12.5%, loss=1.62]   \n",
      "Epoch 5: 100%|██████████| 938/938 [00:02<00:00, 405.86batch/s, accuracy=40.625%, loss=1.57] \n",
      "Epoch 6: 100%|██████████| 938/938 [00:02<00:00, 407.08batch/s, accuracy=34.375%, loss=1.56] \n",
      "Epoch 7: 100%|██████████| 938/938 [00:02<00:00, 416.44batch/s, accuracy=25.0%, loss=1.62]   \n",
      "Epoch 8: 100%|██████████| 938/938 [00:02<00:00, 408.05batch/s, accuracy=28.125%, loss=1.61] \n",
      "Epoch 9: 100%|██████████| 938/938 [00:02<00:00, 441.05batch/s, accuracy=21.875%, loss=1.59] \n",
      "Epoch 10: 100%|██████████| 938/938 [00:02<00:00, 398.31batch/s, accuracy=28.125%, loss=1.59] \n",
      "Epoch 11: 100%|██████████| 938/938 [00:02<00:00, 397.45batch/s, accuracy=31.25%, loss=1.59]  \n",
      "Epoch 12: 100%|██████████| 938/938 [00:02<00:00, 396.70batch/s, accuracy=37.5%, loss=1.58]   \n",
      "Epoch 13: 100%|██████████| 938/938 [00:02<00:00, 395.59batch/s, accuracy=18.75%, loss=1.61]  \n",
      "Epoch 14: 100%|██████████| 938/938 [00:02<00:00, 401.65batch/s, accuracy=18.75%, loss=1.6]   \n",
      "Epoch 15: 100%|██████████| 938/938 [00:02<00:00, 398.00batch/s, accuracy=28.125%, loss=1.56] \n",
      "Epoch 16: 100%|██████████| 938/938 [00:02<00:00, 390.56batch/s, accuracy=37.5%, loss=1.53]   \n",
      "Epoch 17: 100%|██████████| 938/938 [00:02<00:00, 389.85batch/s, accuracy=31.25%, loss=1.58]  \n",
      "Epoch 18: 100%|██████████| 938/938 [00:02<00:00, 402.88batch/s, accuracy=18.75%, loss=1.64]  \n",
      "Epoch 19: 100%|██████████| 938/938 [00:02<00:00, 407.78batch/s, accuracy=18.75%, loss=1.59]  \n",
      "Epoch 20: 100%|██████████| 938/938 [00:02<00:00, 407.39batch/s, accuracy=31.25%, loss=1.56]  \n",
      "Epoch 21: 100%|██████████| 938/938 [00:02<00:00, 423.99batch/s, accuracy=31.25%, loss=1.57]  \n",
      "Epoch 22: 100%|██████████| 938/938 [00:02<00:00, 406.54batch/s, accuracy=25.0%, loss=1.6]    \n",
      "Epoch 23: 100%|██████████| 938/938 [00:02<00:00, 425.87batch/s, accuracy=28.125%, loss=1.58] \n",
      "Epoch 24: 100%|██████████| 938/938 [00:02<00:00, 404.25batch/s, accuracy=43.75%, loss=1.55]  \n",
      "Epoch 25: 100%|██████████| 938/938 [00:02<00:00, 426.58batch/s, accuracy=28.125%, loss=1.54] \n",
      "Epoch 26: 100%|██████████| 938/938 [00:02<00:00, 393.41batch/s, accuracy=31.25%, loss=1.56]  \n",
      "Epoch 27: 100%|██████████| 938/938 [00:02<00:00, 393.91batch/s, accuracy=21.875%, loss=1.59] \n",
      "Epoch 28: 100%|██████████| 938/938 [00:02<00:00, 409.09batch/s, accuracy=21.875%, loss=1.57] \n",
      "Epoch 29: 100%|██████████| 938/938 [00:02<00:00, 412.60batch/s, accuracy=31.25%, loss=1.53]  \n",
      "Epoch 30: 100%|██████████| 938/938 [00:02<00:00, 399.55batch/s, accuracy=25.0%, loss=1.59]   \n",
      "Epoch 31: 100%|██████████| 938/938 [00:02<00:00, 356.12batch/s, accuracy=21.875%, loss=1.57] \n",
      "Epoch 32: 100%|██████████| 938/938 [00:02<00:00, 375.00batch/s, accuracy=12.5%, loss=1.64]   \n",
      "Epoch 33: 100%|██████████| 938/938 [00:02<00:00, 357.38batch/s, accuracy=9.375%, loss=1.6]   \n",
      "Epoch 34: 100%|██████████| 938/938 [00:02<00:00, 363.83batch/s, accuracy=28.125%, loss=1.59] \n",
      "Epoch 35: 100%|██████████| 938/938 [00:02<00:00, 356.07batch/s, accuracy=18.75%, loss=1.54]  \n",
      "Epoch 36: 100%|██████████| 938/938 [00:02<00:00, 365.60batch/s, accuracy=37.5%, loss=1.53]   \n",
      "Epoch 37: 100%|██████████| 938/938 [00:02<00:00, 374.13batch/s, accuracy=34.375%, loss=1.53] \n",
      "Epoch 38: 100%|██████████| 938/938 [00:02<00:00, 406.48batch/s, accuracy=37.5%, loss=1.53]   \n",
      "Epoch 39: 100%|██████████| 938/938 [00:02<00:00, 396.23batch/s, accuracy=43.75%, loss=1.52]  \n",
      "Epoch 40: 100%|██████████| 938/938 [00:02<00:00, 392.70batch/s, accuracy=37.5%, loss=1.51]   \n",
      "Epoch 41: 100%|██████████| 938/938 [00:02<00:00, 398.87batch/s, accuracy=31.25%, loss=1.56]  \n",
      "Epoch 42: 100%|██████████| 938/938 [00:02<00:00, 398.58batch/s, accuracy=34.375%, loss=1.57] \n",
      "Epoch 43: 100%|██████████| 938/938 [00:02<00:00, 392.62batch/s, accuracy=40.625%, loss=1.53] \n",
      "Epoch 44: 100%|██████████| 938/938 [00:02<00:00, 409.97batch/s, accuracy=34.375%, loss=1.54] \n",
      "Epoch 45: 100%|██████████| 938/938 [00:02<00:00, 401.89batch/s, accuracy=53.125%, loss=1.51] \n",
      "Epoch 46: 100%|██████████| 938/938 [00:02<00:00, 398.08batch/s, accuracy=21.875%, loss=1.58] \n",
      "Epoch 47: 100%|██████████| 938/938 [00:02<00:00, 433.81batch/s, accuracy=34.375%, loss=1.59] \n",
      "Epoch 48: 100%|██████████| 938/938 [00:02<00:00, 421.85batch/s, accuracy=21.875%, loss=1.59] \n",
      "Epoch 49: 100%|██████████| 938/938 [00:02<00:00, 391.66batch/s, accuracy=18.75%, loss=1.56]  \n",
      "Epoch 50: 100%|██████████| 938/938 [00:02<00:00, 416.40batch/s, accuracy=21.875%, loss=1.57] \n",
      "Epoch 51: 100%|██████████| 938/938 [00:02<00:00, 401.66batch/s, accuracy=37.5%, loss=1.55]   \n",
      "Epoch 52: 100%|██████████| 938/938 [00:02<00:00, 374.79batch/s, accuracy=34.375%, loss=1.52] \n",
      "Epoch 53: 100%|██████████| 938/938 [00:02<00:00, 373.19batch/s, accuracy=31.25%, loss=1.52]  \n",
      "Epoch 54: 100%|██████████| 938/938 [00:02<00:00, 396.57batch/s, accuracy=40.625%, loss=1.51] \n",
      "Epoch 55: 100%|██████████| 938/938 [00:02<00:00, 374.89batch/s, accuracy=40.625%, loss=1.49] \n",
      "Epoch 56: 100%|██████████| 938/938 [00:02<00:00, 378.65batch/s, accuracy=37.5%, loss=1.51]   \n",
      "Epoch 57: 100%|██████████| 938/938 [00:02<00:00, 384.71batch/s, accuracy=31.25%, loss=1.53]  \n",
      "Epoch 58: 100%|██████████| 938/938 [00:02<00:00, 393.93batch/s, accuracy=31.25%, loss=1.57]  \n",
      "Epoch 59: 100%|██████████| 938/938 [00:02<00:00, 399.55batch/s, accuracy=37.5%, loss=1.51]   \n",
      "Epoch 60: 100%|██████████| 938/938 [00:02<00:00, 398.63batch/s, accuracy=34.375%, loss=1.53] \n",
      "Epoch 61: 100%|██████████| 938/938 [00:02<00:00, 390.54batch/s, accuracy=34.375%, loss=1.5]  \n",
      "Epoch 62: 100%|██████████| 938/938 [00:02<00:00, 402.50batch/s, accuracy=43.75%, loss=1.53]  \n",
      "Epoch 63: 100%|██████████| 938/938 [00:02<00:00, 365.68batch/s, accuracy=25.0%, loss=1.54]   \n",
      "Epoch 64: 100%|██████████| 938/938 [00:02<00:00, 360.92batch/s, accuracy=28.125%, loss=1.54] \n",
      "Epoch 65: 100%|██████████| 938/938 [00:02<00:00, 369.21batch/s, accuracy=40.625%, loss=1.53] \n",
      "Epoch 66: 100%|██████████| 938/938 [00:02<00:00, 374.42batch/s, accuracy=40.625%, loss=1.5]  \n",
      "Epoch 67: 100%|██████████| 938/938 [00:02<00:00, 366.75batch/s, accuracy=37.5%, loss=1.54]   \n",
      "Epoch 68: 100%|██████████| 938/938 [00:02<00:00, 362.02batch/s, accuracy=40.625%, loss=1.49] \n",
      "Epoch 69: 100%|██████████| 938/938 [00:02<00:00, 368.35batch/s, accuracy=25.0%, loss=1.53]   \n",
      "Epoch 70: 100%|██████████| 938/938 [00:02<00:00, 406.15batch/s, accuracy=40.625%, loss=1.5]  \n",
      "Epoch 71: 100%|██████████| 938/938 [00:02<00:00, 414.17batch/s, accuracy=31.25%, loss=1.52]  \n",
      "Epoch 72: 100%|██████████| 938/938 [00:02<00:00, 410.88batch/s, accuracy=46.875%, loss=1.52] \n",
      "Epoch 73: 100%|██████████| 938/938 [00:02<00:00, 399.09batch/s, accuracy=31.25%, loss=1.53]  \n",
      "Epoch 74: 100%|██████████| 938/938 [00:02<00:00, 409.06batch/s, accuracy=28.125%, loss=1.55] \n",
      "Epoch 75: 100%|██████████| 938/938 [00:02<00:00, 408.60batch/s, accuracy=25.0%, loss=1.57]   \n",
      "Epoch 76: 100%|██████████| 938/938 [00:02<00:00, 399.41batch/s, accuracy=34.375%, loss=1.54] \n",
      "Epoch 77: 100%|██████████| 938/938 [00:02<00:00, 406.49batch/s, accuracy=18.75%, loss=1.53]  \n",
      "Epoch 78: 100%|██████████| 938/938 [00:02<00:00, 436.96batch/s, accuracy=40.625%, loss=1.51] \n",
      "Epoch 79: 100%|██████████| 938/938 [00:02<00:00, 409.14batch/s, accuracy=25.0%, loss=1.56]   \n",
      "Epoch 80: 100%|██████████| 938/938 [00:02<00:00, 401.54batch/s, accuracy=37.5%, loss=1.52]   \n",
      "Epoch 81: 100%|██████████| 938/938 [00:02<00:00, 397.01batch/s, accuracy=43.75%, loss=1.48]  \n",
      "Epoch 82: 100%|██████████| 938/938 [00:02<00:00, 391.76batch/s, accuracy=46.875%, loss=1.48] \n",
      "Epoch 83: 100%|██████████| 938/938 [00:02<00:00, 388.96batch/s, accuracy=37.5%, loss=1.46]   \n",
      "Epoch 84: 100%|██████████| 938/938 [00:02<00:00, 405.43batch/s, accuracy=28.125%, loss=1.51] \n",
      "Epoch 85: 100%|██████████| 938/938 [00:02<00:00, 384.85batch/s, accuracy=37.5%, loss=1.47]   \n",
      "Epoch 86: 100%|██████████| 938/938 [00:02<00:00, 389.83batch/s, accuracy=31.25%, loss=1.55]  \n",
      "Epoch 87: 100%|██████████| 938/938 [00:02<00:00, 400.33batch/s, accuracy=28.125%, loss=1.53] \n",
      "Epoch 88: 100%|██████████| 938/938 [00:02<00:00, 409.91batch/s, accuracy=43.75%, loss=1.49]  \n",
      "Epoch 89: 100%|██████████| 938/938 [00:02<00:00, 417.23batch/s, accuracy=18.75%, loss=1.55]  \n",
      "Epoch 90: 100%|██████████| 938/938 [00:02<00:00, 393.60batch/s, accuracy=18.75%, loss=1.56]  \n",
      "Epoch 91: 100%|██████████| 938/938 [00:02<00:00, 395.07batch/s, accuracy=28.125%, loss=1.5]  \n",
      "Epoch 92: 100%|██████████| 938/938 [00:02<00:00, 419.00batch/s, accuracy=37.5%, loss=1.54]   \n",
      "Epoch 93: 100%|██████████| 938/938 [00:02<00:00, 414.66batch/s, accuracy=34.375%, loss=1.49] \n",
      "Epoch 94: 100%|██████████| 938/938 [00:02<00:00, 395.66batch/s, accuracy=34.375%, loss=1.51] \n",
      "Epoch 95: 100%|██████████| 938/938 [00:02<00:00, 395.73batch/s, accuracy=34.375%, loss=1.53] \n",
      "Epoch 96: 100%|██████████| 938/938 [00:02<00:00, 366.16batch/s, accuracy=25.0%, loss=1.54]   \n",
      "Epoch 97: 100%|██████████| 938/938 [00:02<00:00, 365.73batch/s, accuracy=50.0%, loss=1.47]   \n",
      "Epoch 98: 100%|██████████| 938/938 [00:02<00:00, 368.53batch/s, accuracy=21.875%, loss=1.57] \n",
      "Epoch 99: 100%|██████████| 938/938 [00:02<00:00, 365.83batch/s, accuracy=34.375%, loss=1.53] \n"
     ]
    }
   ],
   "source": [
    "dfr.train()"
   ]
  },
  {
   "cell_type": "code",
   "execution_count": 40,
   "metadata": {},
   "outputs": [
    {
     "name": "stdout",
     "output_type": "stream",
     "text": [
      "Group (0, 0) Test Accuracy: 65.01182033096927\n",
      "Group (0, 1) Test Accuracy: 47.990543735224584\n",
      "Group (0, 2) Test Accuracy: 52.009456264775416\n",
      "Group (0, 3) Test Accuracy: 54.60992907801418\n",
      "Group (0, 4) Test Accuracy: 9.456264775413711\n",
      "Group (1, 0) Test Accuracy: 52.07823960880196\n",
      "Group (1, 1) Test Accuracy: 71.39364303178485\n",
      "Group (1, 2) Test Accuracy: 35.049019607843135\n",
      "Group (1, 3) Test Accuracy: 20.58823529411765\n",
      "Group (1, 4) Test Accuracy: 0.9803921568627451\n",
      "Group (2, 0) Test Accuracy: 55.733333333333334\n",
      "Group (2, 1) Test Accuracy: 48.53333333333333\n",
      "Group (2, 2) Test Accuracy: 40.53333333333333\n",
      "Group (2, 3) Test Accuracy: 24.8\n",
      "Group (2, 4) Test Accuracy: 48.663101604278076\n",
      "Group (3, 0) Test Accuracy: 46.733668341708544\n",
      "Group (3, 1) Test Accuracy: 36.02015113350126\n",
      "Group (3, 2) Test Accuracy: 39.7984886649874\n",
      "Group (3, 3) Test Accuracy: 21.15869017632242\n",
      "Group (3, 4) Test Accuracy: 8.816120906801007\n",
      "Group (4, 0) Test Accuracy: 23.67758186397985\n",
      "Group (4, 1) Test Accuracy: 55.16372795969773\n",
      "Group (4, 2) Test Accuracy: 38.79093198992443\n",
      "Group (4, 3) Test Accuracy: 53.03030303030303\n",
      "Group (4, 4) Test Accuracy: 0.0\n"
     ]
    },
    {
     "data": {
      "text/plain": [
       "{(0, 0): 65.01182033096927,\n",
       " (0, 1): 47.990543735224584,\n",
       " (0, 2): 52.009456264775416,\n",
       " (0, 3): 54.60992907801418,\n",
       " (0, 4): 9.456264775413711,\n",
       " (1, 0): 52.07823960880196,\n",
       " (1, 1): 71.39364303178485,\n",
       " (1, 2): 35.049019607843135,\n",
       " (1, 3): 20.58823529411765,\n",
       " (1, 4): 0.9803921568627451,\n",
       " (2, 0): 55.733333333333334,\n",
       " (2, 1): 48.53333333333333,\n",
       " (2, 2): 40.53333333333333,\n",
       " (2, 3): 24.8,\n",
       " (2, 4): 48.663101604278076,\n",
       " (3, 0): 46.733668341708544,\n",
       " (3, 1): 36.02015113350126,\n",
       " (3, 2): 39.7984886649874,\n",
       " (3, 3): 21.15869017632242,\n",
       " (3, 4): 8.816120906801007,\n",
       " (4, 0): 23.67758186397985,\n",
       " (4, 1): 55.16372795969773,\n",
       " (4, 2): 38.79093198992443,\n",
       " (4, 3): 53.03030303030303,\n",
       " (4, 4): 0.0}"
      ]
     },
     "execution_count": 40,
     "metadata": {},
     "output_type": "execute_result"
    }
   ],
   "source": [
    "from spuco.evaluate import Evaluator\n",
    "\n",
    "evaluator = Evaluator(\n",
    "    testset=testset,\n",
    "    group_partition=testset.group_partition,\n",
    "    group_weights=trainset.group_weights,\n",
    "    batch_size=64,\n",
    "    model=model,\n",
    "    device=device,\n",
    "    verbose=True\n",
    ")\n",
    "evaluator.evaluate()"
   ]
  },
  {
   "cell_type": "code",
   "execution_count": 36,
   "metadata": {},
   "outputs": [
    {
     "data": {
      "text/plain": [
       "((0, 3), 0.0)"
      ]
     },
     "execution_count": 36,
     "metadata": {},
     "output_type": "execute_result"
    }
   ],
   "source": [
    "evaluator.worst_group_accuracy"
   ]
  }
 ],
 "metadata": {
  "kernelspec": {
   "display_name": "clip",
   "language": "python",
   "name": "python3"
  },
  "language_info": {
   "codemirror_mode": {
    "name": "ipython",
    "version": 3
   },
   "file_extension": ".py",
   "mimetype": "text/x-python",
   "name": "python",
   "nbconvert_exporter": "python",
   "pygments_lexer": "ipython3",
   "version": "3.10.9"
  },
  "orig_nbformat": 4
 },
 "nbformat": 4,
 "nbformat_minor": 2
}
