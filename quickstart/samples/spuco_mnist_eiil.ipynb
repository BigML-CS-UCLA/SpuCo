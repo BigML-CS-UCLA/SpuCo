{
 "cells": [
  {
   "cell_type": "code",
   "execution_count": 1,
   "metadata": {},
   "outputs": [
    {
     "name": "stdout",
     "output_type": "stream",
     "text": [
      "Processing /home/sjoshi/spuco\n",
      "  Installing build dependencies ... \u001b[?25ldone\n",
      "\u001b[?25h  Getting requirements to build wheel ... \u001b[?25ldone\n",
      "\u001b[?25h  Installing backend dependencies ... \u001b[?25ldone\n",
      "\u001b[?25h  Preparing metadata (pyproject.toml) ... \u001b[?25ldone\n",
      "\u001b[?25hRequirement already satisfied: matplotlib>=3.7.1 in /home/sjoshi/anaconda3/envs/clip/lib/python3.10/site-packages (from spuco==0.0.1) (3.7.1)\n",
      "Requirement already satisfied: numpy>=1.23.5 in /home/sjoshi/anaconda3/envs/clip/lib/python3.10/site-packages (from spuco==0.0.1) (1.23.5)\n",
      "Requirement already satisfied: setuptools>=61.0 in /home/sjoshi/anaconda3/envs/clip/lib/python3.10/site-packages (from spuco==0.0.1) (65.6.3)\n",
      "Requirement already satisfied: torch>=2.0.0 in /home/sjoshi/anaconda3/envs/clip/lib/python3.10/site-packages (from spuco==0.0.1) (2.0.0)\n",
      "Requirement already satisfied: torchvision>=0.15.1 in /home/sjoshi/anaconda3/envs/clip/lib/python3.10/site-packages (from spuco==0.0.1) (0.15.1)\n",
      "Requirement already satisfied: tqdm>=4.65.0 in /home/sjoshi/anaconda3/envs/clip/lib/python3.10/site-packages (from spuco==0.0.1) (4.65.0)\n",
      "Requirement already satisfied: contourpy>=1.0.1 in /home/sjoshi/anaconda3/envs/clip/lib/python3.10/site-packages (from matplotlib>=3.7.1->spuco==0.0.1) (1.0.5)\n",
      "Requirement already satisfied: cycler>=0.10 in /home/sjoshi/anaconda3/envs/clip/lib/python3.10/site-packages (from matplotlib>=3.7.1->spuco==0.0.1) (0.11.0)\n",
      "Requirement already satisfied: fonttools>=4.22.0 in /home/sjoshi/anaconda3/envs/clip/lib/python3.10/site-packages (from matplotlib>=3.7.1->spuco==0.0.1) (4.25.0)\n",
      "Requirement already satisfied: kiwisolver>=1.0.1 in /home/sjoshi/anaconda3/envs/clip/lib/python3.10/site-packages (from matplotlib>=3.7.1->spuco==0.0.1) (1.4.4)\n",
      "Requirement already satisfied: packaging>=20.0 in /home/sjoshi/anaconda3/envs/clip/lib/python3.10/site-packages (from matplotlib>=3.7.1->spuco==0.0.1) (22.0)\n",
      "Requirement already satisfied: pillow>=6.2.0 in /home/sjoshi/anaconda3/envs/clip/lib/python3.10/site-packages (from matplotlib>=3.7.1->spuco==0.0.1) (9.4.0)\n",
      "Requirement already satisfied: pyparsing>=2.3.1 in /home/sjoshi/anaconda3/envs/clip/lib/python3.10/site-packages (from matplotlib>=3.7.1->spuco==0.0.1) (3.0.9)\n",
      "Requirement already satisfied: python-dateutil>=2.7 in /home/sjoshi/anaconda3/envs/clip/lib/python3.10/site-packages (from matplotlib>=3.7.1->spuco==0.0.1) (2.8.2)\n",
      "Requirement already satisfied: filelock in /home/sjoshi/anaconda3/envs/clip/lib/python3.10/site-packages (from torch>=2.0.0->spuco==0.0.1) (3.9.0)\n",
      "Requirement already satisfied: typing-extensions in /home/sjoshi/anaconda3/envs/clip/lib/python3.10/site-packages (from torch>=2.0.0->spuco==0.0.1) (4.4.0)\n",
      "Requirement already satisfied: sympy in /home/sjoshi/anaconda3/envs/clip/lib/python3.10/site-packages (from torch>=2.0.0->spuco==0.0.1) (1.11.1)\n",
      "Requirement already satisfied: networkx in /home/sjoshi/anaconda3/envs/clip/lib/python3.10/site-packages (from torch>=2.0.0->spuco==0.0.1) (3.1)\n",
      "Requirement already satisfied: jinja2 in /home/sjoshi/anaconda3/envs/clip/lib/python3.10/site-packages (from torch>=2.0.0->spuco==0.0.1) (3.1.2)\n",
      "Requirement already satisfied: nvidia-cuda-nvrtc-cu11==11.7.99 in /home/sjoshi/anaconda3/envs/clip/lib/python3.10/site-packages (from torch>=2.0.0->spuco==0.0.1) (11.7.99)\n",
      "Requirement already satisfied: nvidia-cuda-runtime-cu11==11.7.99 in /home/sjoshi/anaconda3/envs/clip/lib/python3.10/site-packages (from torch>=2.0.0->spuco==0.0.1) (11.7.99)\n",
      "Requirement already satisfied: nvidia-cuda-cupti-cu11==11.7.101 in /home/sjoshi/anaconda3/envs/clip/lib/python3.10/site-packages (from torch>=2.0.0->spuco==0.0.1) (11.7.101)\n",
      "Requirement already satisfied: nvidia-cudnn-cu11==8.5.0.96 in /home/sjoshi/anaconda3/envs/clip/lib/python3.10/site-packages (from torch>=2.0.0->spuco==0.0.1) (8.5.0.96)\n",
      "Requirement already satisfied: nvidia-cublas-cu11==11.10.3.66 in /home/sjoshi/anaconda3/envs/clip/lib/python3.10/site-packages (from torch>=2.0.0->spuco==0.0.1) (11.10.3.66)\n",
      "Requirement already satisfied: nvidia-cufft-cu11==10.9.0.58 in /home/sjoshi/anaconda3/envs/clip/lib/python3.10/site-packages (from torch>=2.0.0->spuco==0.0.1) (10.9.0.58)\n",
      "Requirement already satisfied: nvidia-curand-cu11==10.2.10.91 in /home/sjoshi/anaconda3/envs/clip/lib/python3.10/site-packages (from torch>=2.0.0->spuco==0.0.1) (10.2.10.91)\n",
      "Requirement already satisfied: nvidia-cusolver-cu11==11.4.0.1 in /home/sjoshi/anaconda3/envs/clip/lib/python3.10/site-packages (from torch>=2.0.0->spuco==0.0.1) (11.4.0.1)\n",
      "Requirement already satisfied: nvidia-cusparse-cu11==11.7.4.91 in /home/sjoshi/anaconda3/envs/clip/lib/python3.10/site-packages (from torch>=2.0.0->spuco==0.0.1) (11.7.4.91)\n",
      "Requirement already satisfied: nvidia-nccl-cu11==2.14.3 in /home/sjoshi/anaconda3/envs/clip/lib/python3.10/site-packages (from torch>=2.0.0->spuco==0.0.1) (2.14.3)\n",
      "Requirement already satisfied: nvidia-nvtx-cu11==11.7.91 in /home/sjoshi/anaconda3/envs/clip/lib/python3.10/site-packages (from torch>=2.0.0->spuco==0.0.1) (11.7.91)\n",
      "Requirement already satisfied: triton==2.0.0 in /home/sjoshi/anaconda3/envs/clip/lib/python3.10/site-packages (from torch>=2.0.0->spuco==0.0.1) (2.0.0)\n",
      "Requirement already satisfied: wheel in /home/sjoshi/anaconda3/envs/clip/lib/python3.10/site-packages (from nvidia-cublas-cu11==11.10.3.66->torch>=2.0.0->spuco==0.0.1) (0.38.4)\n",
      "Requirement already satisfied: cmake in /home/sjoshi/anaconda3/envs/clip/lib/python3.10/site-packages (from triton==2.0.0->torch>=2.0.0->spuco==0.0.1) (3.26.3)\n",
      "Requirement already satisfied: lit in /home/sjoshi/anaconda3/envs/clip/lib/python3.10/site-packages (from triton==2.0.0->torch>=2.0.0->spuco==0.0.1) (16.0.1)\n",
      "Requirement already satisfied: requests in /home/sjoshi/anaconda3/envs/clip/lib/python3.10/site-packages (from torchvision>=0.15.1->spuco==0.0.1) (2.28.1)\n",
      "Requirement already satisfied: six>=1.5 in /home/sjoshi/anaconda3/envs/clip/lib/python3.10/site-packages (from python-dateutil>=2.7->matplotlib>=3.7.1->spuco==0.0.1) (1.16.0)\n",
      "Requirement already satisfied: MarkupSafe>=2.0 in /home/sjoshi/anaconda3/envs/clip/lib/python3.10/site-packages (from jinja2->torch>=2.0.0->spuco==0.0.1) (2.1.2)\n",
      "Requirement already satisfied: charset-normalizer<3,>=2 in /home/sjoshi/anaconda3/envs/clip/lib/python3.10/site-packages (from requests->torchvision>=0.15.1->spuco==0.0.1) (2.0.4)\n",
      "Requirement already satisfied: idna<4,>=2.5 in /home/sjoshi/anaconda3/envs/clip/lib/python3.10/site-packages (from requests->torchvision>=0.15.1->spuco==0.0.1) (3.4)\n",
      "Requirement already satisfied: urllib3<1.27,>=1.21.1 in /home/sjoshi/anaconda3/envs/clip/lib/python3.10/site-packages (from requests->torchvision>=0.15.1->spuco==0.0.1) (1.26.14)\n",
      "Requirement already satisfied: certifi>=2017.4.17 in /home/sjoshi/anaconda3/envs/clip/lib/python3.10/site-packages (from requests->torchvision>=0.15.1->spuco==0.0.1) (2022.12.7)\n",
      "Requirement already satisfied: mpmath>=0.19 in /home/sjoshi/anaconda3/envs/clip/lib/python3.10/site-packages (from sympy->torch>=2.0.0->spuco==0.0.1) (1.3.0)\n",
      "Building wheels for collected packages: spuco\n",
      "  Building wheel for spuco (pyproject.toml) ... \u001b[?25ldone\n",
      "\u001b[?25h  Created wheel for spuco: filename=spuco-0.0.1-py3-none-any.whl size=49799 sha256=0a5a7eff6a19037efc0c8c19ed33e6e8309b69d5e61293d8a8c69eca263ac62d\n",
      "  Stored in directory: /tmp/pip-ephem-wheel-cache-vxgkv0x3/wheels/ef/5d/43/a265894b1d52121a51705a208277e8d9a9670e95fa1a2e7ae6\n",
      "Successfully built spuco\n",
      "Installing collected packages: spuco\n",
      "  Attempting uninstall: spuco\n",
      "    Found existing installation: spuco 0.0.1\n",
      "    Uninstalling spuco-0.0.1:\n",
      "      Successfully uninstalled spuco-0.0.1\n",
      "Successfully installed spuco-0.0.1\n",
      "Note: you may need to restart the kernel to use updated packages.\n"
     ]
    }
   ],
   "source": [
    "%pip install ../.."
   ]
  },
  {
   "cell_type": "code",
   "execution_count": 2,
   "metadata": {},
   "outputs": [],
   "source": [
    "import torch \n",
    "\n",
    "device = torch.device(\"cuda:7\")"
   ]
  },
  {
   "cell_type": "code",
   "execution_count": 3,
   "metadata": {},
   "outputs": [],
   "source": [
    "from spuco.datasets import SpuCoMNIST, SpuriousFeatureDifficulty\n",
    "import torchvision.transforms as T\n",
    "\n",
    "classes = [[0, 1], [2, 3], [4, 5], [6, 7], [8, 9]]\n",
    "difficulty = SpuriousFeatureDifficulty.MAGNITUDE_EASY\n",
    "\n",
    "trainset = SpuCoMNIST(\n",
    "    root=\"/data/mnist/\",\n",
    "    spurious_feature_difficulty=difficulty,\n",
    "    spurious_correlation_strength=0.995,\n",
    "    classes=classes,\n",
    "    split="train"\n",
    ")\n",
    "trainset.initialize()\n",
    "\n",
    "testset = SpuCoMNIST(\n",
    "    root=\"/data/mnist/\",\n",
    "    spurious_feature_difficulty=difficulty,\n",
    "    classes=classes,\n",
    "    split="test"\n",
    ")\n",
    "testset.initialize()"
   ]
  },
  {
   "cell_type": "code",
   "execution_count": 4,
   "metadata": {},
   "outputs": [
    {
     "data": {
      "image/png": "iVBORw0KGgoAAAANSUhEUgAAABwAAAAcCAIAAAD9b0jDAAACAklEQVR4nO2Vz6spYRjHX3fCJRacoclOXP4AyY9m50+YlRRXWVoqFjYWlLLQuXt/gORPsHbKQqSUjh1p/FghjPc7dzF1U8YcnHO7m/v0Lqbn+3w/PfW8z7w6mXx9fPsLzP/Qu+OH1/vr9VUGiCyfJelnKmU0GNRL5TsOwzDpdFoURQAAFouF8uHxeFTrPybG4/FaraZQ2u12LBZzu93dbhdAp9N5BprNZimlAJbLZSAQ0Ol0St5isQCglIbD4cegFotlPB4D2G63oVDoUjIYDKPRCEAkErk2ag3KarX6fD5CSL1e7769XUrH02k4HD4zfZZlCSG73a7RaGiUPQYVBIEQ0mw236fTr4GyLy+ZTIYQ0uv1rtXvRiPP8w9D/X6/y+UihGw2m2uVYRiXy3U4HPb7vYr51uij0ahyN00m07VqNpsBDAYDVe+Tu59KpQgh1WpVXb7VqV6vn0wmqp1yHDefzwFwHPdYpydJopSqSjzPcxxHKZXlG++GxkYp6+T1ei+TTqez3+9LkpRMJm8ZtaClUglAoVD4k2EYRvm5zGYzDaMWVBAEANPp1GazKZlEIgFgtVoFg8EnoXa7fblcAqhUKg6HI5/Pr9drAMViUcP1AVQmJBgMHo9HAKIons9nAK1Wi2GYT0FlQnK5nNIggHK5zLLshxbdjUvxqfjXr+n98Ru2buGsOHvwugAAAABJRU5ErkJggg==",
      "text/plain": [
       "<PIL.Image.Image image mode=RGB size=28x28>"
      ]
     },
     "execution_count": 4,
     "metadata": {},
     "output_type": "execute_result"
    }
   ],
   "source": [
    "T.ToPILImage()(trainset[1000][0]).resize((28,28))"
   ]
  },
  {
   "cell_type": "code",
   "execution_count": 17,
   "metadata": {},
   "outputs": [
    {
     "name": "stderr",
     "output_type": "stream",
     "text": [
      "Epoch 0: 100%|██████████| 938/938 [00:03<00:00, 300.68batch/s, accuracy=81.25%, loss=1.44]  \n"
     ]
    }
   ],
   "source": [
    "from spuco.group_inference import JTTInference\n",
    "from spuco.models import model_factory \n",
    "from spuco.utils import Trainer\n",
    "from torch.optim import SGD\n",
    "\n",
    "model = model_factory(\"mlp\", trainset[0][0].shape, trainset.num_classes).to(device)\n",
    "trainer = Trainer(\n",
    "    trainset=trainset,\n",
    "    model=model,\n",
    "    batch_size=64,\n",
    "    optimizer=SGD(model.parameters(), lr=1e-5, momentum=0.9, nesterov=True),\n",
    "    device=device,\n",
    "    verbose=True\n",
    ")\n",
    "trainer.train(1)"
   ]
  },
  {
   "cell_type": "code",
   "execution_count": 18,
   "metadata": {},
   "outputs": [
    {
     "name": "stderr",
     "output_type": "stream",
     "text": [
      "Getting Trainset Outputs: 100%|██████████| 938/938 [00:00<00:00, 1277.66batch/s]\n"
     ]
    }
   ],
   "source": [
    "from spuco.group_inference import EIIL\n",
    "from spuco.utils import get_labels\n",
    "\n",
    "logits = trainer.get_trainset_outputs()\n",
    "eiil = EIIL(\n",
    "    logits=logits,\n",
    "    labels=get_labels(trainset),\n",
    "    num_steps=100, \n",
    "    lr=1e-1,\n",
    "    device=device,\n",
    "    verbose=True\n",
    ")"
   ]
  },
  {
   "cell_type": "code",
   "execution_count": 19,
   "metadata": {},
   "outputs": [
    {
     "name": "stderr",
     "output_type": "stream",
     "text": [
      "EIIL Inferring Groups: 100%|██████████| 100/100 [00:00<00:00, 563.11it/s]\n"
     ]
    }
   ],
   "source": [
    "group_partition = eiil.infer_groups()"
   ]
  },
  {
   "cell_type": "code",
   "execution_count": 20,
   "metadata": {},
   "outputs": [
    {
     "name": "stdout",
     "output_type": "stream",
     "text": [
      "(0, 0) 12586\n",
      "(0, 1) 79\n",
      "(1, 0) 12053\n",
      "(1, 1) 36\n",
      "(2, 0) 11212\n",
      "(2, 1) 51\n",
      "(3, 0) 12132\n",
      "(3, 1) 51\n",
      "(4, 0) 11761\n",
      "(4, 1) 39\n"
     ]
    }
   ],
   "source": [
    "for key in sorted(group_partition.keys()):\n",
    "    print(key, len(group_partition[key]))"
   ]
  },
  {
   "cell_type": "code",
   "execution_count": 21,
   "metadata": {},
   "outputs": [
    {
     "name": "stdout",
     "output_type": "stream",
     "text": [
      "Group (0, 0) Test Accuracy: 36.88225011918004\n",
      "Group (0, 1) Test Accuracy: 0.0\n",
      "Group (1, 0) Test Accuracy: 99.88384634530823\n",
      "Group (1, 1) Test Accuracy: 0.0\n",
      "Group (2, 0) Test Accuracy: 97.44916161255797\n",
      "Group (2, 1) Test Accuracy: 0.0\n",
      "Group (3, 0) Test Accuracy: 99.85987471150676\n",
      "Group (3, 1) Test Accuracy: 1.9607843137254901\n",
      "Group (4, 0) Test Accuracy: 99.74491964968965\n",
      "Group (4, 1) Test Accuracy: 0.0\n"
     ]
    },
    {
     "data": {
      "text/plain": [
       "{(0, 0): 36.88225011918004,\n",
       " (0, 1): 0.0,\n",
       " (1, 0): 99.88384634530823,\n",
       " (1, 1): 0.0,\n",
       " (2, 0): 97.44916161255797,\n",
       " (2, 1): 0.0,\n",
       " (3, 0): 99.85987471150676,\n",
       " (3, 1): 1.9607843137254901,\n",
       " (4, 0): 99.74491964968965,\n",
       " (4, 1): 0.0}"
      ]
     },
     "execution_count": 21,
     "metadata": {},
     "output_type": "execute_result"
    }
   ],
   "source": [
    "from spuco.evaluate import Evaluator\n",
    "\n",
    "evaluator = Evaluator(\n",
    "    testset=trainset,\n",
    "    group_partition=group_partition,\n",
    "    group_weights=trainset.group_weights,\n",
    "    batch_size=64,\n",
    "    model=model,\n",
    "    device=device,\n",
    "    verbose=True\n",
    ")\n",
    "evaluator.evaluate()"
   ]
  },
  {
   "cell_type": "code",
   "execution_count": 22,
   "metadata": {},
   "outputs": [],
   "source": [
    "from torch.optim import SGD\n",
    "from spuco.invariant_train import GroupDRO\n",
    "from spuco.models import model_factory \n",
    "from spuco.utils import GroupLabeledDataset\n",
    "\n",
    "group_labeled_trainset = GroupLabeledDataset(trainset, group_partition)\n",
    "model = model_factory(\"mlp\", trainset[0][0].shape, trainset.num_classes).to(device)\n",
    "\n",
    "group_dro = GroupDRO(\n",
    "    model=model,\n",
    "    num_epochs=1,\n",
    "    trainset=group_labeled_trainset,\n",
    "    batch_size=64,\n",
    "    optimizer=SGD(model.parameters(), lr=1e-3, momentum=0.9, nesterov=True),\n",
    "    device=device,\n",
    "    verbose=True\n",
    ")"
   ]
  },
  {
   "cell_type": "code",
   "execution_count": 23,
   "metadata": {},
   "outputs": [
    {
     "name": "stderr",
     "output_type": "stream",
     "text": [
      "Epoch 0: 100%|██████████| 938/938 [00:16<00:00, 57.66batch/s, accuracy=75.0%, loss=0.813]   \n"
     ]
    }
   ],
   "source": [
    "group_dro.train()"
   ]
  },
  {
   "cell_type": "code",
   "execution_count": 24,
   "metadata": {},
   "outputs": [
    {
     "name": "stdout",
     "output_type": "stream",
     "text": [
      "Group (0, 0) Test Accuracy: 81.32387706855792\n",
      "Group (0, 1) Test Accuracy: 52.24586288416076\n",
      "Group (0, 2) Test Accuracy: 87.47044917257683\n",
      "Group (0, 3) Test Accuracy: 73.28605200945627\n",
      "Group (0, 4) Test Accuracy: 21.27659574468085\n",
      "Group (1, 0) Test Accuracy: 0.0\n",
      "Group (1, 1) Test Accuracy: 94.62102689486552\n",
      "Group (1, 2) Test Accuracy: 0.0\n",
      "Group (1, 3) Test Accuracy: 71.81372549019608\n",
      "Group (1, 4) Test Accuracy: 68.38235294117646\n",
      "Group (2, 0) Test Accuracy: 78.66666666666667\n",
      "Group (2, 1) Test Accuracy: 51.2\n",
      "Group (2, 2) Test Accuracy: 71.46666666666667\n",
      "Group (2, 3) Test Accuracy: 5.333333333333333\n",
      "Group (2, 4) Test Accuracy: 28.609625668449198\n",
      "Group (3, 0) Test Accuracy: 86.93467336683418\n",
      "Group (3, 1) Test Accuracy: 56.423173803526446\n",
      "Group (3, 2) Test Accuracy: 0.0\n",
      "Group (3, 3) Test Accuracy: 95.46599496221663\n",
      "Group (3, 4) Test Accuracy: 28.211586901763223\n",
      "Group (4, 0) Test Accuracy: 0.0\n",
      "Group (4, 1) Test Accuracy: 21.410579345088163\n",
      "Group (4, 2) Test Accuracy: 59.949622166246854\n",
      "Group (4, 3) Test Accuracy: 0.5050505050505051\n",
      "Group (4, 4) Test Accuracy: 87.37373737373737\n"
     ]
    },
    {
     "data": {
      "text/plain": [
       "{(0, 0): 81.32387706855792,\n",
       " (0, 1): 52.24586288416076,\n",
       " (0, 2): 87.47044917257683,\n",
       " (0, 3): 73.28605200945627,\n",
       " (0, 4): 21.27659574468085,\n",
       " (1, 0): 0.0,\n",
       " (1, 1): 94.62102689486552,\n",
       " (1, 2): 0.0,\n",
       " (1, 3): 71.81372549019608,\n",
       " (1, 4): 68.38235294117646,\n",
       " (2, 0): 78.66666666666667,\n",
       " (2, 1): 51.2,\n",
       " (2, 2): 71.46666666666667,\n",
       " (2, 3): 5.333333333333333,\n",
       " (2, 4): 28.609625668449198,\n",
       " (3, 0): 86.93467336683418,\n",
       " (3, 1): 56.423173803526446,\n",
       " (3, 2): 0.0,\n",
       " (3, 3): 95.46599496221663,\n",
       " (3, 4): 28.211586901763223,\n",
       " (4, 0): 0.0,\n",
       " (4, 1): 21.410579345088163,\n",
       " (4, 2): 59.949622166246854,\n",
       " (4, 3): 0.5050505050505051,\n",
       " (4, 4): 87.37373737373737}"
      ]
     },
     "execution_count": 24,
     "metadata": {},
     "output_type": "execute_result"
    }
   ],
   "source": [
    "from spuco.evaluate import Evaluator\n",
    "\n",
    "evaluator = Evaluator(\n",
    "    testset=testset,\n",
    "    group_partition=testset.group_partition,\n",
    "    group_weights=trainset.group_weights,\n",
    "    batch_size=64,\n",
    "    model=model,\n",
    "    device=device,\n",
    "    verbose=True\n",
    ")\n",
    "evaluator.evaluate()"
   ]
  },
  {
   "cell_type": "code",
   "execution_count": 25,
   "metadata": {},
   "outputs": [
    {
     "data": {
      "text/plain": [
       "((1, 0), 0.0)"
      ]
     },
     "execution_count": 25,
     "metadata": {},
     "output_type": "execute_result"
    }
   ],
   "source": [
    "evaluator.worst_group_accuracy"
   ]
  },
  {
   "cell_type": "code",
   "execution_count": 26,
   "metadata": {},
   "outputs": [
    {
     "data": {
      "text/plain": [
       "85.97737327333878"
      ]
     },
     "execution_count": 26,
     "metadata": {},
     "output_type": "execute_result"
    }
   ],
   "source": [
    "evaluator.average_accuracy"
   ]
  },
  {
   "cell_type": "code",
   "execution_count": 27,
   "metadata": {},
   "outputs": [
    {
     "data": {
      "text/plain": [
       "44.94"
      ]
     },
     "execution_count": 27,
     "metadata": {},
     "output_type": "execute_result"
    }
   ],
   "source": [
    "evaluator.evaluate_spurious_task()"
   ]
  }
 ],
 "metadata": {
  "kernelspec": {
   "display_name": "clip",
   "language": "python",
   "name": "python3"
  },
  "language_info": {
   "codemirror_mode": {
    "name": "ipython",
    "version": 3
   },
   "file_extension": ".py",
   "mimetype": "text/x-python",
   "name": "python",
   "nbconvert_exporter": "python",
   "pygments_lexer": "ipython3",
   "version": "3.10.9"
  },
  "orig_nbformat": 4
 },
 "nbformat": 4,
 "nbformat_minor": 2
}
