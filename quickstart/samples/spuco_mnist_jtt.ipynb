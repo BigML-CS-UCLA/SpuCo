{
 "cells": [
  {
   "cell_type": "code",
   "execution_count": 1,
   "metadata": {},
   "outputs": [
    {
     "name": "stdout",
     "output_type": "stream",
     "text": [
      "Processing /home/sjoshi/spuco\n",
      "  Installing build dependencies ... \u001b[?25ldone\n",
      "\u001b[?25h  Getting requirements to build wheel ... \u001b[?25ldone\n",
      "\u001b[?25h  Installing backend dependencies ... \u001b[?25ldone\n",
      "\u001b[?25h  Preparing metadata (pyproject.toml) ... \u001b[?25ldone\n",
      "\u001b[?25hRequirement already satisfied: matplotlib>=3.7.1 in /home/sjoshi/anaconda3/envs/clip/lib/python3.10/site-packages (from spuco==0.0.1) (3.7.1)\n",
      "Requirement already satisfied: numpy>=1.23.5 in /home/sjoshi/anaconda3/envs/clip/lib/python3.10/site-packages (from spuco==0.0.1) (1.23.5)\n",
      "Requirement already satisfied: setuptools>=61.0 in /home/sjoshi/anaconda3/envs/clip/lib/python3.10/site-packages (from spuco==0.0.1) (65.6.3)\n",
      "Requirement already satisfied: torch>=2.0.0 in /home/sjoshi/anaconda3/envs/clip/lib/python3.10/site-packages (from spuco==0.0.1) (2.0.0)\n",
      "Requirement already satisfied: torchvision>=0.15.1 in /home/sjoshi/anaconda3/envs/clip/lib/python3.10/site-packages (from spuco==0.0.1) (0.15.1)\n",
      "Requirement already satisfied: tqdm>=4.65.0 in /home/sjoshi/anaconda3/envs/clip/lib/python3.10/site-packages (from spuco==0.0.1) (4.65.0)\n",
      "Requirement already satisfied: contourpy>=1.0.1 in /home/sjoshi/anaconda3/envs/clip/lib/python3.10/site-packages (from matplotlib>=3.7.1->spuco==0.0.1) (1.0.5)\n",
      "Requirement already satisfied: cycler>=0.10 in /home/sjoshi/anaconda3/envs/clip/lib/python3.10/site-packages (from matplotlib>=3.7.1->spuco==0.0.1) (0.11.0)\n",
      "Requirement already satisfied: fonttools>=4.22.0 in /home/sjoshi/anaconda3/envs/clip/lib/python3.10/site-packages (from matplotlib>=3.7.1->spuco==0.0.1) (4.25.0)\n",
      "Requirement already satisfied: kiwisolver>=1.0.1 in /home/sjoshi/anaconda3/envs/clip/lib/python3.10/site-packages (from matplotlib>=3.7.1->spuco==0.0.1) (1.4.4)\n",
      "Requirement already satisfied: packaging>=20.0 in /home/sjoshi/anaconda3/envs/clip/lib/python3.10/site-packages (from matplotlib>=3.7.1->spuco==0.0.1) (22.0)\n",
      "Requirement already satisfied: pillow>=6.2.0 in /home/sjoshi/anaconda3/envs/clip/lib/python3.10/site-packages (from matplotlib>=3.7.1->spuco==0.0.1) (9.4.0)\n",
      "Requirement already satisfied: pyparsing>=2.3.1 in /home/sjoshi/anaconda3/envs/clip/lib/python3.10/site-packages (from matplotlib>=3.7.1->spuco==0.0.1) (3.0.9)\n",
      "Requirement already satisfied: python-dateutil>=2.7 in /home/sjoshi/anaconda3/envs/clip/lib/python3.10/site-packages (from matplotlib>=3.7.1->spuco==0.0.1) (2.8.2)\n",
      "Requirement already satisfied: filelock in /home/sjoshi/anaconda3/envs/clip/lib/python3.10/site-packages (from torch>=2.0.0->spuco==0.0.1) (3.9.0)\n",
      "Requirement already satisfied: typing-extensions in /home/sjoshi/anaconda3/envs/clip/lib/python3.10/site-packages (from torch>=2.0.0->spuco==0.0.1) (4.4.0)\n",
      "Requirement already satisfied: sympy in /home/sjoshi/anaconda3/envs/clip/lib/python3.10/site-packages (from torch>=2.0.0->spuco==0.0.1) (1.11.1)\n",
      "Requirement already satisfied: networkx in /home/sjoshi/anaconda3/envs/clip/lib/python3.10/site-packages (from torch>=2.0.0->spuco==0.0.1) (3.1)\n",
      "Requirement already satisfied: jinja2 in /home/sjoshi/anaconda3/envs/clip/lib/python3.10/site-packages (from torch>=2.0.0->spuco==0.0.1) (3.1.2)\n",
      "Requirement already satisfied: nvidia-cuda-nvrtc-cu11==11.7.99 in /home/sjoshi/anaconda3/envs/clip/lib/python3.10/site-packages (from torch>=2.0.0->spuco==0.0.1) (11.7.99)\n",
      "Requirement already satisfied: nvidia-cuda-runtime-cu11==11.7.99 in /home/sjoshi/anaconda3/envs/clip/lib/python3.10/site-packages (from torch>=2.0.0->spuco==0.0.1) (11.7.99)\n",
      "Requirement already satisfied: nvidia-cuda-cupti-cu11==11.7.101 in /home/sjoshi/anaconda3/envs/clip/lib/python3.10/site-packages (from torch>=2.0.0->spuco==0.0.1) (11.7.101)\n",
      "Requirement already satisfied: nvidia-cudnn-cu11==8.5.0.96 in /home/sjoshi/anaconda3/envs/clip/lib/python3.10/site-packages (from torch>=2.0.0->spuco==0.0.1) (8.5.0.96)\n",
      "Requirement already satisfied: nvidia-cublas-cu11==11.10.3.66 in /home/sjoshi/anaconda3/envs/clip/lib/python3.10/site-packages (from torch>=2.0.0->spuco==0.0.1) (11.10.3.66)\n",
      "Requirement already satisfied: nvidia-cufft-cu11==10.9.0.58 in /home/sjoshi/anaconda3/envs/clip/lib/python3.10/site-packages (from torch>=2.0.0->spuco==0.0.1) (10.9.0.58)\n",
      "Requirement already satisfied: nvidia-curand-cu11==10.2.10.91 in /home/sjoshi/anaconda3/envs/clip/lib/python3.10/site-packages (from torch>=2.0.0->spuco==0.0.1) (10.2.10.91)\n",
      "Requirement already satisfied: nvidia-cusolver-cu11==11.4.0.1 in /home/sjoshi/anaconda3/envs/clip/lib/python3.10/site-packages (from torch>=2.0.0->spuco==0.0.1) (11.4.0.1)\n",
      "Requirement already satisfied: nvidia-cusparse-cu11==11.7.4.91 in /home/sjoshi/anaconda3/envs/clip/lib/python3.10/site-packages (from torch>=2.0.0->spuco==0.0.1) (11.7.4.91)\n",
      "Requirement already satisfied: nvidia-nccl-cu11==2.14.3 in /home/sjoshi/anaconda3/envs/clip/lib/python3.10/site-packages (from torch>=2.0.0->spuco==0.0.1) (2.14.3)\n",
      "Requirement already satisfied: nvidia-nvtx-cu11==11.7.91 in /home/sjoshi/anaconda3/envs/clip/lib/python3.10/site-packages (from torch>=2.0.0->spuco==0.0.1) (11.7.91)\n",
      "Requirement already satisfied: triton==2.0.0 in /home/sjoshi/anaconda3/envs/clip/lib/python3.10/site-packages (from torch>=2.0.0->spuco==0.0.1) (2.0.0)\n",
      "Requirement already satisfied: wheel in /home/sjoshi/anaconda3/envs/clip/lib/python3.10/site-packages (from nvidia-cublas-cu11==11.10.3.66->torch>=2.0.0->spuco==0.0.1) (0.38.4)\n",
      "Requirement already satisfied: cmake in /home/sjoshi/anaconda3/envs/clip/lib/python3.10/site-packages (from triton==2.0.0->torch>=2.0.0->spuco==0.0.1) (3.26.3)\n",
      "Requirement already satisfied: lit in /home/sjoshi/anaconda3/envs/clip/lib/python3.10/site-packages (from triton==2.0.0->torch>=2.0.0->spuco==0.0.1) (16.0.1)\n",
      "Requirement already satisfied: requests in /home/sjoshi/anaconda3/envs/clip/lib/python3.10/site-packages (from torchvision>=0.15.1->spuco==0.0.1) (2.28.1)\n",
      "Requirement already satisfied: six>=1.5 in /home/sjoshi/anaconda3/envs/clip/lib/python3.10/site-packages (from python-dateutil>=2.7->matplotlib>=3.7.1->spuco==0.0.1) (1.16.0)\n",
      "Requirement already satisfied: MarkupSafe>=2.0 in /home/sjoshi/anaconda3/envs/clip/lib/python3.10/site-packages (from jinja2->torch>=2.0.0->spuco==0.0.1) (2.1.2)\n",
      "Requirement already satisfied: charset-normalizer<3,>=2 in /home/sjoshi/anaconda3/envs/clip/lib/python3.10/site-packages (from requests->torchvision>=0.15.1->spuco==0.0.1) (2.0.4)\n",
      "Requirement already satisfied: idna<4,>=2.5 in /home/sjoshi/anaconda3/envs/clip/lib/python3.10/site-packages (from requests->torchvision>=0.15.1->spuco==0.0.1) (3.4)\n",
      "Requirement already satisfied: urllib3<1.27,>=1.21.1 in /home/sjoshi/anaconda3/envs/clip/lib/python3.10/site-packages (from requests->torchvision>=0.15.1->spuco==0.0.1) (1.26.14)\n",
      "Requirement already satisfied: certifi>=2017.4.17 in /home/sjoshi/anaconda3/envs/clip/lib/python3.10/site-packages (from requests->torchvision>=0.15.1->spuco==0.0.1) (2022.12.7)\n",
      "Requirement already satisfied: mpmath>=0.19 in /home/sjoshi/anaconda3/envs/clip/lib/python3.10/site-packages (from sympy->torch>=2.0.0->spuco==0.0.1) (1.3.0)\n",
      "Building wheels for collected packages: spuco\n",
      "  Building wheel for spuco (pyproject.toml) ... \u001b[?25ldone\n",
      "\u001b[?25h  Created wheel for spuco: filename=spuco-0.0.1-py3-none-any.whl size=49869 sha256=d96d8b4646392014b8f6d81c2512c466f03ab6305ff9720aa0e97c1e82cd01da\n",
      "  Stored in directory: /tmp/pip-ephem-wheel-cache-gfmdfufa/wheels/ef/5d/43/a265894b1d52121a51705a208277e8d9a9670e95fa1a2e7ae6\n",
      "Successfully built spuco\n",
      "Installing collected packages: spuco\n",
      "  Attempting uninstall: spuco\n",
      "    Found existing installation: spuco 0.0.1\n",
      "    Uninstalling spuco-0.0.1:\n",
      "      Successfully uninstalled spuco-0.0.1\n",
      "Successfully installed spuco-0.0.1\n",
      "Note: you may need to restart the kernel to use updated packages.\n"
     ]
    }
   ],
   "source": [
    "%pip install ../.."
   ]
  },
  {
   "cell_type": "code",
   "execution_count": 2,
   "metadata": {},
   "outputs": [],
   "source": [
    "import torch \n",
    "\n",
    "device = torch.device(\"cuda:7\")"
   ]
  },
  {
   "cell_type": "code",
   "execution_count": 3,
   "metadata": {},
   "outputs": [],
   "source": [
    "from spuco.datasets import SpuCoMNIST, SpuriousFeatureDifficulty\n",
    "import torchvision.transforms as T\n",
    "\n",
    "classes = [[0, 1], [2, 3], [4, 5], [6, 7], [8, 9]]\n",
    "difficulty = SpuriousFeatureDifficulty.MAGNITUDE_EASY\n",
    "\n",
    "trainset = SpuCoMNIST(\n",
    "    root=\"/data/mnist/\",\n",
    "    spurious_feature_difficulty=difficulty,\n",
    "    spurious_correlation_strength=0.995,\n",
    "    classes=classes,\n",
    "    train=True\n",
    ")\n",
    "trainset.initialize()\n",
    "\n",
    "testset = SpuCoMNIST(\n",
    "    root=\"/data/mnist/\",\n",
    "    spurious_feature_difficulty=difficulty,\n",
    "    classes=classes,\n",
    "    train=False\n",
    ")\n",
    "testset.initialize()\n"
   ]
  },
  {
   "cell_type": "code",
   "execution_count": 4,
   "metadata": {},
   "outputs": [
    {
     "data": {
      "image/png": "[encoded data removed]",
      "text/plain": [
       "<PIL.Image.Image image mode=RGB size=28x28>"
      ]
     },
     "execution_count": 4,
     "metadata": {},
     "output_type": "execute_result"
    }
   ],
   "source": [
    "T.ToPILImage()(trainset[1000][0]).resize((28,28))"
   ]
  },
  {
   "cell_type": "code",
   "execution_count": 5,
   "metadata": {},
   "outputs": [],
   "source": [
    "from spuco.models import model_factory \n",
    "\n",
    "model = model_factory(\"mlp\", trainset[0][0].shape, trainset.num_classes).to(device)"
   ]
  },
  {
   "cell_type": "code",
   "execution_count": 6,
   "metadata": {},
   "outputs": [],
   "source": [
    "from spuco.group_inference import JTTInference\n",
    "from spuco.models import MLP\n",
    "from spuco.util import Trainer\n",
    "from torch.optim import SGD\n",
    "\n",
    "trainer = Trainer(\n",
    "    trainset=trainset,\n",
    "    model=model,\n",
    "    batch_size=64,\n",
    "    optimizer=SGD(model.parameters(), lr=1e-2, momentum=0.9, nesterov=True),\n",
    "    device=device,\n",
    "    verbose=True\n",
    ")\n",
    "\n",
    "jtt = JTTInference(trainset, trainer=trainer, num_epochs=1)"
   ]
  },
  {
   "cell_type": "code",
   "execution_count": 7,
   "metadata": {},
   "outputs": [
    {
     "name": "stderr",
     "output_type": "stream",
     "text": [
      "Epoch 0: 100%|██████████| 938/938 [00:03<00:00, 254.20batch/s, accuracy=100.0%, loss=0.00358] \n",
      "100%|██████████| 938/938 [00:00<00:00, 1166.35batch/s]\n"
     ]
    }
   ],
   "source": [
    "group_partition = jtt.infer_groups()"
   ]
  },
  {
   "cell_type": "code",
   "execution_count": 8,
   "metadata": {},
   "outputs": [
    {
     "name": "stdout",
     "output_type": "stream",
     "text": [
      "(0, 0) 59699\n",
      "(0, 1) 301\n"
     ]
    }
   ],
   "source": [
    "for key in group_partition.keys():\n",
    "    print(key, len(group_partition[key]))"
   ]
  },
  {
   "cell_type": "code",
   "execution_count": 10,
   "metadata": {},
   "outputs": [],
   "source": [
    "from spuco.utils import GroupLabeledDataset\n",
    "\n",
    "group_labeled_trainset = GroupLabeledDataset(trainset, group_partition)"
   ]
  },
  {
   "cell_type": "code",
   "execution_count": 12,
   "metadata": {},
   "outputs": [],
   "source": [
    "from spuco.models import model_factory \n",
    "\n",
    "model = model_factory(\"mlp\", trainset[0][0].shape, trainset.num_classes).to(device)"
   ]
  },
  {
   "cell_type": "code",
   "execution_count": 13,
   "metadata": {},
   "outputs": [],
   "source": [
    "from torch.optim import SGD\n",
    "from spuco.models import MLP\n",
    "from spuco.invariant_train import CustomSampleERM\n",
    "\n",
    "\n",
    "jtt_train = CustomSampleERM(\n",
    "    model=model,\n",
    "    num_epochs=1,\n",
    "    trainset=trainset,\n",
    "    batch_size=64,\n",
    "    indices=group_partition[(0,0)] + 200 * group_partition[(0,1)],\n",
    "    optimizer=SGD(model.parameters(), lr=1e-3, momentum=0.9, nesterov=True),\n",
    "    device=device,\n",
    "    verbose=True\n",
    ")"
   ]
  },
  {
   "cell_type": "code",
   "execution_count": 14,
   "metadata": {},
   "outputs": [
    {
     "name": "stderr",
     "output_type": "stream",
     "text": [
      "Epoch 0: 100%|██████████| 1874/1874 [00:06<00:00, 292.36batch/s, accuracy=92.5925925925926%, loss=0.263]\n"
     ]
    }
   ],
   "source": [
    "jtt_train.train()"
   ]
  },
  {
   "cell_type": "code",
   "execution_count": 15,
   "metadata": {},
   "outputs": [
    {
     "name": "stdout",
     "output_type": "stream",
     "text": [
      "Group (0, 0) Test Accuracy: 96.21749408983452\n",
      "Group (0, 1) Test Accuracy: 26.47754137115839\n",
      "Group (0, 2) Test Accuracy: 63.829787234042556\n",
      "Group (0, 3) Test Accuracy: 58.392434988179666\n",
      "Group (0, 4) Test Accuracy: 67.37588652482269\n",
      "Group (1, 0) Test Accuracy: 74.5721271393643\n",
      "Group (1, 1) Test Accuracy: 98.0440097799511\n",
      "Group (1, 2) Test Accuracy: 61.76470588235294\n",
      "Group (1, 3) Test Accuracy: 50.98039215686274\n",
      "Group (1, 4) Test Accuracy: 26.715686274509803\n",
      "Group (2, 0) Test Accuracy: 68.8\n",
      "Group (2, 1) Test Accuracy: 27.733333333333334\n",
      "Group (2, 2) Test Accuracy: 90.4\n",
      "Group (2, 3) Test Accuracy: 32.8\n",
      "Group (2, 4) Test Accuracy: 2.6737967914438503\n",
      "Group (3, 0) Test Accuracy: 39.447236180904525\n",
      "Group (3, 1) Test Accuracy: 59.69773299748111\n",
      "Group (3, 2) Test Accuracy: 67.75818639798489\n",
      "Group (3, 3) Test Accuracy: 96.22166246851386\n",
      "Group (3, 4) Test Accuracy: 42.56926952141058\n",
      "Group (4, 0) Test Accuracy: 48.36272040302267\n",
      "Group (4, 1) Test Accuracy: 48.36272040302267\n",
      "Group (4, 2) Test Accuracy: 58.4382871536524\n",
      "Group (4, 3) Test Accuracy: 56.06060606060606\n",
      "Group (4, 4) Test Accuracy: 97.97979797979798\n"
     ]
    },
    {
     "data": {
      "text/plain": [
       "{(0, 0): 96.21749408983452,\n",
       " (0, 1): 26.47754137115839,\n",
       " (0, 2): 63.829787234042556,\n",
       " (0, 3): 58.392434988179666,\n",
       " (0, 4): 67.37588652482269,\n",
       " (1, 0): 74.5721271393643,\n",
       " (1, 1): 98.0440097799511,\n",
       " (1, 2): 61.76470588235294,\n",
       " (1, 3): 50.98039215686274,\n",
       " (1, 4): 26.715686274509803,\n",
       " (2, 0): 68.8,\n",
       " (2, 1): 27.733333333333334,\n",
       " (2, 2): 90.4,\n",
       " (2, 3): 32.8,\n",
       " (2, 4): 2.6737967914438503,\n",
       " (3, 0): 39.447236180904525,\n",
       " (3, 1): 59.69773299748111,\n",
       " (3, 2): 67.75818639798489,\n",
       " (3, 3): 96.22166246851386,\n",
       " (3, 4): 42.56926952141058,\n",
       " (4, 0): 48.36272040302267,\n",
       " (4, 1): 48.36272040302267,\n",
       " (4, 2): 58.4382871536524,\n",
       " (4, 3): 56.06060606060606,\n",
       " (4, 4): 97.97979797979798}"
      ]
     },
     "execution_count": 15,
     "metadata": {},
     "output_type": "execute_result"
    }
   ],
   "source": [
    "from spuco.evaluate import Evaluator\n",
    "\n",
    "evaluator = Evaluator(\n",
    "    testset=testset,\n",
    "    group_partition=testset.group_partition,\n",
    "    group_weights=trainset.group_weights,\n",
    "    batch_size=64,\n",
    "    model=model,\n",
    "    device=device,\n",
    "    verbose=True\n",
    ")\n",
    "evaluator.evaluate()"
   ]
  },
  {
   "cell_type": "code",
   "execution_count": 16,
   "metadata": {},
   "outputs": [
    {
     "data": {
      "text/plain": [
       "((2, 4), 2.6737967914438503)"
      ]
     },
     "execution_count": 16,
     "metadata": {},
     "output_type": "execute_result"
    }
   ],
   "source": [
    "evaluator.worst_group_accuracy"
   ]
  },
  {
   "cell_type": "code",
   "execution_count": 17,
   "metadata": {},
   "outputs": [
    {
     "data": {
      "text/plain": [
       "95.61945609346313"
      ]
     },
     "execution_count": 17,
     "metadata": {},
     "output_type": "execute_result"
    }
   ],
   "source": [
    "evaluator.average_accuracy"
   ]
  },
  {
   "cell_type": "code",
   "execution_count": 18,
   "metadata": {},
   "outputs": [
    {
     "data": {
      "text/plain": [
       "46.16"
      ]
     },
     "execution_count": 18,
     "metadata": {},
     "output_type": "execute_result"
    }
   ],
   "source": [
    "evaluator.evaluate_spurious_task()"
   ]
  }
 ],
 "metadata": {
  "kernelspec": {
   "display_name": "clip",
   "language": "python",
   "name": "python3"
  },
  "language_info": {
   "codemirror_mode": {
    "name": "ipython",
    "version": 3
   },
   "file_extension": ".py",
   "mimetype": "text/x-python",
   "name": "python",
   "nbconvert_exporter": "python",
   "pygments_lexer": "ipython3",
   "version": "3.10.9"
  },
  "orig_nbformat": 4
 },
 "nbformat": 4,
 "nbformat_minor": 2
}
