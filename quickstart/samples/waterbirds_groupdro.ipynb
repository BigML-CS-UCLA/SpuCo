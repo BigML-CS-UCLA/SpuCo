{
 "cells": [
  {
   "cell_type": "code",
   "execution_count": 11,
   "metadata": {},
   "outputs": [
    {
     "name": "stdout",
     "output_type": "stream",
     "text": [
      "Looking in indexes: https://pypi.org/simple, https://pypi.ngc.nvidia.com\n",
      "Processing /home/yuyang/SpuCo\n",
      "  Installing build dependencies ... \u001b[?25ldone\n",
      "\u001b[?25h  Getting requirements to build wheel ... \u001b[?25ldone\n",
      "\u001b[?25h  Installing backend dependencies ... \u001b[?25ldone\n",
      "\u001b[?25h  Preparing metadata (pyproject.toml) ... \u001b[?25ldone\n",
      "\u001b[?25hRequirement already satisfied: matplotlib>=3.7.1 in /home/yuyang/SpuCo/.conda/lib/python3.10/site-packages (from spuco==0.0.1) (3.7.1)\n",
      "Requirement already satisfied: setuptools>=61.0 in /home/yuyang/SpuCo/.conda/lib/python3.10/site-packages (from spuco==0.0.1) (66.0.0)\n",
      "Requirement already satisfied: tqdm>=4.65.0 in /home/yuyang/SpuCo/.conda/lib/python3.10/site-packages (from spuco==0.0.1) (4.65.0)\n",
      "Requirement already satisfied: torch>=2.0.0 in /home/yuyang/SpuCo/.conda/lib/python3.10/site-packages (from spuco==0.0.1) (2.0.1)\n",
      "Requirement already satisfied: wilds>=2.0.0 in /home/yuyang/SpuCo/.conda/lib/python3.10/site-packages (from spuco==0.0.1) (2.0.0)\n",
      "Requirement already satisfied: torchvision>=0.15.1 in /home/yuyang/SpuCo/.conda/lib/python3.10/site-packages (from spuco==0.0.1) (0.15.2)\n",
      "Requirement already satisfied: transformers>=3.5.0 in /home/yuyang/SpuCo/.conda/lib/python3.10/site-packages (from spuco==0.0.1) (4.29.2)\n",
      "Requirement already satisfied: numpy>=1.23.5 in /home/yuyang/SpuCo/.conda/lib/python3.10/site-packages (from spuco==0.0.1) (1.24.3)\n",
      "Requirement already satisfied: scikit-learn>=0.20.0 in /home/yuyang/SpuCo/.conda/lib/python3.10/site-packages (from spuco==0.0.1) (1.2.2)\n",
      "Requirement already satisfied: fonttools>=4.22.0 in /home/yuyang/SpuCo/.conda/lib/python3.10/site-packages (from matplotlib>=3.7.1->spuco==0.0.1) (4.39.4)\n",
      "Requirement already satisfied: python-dateutil>=2.7 in /home/yuyang/SpuCo/.conda/lib/python3.10/site-packages (from matplotlib>=3.7.1->spuco==0.0.1) (2.8.2)\n",
      "Requirement already satisfied: pillow>=6.2.0 in /home/yuyang/SpuCo/.conda/lib/python3.10/site-packages (from matplotlib>=3.7.1->spuco==0.0.1) (9.5.0)\n",
      "Requirement already satisfied: pyparsing>=2.3.1 in /home/yuyang/SpuCo/.conda/lib/python3.10/site-packages (from matplotlib>=3.7.1->spuco==0.0.1) (3.0.9)\n",
      "Requirement already satisfied: contourpy>=1.0.1 in /home/yuyang/SpuCo/.conda/lib/python3.10/site-packages (from matplotlib>=3.7.1->spuco==0.0.1) (1.0.7)\n",
      "Requirement already satisfied: kiwisolver>=1.0.1 in /home/yuyang/SpuCo/.conda/lib/python3.10/site-packages (from matplotlib>=3.7.1->spuco==0.0.1) (1.4.4)\n",
      "Requirement already satisfied: cycler>=0.10 in /home/yuyang/SpuCo/.conda/lib/python3.10/site-packages (from matplotlib>=3.7.1->spuco==0.0.1) (0.11.0)\n",
      "Requirement already satisfied: packaging>=20.0 in /home/yuyang/SpuCo/.conda/lib/python3.10/site-packages (from matplotlib>=3.7.1->spuco==0.0.1) (23.1)\n",
      "Requirement already satisfied: joblib>=1.1.1 in /home/yuyang/SpuCo/.conda/lib/python3.10/site-packages (from scikit-learn>=0.20.0->spuco==0.0.1) (1.2.0)\n",
      "Requirement already satisfied: threadpoolctl>=2.0.0 in /home/yuyang/SpuCo/.conda/lib/python3.10/site-packages (from scikit-learn>=0.20.0->spuco==0.0.1) (3.1.0)\n",
      "Requirement already satisfied: scipy>=1.3.2 in /home/yuyang/SpuCo/.conda/lib/python3.10/site-packages (from scikit-learn>=0.20.0->spuco==0.0.1) (1.10.1)\n",
      "Requirement already satisfied: typing-extensions in /home/yuyang/SpuCo/.conda/lib/python3.10/site-packages (from torch>=2.0.0->spuco==0.0.1) (4.5.0)\n",
      "Requirement already satisfied: nvidia-curand-cu11==10.2.10.91 in /home/yuyang/SpuCo/.conda/lib/python3.10/site-packages (from torch>=2.0.0->spuco==0.0.1) (10.2.10.91)\n",
      "Requirement already satisfied: nvidia-cuda-nvrtc-cu11==11.7.99 in /home/yuyang/SpuCo/.conda/lib/python3.10/site-packages (from torch>=2.0.0->spuco==0.0.1) (11.7.99)\n",
      "Requirement already satisfied: nvidia-cuda-cupti-cu11==11.7.101 in /home/yuyang/SpuCo/.conda/lib/python3.10/site-packages (from torch>=2.0.0->spuco==0.0.1) (11.7.101)\n",
      "Requirement already satisfied: nvidia-nvtx-cu11==11.7.91 in /home/yuyang/SpuCo/.conda/lib/python3.10/site-packages (from torch>=2.0.0->spuco==0.0.1) (11.7.91)\n",
      "Requirement already satisfied: triton==2.0.0 in /home/yuyang/SpuCo/.conda/lib/python3.10/site-packages (from torch>=2.0.0->spuco==0.0.1) (2.0.0)\n",
      "Requirement already satisfied: sympy in /home/yuyang/SpuCo/.conda/lib/python3.10/site-packages (from torch>=2.0.0->spuco==0.0.1) (1.12)\n",
      "Requirement already satisfied: jinja2 in /home/yuyang/SpuCo/.conda/lib/python3.10/site-packages (from torch>=2.0.0->spuco==0.0.1) (3.1.2)\n",
      "Requirement already satisfied: nvidia-cusolver-cu11==11.4.0.1 in /home/yuyang/SpuCo/.conda/lib/python3.10/site-packages (from torch>=2.0.0->spuco==0.0.1) (11.4.0.1)\n",
      "Requirement already satisfied: nvidia-cusparse-cu11==11.7.4.91 in /home/yuyang/SpuCo/.conda/lib/python3.10/site-packages (from torch>=2.0.0->spuco==0.0.1) (11.7.4.91)\n",
      "Requirement already satisfied: nvidia-cudnn-cu11==8.5.0.96 in /home/yuyang/SpuCo/.conda/lib/python3.10/site-packages (from torch>=2.0.0->spuco==0.0.1) (8.5.0.96)\n",
      "Requirement already satisfied: nvidia-nccl-cu11==2.14.3 in /home/yuyang/SpuCo/.conda/lib/python3.10/site-packages (from torch>=2.0.0->spuco==0.0.1) (2.14.3)\n",
      "Requirement already satisfied: nvidia-cublas-cu11==11.10.3.66 in /home/yuyang/SpuCo/.conda/lib/python3.10/site-packages (from torch>=2.0.0->spuco==0.0.1) (11.10.3.66)\n",
      "Requirement already satisfied: nvidia-cuda-runtime-cu11==11.7.99 in /home/yuyang/SpuCo/.conda/lib/python3.10/site-packages (from torch>=2.0.0->spuco==0.0.1) (11.7.99)\n",
      "Requirement already satisfied: nvidia-cufft-cu11==10.9.0.58 in /home/yuyang/SpuCo/.conda/lib/python3.10/site-packages (from torch>=2.0.0->spuco==0.0.1) (10.9.0.58)\n",
      "Requirement already satisfied: networkx in /home/yuyang/SpuCo/.conda/lib/python3.10/site-packages (from torch>=2.0.0->spuco==0.0.1) (3.1)\n",
      "Requirement already satisfied: filelock in /home/yuyang/SpuCo/.conda/lib/python3.10/site-packages (from torch>=2.0.0->spuco==0.0.1) (3.12.0)\n",
      "Requirement already satisfied: wheel in /home/yuyang/SpuCo/.conda/lib/python3.10/site-packages (from nvidia-cublas-cu11==11.10.3.66->torch>=2.0.0->spuco==0.0.1) (0.38.4)\n",
      "Requirement already satisfied: lit in /home/yuyang/SpuCo/.conda/lib/python3.10/site-packages (from triton==2.0.0->torch>=2.0.0->spuco==0.0.1) (16.0.5)\n",
      "Requirement already satisfied: cmake in /home/yuyang/SpuCo/.conda/lib/python3.10/site-packages (from triton==2.0.0->torch>=2.0.0->spuco==0.0.1) (3.26.3)\n",
      "Requirement already satisfied: requests in /home/yuyang/SpuCo/.conda/lib/python3.10/site-packages (from torchvision>=0.15.1->spuco==0.0.1) (2.30.0)\n",
      "Requirement already satisfied: huggingface-hub<1.0,>=0.14.1 in /home/yuyang/SpuCo/.conda/lib/python3.10/site-packages (from transformers>=3.5.0->spuco==0.0.1) (0.14.1)\n",
      "Requirement already satisfied: pyyaml>=5.1 in /home/yuyang/SpuCo/.conda/lib/python3.10/site-packages (from transformers>=3.5.0->spuco==0.0.1) (6.0)\n",
      "Requirement already satisfied: tokenizers!=0.11.3,<0.14,>=0.11.1 in /home/yuyang/SpuCo/.conda/lib/python3.10/site-packages (from transformers>=3.5.0->spuco==0.0.1) (0.13.3)\n",
      "Requirement already satisfied: regex!=2019.12.17 in /home/yuyang/SpuCo/.conda/lib/python3.10/site-packages (from transformers>=3.5.0->spuco==0.0.1) (2023.5.5)\n",
      "Requirement already satisfied: ogb>=1.2.6 in /home/yuyang/SpuCo/.conda/lib/python3.10/site-packages (from wilds>=2.0.0->spuco==0.0.1) (1.3.6)\n",
      "Requirement already satisfied: pandas>=1.1.0 in /home/yuyang/SpuCo/.conda/lib/python3.10/site-packages (from wilds>=2.0.0->spuco==0.0.1) (2.0.1)\n",
      "Requirement already satisfied: outdated>=0.2.0 in /home/yuyang/SpuCo/.conda/lib/python3.10/site-packages (from wilds>=2.0.0->spuco==0.0.1) (0.2.2)\n",
      "Requirement already satisfied: pytz>=2020.4 in /home/yuyang/SpuCo/.conda/lib/python3.10/site-packages (from wilds>=2.0.0->spuco==0.0.1) (2023.3)\n",
      "Requirement already satisfied: fsspec in /home/yuyang/SpuCo/.conda/lib/python3.10/site-packages (from huggingface-hub<1.0,>=0.14.1->transformers>=3.5.0->spuco==0.0.1) (2023.5.0)\n",
      "Requirement already satisfied: six>=1.12.0 in /home/yuyang/SpuCo/.conda/lib/python3.10/site-packages (from ogb>=1.2.6->wilds>=2.0.0->spuco==0.0.1) (1.16.0)\n",
      "Requirement already satisfied: urllib3>=1.24.0 in /home/yuyang/SpuCo/.conda/lib/python3.10/site-packages (from ogb>=1.2.6->wilds>=2.0.0->spuco==0.0.1) (2.0.2)\n",
      "Requirement already satisfied: littleutils in /home/yuyang/SpuCo/.conda/lib/python3.10/site-packages (from outdated>=0.2.0->wilds>=2.0.0->spuco==0.0.1) (0.2.2)\n",
      "Requirement already satisfied: tzdata>=2022.1 in /home/yuyang/SpuCo/.conda/lib/python3.10/site-packages (from pandas>=1.1.0->wilds>=2.0.0->spuco==0.0.1) (2023.3)\n",
      "Requirement already satisfied: MarkupSafe>=2.0 in /home/yuyang/SpuCo/.conda/lib/python3.10/site-packages (from jinja2->torch>=2.0.0->spuco==0.0.1) (2.1.2)\n",
      "Requirement already satisfied: idna<4,>=2.5 in /home/yuyang/SpuCo/.conda/lib/python3.10/site-packages (from requests->torchvision>=0.15.1->spuco==0.0.1) (3.4)\n",
      "Requirement already satisfied: charset-normalizer<4,>=2 in /home/yuyang/SpuCo/.conda/lib/python3.10/site-packages (from requests->torchvision>=0.15.1->spuco==0.0.1) (3.1.0)\n",
      "Requirement already satisfied: certifi>=2017.4.17 in /home/yuyang/SpuCo/.conda/lib/python3.10/site-packages (from requests->torchvision>=0.15.1->spuco==0.0.1) (2023.5.7)\n",
      "Requirement already satisfied: mpmath>=0.19 in /home/yuyang/SpuCo/.conda/lib/python3.10/site-packages (from sympy->torch>=2.0.0->spuco==0.0.1) (1.3.0)\n",
      "Building wheels for collected packages: spuco\n",
      "  Building wheel for spuco (pyproject.toml) ... \u001b[?25ldone\n",
      "\u001b[?25h  Created wheel for spuco: filename=spuco-0.0.1-py3-none-any.whl size=81064 sha256=246ec6ec1405192c7f23bf42ab1d28030f0850e8959b86c39071405a1d064445\n",
      "  Stored in directory: /tmp/pip-ephem-wheel-cache-anrcr9jm/wheels/99/d4/10/c6136b4f67d7a1fd0d788e21f761b3004ee3bbbfae90fc0ca1\n",
      "Successfully built spuco\n",
      "Installing collected packages: spuco\n",
      "  Attempting uninstall: spuco\n",
      "    Found existing installation: spuco 0.0.1\n",
      "    Uninstalling spuco-0.0.1:\n",
      "      Successfully uninstalled spuco-0.0.1\n",
      "Successfully installed spuco-0.0.1\n",
      "Note: you may need to restart the kernel to use updated packages.\n"
     ]
    }
   ],
   "source": [
    "%pip install ../../"
   ]
  },
  {
   "cell_type": "code",
   "execution_count": 1,
   "metadata": {},
   "outputs": [],
   "source": [
    "import torch \n",
    "\n",
    "device = torch.device(\"cuda:7\")"
   ]
  },
  {
   "cell_type": "code",
   "execution_count": 2,
   "metadata": {},
   "outputs": [
    {
     "name": "stderr",
     "output_type": "stream",
     "text": [
      "/home/yuyang/SpuCo/.conda/lib/python3.10/site-packages/tqdm/auto.py:21: TqdmWarning: IProgress not found. Please update jupyter and ipywidgets. See https://ipywidgets.readthedocs.io/en/stable/user_install.html\n",
      "  from .autonotebook import tqdm as notebook_tqdm\n"
     ]
    }
   ],
   "source": [
    "from spuco.utils import set_seed\n",
    "\n",
    "set_seed(0)"
   ]
  },
  {
   "cell_type": "code",
   "execution_count": 3,
   "metadata": {},
   "outputs": [],
   "source": [
    "from wilds import get_dataset\n",
    "import torchvision.transforms as transforms\n",
    "\n",
    "# Load the full dataset, and download it if necessary\n",
    "dataset = get_dataset(dataset=\"waterbirds\", download=True, root_dir=\"/data\")\n",
    "\n",
    "transform = transforms.Compose([\n",
    "            transforms.Resize(256),\n",
    "            transforms.CenterCrop(224),\n",
    "            transforms.ToTensor(),\n",
    "            transforms.Normalize((0.485, 0.456, 0.406), (0.229, 0.224, 0.225))\n",
    "        ])\n",
    "\n",
    "# Get the training set\n",
    "train_data = dataset.get_subset(\n",
    "    \"train\",\n",
    "    transform=transform\n",
    ")\n",
    "\n",
    "# Get the training set\n",
    "test_data = dataset.get_subset(\n",
    "    \"test\",\n",
    "    transform=transform\n",
    ")"
   ]
  },
  {
   "cell_type": "code",
   "execution_count": 4,
   "metadata": {},
   "outputs": [
    {
     "name": "stderr",
     "output_type": "stream",
     "text": [
      "Partitioning data indices into groups: 100%|██████████| 4795/4795 [00:00<00:00, 2083896.77it/s]\n",
      "Partitioning data indices into groups: 100%|██████████| 5794/5794 [00:00<00:00, 2215296.02it/s]\n"
     ]
    }
   ],
   "source": [
    "from spuco.utils import WILDSDatasetWrapper\n",
    "\n",
    "trainset = WILDSDatasetWrapper(dataset=train_data, metadata_spurious_label=\"background\", verbose=True)\n",
    "testset = WILDSDatasetWrapper(dataset=test_data, metadata_spurious_label=\"background\", verbose=True)"
   ]
  },
  {
   "cell_type": "code",
   "execution_count": 5,
   "metadata": {},
   "outputs": [
    {
     "data": {
      "text/plain": [
       "{(1, 1): 0.22043795620437956,\n",
       " (1, 0): 0.01167883211678832,\n",
       " (0, 0): 0.7295099061522419,\n",
       " (0, 1): 0.0383733055265902}"
      ]
     },
     "execution_count": 5,
     "metadata": {},
     "output_type": "execute_result"
    }
   ],
   "source": [
    "trainset.group_weights"
   ]
  },
  {
   "cell_type": "code",
   "execution_count": 6,
   "metadata": {},
   "outputs": [],
   "source": [
    "from spuco.utils import GroupLabeledDataset\n",
    "\n",
    "invariant_trainset = GroupLabeledDataset(trainset, trainset.group_partition)"
   ]
  },
  {
   "cell_type": "code",
   "execution_count": 7,
   "metadata": {},
   "outputs": [
    {
     "name": "stderr",
     "output_type": "stream",
     "text": [
      "/home/yuyang/SpuCo/.conda/lib/python3.10/site-packages/torchvision/models/_utils.py:208: UserWarning: The parameter 'pretrained' is deprecated since 0.13 and may be removed in the future, please use 'weights' instead.\n",
      "  warnings.warn(\n",
      "/home/yuyang/SpuCo/.conda/lib/python3.10/site-packages/torchvision/models/_utils.py:223: UserWarning: Arguments other than a weight enum or `None` for 'weights' are deprecated since 0.13 and may be removed in the future. The current behavior is equivalent to passing `weights=ResNet50_Weights.IMAGENET1K_V1`. You can also use `weights=ResNet50_Weights.DEFAULT` to get the most up-to-date weights.\n",
      "  warnings.warn(msg)\n"
     ]
    }
   ],
   "source": [
    "from spuco.models import model_factory \n",
    "\n",
    "model = model_factory(\"resnet50\", trainset[0][0].shape, trainset.num_classes).to(device)"
   ]
  },
  {
   "cell_type": "code",
   "execution_count": 8,
   "metadata": {},
   "outputs": [
    {
     "name": "stderr",
     "output_type": "stream",
     "text": [
      "Epoch 0: 100%|██████████| 38/38 [00:13<00:00,  2.83batch/s, accuracy=35.59322033898305%, loss=0.719]\n"
     ]
    },
    {
     "name": "stdout",
     "output_type": "stream",
     "text": [
      "tensor([0.2419, 0.2365, 0.2585, 0.2631], device='cuda:7')\n"
     ]
    },
    {
     "name": "stderr",
     "output_type": "stream",
     "text": [
      "Epoch 1: 100%|██████████| 38/38 [00:10<00:00,  3.49batch/s, accuracy=50.847457627118644%, loss=0.709]\n"
     ]
    },
    {
     "name": "stdout",
     "output_type": "stream",
     "text": [
      "tensor([0.2426, 0.2321, 0.2584, 0.2669], device='cuda:7')\n"
     ]
    },
    {
     "name": "stderr",
     "output_type": "stream",
     "text": [
      "Epoch 2: 100%|██████████| 38/38 [00:10<00:00,  3.50batch/s, accuracy=62.71186440677966%, loss=0.681]\n"
     ]
    },
    {
     "name": "stdout",
     "output_type": "stream",
     "text": [
      "tensor([0.2479, 0.2323, 0.2538, 0.2660], device='cuda:7')\n"
     ]
    },
    {
     "name": "stderr",
     "output_type": "stream",
     "text": [
      "Epoch 3: 100%|██████████| 38/38 [00:10<00:00,  3.47batch/s, accuracy=67.79661016949153%, loss=0.645]\n"
     ]
    },
    {
     "name": "stdout",
     "output_type": "stream",
     "text": [
      "tensor([0.2544, 0.2337, 0.2480, 0.2639], device='cuda:7')\n"
     ]
    },
    {
     "name": "stderr",
     "output_type": "stream",
     "text": [
      "Epoch 4: 100%|██████████| 38/38 [00:10<00:00,  3.51batch/s, accuracy=47.45762711864407%, loss=0.702]\n"
     ]
    },
    {
     "name": "stdout",
     "output_type": "stream",
     "text": [
      "tensor([0.2599, 0.2347, 0.2437, 0.2617], device='cuda:7')\n"
     ]
    },
    {
     "name": "stderr",
     "output_type": "stream",
     "text": [
      "Epoch 5: 100%|██████████| 38/38 [00:10<00:00,  3.46batch/s, accuracy=59.32203389830509%, loss=0.653]\n"
     ]
    },
    {
     "name": "stdout",
     "output_type": "stream",
     "text": [
      "tensor([0.2640, 0.2350, 0.2394, 0.2615], device='cuda:7')\n"
     ]
    },
    {
     "name": "stderr",
     "output_type": "stream",
     "text": [
      "Epoch 6: 100%|██████████| 38/38 [00:10<00:00,  3.48batch/s, accuracy=69.49152542372882%, loss=0.637]\n"
     ]
    },
    {
     "name": "stdout",
     "output_type": "stream",
     "text": [
      "tensor([0.2671, 0.2350, 0.2365, 0.2614], device='cuda:7')\n"
     ]
    },
    {
     "name": "stderr",
     "output_type": "stream",
     "text": [
      "Epoch 7: 100%|██████████| 38/38 [00:10<00:00,  3.50batch/s, accuracy=64.40677966101696%, loss=0.622]\n"
     ]
    },
    {
     "name": "stdout",
     "output_type": "stream",
     "text": [
      "tensor([0.2681, 0.2351, 0.2348, 0.2620], device='cuda:7')\n"
     ]
    },
    {
     "name": "stderr",
     "output_type": "stream",
     "text": [
      "Epoch 8: 100%|██████████| 38/38 [00:10<00:00,  3.47batch/s, accuracy=76.27118644067797%, loss=0.609]\n"
     ]
    },
    {
     "name": "stdout",
     "output_type": "stream",
     "text": [
      "tensor([0.2694, 0.2345, 0.2333, 0.2629], device='cuda:7')\n"
     ]
    },
    {
     "name": "stderr",
     "output_type": "stream",
     "text": [
      "Epoch 9: 100%|██████████| 38/38 [00:10<00:00,  3.48batch/s, accuracy=81.35593220338983%, loss=0.596]\n"
     ]
    },
    {
     "name": "stdout",
     "output_type": "stream",
     "text": [
      "tensor([0.2700, 0.2343, 0.2319, 0.2639], device='cuda:7')\n"
     ]
    },
    {
     "name": "stderr",
     "output_type": "stream",
     "text": [
      "Epoch 10: 100%|██████████| 38/38 [00:10<00:00,  3.47batch/s, accuracy=83.05084745762711%, loss=0.582]\n"
     ]
    },
    {
     "name": "stdout",
     "output_type": "stream",
     "text": [
      "tensor([0.2701, 0.2336, 0.2308, 0.2655], device='cuda:7')\n"
     ]
    },
    {
     "name": "stderr",
     "output_type": "stream",
     "text": [
      "Epoch 11: 100%|██████████| 38/38 [00:10<00:00,  3.48batch/s, accuracy=79.66101694915254%, loss=0.573]\n"
     ]
    },
    {
     "name": "stdout",
     "output_type": "stream",
     "text": [
      "tensor([0.2701, 0.2336, 0.2295, 0.2669], device='cuda:7')\n"
     ]
    },
    {
     "name": "stderr",
     "output_type": "stream",
     "text": [
      "Epoch 12: 100%|██████████| 38/38 [00:10<00:00,  3.46batch/s, accuracy=91.52542372881356%, loss=0.56]\n"
     ]
    },
    {
     "name": "stdout",
     "output_type": "stream",
     "text": [
      "tensor([0.2692, 0.2343, 0.2287, 0.2677], device='cuda:7')\n"
     ]
    },
    {
     "name": "stderr",
     "output_type": "stream",
     "text": [
      "Epoch 13: 100%|██████████| 38/38 [00:10<00:00,  3.54batch/s, accuracy=74.57627118644068%, loss=0.562]\n"
     ]
    },
    {
     "name": "stdout",
     "output_type": "stream",
     "text": [
      "tensor([0.2693, 0.2345, 0.2280, 0.2682], device='cuda:7')\n"
     ]
    },
    {
     "name": "stderr",
     "output_type": "stream",
     "text": [
      "Epoch 14: 100%|██████████| 38/38 [00:10<00:00,  3.48batch/s, accuracy=77.96610169491525%, loss=0.593]\n"
     ]
    },
    {
     "name": "stdout",
     "output_type": "stream",
     "text": [
      "tensor([0.2694, 0.2347, 0.2279, 0.2680], device='cuda:7')\n"
     ]
    },
    {
     "name": "stderr",
     "output_type": "stream",
     "text": [
      "Epoch 15: 100%|██████████| 38/38 [00:10<00:00,  3.49batch/s, accuracy=79.66101694915254%, loss=0.566]\n"
     ]
    },
    {
     "name": "stdout",
     "output_type": "stream",
     "text": [
      "tensor([0.2683, 0.2353, 0.2280, 0.2684], device='cuda:7')\n"
     ]
    },
    {
     "name": "stderr",
     "output_type": "stream",
     "text": [
      "Epoch 16: 100%|██████████| 38/38 [00:10<00:00,  3.49batch/s, accuracy=81.35593220338983%, loss=0.526]\n"
     ]
    },
    {
     "name": "stdout",
     "output_type": "stream",
     "text": [
      "tensor([0.2676, 0.2357, 0.2271, 0.2697], device='cuda:7')\n"
     ]
    },
    {
     "name": "stderr",
     "output_type": "stream",
     "text": [
      "Epoch 17: 100%|██████████| 38/38 [00:11<00:00,  3.43batch/s, accuracy=84.7457627118644%, loss=0.54]\n"
     ]
    },
    {
     "name": "stdout",
     "output_type": "stream",
     "text": [
      "tensor([0.2666, 0.2362, 0.2269, 0.2703], device='cuda:7')\n"
     ]
    },
    {
     "name": "stderr",
     "output_type": "stream",
     "text": [
      "Epoch 18: 100%|██████████| 38/38 [00:11<00:00,  3.42batch/s, accuracy=93.22033898305085%, loss=0.504]\n"
     ]
    },
    {
     "name": "stdout",
     "output_type": "stream",
     "text": [
      "tensor([0.2658, 0.2371, 0.2267, 0.2704], device='cuda:7')\n"
     ]
    },
    {
     "name": "stderr",
     "output_type": "stream",
     "text": [
      "Epoch 19: 100%|██████████| 38/38 [00:11<00:00,  3.44batch/s, accuracy=84.7457627118644%, loss=0.52]\n"
     ]
    },
    {
     "name": "stdout",
     "output_type": "stream",
     "text": [
      "tensor([0.2648, 0.2380, 0.2263, 0.2709], device='cuda:7')\n"
     ]
    },
    {
     "name": "stderr",
     "output_type": "stream",
     "text": [
      "Epoch 20: 100%|██████████| 38/38 [00:10<00:00,  3.47batch/s, accuracy=86.44067796610169%, loss=0.511]\n"
     ]
    },
    {
     "name": "stdout",
     "output_type": "stream",
     "text": [
      "tensor([0.2636, 0.2392, 0.2259, 0.2713], device='cuda:7')\n"
     ]
    },
    {
     "name": "stderr",
     "output_type": "stream",
     "text": [
      "Epoch 21: 100%|██████████| 38/38 [00:10<00:00,  3.49batch/s, accuracy=93.22033898305085%, loss=0.509]\n"
     ]
    },
    {
     "name": "stdout",
     "output_type": "stream",
     "text": [
      "tensor([0.2620, 0.2405, 0.2259, 0.2716], device='cuda:7')\n"
     ]
    },
    {
     "name": "stderr",
     "output_type": "stream",
     "text": [
      "Epoch 22: 100%|██████████| 38/38 [00:11<00:00,  3.45batch/s, accuracy=94.91525423728814%, loss=0.465]\n"
     ]
    },
    {
     "name": "stdout",
     "output_type": "stream",
     "text": [
      "tensor([0.2609, 0.2419, 0.2255, 0.2717], device='cuda:7')\n"
     ]
    },
    {
     "name": "stderr",
     "output_type": "stream",
     "text": [
      "Epoch 23: 100%|██████████| 38/38 [00:10<00:00,  3.50batch/s, accuracy=94.91525423728814%, loss=0.489]\n"
     ]
    },
    {
     "name": "stdout",
     "output_type": "stream",
     "text": [
      "tensor([0.2589, 0.2438, 0.2254, 0.2720], device='cuda:7')\n"
     ]
    },
    {
     "name": "stderr",
     "output_type": "stream",
     "text": [
      "Epoch 24: 100%|██████████| 38/38 [00:10<00:00,  3.47batch/s, accuracy=91.52542372881356%, loss=0.483]\n"
     ]
    },
    {
     "name": "stdout",
     "output_type": "stream",
     "text": [
      "tensor([0.2573, 0.2448, 0.2248, 0.2731], device='cuda:7')\n"
     ]
    },
    {
     "name": "stderr",
     "output_type": "stream",
     "text": [
      "Epoch 25: 100%|██████████| 38/38 [00:10<00:00,  3.52batch/s, accuracy=88.13559322033899%, loss=0.475]\n"
     ]
    },
    {
     "name": "stdout",
     "output_type": "stream",
     "text": [
      "tensor([0.2555, 0.2464, 0.2243, 0.2737], device='cuda:7')\n"
     ]
    },
    {
     "name": "stderr",
     "output_type": "stream",
     "text": [
      "Epoch 26: 100%|██████████| 38/38 [00:10<00:00,  3.46batch/s, accuracy=84.7457627118644%, loss=0.492]\n"
     ]
    },
    {
     "name": "stdout",
     "output_type": "stream",
     "text": [
      "tensor([0.2540, 0.2485, 0.2241, 0.2735], device='cuda:7')\n"
     ]
    },
    {
     "name": "stderr",
     "output_type": "stream",
     "text": [
      "Epoch 27: 100%|██████████| 38/38 [00:10<00:00,  3.46batch/s, accuracy=89.83050847457628%, loss=0.489]\n"
     ]
    },
    {
     "name": "stdout",
     "output_type": "stream",
     "text": [
      "tensor([0.2526, 0.2502, 0.2232, 0.2741], device='cuda:7')\n"
     ]
    },
    {
     "name": "stderr",
     "output_type": "stream",
     "text": [
      "Epoch 28: 100%|██████████| 38/38 [00:10<00:00,  3.49batch/s, accuracy=89.83050847457628%, loss=0.473]\n"
     ]
    },
    {
     "name": "stdout",
     "output_type": "stream",
     "text": [
      "tensor([0.2503, 0.2519, 0.2237, 0.2741], device='cuda:7')\n"
     ]
    },
    {
     "name": "stderr",
     "output_type": "stream",
     "text": [
      "Epoch 29: 100%|██████████| 38/38 [00:10<00:00,  3.49batch/s, accuracy=86.44067796610169%, loss=0.5]\n"
     ]
    },
    {
     "name": "stdout",
     "output_type": "stream",
     "text": [
      "tensor([0.2485, 0.2539, 0.2231, 0.2745], device='cuda:7')\n"
     ]
    },
    {
     "name": "stderr",
     "output_type": "stream",
     "text": [
      "Epoch 30: 100%|██████████| 38/38 [00:10<00:00,  3.48batch/s, accuracy=93.22033898305085%, loss=0.458]\n"
     ]
    },
    {
     "name": "stdout",
     "output_type": "stream",
     "text": [
      "tensor([0.2469, 0.2555, 0.2222, 0.2754], device='cuda:7')\n"
     ]
    },
    {
     "name": "stderr",
     "output_type": "stream",
     "text": [
      "Epoch 31: 100%|██████████| 38/38 [00:10<00:00,  3.49batch/s, accuracy=88.13559322033899%, loss=0.471]\n"
     ]
    },
    {
     "name": "stdout",
     "output_type": "stream",
     "text": [
      "tensor([0.2457, 0.2563, 0.2216, 0.2764], device='cuda:7')\n"
     ]
    },
    {
     "name": "stderr",
     "output_type": "stream",
     "text": [
      "Epoch 32: 100%|██████████| 38/38 [00:10<00:00,  3.48batch/s, accuracy=86.44067796610169%, loss=0.4]\n"
     ]
    },
    {
     "name": "stdout",
     "output_type": "stream",
     "text": [
      "tensor([0.2440, 0.2578, 0.2211, 0.2771], device='cuda:7')\n"
     ]
    },
    {
     "name": "stderr",
     "output_type": "stream",
     "text": [
      "Epoch 33: 100%|██████████| 38/38 [00:10<00:00,  3.48batch/s, accuracy=83.05084745762711%, loss=0.466]\n"
     ]
    },
    {
     "name": "stdout",
     "output_type": "stream",
     "text": [
      "tensor([0.2428, 0.2595, 0.2197, 0.2781], device='cuda:7')\n"
     ]
    },
    {
     "name": "stderr",
     "output_type": "stream",
     "text": [
      "Epoch 34: 100%|██████████| 38/38 [00:10<00:00,  3.49batch/s, accuracy=89.83050847457628%, loss=0.419]\n"
     ]
    },
    {
     "name": "stdout",
     "output_type": "stream",
     "text": [
      "tensor([0.2406, 0.2616, 0.2188, 0.2790], device='cuda:7')\n"
     ]
    },
    {
     "name": "stderr",
     "output_type": "stream",
     "text": [
      "Epoch 35: 100%|██████████| 38/38 [00:10<00:00,  3.49batch/s, accuracy=93.22033898305085%, loss=0.421]\n"
     ]
    },
    {
     "name": "stdout",
     "output_type": "stream",
     "text": [
      "tensor([0.2380, 0.2628, 0.2184, 0.2808], device='cuda:7')\n"
     ]
    },
    {
     "name": "stderr",
     "output_type": "stream",
     "text": [
      "Epoch 36: 100%|██████████| 38/38 [00:11<00:00,  3.41batch/s, accuracy=96.61016949152543%, loss=0.397]\n"
     ]
    },
    {
     "name": "stdout",
     "output_type": "stream",
     "text": [
      "tensor([0.2370, 0.2638, 0.2175, 0.2817], device='cuda:7')\n"
     ]
    },
    {
     "name": "stderr",
     "output_type": "stream",
     "text": [
      "Epoch 37: 100%|██████████| 38/38 [00:11<00:00,  3.45batch/s, accuracy=93.22033898305085%, loss=0.398]\n"
     ]
    },
    {
     "name": "stdout",
     "output_type": "stream",
     "text": [
      "tensor([0.2360, 0.2656, 0.2165, 0.2819], device='cuda:7')\n"
     ]
    },
    {
     "name": "stderr",
     "output_type": "stream",
     "text": [
      "Epoch 38: 100%|██████████| 38/38 [00:10<00:00,  3.48batch/s, accuracy=93.22033898305085%, loss=0.414]\n"
     ]
    },
    {
     "name": "stdout",
     "output_type": "stream",
     "text": [
      "tensor([0.2351, 0.2675, 0.2144, 0.2829], device='cuda:7')\n"
     ]
    },
    {
     "name": "stderr",
     "output_type": "stream",
     "text": [
      "Epoch 39: 100%|██████████| 38/38 [00:11<00:00,  3.45batch/s, accuracy=86.44067796610169%, loss=0.407]\n"
     ]
    },
    {
     "name": "stdout",
     "output_type": "stream",
     "text": [
      "tensor([0.2340, 0.2682, 0.2142, 0.2836], device='cuda:7')\n"
     ]
    },
    {
     "name": "stderr",
     "output_type": "stream",
     "text": [
      "Epoch 40: 100%|██████████| 38/38 [00:10<00:00,  3.50batch/s, accuracy=94.91525423728814%, loss=0.421]\n"
     ]
    },
    {
     "name": "stdout",
     "output_type": "stream",
     "text": [
      "tensor([0.2326, 0.2696, 0.2136, 0.2842], device='cuda:7')\n"
     ]
    },
    {
     "name": "stderr",
     "output_type": "stream",
     "text": [
      "Epoch 41: 100%|██████████| 38/38 [00:10<00:00,  3.48batch/s, accuracy=94.91525423728814%, loss=0.381]\n"
     ]
    },
    {
     "name": "stdout",
     "output_type": "stream",
     "text": [
      "tensor([0.2310, 0.2714, 0.2125, 0.2851], device='cuda:7')\n"
     ]
    },
    {
     "name": "stderr",
     "output_type": "stream",
     "text": [
      "Epoch 42: 100%|██████████| 38/38 [00:10<00:00,  3.49batch/s, accuracy=94.91525423728814%, loss=0.376]\n"
     ]
    },
    {
     "name": "stdout",
     "output_type": "stream",
     "text": [
      "tensor([0.2287, 0.2724, 0.2116, 0.2873], device='cuda:7')\n"
     ]
    },
    {
     "name": "stderr",
     "output_type": "stream",
     "text": [
      "Epoch 43: 100%|██████████| 38/38 [00:10<00:00,  3.47batch/s, accuracy=91.52542372881356%, loss=0.392]\n"
     ]
    },
    {
     "name": "stdout",
     "output_type": "stream",
     "text": [
      "tensor([0.2268, 0.2739, 0.2108, 0.2886], device='cuda:7')\n"
     ]
    },
    {
     "name": "stderr",
     "output_type": "stream",
     "text": [
      "Epoch 44: 100%|██████████| 38/38 [00:10<00:00,  3.50batch/s, accuracy=89.83050847457628%, loss=0.367]\n"
     ]
    },
    {
     "name": "stdout",
     "output_type": "stream",
     "text": [
      "tensor([0.2253, 0.2749, 0.2095, 0.2902], device='cuda:7')\n"
     ]
    },
    {
     "name": "stderr",
     "output_type": "stream",
     "text": [
      "Epoch 45: 100%|██████████| 38/38 [00:10<00:00,  3.49batch/s, accuracy=91.52542372881356%, loss=0.391]\n"
     ]
    },
    {
     "name": "stdout",
     "output_type": "stream",
     "text": [
      "tensor([0.2236, 0.2748, 0.2090, 0.2926], device='cuda:7')\n"
     ]
    },
    {
     "name": "stderr",
     "output_type": "stream",
     "text": [
      "Epoch 46: 100%|██████████| 38/38 [00:10<00:00,  3.50batch/s, accuracy=96.61016949152543%, loss=0.406]\n"
     ]
    },
    {
     "name": "stdout",
     "output_type": "stream",
     "text": [
      "tensor([0.2219, 0.2771, 0.2078, 0.2932], device='cuda:7')\n"
     ]
    },
    {
     "name": "stderr",
     "output_type": "stream",
     "text": [
      "Epoch 47: 100%|██████████| 38/38 [00:10<00:00,  3.49batch/s, accuracy=88.13559322033899%, loss=0.386]\n"
     ]
    },
    {
     "name": "stdout",
     "output_type": "stream",
     "text": [
      "tensor([0.2212, 0.2790, 0.2065, 0.2933], device='cuda:7')\n"
     ]
    },
    {
     "name": "stderr",
     "output_type": "stream",
     "text": [
      "Epoch 48: 100%|██████████| 38/38 [00:10<00:00,  3.50batch/s, accuracy=96.61016949152543%, loss=0.362]\n"
     ]
    },
    {
     "name": "stdout",
     "output_type": "stream",
     "text": [
      "tensor([0.2193, 0.2808, 0.2048, 0.2951], device='cuda:7')\n"
     ]
    },
    {
     "name": "stderr",
     "output_type": "stream",
     "text": [
      "Epoch 49: 100%|██████████| 38/38 [00:10<00:00,  3.49batch/s, accuracy=88.13559322033899%, loss=0.391]\n"
     ]
    },
    {
     "name": "stdout",
     "output_type": "stream",
     "text": [
      "tensor([0.2176, 0.2820, 0.2034, 0.2970], device='cuda:7')\n"
     ]
    },
    {
     "name": "stderr",
     "output_type": "stream",
     "text": [
      "Epoch 50: 100%|██████████| 38/38 [00:10<00:00,  3.48batch/s, accuracy=84.7457627118644%, loss=0.44]\n"
     ]
    },
    {
     "name": "stdout",
     "output_type": "stream",
     "text": [
      "tensor([0.2164, 0.2830, 0.2020, 0.2987], device='cuda:7')\n"
     ]
    },
    {
     "name": "stderr",
     "output_type": "stream",
     "text": [
      "Epoch 51: 100%|██████████| 38/38 [00:10<00:00,  3.48batch/s, accuracy=88.13559322033899%, loss=0.35]\n"
     ]
    },
    {
     "name": "stdout",
     "output_type": "stream",
     "text": [
      "tensor([0.2150, 0.2833, 0.2003, 0.3013], device='cuda:7')\n"
     ]
    },
    {
     "name": "stderr",
     "output_type": "stream",
     "text": [
      "Epoch 52: 100%|██████████| 38/38 [00:10<00:00,  3.52batch/s, accuracy=91.52542372881356%, loss=0.335]\n"
     ]
    },
    {
     "name": "stdout",
     "output_type": "stream",
     "text": [
      "tensor([0.2135, 0.2850, 0.1978, 0.3036], device='cuda:7')\n"
     ]
    },
    {
     "name": "stderr",
     "output_type": "stream",
     "text": [
      "Epoch 53: 100%|██████████| 38/38 [00:10<00:00,  3.47batch/s, accuracy=88.13559322033899%, loss=0.383]\n"
     ]
    },
    {
     "name": "stdout",
     "output_type": "stream",
     "text": [
      "tensor([0.2135, 0.2860, 0.1955, 0.3050], device='cuda:7')\n"
     ]
    },
    {
     "name": "stderr",
     "output_type": "stream",
     "text": [
      "Epoch 54: 100%|██████████| 38/38 [00:10<00:00,  3.47batch/s, accuracy=86.44067796610169%, loss=0.387]\n"
     ]
    },
    {
     "name": "stdout",
     "output_type": "stream",
     "text": [
      "tensor([0.2128, 0.2868, 0.1937, 0.3067], device='cuda:7')\n"
     ]
    },
    {
     "name": "stderr",
     "output_type": "stream",
     "text": [
      "Epoch 55: 100%|██████████| 38/38 [00:10<00:00,  3.48batch/s, accuracy=89.83050847457628%, loss=0.376]\n"
     ]
    },
    {
     "name": "stdout",
     "output_type": "stream",
     "text": [
      "tensor([0.2121, 0.2861, 0.1923, 0.3094], device='cuda:7')\n"
     ]
    },
    {
     "name": "stderr",
     "output_type": "stream",
     "text": [
      "Epoch 56: 100%|██████████| 38/38 [00:11<00:00,  3.45batch/s, accuracy=84.7457627118644%, loss=0.348]\n"
     ]
    },
    {
     "name": "stdout",
     "output_type": "stream",
     "text": [
      "tensor([0.2115, 0.2876, 0.1902, 0.3107], device='cuda:7')\n"
     ]
    },
    {
     "name": "stderr",
     "output_type": "stream",
     "text": [
      "Epoch 57: 100%|██████████| 38/38 [00:10<00:00,  3.47batch/s, accuracy=91.52542372881356%, loss=0.376]\n"
     ]
    },
    {
     "name": "stdout",
     "output_type": "stream",
     "text": [
      "tensor([0.2108, 0.2892, 0.1882, 0.3118], device='cuda:7')\n"
     ]
    },
    {
     "name": "stderr",
     "output_type": "stream",
     "text": [
      "Epoch 58: 100%|██████████| 38/38 [00:11<00:00,  3.44batch/s, accuracy=86.44067796610169%, loss=0.328]\n"
     ]
    },
    {
     "name": "stdout",
     "output_type": "stream",
     "text": [
      "tensor([0.2096, 0.2896, 0.1866, 0.3142], device='cuda:7')\n"
     ]
    },
    {
     "name": "stderr",
     "output_type": "stream",
     "text": [
      "Epoch 59: 100%|██████████| 38/38 [00:10<00:00,  3.47batch/s, accuracy=86.44067796610169%, loss=0.388]\n"
     ]
    },
    {
     "name": "stdout",
     "output_type": "stream",
     "text": [
      "tensor([0.2091, 0.2904, 0.1843, 0.3162], device='cuda:7')\n"
     ]
    },
    {
     "name": "stderr",
     "output_type": "stream",
     "text": [
      "Epoch 60: 100%|██████████| 38/38 [00:10<00:00,  3.49batch/s, accuracy=84.7457627118644%, loss=0.396]\n"
     ]
    },
    {
     "name": "stdout",
     "output_type": "stream",
     "text": [
      "tensor([0.2079, 0.2920, 0.1824, 0.3177], device='cuda:7')\n"
     ]
    },
    {
     "name": "stderr",
     "output_type": "stream",
     "text": [
      "Epoch 61: 100%|██████████| 38/38 [00:11<00:00,  3.45batch/s, accuracy=93.22033898305085%, loss=0.373]\n"
     ]
    },
    {
     "name": "stdout",
     "output_type": "stream",
     "text": [
      "tensor([0.2069, 0.2918, 0.1812, 0.3201], device='cuda:7')\n"
     ]
    },
    {
     "name": "stderr",
     "output_type": "stream",
     "text": [
      "Epoch 62: 100%|██████████| 38/38 [00:11<00:00,  3.40batch/s, accuracy=91.52542372881356%, loss=0.305]\n"
     ]
    },
    {
     "name": "stdout",
     "output_type": "stream",
     "text": [
      "tensor([0.2058, 0.2922, 0.1798, 0.3222], device='cuda:7')\n"
     ]
    },
    {
     "name": "stderr",
     "output_type": "stream",
     "text": [
      "Epoch 63: 100%|██████████| 38/38 [00:11<00:00,  3.45batch/s, accuracy=88.13559322033899%, loss=0.373]\n"
     ]
    },
    {
     "name": "stdout",
     "output_type": "stream",
     "text": [
      "tensor([0.2045, 0.2937, 0.1779, 0.3238], device='cuda:7')\n"
     ]
    },
    {
     "name": "stderr",
     "output_type": "stream",
     "text": [
      "Epoch 64: 100%|██████████| 38/38 [00:10<00:00,  3.47batch/s, accuracy=94.91525423728814%, loss=0.338]\n"
     ]
    },
    {
     "name": "stdout",
     "output_type": "stream",
     "text": [
      "tensor([0.2038, 0.2943, 0.1760, 0.3259], device='cuda:7')\n"
     ]
    },
    {
     "name": "stderr",
     "output_type": "stream",
     "text": [
      "Epoch 65: 100%|██████████| 38/38 [00:11<00:00,  3.45batch/s, accuracy=89.83050847457628%, loss=0.375]\n"
     ]
    },
    {
     "name": "stdout",
     "output_type": "stream",
     "text": [
      "tensor([0.2024, 0.2948, 0.1739, 0.3289], device='cuda:7')\n"
     ]
    },
    {
     "name": "stderr",
     "output_type": "stream",
     "text": [
      "Epoch 66: 100%|██████████| 38/38 [00:10<00:00,  3.46batch/s, accuracy=89.83050847457628%, loss=0.341]\n"
     ]
    },
    {
     "name": "stdout",
     "output_type": "stream",
     "text": [
      "tensor([0.2012, 0.2954, 0.1720, 0.3313], device='cuda:7')\n"
     ]
    },
    {
     "name": "stderr",
     "output_type": "stream",
     "text": [
      "Epoch 67: 100%|██████████| 38/38 [00:10<00:00,  3.51batch/s, accuracy=89.83050847457628%, loss=0.354]\n"
     ]
    },
    {
     "name": "stdout",
     "output_type": "stream",
     "text": [
      "tensor([0.1997, 0.2957, 0.1696, 0.3350], device='cuda:7')\n"
     ]
    },
    {
     "name": "stderr",
     "output_type": "stream",
     "text": [
      "Epoch 68: 100%|██████████| 38/38 [00:10<00:00,  3.47batch/s, accuracy=91.52542372881356%, loss=0.293]\n"
     ]
    },
    {
     "name": "stdout",
     "output_type": "stream",
     "text": [
      "tensor([0.1994, 0.2961, 0.1674, 0.3371], device='cuda:7')\n"
     ]
    },
    {
     "name": "stderr",
     "output_type": "stream",
     "text": [
      "Epoch 69: 100%|██████████| 38/38 [00:10<00:00,  3.48batch/s, accuracy=89.83050847457628%, loss=0.33]\n"
     ]
    },
    {
     "name": "stdout",
     "output_type": "stream",
     "text": [
      "tensor([0.1981, 0.2967, 0.1652, 0.3401], device='cuda:7')\n"
     ]
    },
    {
     "name": "stderr",
     "output_type": "stream",
     "text": [
      "Epoch 70: 100%|██████████| 38/38 [00:10<00:00,  3.48batch/s, accuracy=91.52542372881356%, loss=0.35]\n"
     ]
    },
    {
     "name": "stdout",
     "output_type": "stream",
     "text": [
      "tensor([0.1974, 0.2971, 0.1635, 0.3420], device='cuda:7')\n"
     ]
    },
    {
     "name": "stderr",
     "output_type": "stream",
     "text": [
      "Epoch 71: 100%|██████████| 38/38 [00:10<00:00,  3.46batch/s, accuracy=98.30508474576271%, loss=0.284]\n"
     ]
    },
    {
     "name": "stdout",
     "output_type": "stream",
     "text": [
      "tensor([0.1974, 0.2982, 0.1615, 0.3430], device='cuda:7')\n"
     ]
    },
    {
     "name": "stderr",
     "output_type": "stream",
     "text": [
      "Epoch 72: 100%|██████████| 38/38 [00:10<00:00,  3.47batch/s, accuracy=94.91525423728814%, loss=0.275]\n"
     ]
    },
    {
     "name": "stdout",
     "output_type": "stream",
     "text": [
      "tensor([0.1969, 0.2993, 0.1598, 0.3440], device='cuda:7')\n"
     ]
    },
    {
     "name": "stderr",
     "output_type": "stream",
     "text": [
      "Epoch 73: 100%|██████████| 38/38 [00:10<00:00,  3.48batch/s, accuracy=91.52542372881356%, loss=0.321]\n"
     ]
    },
    {
     "name": "stdout",
     "output_type": "stream",
     "text": [
      "tensor([0.1964, 0.3000, 0.1575, 0.3460], device='cuda:7')\n"
     ]
    },
    {
     "name": "stderr",
     "output_type": "stream",
     "text": [
      "Epoch 74: 100%|██████████| 38/38 [00:10<00:00,  3.48batch/s, accuracy=86.44067796610169%, loss=0.398]\n"
     ]
    },
    {
     "name": "stdout",
     "output_type": "stream",
     "text": [
      "tensor([0.1955, 0.3005, 0.1553, 0.3487], device='cuda:7')\n"
     ]
    },
    {
     "name": "stderr",
     "output_type": "stream",
     "text": [
      "Epoch 75: 100%|██████████| 38/38 [00:10<00:00,  3.46batch/s, accuracy=86.44067796610169%, loss=0.377]\n"
     ]
    },
    {
     "name": "stdout",
     "output_type": "stream",
     "text": [
      "tensor([0.1946, 0.3011, 0.1525, 0.3518], device='cuda:7')\n"
     ]
    },
    {
     "name": "stderr",
     "output_type": "stream",
     "text": [
      "Epoch 76: 100%|██████████| 38/38 [00:11<00:00,  3.44batch/s, accuracy=88.13559322033899%, loss=0.35]\n"
     ]
    },
    {
     "name": "stdout",
     "output_type": "stream",
     "text": [
      "tensor([0.1942, 0.3013, 0.1507, 0.3538], device='cuda:7')\n"
     ]
    },
    {
     "name": "stderr",
     "output_type": "stream",
     "text": [
      "Epoch 77: 100%|██████████| 38/38 [00:10<00:00,  3.46batch/s, accuracy=94.91525423728814%, loss=0.292]\n"
     ]
    },
    {
     "name": "stdout",
     "output_type": "stream",
     "text": [
      "tensor([0.1938, 0.3021, 0.1489, 0.3551], device='cuda:7')\n"
     ]
    },
    {
     "name": "stderr",
     "output_type": "stream",
     "text": [
      "Epoch 78: 100%|██████████| 38/38 [00:11<00:00,  3.45batch/s, accuracy=93.22033898305085%, loss=0.32]\n"
     ]
    },
    {
     "name": "stdout",
     "output_type": "stream",
     "text": [
      "tensor([0.1938, 0.3023, 0.1472, 0.3567], device='cuda:7')\n"
     ]
    },
    {
     "name": "stderr",
     "output_type": "stream",
     "text": [
      "Epoch 79: 100%|██████████| 38/38 [00:10<00:00,  3.48batch/s, accuracy=93.22033898305085%, loss=0.353]\n"
     ]
    },
    {
     "name": "stdout",
     "output_type": "stream",
     "text": [
      "tensor([0.1930, 0.3011, 0.1457, 0.3602], device='cuda:7')\n"
     ]
    },
    {
     "name": "stderr",
     "output_type": "stream",
     "text": [
      "Epoch 80: 100%|██████████| 38/38 [00:11<00:00,  3.44batch/s, accuracy=93.22033898305085%, loss=0.297]\n"
     ]
    },
    {
     "name": "stdout",
     "output_type": "stream",
     "text": [
      "tensor([0.1929, 0.3017, 0.1435, 0.3619], device='cuda:7')\n"
     ]
    },
    {
     "name": "stderr",
     "output_type": "stream",
     "text": [
      "Epoch 81: 100%|██████████| 38/38 [00:10<00:00,  3.48batch/s, accuracy=93.22033898305085%, loss=0.309]\n"
     ]
    },
    {
     "name": "stdout",
     "output_type": "stream",
     "text": [
      "tensor([0.1924, 0.3015, 0.1410, 0.3650], device='cuda:7')\n"
     ]
    },
    {
     "name": "stderr",
     "output_type": "stream",
     "text": [
      "Epoch 82: 100%|██████████| 38/38 [00:10<00:00,  3.50batch/s, accuracy=94.91525423728814%, loss=0.314]\n"
     ]
    },
    {
     "name": "stdout",
     "output_type": "stream",
     "text": [
      "tensor([0.1917, 0.3013, 0.1390, 0.3681], device='cuda:7')\n"
     ]
    },
    {
     "name": "stderr",
     "output_type": "stream",
     "text": [
      "Epoch 83: 100%|██████████| 38/38 [00:10<00:00,  3.50batch/s, accuracy=94.91525423728814%, loss=0.284]\n"
     ]
    },
    {
     "name": "stdout",
     "output_type": "stream",
     "text": [
      "tensor([0.1921, 0.3021, 0.1372, 0.3686], device='cuda:7')\n"
     ]
    },
    {
     "name": "stderr",
     "output_type": "stream",
     "text": [
      "Epoch 84: 100%|██████████| 38/38 [00:10<00:00,  3.53batch/s, accuracy=98.30508474576271%, loss=0.254]\n"
     ]
    },
    {
     "name": "stdout",
     "output_type": "stream",
     "text": [
      "tensor([0.1923, 0.3022, 0.1353, 0.3702], device='cuda:7')\n"
     ]
    },
    {
     "name": "stderr",
     "output_type": "stream",
     "text": [
      "Epoch 85: 100%|██████████| 38/38 [00:10<00:00,  3.46batch/s, accuracy=100.0%, loss=0.246]   \n"
     ]
    },
    {
     "name": "stdout",
     "output_type": "stream",
     "text": [
      "tensor([0.1928, 0.3010, 0.1336, 0.3726], device='cuda:7')\n"
     ]
    },
    {
     "name": "stderr",
     "output_type": "stream",
     "text": [
      "Epoch 86: 100%|██████████| 38/38 [00:10<00:00,  3.47batch/s, accuracy=98.30508474576271%, loss=0.277]\n"
     ]
    },
    {
     "name": "stdout",
     "output_type": "stream",
     "text": [
      "tensor([0.1921, 0.3008, 0.1321, 0.3750], device='cuda:7')\n"
     ]
    },
    {
     "name": "stderr",
     "output_type": "stream",
     "text": [
      "Epoch 87: 100%|██████████| 38/38 [00:10<00:00,  3.49batch/s, accuracy=86.44067796610169%, loss=0.318]\n"
     ]
    },
    {
     "name": "stdout",
     "output_type": "stream",
     "text": [
      "tensor([0.1916, 0.3004, 0.1302, 0.3778], device='cuda:7')\n"
     ]
    },
    {
     "name": "stderr",
     "output_type": "stream",
     "text": [
      "Epoch 88: 100%|██████████| 38/38 [00:10<00:00,  3.48batch/s, accuracy=94.91525423728814%, loss=0.248]\n"
     ]
    },
    {
     "name": "stdout",
     "output_type": "stream",
     "text": [
      "tensor([0.1923, 0.3005, 0.1280, 0.3793], device='cuda:7')\n"
     ]
    },
    {
     "name": "stderr",
     "output_type": "stream",
     "text": [
      "Epoch 89: 100%|██████████| 38/38 [00:11<00:00,  3.45batch/s, accuracy=89.83050847457628%, loss=0.282]\n"
     ]
    },
    {
     "name": "stdout",
     "output_type": "stream",
     "text": [
      "tensor([0.1924, 0.2999, 0.1268, 0.3810], device='cuda:7')\n"
     ]
    },
    {
     "name": "stderr",
     "output_type": "stream",
     "text": [
      "Epoch 90: 100%|██████████| 38/38 [00:10<00:00,  3.48batch/s, accuracy=96.61016949152543%, loss=0.252]\n"
     ]
    },
    {
     "name": "stdout",
     "output_type": "stream",
     "text": [
      "tensor([0.1924, 0.3004, 0.1250, 0.3821], device='cuda:7')\n"
     ]
    },
    {
     "name": "stderr",
     "output_type": "stream",
     "text": [
      "Epoch 91: 100%|██████████| 38/38 [00:10<00:00,  3.47batch/s, accuracy=94.91525423728814%, loss=0.27]\n"
     ]
    },
    {
     "name": "stdout",
     "output_type": "stream",
     "text": [
      "tensor([0.1917, 0.2998, 0.1235, 0.3850], device='cuda:7')\n"
     ]
    },
    {
     "name": "stderr",
     "output_type": "stream",
     "text": [
      "Epoch 92: 100%|██████████| 38/38 [00:11<00:00,  3.45batch/s, accuracy=81.35593220338983%, loss=0.415]\n"
     ]
    },
    {
     "name": "stdout",
     "output_type": "stream",
     "text": [
      "tensor([0.1919, 0.3015, 0.1218, 0.3848], device='cuda:7')\n"
     ]
    },
    {
     "name": "stderr",
     "output_type": "stream",
     "text": [
      "Epoch 93: 100%|██████████| 38/38 [00:10<00:00,  3.52batch/s, accuracy=93.22033898305085%, loss=0.242]\n"
     ]
    },
    {
     "name": "stdout",
     "output_type": "stream",
     "text": [
      "tensor([0.1922, 0.3020, 0.1202, 0.3856], device='cuda:7')\n"
     ]
    },
    {
     "name": "stderr",
     "output_type": "stream",
     "text": [
      "Epoch 94: 100%|██████████| 38/38 [00:10<00:00,  3.47batch/s, accuracy=94.91525423728814%, loss=0.26]\n"
     ]
    },
    {
     "name": "stdout",
     "output_type": "stream",
     "text": [
      "tensor([0.1928, 0.3027, 0.1188, 0.3858], device='cuda:7')\n"
     ]
    },
    {
     "name": "stderr",
     "output_type": "stream",
     "text": [
      "Epoch 95: 100%|██████████| 38/38 [00:10<00:00,  3.49batch/s, accuracy=93.22033898305085%, loss=0.294]\n"
     ]
    },
    {
     "name": "stdout",
     "output_type": "stream",
     "text": [
      "tensor([0.1921, 0.3029, 0.1177, 0.3873], device='cuda:7')\n"
     ]
    },
    {
     "name": "stderr",
     "output_type": "stream",
     "text": [
      "Epoch 96: 100%|██████████| 38/38 [00:11<00:00,  3.45batch/s, accuracy=84.7457627118644%, loss=0.342]\n"
     ]
    },
    {
     "name": "stdout",
     "output_type": "stream",
     "text": [
      "tensor([0.1913, 0.3019, 0.1159, 0.3910], device='cuda:7')\n"
     ]
    },
    {
     "name": "stderr",
     "output_type": "stream",
     "text": [
      "Epoch 97: 100%|██████████| 38/38 [00:10<00:00,  3.48batch/s, accuracy=96.61016949152543%, loss=0.214]\n"
     ]
    },
    {
     "name": "stdout",
     "output_type": "stream",
     "text": [
      "tensor([0.1901, 0.3005, 0.1150, 0.3944], device='cuda:7')\n"
     ]
    },
    {
     "name": "stderr",
     "output_type": "stream",
     "text": [
      "Epoch 98: 100%|██████████| 38/38 [00:10<00:00,  3.48batch/s, accuracy=96.61016949152543%, loss=0.242]\n"
     ]
    },
    {
     "name": "stdout",
     "output_type": "stream",
     "text": [
      "tensor([0.1890, 0.2999, 0.1136, 0.3975], device='cuda:7')\n"
     ]
    },
    {
     "name": "stderr",
     "output_type": "stream",
     "text": [
      "Epoch 99: 100%|██████████| 38/38 [00:10<00:00,  3.51batch/s, accuracy=96.61016949152543%, loss=0.207]\n"
     ]
    },
    {
     "name": "stdout",
     "output_type": "stream",
     "text": [
      "tensor([0.1890, 0.3006, 0.1125, 0.3979], device='cuda:7')\n"
     ]
    },
    {
     "name": "stderr",
     "output_type": "stream",
     "text": [
      "Epoch 100: 100%|██████████| 38/38 [00:10<00:00,  3.49batch/s, accuracy=93.22033898305085%, loss=0.246]\n"
     ]
    },
    {
     "name": "stdout",
     "output_type": "stream",
     "text": [
      "tensor([0.1893, 0.3007, 0.1113, 0.3987], device='cuda:7')\n"
     ]
    },
    {
     "name": "stderr",
     "output_type": "stream",
     "text": [
      "Epoch 101: 100%|██████████| 38/38 [00:11<00:00,  3.45batch/s, accuracy=98.30508474576271%, loss=0.245]\n"
     ]
    },
    {
     "name": "stdout",
     "output_type": "stream",
     "text": [
      "tensor([0.1901, 0.3004, 0.1100, 0.3995], device='cuda:7')\n"
     ]
    },
    {
     "name": "stderr",
     "output_type": "stream",
     "text": [
      "Epoch 102: 100%|██████████| 38/38 [00:10<00:00,  3.48batch/s, accuracy=98.30508474576271%, loss=0.227]\n"
     ]
    },
    {
     "name": "stdout",
     "output_type": "stream",
     "text": [
      "tensor([0.1894, 0.2993, 0.1090, 0.4023], device='cuda:7')\n"
     ]
    },
    {
     "name": "stderr",
     "output_type": "stream",
     "text": [
      "Epoch 103: 100%|██████████| 38/38 [00:10<00:00,  3.47batch/s, accuracy=94.91525423728814%, loss=0.209]\n"
     ]
    },
    {
     "name": "stdout",
     "output_type": "stream",
     "text": [
      "tensor([0.1896, 0.2984, 0.1082, 0.4038], device='cuda:7')\n"
     ]
    },
    {
     "name": "stderr",
     "output_type": "stream",
     "text": [
      "Epoch 104: 100%|██████████| 38/38 [00:10<00:00,  3.51batch/s, accuracy=93.22033898305085%, loss=0.232]\n"
     ]
    },
    {
     "name": "stdout",
     "output_type": "stream",
     "text": [
      "tensor([0.1901, 0.2987, 0.1070, 0.4041], device='cuda:7')\n"
     ]
    },
    {
     "name": "stderr",
     "output_type": "stream",
     "text": [
      "Epoch 105: 100%|██████████| 38/38 [00:10<00:00,  3.48batch/s, accuracy=94.91525423728814%, loss=0.245]\n"
     ]
    },
    {
     "name": "stdout",
     "output_type": "stream",
     "text": [
      "tensor([0.1903, 0.2988, 0.1061, 0.4049], device='cuda:7')\n"
     ]
    },
    {
     "name": "stderr",
     "output_type": "stream",
     "text": [
      "Epoch 106: 100%|██████████| 38/38 [00:10<00:00,  3.48batch/s, accuracy=94.91525423728814%, loss=0.258]\n"
     ]
    },
    {
     "name": "stdout",
     "output_type": "stream",
     "text": [
      "tensor([0.1906, 0.2978, 0.1046, 0.4070], device='cuda:7')\n"
     ]
    },
    {
     "name": "stderr",
     "output_type": "stream",
     "text": [
      "Epoch 107: 100%|██████████| 38/38 [00:10<00:00,  3.51batch/s, accuracy=98.30508474576271%, loss=0.23]\n"
     ]
    },
    {
     "name": "stdout",
     "output_type": "stream",
     "text": [
      "tensor([0.1908, 0.2969, 0.1037, 0.4085], device='cuda:7')\n"
     ]
    },
    {
     "name": "stderr",
     "output_type": "stream",
     "text": [
      "Epoch 108: 100%|██████████| 38/38 [00:10<00:00,  3.48batch/s, accuracy=93.22033898305085%, loss=0.289]\n"
     ]
    },
    {
     "name": "stdout",
     "output_type": "stream",
     "text": [
      "tensor([0.1906, 0.2971, 0.1024, 0.4099], device='cuda:7')\n"
     ]
    },
    {
     "name": "stderr",
     "output_type": "stream",
     "text": [
      "Epoch 109: 100%|██████████| 38/38 [00:10<00:00,  3.46batch/s, accuracy=94.91525423728814%, loss=0.214]\n"
     ]
    },
    {
     "name": "stdout",
     "output_type": "stream",
     "text": [
      "tensor([0.1911, 0.2980, 0.1009, 0.4100], device='cuda:7')\n"
     ]
    },
    {
     "name": "stderr",
     "output_type": "stream",
     "text": [
      "Epoch 110: 100%|██████████| 38/38 [00:10<00:00,  3.48batch/s, accuracy=96.61016949152543%, loss=0.235]\n"
     ]
    },
    {
     "name": "stdout",
     "output_type": "stream",
     "text": [
      "tensor([0.1923, 0.2977, 0.0996, 0.4103], device='cuda:7')\n"
     ]
    },
    {
     "name": "stderr",
     "output_type": "stream",
     "text": [
      "Epoch 111: 100%|██████████| 38/38 [00:10<00:00,  3.50batch/s, accuracy=96.61016949152543%, loss=0.22]\n"
     ]
    },
    {
     "name": "stdout",
     "output_type": "stream",
     "text": [
      "tensor([0.1923, 0.2973, 0.0988, 0.4116], device='cuda:7')\n"
     ]
    },
    {
     "name": "stderr",
     "output_type": "stream",
     "text": [
      "Epoch 112: 100%|██████████| 38/38 [00:10<00:00,  3.48batch/s, accuracy=91.52542372881356%, loss=0.267]\n"
     ]
    },
    {
     "name": "stdout",
     "output_type": "stream",
     "text": [
      "tensor([0.1928, 0.2978, 0.0976, 0.4117], device='cuda:7')\n"
     ]
    },
    {
     "name": "stderr",
     "output_type": "stream",
     "text": [
      "Epoch 113: 100%|██████████| 38/38 [00:10<00:00,  3.49batch/s, accuracy=98.30508474576271%, loss=0.203]\n"
     ]
    },
    {
     "name": "stdout",
     "output_type": "stream",
     "text": [
      "tensor([0.1927, 0.2980, 0.0966, 0.4127], device='cuda:7')\n"
     ]
    },
    {
     "name": "stderr",
     "output_type": "stream",
     "text": [
      "Epoch 114: 100%|██████████| 38/38 [00:10<00:00,  3.46batch/s, accuracy=94.91525423728814%, loss=0.221]\n"
     ]
    },
    {
     "name": "stdout",
     "output_type": "stream",
     "text": [
      "tensor([0.1928, 0.2988, 0.0959, 0.4125], device='cuda:7')\n"
     ]
    },
    {
     "name": "stderr",
     "output_type": "stream",
     "text": [
      "Epoch 115: 100%|██████████| 38/38 [00:10<00:00,  3.48batch/s, accuracy=96.61016949152543%, loss=0.25]\n"
     ]
    },
    {
     "name": "stdout",
     "output_type": "stream",
     "text": [
      "tensor([0.1933, 0.2979, 0.0956, 0.4132], device='cuda:7')\n"
     ]
    },
    {
     "name": "stderr",
     "output_type": "stream",
     "text": [
      "Epoch 116: 100%|██████████| 38/38 [00:10<00:00,  3.48batch/s, accuracy=94.91525423728814%, loss=0.234]\n"
     ]
    },
    {
     "name": "stdout",
     "output_type": "stream",
     "text": [
      "tensor([0.1940, 0.2979, 0.0952, 0.4130], device='cuda:7')\n"
     ]
    },
    {
     "name": "stderr",
     "output_type": "stream",
     "text": [
      "Epoch 117: 100%|██████████| 38/38 [00:10<00:00,  3.48batch/s, accuracy=96.61016949152543%, loss=0.223]\n"
     ]
    },
    {
     "name": "stdout",
     "output_type": "stream",
     "text": [
      "tensor([0.1941, 0.2974, 0.0940, 0.4144], device='cuda:7')\n"
     ]
    },
    {
     "name": "stderr",
     "output_type": "stream",
     "text": [
      "Epoch 118: 100%|██████████| 38/38 [00:10<00:00,  3.47batch/s, accuracy=94.91525423728814%, loss=0.22]\n"
     ]
    },
    {
     "name": "stdout",
     "output_type": "stream",
     "text": [
      "tensor([0.1950, 0.2969, 0.0932, 0.4149], device='cuda:7')\n"
     ]
    },
    {
     "name": "stderr",
     "output_type": "stream",
     "text": [
      "Epoch 119: 100%|██████████| 38/38 [00:10<00:00,  3.47batch/s, accuracy=94.91525423728814%, loss=0.262]\n"
     ]
    },
    {
     "name": "stdout",
     "output_type": "stream",
     "text": [
      "tensor([0.1953, 0.2963, 0.0927, 0.4158], device='cuda:7')\n"
     ]
    },
    {
     "name": "stderr",
     "output_type": "stream",
     "text": [
      "Epoch 120: 100%|██████████| 38/38 [00:10<00:00,  3.50batch/s, accuracy=94.91525423728814%, loss=0.288]\n"
     ]
    },
    {
     "name": "stdout",
     "output_type": "stream",
     "text": [
      "tensor([0.1956, 0.2952, 0.0923, 0.4168], device='cuda:7')\n"
     ]
    },
    {
     "name": "stderr",
     "output_type": "stream",
     "text": [
      "Epoch 121: 100%|██████████| 38/38 [00:10<00:00,  3.51batch/s, accuracy=98.30508474576271%, loss=0.194]\n"
     ]
    },
    {
     "name": "stdout",
     "output_type": "stream",
     "text": [
      "tensor([0.1970, 0.2952, 0.0915, 0.4163], device='cuda:7')\n"
     ]
    },
    {
     "name": "stderr",
     "output_type": "stream",
     "text": [
      "Epoch 122: 100%|██████████| 38/38 [00:11<00:00,  3.45batch/s, accuracy=96.61016949152543%, loss=0.243]\n"
     ]
    },
    {
     "name": "stdout",
     "output_type": "stream",
     "text": [
      "tensor([0.1972, 0.2944, 0.0908, 0.4177], device='cuda:7')\n"
     ]
    },
    {
     "name": "stderr",
     "output_type": "stream",
     "text": [
      "Epoch 123: 100%|██████████| 38/38 [00:10<00:00,  3.47batch/s, accuracy=98.30508474576271%, loss=0.224]\n"
     ]
    },
    {
     "name": "stdout",
     "output_type": "stream",
     "text": [
      "tensor([0.1980, 0.2939, 0.0905, 0.4176], device='cuda:7')\n"
     ]
    },
    {
     "name": "stderr",
     "output_type": "stream",
     "text": [
      "Epoch 124: 100%|██████████| 38/38 [00:10<00:00,  3.50batch/s, accuracy=98.30508474576271%, loss=0.265]\n"
     ]
    },
    {
     "name": "stdout",
     "output_type": "stream",
     "text": [
      "tensor([0.1985, 0.2939, 0.0898, 0.4178], device='cuda:7')\n"
     ]
    },
    {
     "name": "stderr",
     "output_type": "stream",
     "text": [
      "Epoch 125: 100%|██████████| 38/38 [00:10<00:00,  3.47batch/s, accuracy=94.91525423728814%, loss=0.259]\n"
     ]
    },
    {
     "name": "stdout",
     "output_type": "stream",
     "text": [
      "tensor([0.1984, 0.2933, 0.0895, 0.4188], device='cuda:7')\n"
     ]
    },
    {
     "name": "stderr",
     "output_type": "stream",
     "text": [
      "Epoch 126: 100%|██████████| 38/38 [00:10<00:00,  3.47batch/s, accuracy=96.61016949152543%, loss=0.245]\n"
     ]
    },
    {
     "name": "stdout",
     "output_type": "stream",
     "text": [
      "tensor([0.1984, 0.2920, 0.0896, 0.4200], device='cuda:7')\n"
     ]
    },
    {
     "name": "stderr",
     "output_type": "stream",
     "text": [
      "Epoch 127: 100%|██████████| 38/38 [00:10<00:00,  3.49batch/s, accuracy=94.91525423728814%, loss=0.244]\n"
     ]
    },
    {
     "name": "stdout",
     "output_type": "stream",
     "text": [
      "tensor([0.1985, 0.2904, 0.0895, 0.4215], device='cuda:7')\n"
     ]
    },
    {
     "name": "stderr",
     "output_type": "stream",
     "text": [
      "Epoch 128: 100%|██████████| 38/38 [00:10<00:00,  3.52batch/s, accuracy=96.61016949152543%, loss=0.186]\n"
     ]
    },
    {
     "name": "stdout",
     "output_type": "stream",
     "text": [
      "tensor([0.1995, 0.2888, 0.0891, 0.4226], device='cuda:7')\n"
     ]
    },
    {
     "name": "stderr",
     "output_type": "stream",
     "text": [
      "Epoch 129: 100%|██████████| 38/38 [00:10<00:00,  3.49batch/s, accuracy=96.61016949152543%, loss=0.238]\n"
     ]
    },
    {
     "name": "stdout",
     "output_type": "stream",
     "text": [
      "tensor([0.1997, 0.2880, 0.0889, 0.4234], device='cuda:7')\n"
     ]
    },
    {
     "name": "stderr",
     "output_type": "stream",
     "text": [
      "Epoch 130: 100%|██████████| 38/38 [00:10<00:00,  3.48batch/s, accuracy=89.83050847457628%, loss=0.247]\n"
     ]
    },
    {
     "name": "stdout",
     "output_type": "stream",
     "text": [
      "tensor([0.2005, 0.2879, 0.0884, 0.4232], device='cuda:7')\n"
     ]
    },
    {
     "name": "stderr",
     "output_type": "stream",
     "text": [
      "Epoch 131: 100%|██████████| 38/38 [00:10<00:00,  3.52batch/s, accuracy=89.83050847457628%, loss=0.259]\n"
     ]
    },
    {
     "name": "stdout",
     "output_type": "stream",
     "text": [
      "tensor([0.2004, 0.2874, 0.0879, 0.4243], device='cuda:7')\n"
     ]
    },
    {
     "name": "stderr",
     "output_type": "stream",
     "text": [
      "Epoch 132: 100%|██████████| 38/38 [00:10<00:00,  3.48batch/s, accuracy=89.83050847457628%, loss=0.297]\n"
     ]
    },
    {
     "name": "stdout",
     "output_type": "stream",
     "text": [
      "tensor([0.2011, 0.2872, 0.0875, 0.4242], device='cuda:7')\n"
     ]
    },
    {
     "name": "stderr",
     "output_type": "stream",
     "text": [
      "Epoch 133: 100%|██████████| 38/38 [00:10<00:00,  3.48batch/s, accuracy=96.61016949152543%, loss=0.221]\n"
     ]
    },
    {
     "name": "stdout",
     "output_type": "stream",
     "text": [
      "tensor([0.2011, 0.2860, 0.0877, 0.4252], device='cuda:7')\n"
     ]
    },
    {
     "name": "stderr",
     "output_type": "stream",
     "text": [
      "Epoch 134: 100%|██████████| 38/38 [00:10<00:00,  3.50batch/s, accuracy=93.22033898305085%, loss=0.225]\n"
     ]
    },
    {
     "name": "stdout",
     "output_type": "stream",
     "text": [
      "tensor([0.2010, 0.2854, 0.0872, 0.4264], device='cuda:7')\n"
     ]
    },
    {
     "name": "stderr",
     "output_type": "stream",
     "text": [
      "Epoch 135: 100%|██████████| 38/38 [00:10<00:00,  3.51batch/s, accuracy=98.30508474576271%, loss=0.185]\n"
     ]
    },
    {
     "name": "stdout",
     "output_type": "stream",
     "text": [
      "tensor([0.2014, 0.2841, 0.0872, 0.4273], device='cuda:7')\n"
     ]
    },
    {
     "name": "stderr",
     "output_type": "stream",
     "text": [
      "Epoch 136: 100%|██████████| 38/38 [00:10<00:00,  3.49batch/s, accuracy=98.30508474576271%, loss=0.165]\n"
     ]
    },
    {
     "name": "stdout",
     "output_type": "stream",
     "text": [
      "tensor([0.2019, 0.2837, 0.0870, 0.4275], device='cuda:7')\n"
     ]
    },
    {
     "name": "stderr",
     "output_type": "stream",
     "text": [
      "Epoch 137: 100%|██████████| 38/38 [00:11<00:00,  3.43batch/s, accuracy=98.30508474576271%, loss=0.17]\n"
     ]
    },
    {
     "name": "stdout",
     "output_type": "stream",
     "text": [
      "tensor([0.2022, 0.2837, 0.0867, 0.4274], device='cuda:7')\n"
     ]
    },
    {
     "name": "stderr",
     "output_type": "stream",
     "text": [
      "Epoch 138: 100%|██████████| 38/38 [00:11<00:00,  3.44batch/s, accuracy=96.61016949152543%, loss=0.211]\n"
     ]
    },
    {
     "name": "stdout",
     "output_type": "stream",
     "text": [
      "tensor([0.2027, 0.2821, 0.0868, 0.4285], device='cuda:7')\n"
     ]
    },
    {
     "name": "stderr",
     "output_type": "stream",
     "text": [
      "Epoch 139: 100%|██████████| 38/38 [00:10<00:00,  3.49batch/s, accuracy=98.30508474576271%, loss=0.201]\n"
     ]
    },
    {
     "name": "stdout",
     "output_type": "stream",
     "text": [
      "tensor([0.2030, 0.2809, 0.0868, 0.4293], device='cuda:7')\n"
     ]
    },
    {
     "name": "stderr",
     "output_type": "stream",
     "text": [
      "Epoch 140: 100%|██████████| 38/38 [00:10<00:00,  3.49batch/s, accuracy=98.30508474576271%, loss=0.201]\n"
     ]
    },
    {
     "name": "stdout",
     "output_type": "stream",
     "text": [
      "tensor([0.2024, 0.2796, 0.0873, 0.4307], device='cuda:7')\n"
     ]
    },
    {
     "name": "stderr",
     "output_type": "stream",
     "text": [
      "Epoch 141: 100%|██████████| 38/38 [00:10<00:00,  3.50batch/s, accuracy=96.61016949152543%, loss=0.212]\n"
     ]
    },
    {
     "name": "stdout",
     "output_type": "stream",
     "text": [
      "tensor([0.2039, 0.2800, 0.0870, 0.4291], device='cuda:7')\n"
     ]
    },
    {
     "name": "stderr",
     "output_type": "stream",
     "text": [
      "Epoch 142: 100%|██████████| 38/38 [00:11<00:00,  3.44batch/s, accuracy=96.61016949152543%, loss=0.231]\n"
     ]
    },
    {
     "name": "stdout",
     "output_type": "stream",
     "text": [
      "tensor([0.2047, 0.2795, 0.0870, 0.4288], device='cuda:7')\n"
     ]
    },
    {
     "name": "stderr",
     "output_type": "stream",
     "text": [
      "Epoch 143: 100%|██████████| 38/38 [00:10<00:00,  3.50batch/s, accuracy=96.61016949152543%, loss=0.192]\n"
     ]
    },
    {
     "name": "stdout",
     "output_type": "stream",
     "text": [
      "tensor([0.2055, 0.2783, 0.0871, 0.4291], device='cuda:7')\n"
     ]
    },
    {
     "name": "stderr",
     "output_type": "stream",
     "text": [
      "Epoch 144: 100%|██████████| 38/38 [00:10<00:00,  3.50batch/s, accuracy=94.91525423728814%, loss=0.254]\n"
     ]
    },
    {
     "name": "stdout",
     "output_type": "stream",
     "text": [
      "tensor([0.2065, 0.2780, 0.0867, 0.4288], device='cuda:7')\n"
     ]
    },
    {
     "name": "stderr",
     "output_type": "stream",
     "text": [
      "Epoch 145: 100%|██████████| 38/38 [00:10<00:00,  3.49batch/s, accuracy=93.22033898305085%, loss=0.23]\n"
     ]
    },
    {
     "name": "stdout",
     "output_type": "stream",
     "text": [
      "tensor([0.2070, 0.2769, 0.0871, 0.4290], device='cuda:7')\n"
     ]
    },
    {
     "name": "stderr",
     "output_type": "stream",
     "text": [
      "Epoch 146: 100%|██████████| 38/38 [00:10<00:00,  3.49batch/s, accuracy=96.61016949152543%, loss=0.19]\n"
     ]
    },
    {
     "name": "stdout",
     "output_type": "stream",
     "text": [
      "tensor([0.2081, 0.2776, 0.0870, 0.4273], device='cuda:7')\n"
     ]
    },
    {
     "name": "stderr",
     "output_type": "stream",
     "text": [
      "Epoch 147: 100%|██████████| 38/38 [00:10<00:00,  3.53batch/s, accuracy=100.0%, loss=0.181]   \n"
     ]
    },
    {
     "name": "stdout",
     "output_type": "stream",
     "text": [
      "tensor([0.2089, 0.2770, 0.0873, 0.4268], device='cuda:7')\n"
     ]
    },
    {
     "name": "stderr",
     "output_type": "stream",
     "text": [
      "Epoch 148: 100%|██████████| 38/38 [00:10<00:00,  3.50batch/s, accuracy=98.30508474576271%, loss=0.182]\n"
     ]
    },
    {
     "name": "stdout",
     "output_type": "stream",
     "text": [
      "tensor([0.2095, 0.2759, 0.0874, 0.4272], device='cuda:7')\n"
     ]
    },
    {
     "name": "stderr",
     "output_type": "stream",
     "text": [
      "Epoch 149: 100%|██████████| 38/38 [00:10<00:00,  3.49batch/s, accuracy=94.91525423728814%, loss=0.219]\n"
     ]
    },
    {
     "name": "stdout",
     "output_type": "stream",
     "text": [
      "tensor([0.2109, 0.2748, 0.0877, 0.4266], device='cuda:7')\n"
     ]
    },
    {
     "name": "stderr",
     "output_type": "stream",
     "text": [
      "Epoch 150: 100%|██████████| 38/38 [00:10<00:00,  3.49batch/s, accuracy=96.61016949152543%, loss=0.2]\n"
     ]
    },
    {
     "name": "stdout",
     "output_type": "stream",
     "text": [
      "tensor([0.2127, 0.2750, 0.0878, 0.4245], device='cuda:7')\n"
     ]
    },
    {
     "name": "stderr",
     "output_type": "stream",
     "text": [
      "Epoch 151: 100%|██████████| 38/38 [00:11<00:00,  3.45batch/s, accuracy=98.30508474576271%, loss=0.159]\n"
     ]
    },
    {
     "name": "stdout",
     "output_type": "stream",
     "text": [
      "tensor([0.2127, 0.2740, 0.0879, 0.4254], device='cuda:7')\n"
     ]
    },
    {
     "name": "stderr",
     "output_type": "stream",
     "text": [
      "Epoch 152: 100%|██████████| 38/38 [00:11<00:00,  3.45batch/s, accuracy=96.61016949152543%, loss=0.214]\n"
     ]
    },
    {
     "name": "stdout",
     "output_type": "stream",
     "text": [
      "tensor([0.2138, 0.2729, 0.0883, 0.4250], device='cuda:7')\n"
     ]
    },
    {
     "name": "stderr",
     "output_type": "stream",
     "text": [
      "Epoch 153: 100%|██████████| 38/38 [00:11<00:00,  3.45batch/s, accuracy=94.91525423728814%, loss=0.231]\n"
     ]
    },
    {
     "name": "stdout",
     "output_type": "stream",
     "text": [
      "tensor([0.2154, 0.2719, 0.0885, 0.4242], device='cuda:7')\n"
     ]
    },
    {
     "name": "stderr",
     "output_type": "stream",
     "text": [
      "Epoch 154: 100%|██████████| 38/38 [00:10<00:00,  3.52batch/s, accuracy=96.61016949152543%, loss=0.252]\n"
     ]
    },
    {
     "name": "stdout",
     "output_type": "stream",
     "text": [
      "tensor([0.2171, 0.2725, 0.0886, 0.4219], device='cuda:7')\n"
     ]
    },
    {
     "name": "stderr",
     "output_type": "stream",
     "text": [
      "Epoch 155: 100%|██████████| 38/38 [00:10<00:00,  3.51batch/s, accuracy=98.30508474576271%, loss=0.217]\n"
     ]
    },
    {
     "name": "stdout",
     "output_type": "stream",
     "text": [
      "tensor([0.2181, 0.2713, 0.0888, 0.4219], device='cuda:7')\n"
     ]
    },
    {
     "name": "stderr",
     "output_type": "stream",
     "text": [
      "Epoch 156: 100%|██████████| 38/38 [00:10<00:00,  3.48batch/s, accuracy=94.91525423728814%, loss=0.189]\n"
     ]
    },
    {
     "name": "stdout",
     "output_type": "stream",
     "text": [
      "tensor([0.2197, 0.2704, 0.0892, 0.4206], device='cuda:7')\n"
     ]
    },
    {
     "name": "stderr",
     "output_type": "stream",
     "text": [
      "Epoch 157: 100%|██████████| 38/38 [00:10<00:00,  3.51batch/s, accuracy=98.30508474576271%, loss=0.217]\n"
     ]
    },
    {
     "name": "stdout",
     "output_type": "stream",
     "text": [
      "tensor([0.2207, 0.2699, 0.0891, 0.4203], device='cuda:7')\n"
     ]
    },
    {
     "name": "stderr",
     "output_type": "stream",
     "text": [
      "Epoch 158: 100%|██████████| 38/38 [00:11<00:00,  3.45batch/s, accuracy=96.61016949152543%, loss=0.234]\n"
     ]
    },
    {
     "name": "stdout",
     "output_type": "stream",
     "text": [
      "tensor([0.2224, 0.2687, 0.0891, 0.4197], device='cuda:7')\n"
     ]
    },
    {
     "name": "stderr",
     "output_type": "stream",
     "text": [
      "Epoch 159: 100%|██████████| 38/38 [00:10<00:00,  3.46batch/s, accuracy=98.30508474576271%, loss=0.166]\n"
     ]
    },
    {
     "name": "stdout",
     "output_type": "stream",
     "text": [
      "tensor([0.2232, 0.2675, 0.0896, 0.4196], device='cuda:7')\n"
     ]
    },
    {
     "name": "stderr",
     "output_type": "stream",
     "text": [
      "Epoch 160: 100%|██████████| 38/38 [00:10<00:00,  3.50batch/s, accuracy=96.61016949152543%, loss=0.244]\n"
     ]
    },
    {
     "name": "stdout",
     "output_type": "stream",
     "text": [
      "tensor([0.2238, 0.2649, 0.0900, 0.4213], device='cuda:7')\n"
     ]
    },
    {
     "name": "stderr",
     "output_type": "stream",
     "text": [
      "Epoch 161: 100%|██████████| 38/38 [00:10<00:00,  3.48batch/s, accuracy=98.30508474576271%, loss=0.182]\n"
     ]
    },
    {
     "name": "stdout",
     "output_type": "stream",
     "text": [
      "tensor([0.2245, 0.2638, 0.0904, 0.4213], device='cuda:7')\n"
     ]
    },
    {
     "name": "stderr",
     "output_type": "stream",
     "text": [
      "Epoch 162: 100%|██████████| 38/38 [00:10<00:00,  3.47batch/s, accuracy=93.22033898305085%, loss=0.226]\n"
     ]
    },
    {
     "name": "stdout",
     "output_type": "stream",
     "text": [
      "tensor([0.2250, 0.2624, 0.0909, 0.4217], device='cuda:7')\n"
     ]
    },
    {
     "name": "stderr",
     "output_type": "stream",
     "text": [
      "Epoch 163: 100%|██████████| 38/38 [00:10<00:00,  3.51batch/s, accuracy=100.0%, loss=0.169]   \n"
     ]
    },
    {
     "name": "stdout",
     "output_type": "stream",
     "text": [
      "tensor([0.2261, 0.2610, 0.0920, 0.4209], device='cuda:7')\n"
     ]
    },
    {
     "name": "stderr",
     "output_type": "stream",
     "text": [
      "Epoch 164: 100%|██████████| 38/38 [00:10<00:00,  3.51batch/s, accuracy=100.0%, loss=0.16]    \n"
     ]
    },
    {
     "name": "stdout",
     "output_type": "stream",
     "text": [
      "tensor([0.2265, 0.2609, 0.0928, 0.4197], device='cuda:7')\n"
     ]
    },
    {
     "name": "stderr",
     "output_type": "stream",
     "text": [
      "Epoch 165: 100%|██████████| 38/38 [00:11<00:00,  3.45batch/s, accuracy=94.91525423728814%, loss=0.259]\n"
     ]
    },
    {
     "name": "stdout",
     "output_type": "stream",
     "text": [
      "tensor([0.2276, 0.2600, 0.0934, 0.4190], device='cuda:7')\n"
     ]
    },
    {
     "name": "stderr",
     "output_type": "stream",
     "text": [
      "Epoch 166: 100%|██████████| 38/38 [00:11<00:00,  3.45batch/s, accuracy=94.91525423728814%, loss=0.197]\n"
     ]
    },
    {
     "name": "stdout",
     "output_type": "stream",
     "text": [
      "tensor([0.2293, 0.2599, 0.0940, 0.4168], device='cuda:7')\n"
     ]
    },
    {
     "name": "stderr",
     "output_type": "stream",
     "text": [
      "Epoch 167: 100%|██████████| 38/38 [00:10<00:00,  3.51batch/s, accuracy=86.44067796610169%, loss=0.319]\n"
     ]
    },
    {
     "name": "stdout",
     "output_type": "stream",
     "text": [
      "tensor([0.2303, 0.2585, 0.0944, 0.4169], device='cuda:7')\n"
     ]
    },
    {
     "name": "stderr",
     "output_type": "stream",
     "text": [
      "Epoch 168: 100%|██████████| 38/38 [00:10<00:00,  3.49batch/s, accuracy=94.91525423728814%, loss=0.213]\n"
     ]
    },
    {
     "name": "stdout",
     "output_type": "stream",
     "text": [
      "tensor([0.2314, 0.2571, 0.0951, 0.4164], device='cuda:7')\n"
     ]
    },
    {
     "name": "stderr",
     "output_type": "stream",
     "text": [
      "Epoch 169: 100%|██████████| 38/38 [00:10<00:00,  3.50batch/s, accuracy=98.30508474576271%, loss=0.146]\n"
     ]
    },
    {
     "name": "stdout",
     "output_type": "stream",
     "text": [
      "tensor([0.2322, 0.2564, 0.0954, 0.4159], device='cuda:7')\n"
     ]
    },
    {
     "name": "stderr",
     "output_type": "stream",
     "text": [
      "Epoch 170: 100%|██████████| 38/38 [00:10<00:00,  3.51batch/s, accuracy=100.0%, loss=0.161]   \n"
     ]
    },
    {
     "name": "stdout",
     "output_type": "stream",
     "text": [
      "tensor([0.2330, 0.2563, 0.0961, 0.4146], device='cuda:7')\n"
     ]
    },
    {
     "name": "stderr",
     "output_type": "stream",
     "text": [
      "Epoch 171: 100%|██████████| 38/38 [00:10<00:00,  3.48batch/s, accuracy=98.30508474576271%, loss=0.219]\n"
     ]
    },
    {
     "name": "stdout",
     "output_type": "stream",
     "text": [
      "tensor([0.2342, 0.2550, 0.0968, 0.4140], device='cuda:7')\n"
     ]
    },
    {
     "name": "stderr",
     "output_type": "stream",
     "text": [
      "Epoch 172: 100%|██████████| 38/38 [00:10<00:00,  3.50batch/s, accuracy=96.61016949152543%, loss=0.14]\n"
     ]
    },
    {
     "name": "stdout",
     "output_type": "stream",
     "text": [
      "tensor([0.2354, 0.2550, 0.0974, 0.4122], device='cuda:7')\n"
     ]
    },
    {
     "name": "stderr",
     "output_type": "stream",
     "text": [
      "Epoch 173: 100%|██████████| 38/38 [00:11<00:00,  3.45batch/s, accuracy=98.30508474576271%, loss=0.162]\n"
     ]
    },
    {
     "name": "stdout",
     "output_type": "stream",
     "text": [
      "tensor([0.2364, 0.2539, 0.0984, 0.4113], device='cuda:7')\n"
     ]
    },
    {
     "name": "stderr",
     "output_type": "stream",
     "text": [
      "Epoch 174: 100%|██████████| 38/38 [00:10<00:00,  3.48batch/s, accuracy=98.30508474576271%, loss=0.183]\n"
     ]
    },
    {
     "name": "stdout",
     "output_type": "stream",
     "text": [
      "tensor([0.2372, 0.2529, 0.0990, 0.4108], device='cuda:7')\n"
     ]
    },
    {
     "name": "stderr",
     "output_type": "stream",
     "text": [
      "Epoch 175: 100%|██████████| 38/38 [00:11<00:00,  3.42batch/s, accuracy=96.61016949152543%, loss=0.205]\n"
     ]
    },
    {
     "name": "stdout",
     "output_type": "stream",
     "text": [
      "tensor([0.2383, 0.2518, 0.0999, 0.4100], device='cuda:7')\n"
     ]
    },
    {
     "name": "stderr",
     "output_type": "stream",
     "text": [
      "Epoch 176: 100%|██████████| 38/38 [00:11<00:00,  3.45batch/s, accuracy=94.91525423728814%, loss=0.233]\n"
     ]
    },
    {
     "name": "stdout",
     "output_type": "stream",
     "text": [
      "tensor([0.2389, 0.2510, 0.1006, 0.4094], device='cuda:7')\n"
     ]
    },
    {
     "name": "stderr",
     "output_type": "stream",
     "text": [
      "Epoch 177: 100%|██████████| 38/38 [00:10<00:00,  3.48batch/s, accuracy=98.30508474576271%, loss=0.196]\n"
     ]
    },
    {
     "name": "stdout",
     "output_type": "stream",
     "text": [
      "tensor([0.2390, 0.2492, 0.1018, 0.4100], device='cuda:7')\n"
     ]
    },
    {
     "name": "stderr",
     "output_type": "stream",
     "text": [
      "Epoch 178: 100%|██████████| 38/38 [00:10<00:00,  3.48batch/s, accuracy=100.0%, loss=0.155]   \n"
     ]
    },
    {
     "name": "stdout",
     "output_type": "stream",
     "text": [
      "tensor([0.2400, 0.2482, 0.1026, 0.4092], device='cuda:7')\n"
     ]
    },
    {
     "name": "stderr",
     "output_type": "stream",
     "text": [
      "Epoch 179: 100%|██████████| 38/38 [00:10<00:00,  3.48batch/s, accuracy=100.0%, loss=0.151]   \n"
     ]
    },
    {
     "name": "stdout",
     "output_type": "stream",
     "text": [
      "tensor([0.2397, 0.2464, 0.1035, 0.4104], device='cuda:7')\n"
     ]
    },
    {
     "name": "stderr",
     "output_type": "stream",
     "text": [
      "Epoch 180: 100%|██████████| 38/38 [00:10<00:00,  3.49batch/s, accuracy=94.91525423728814%, loss=0.19]\n"
     ]
    },
    {
     "name": "stdout",
     "output_type": "stream",
     "text": [
      "tensor([0.2413, 0.2467, 0.1044, 0.4075], device='cuda:7')\n"
     ]
    },
    {
     "name": "stderr",
     "output_type": "stream",
     "text": [
      "Epoch 181: 100%|██████████| 38/38 [00:10<00:00,  3.50batch/s, accuracy=100.0%, loss=0.186]   \n"
     ]
    },
    {
     "name": "stdout",
     "output_type": "stream",
     "text": [
      "tensor([0.2426, 0.2454, 0.1053, 0.4068], device='cuda:7')\n"
     ]
    },
    {
     "name": "stderr",
     "output_type": "stream",
     "text": [
      "Epoch 182: 100%|██████████| 38/38 [00:10<00:00,  3.47batch/s, accuracy=94.91525423728814%, loss=0.242]\n"
     ]
    },
    {
     "name": "stdout",
     "output_type": "stream",
     "text": [
      "tensor([0.2439, 0.2433, 0.1058, 0.4070], device='cuda:7')\n"
     ]
    },
    {
     "name": "stderr",
     "output_type": "stream",
     "text": [
      "Epoch 183: 100%|██████████| 38/38 [00:10<00:00,  3.47batch/s, accuracy=100.0%, loss=0.156]   \n"
     ]
    },
    {
     "name": "stdout",
     "output_type": "stream",
     "text": [
      "tensor([0.2449, 0.2427, 0.1070, 0.4054], device='cuda:7')\n"
     ]
    },
    {
     "name": "stderr",
     "output_type": "stream",
     "text": [
      "Epoch 184: 100%|██████████| 38/38 [00:10<00:00,  3.47batch/s, accuracy=91.52542372881356%, loss=0.225]\n"
     ]
    },
    {
     "name": "stdout",
     "output_type": "stream",
     "text": [
      "tensor([0.2459, 0.2416, 0.1081, 0.4044], device='cuda:7')\n"
     ]
    },
    {
     "name": "stderr",
     "output_type": "stream",
     "text": [
      "Epoch 185: 100%|██████████| 38/38 [00:10<00:00,  3.47batch/s, accuracy=94.91525423728814%, loss=0.189]\n"
     ]
    },
    {
     "name": "stdout",
     "output_type": "stream",
     "text": [
      "tensor([0.2469, 0.2409, 0.1096, 0.4026], device='cuda:7')\n"
     ]
    },
    {
     "name": "stderr",
     "output_type": "stream",
     "text": [
      "Epoch 186: 100%|██████████| 38/38 [00:10<00:00,  3.46batch/s, accuracy=94.91525423728814%, loss=0.185]\n"
     ]
    },
    {
     "name": "stdout",
     "output_type": "stream",
     "text": [
      "tensor([0.2484, 0.2397, 0.1105, 0.4014], device='cuda:7')\n"
     ]
    },
    {
     "name": "stderr",
     "output_type": "stream",
     "text": [
      "Epoch 187: 100%|██████████| 38/38 [00:10<00:00,  3.48batch/s, accuracy=100.0%, loss=0.138]   \n"
     ]
    },
    {
     "name": "stdout",
     "output_type": "stream",
     "text": [
      "tensor([0.2495, 0.2397, 0.1118, 0.3990], device='cuda:7')\n"
     ]
    },
    {
     "name": "stderr",
     "output_type": "stream",
     "text": [
      "Epoch 188: 100%|██████████| 38/38 [00:10<00:00,  3.50batch/s, accuracy=96.61016949152543%, loss=0.193]\n"
     ]
    },
    {
     "name": "stdout",
     "output_type": "stream",
     "text": [
      "tensor([0.2505, 0.2385, 0.1127, 0.3984], device='cuda:7')\n"
     ]
    },
    {
     "name": "stderr",
     "output_type": "stream",
     "text": [
      "Epoch 189: 100%|██████████| 38/38 [00:11<00:00,  3.43batch/s, accuracy=98.30508474576271%, loss=0.197]\n"
     ]
    },
    {
     "name": "stdout",
     "output_type": "stream",
     "text": [
      "tensor([0.2524, 0.2386, 0.1138, 0.3952], device='cuda:7')\n"
     ]
    },
    {
     "name": "stderr",
     "output_type": "stream",
     "text": [
      "Epoch 190: 100%|██████████| 38/38 [00:11<00:00,  3.45batch/s, accuracy=94.91525423728814%, loss=0.21]\n"
     ]
    },
    {
     "name": "stdout",
     "output_type": "stream",
     "text": [
      "tensor([0.2535, 0.2378, 0.1155, 0.3933], device='cuda:7')\n"
     ]
    },
    {
     "name": "stderr",
     "output_type": "stream",
     "text": [
      "Epoch 191: 100%|██████████| 38/38 [00:11<00:00,  3.44batch/s, accuracy=96.61016949152543%, loss=0.176]\n"
     ]
    },
    {
     "name": "stdout",
     "output_type": "stream",
     "text": [
      "tensor([0.2540, 0.2373, 0.1169, 0.3918], device='cuda:7')\n"
     ]
    },
    {
     "name": "stderr",
     "output_type": "stream",
     "text": [
      "Epoch 192: 100%|██████████| 38/38 [00:10<00:00,  3.46batch/s, accuracy=96.61016949152543%, loss=0.219]\n"
     ]
    },
    {
     "name": "stdout",
     "output_type": "stream",
     "text": [
      "tensor([0.2536, 0.2353, 0.1186, 0.3925], device='cuda:7')\n"
     ]
    },
    {
     "name": "stderr",
     "output_type": "stream",
     "text": [
      "Epoch 193: 100%|██████████| 38/38 [00:11<00:00,  3.45batch/s, accuracy=98.30508474576271%, loss=0.161]\n"
     ]
    },
    {
     "name": "stdout",
     "output_type": "stream",
     "text": [
      "tensor([0.2553, 0.2348, 0.1198, 0.3901], device='cuda:7')\n"
     ]
    },
    {
     "name": "stderr",
     "output_type": "stream",
     "text": [
      "Epoch 194: 100%|██████████| 38/38 [00:10<00:00,  3.49batch/s, accuracy=100.0%, loss=0.145]   \n"
     ]
    },
    {
     "name": "stdout",
     "output_type": "stream",
     "text": [
      "tensor([0.2565, 0.2335, 0.1213, 0.3887], device='cuda:7')\n"
     ]
    },
    {
     "name": "stderr",
     "output_type": "stream",
     "text": [
      "Epoch 195: 100%|██████████| 38/38 [00:10<00:00,  3.50batch/s, accuracy=94.91525423728814%, loss=0.199]\n"
     ]
    },
    {
     "name": "stdout",
     "output_type": "stream",
     "text": [
      "tensor([0.2569, 0.2319, 0.1228, 0.3884], device='cuda:7')\n"
     ]
    },
    {
     "name": "stderr",
     "output_type": "stream",
     "text": [
      "Epoch 196: 100%|██████████| 38/38 [00:10<00:00,  3.49batch/s, accuracy=100.0%, loss=0.149]   \n"
     ]
    },
    {
     "name": "stdout",
     "output_type": "stream",
     "text": [
      "tensor([0.2581, 0.2313, 0.1243, 0.3863], device='cuda:7')\n"
     ]
    },
    {
     "name": "stderr",
     "output_type": "stream",
     "text": [
      "Epoch 197: 100%|██████████| 38/38 [00:10<00:00,  3.49batch/s, accuracy=100.0%, loss=0.162]   \n"
     ]
    },
    {
     "name": "stdout",
     "output_type": "stream",
     "text": [
      "tensor([0.2589, 0.2309, 0.1255, 0.3847], device='cuda:7')\n"
     ]
    },
    {
     "name": "stderr",
     "output_type": "stream",
     "text": [
      "Epoch 198: 100%|██████████| 38/38 [00:10<00:00,  3.49batch/s, accuracy=98.30508474576271%, loss=0.167]\n"
     ]
    },
    {
     "name": "stdout",
     "output_type": "stream",
     "text": [
      "tensor([0.2595, 0.2300, 0.1269, 0.3835], device='cuda:7')\n"
     ]
    },
    {
     "name": "stderr",
     "output_type": "stream",
     "text": [
      "Epoch 199: 100%|██████████| 38/38 [00:10<00:00,  3.50batch/s, accuracy=100.0%, loss=0.133]   \n"
     ]
    },
    {
     "name": "stdout",
     "output_type": "stream",
     "text": [
      "tensor([0.2610, 0.2296, 0.1280, 0.3815], device='cuda:7')\n"
     ]
    },
    {
     "name": "stderr",
     "output_type": "stream",
     "text": [
      "Epoch 200: 100%|██████████| 38/38 [00:10<00:00,  3.48batch/s, accuracy=98.30508474576271%, loss=0.186]\n"
     ]
    },
    {
     "name": "stdout",
     "output_type": "stream",
     "text": [
      "tensor([0.2612, 0.2285, 0.1295, 0.3808], device='cuda:7')\n"
     ]
    },
    {
     "name": "stderr",
     "output_type": "stream",
     "text": [
      "Epoch 201: 100%|██████████| 38/38 [00:11<00:00,  3.43batch/s, accuracy=94.91525423728814%, loss=0.218]\n"
     ]
    },
    {
     "name": "stdout",
     "output_type": "stream",
     "text": [
      "tensor([0.2619, 0.2279, 0.1309, 0.3793], device='cuda:7')\n"
     ]
    },
    {
     "name": "stderr",
     "output_type": "stream",
     "text": [
      "Epoch 202: 100%|██████████| 38/38 [00:10<00:00,  3.47batch/s, accuracy=98.30508474576271%, loss=0.179]\n"
     ]
    },
    {
     "name": "stdout",
     "output_type": "stream",
     "text": [
      "tensor([0.2627, 0.2277, 0.1322, 0.3774], device='cuda:7')\n"
     ]
    },
    {
     "name": "stderr",
     "output_type": "stream",
     "text": [
      "Epoch 203: 100%|██████████| 38/38 [00:10<00:00,  3.46batch/s, accuracy=94.91525423728814%, loss=0.188]\n"
     ]
    },
    {
     "name": "stdout",
     "output_type": "stream",
     "text": [
      "tensor([0.2626, 0.2264, 0.1335, 0.3775], device='cuda:7')\n"
     ]
    },
    {
     "name": "stderr",
     "output_type": "stream",
     "text": [
      "Epoch 204: 100%|██████████| 38/38 [00:10<00:00,  3.50batch/s, accuracy=100.0%, loss=0.151]   \n"
     ]
    },
    {
     "name": "stdout",
     "output_type": "stream",
     "text": [
      "tensor([0.2635, 0.2250, 0.1353, 0.3762], device='cuda:7')\n"
     ]
    },
    {
     "name": "stderr",
     "output_type": "stream",
     "text": [
      "Epoch 205: 100%|██████████| 38/38 [00:10<00:00,  3.46batch/s, accuracy=96.61016949152543%, loss=0.21]\n"
     ]
    },
    {
     "name": "stdout",
     "output_type": "stream",
     "text": [
      "tensor([0.2644, 0.2245, 0.1370, 0.3741], device='cuda:7')\n"
     ]
    },
    {
     "name": "stderr",
     "output_type": "stream",
     "text": [
      "Epoch 206: 100%|██████████| 38/38 [00:10<00:00,  3.51batch/s, accuracy=100.0%, loss=0.191]   \n"
     ]
    },
    {
     "name": "stdout",
     "output_type": "stream",
     "text": [
      "tensor([0.2654, 0.2231, 0.1384, 0.3731], device='cuda:7')\n"
     ]
    },
    {
     "name": "stderr",
     "output_type": "stream",
     "text": [
      "Epoch 207: 100%|██████████| 38/38 [00:10<00:00,  3.47batch/s, accuracy=96.61016949152543%, loss=0.21]\n"
     ]
    },
    {
     "name": "stdout",
     "output_type": "stream",
     "text": [
      "tensor([0.2667, 0.2226, 0.1394, 0.3713], device='cuda:7')\n"
     ]
    },
    {
     "name": "stderr",
     "output_type": "stream",
     "text": [
      "Epoch 208: 100%|██████████| 38/38 [00:10<00:00,  3.46batch/s, accuracy=96.61016949152543%, loss=0.198]\n"
     ]
    },
    {
     "name": "stdout",
     "output_type": "stream",
     "text": [
      "tensor([0.2679, 0.2214, 0.1407, 0.3700], device='cuda:7')\n"
     ]
    },
    {
     "name": "stderr",
     "output_type": "stream",
     "text": [
      "Epoch 209: 100%|██████████| 38/38 [00:10<00:00,  3.47batch/s, accuracy=96.61016949152543%, loss=0.166]\n"
     ]
    },
    {
     "name": "stdout",
     "output_type": "stream",
     "text": [
      "tensor([0.2696, 0.2209, 0.1420, 0.3675], device='cuda:7')\n"
     ]
    },
    {
     "name": "stderr",
     "output_type": "stream",
     "text": [
      "Epoch 210: 100%|██████████| 38/38 [00:10<00:00,  3.49batch/s, accuracy=96.61016949152543%, loss=0.166]\n"
     ]
    },
    {
     "name": "stdout",
     "output_type": "stream",
     "text": [
      "tensor([0.2699, 0.2198, 0.1431, 0.3672], device='cuda:7')\n"
     ]
    },
    {
     "name": "stderr",
     "output_type": "stream",
     "text": [
      "Epoch 211: 100%|██████████| 38/38 [00:11<00:00,  3.42batch/s, accuracy=100.0%, loss=0.142]   \n"
     ]
    },
    {
     "name": "stdout",
     "output_type": "stream",
     "text": [
      "tensor([0.2713, 0.2188, 0.1445, 0.3654], device='cuda:7')\n"
     ]
    },
    {
     "name": "stderr",
     "output_type": "stream",
     "text": [
      "Epoch 212: 100%|██████████| 38/38 [00:10<00:00,  3.50batch/s, accuracy=96.61016949152543%, loss=0.206]\n"
     ]
    },
    {
     "name": "stdout",
     "output_type": "stream",
     "text": [
      "tensor([0.2723, 0.2184, 0.1457, 0.3636], device='cuda:7')\n"
     ]
    },
    {
     "name": "stderr",
     "output_type": "stream",
     "text": [
      "Epoch 213: 100%|██████████| 38/38 [00:11<00:00,  3.39batch/s, accuracy=98.30508474576271%, loss=0.148]\n"
     ]
    },
    {
     "name": "stdout",
     "output_type": "stream",
     "text": [
      "tensor([0.2726, 0.2176, 0.1470, 0.3627], device='cuda:7')\n"
     ]
    },
    {
     "name": "stderr",
     "output_type": "stream",
     "text": [
      "Epoch 214: 100%|██████████| 38/38 [00:10<00:00,  3.48batch/s, accuracy=100.0%, loss=0.162]   \n"
     ]
    },
    {
     "name": "stdout",
     "output_type": "stream",
     "text": [
      "tensor([0.2737, 0.2167, 0.1480, 0.3616], device='cuda:7')\n"
     ]
    },
    {
     "name": "stderr",
     "output_type": "stream",
     "text": [
      "Epoch 215: 100%|██████████| 38/38 [00:10<00:00,  3.49batch/s, accuracy=96.61016949152543%, loss=0.156]\n"
     ]
    },
    {
     "name": "stdout",
     "output_type": "stream",
     "text": [
      "tensor([0.2741, 0.2157, 0.1498, 0.3605], device='cuda:7')\n"
     ]
    },
    {
     "name": "stderr",
     "output_type": "stream",
     "text": [
      "Epoch 216: 100%|██████████| 38/38 [00:10<00:00,  3.46batch/s, accuracy=94.91525423728814%, loss=0.219]\n"
     ]
    },
    {
     "name": "stdout",
     "output_type": "stream",
     "text": [
      "tensor([0.2756, 0.2153, 0.1507, 0.3585], device='cuda:7')\n"
     ]
    },
    {
     "name": "stderr",
     "output_type": "stream",
     "text": [
      "Epoch 217: 100%|██████████| 38/38 [00:10<00:00,  3.50batch/s, accuracy=100.0%, loss=0.154]   \n"
     ]
    },
    {
     "name": "stdout",
     "output_type": "stream",
     "text": [
      "tensor([0.2771, 0.2156, 0.1520, 0.3554], device='cuda:7')\n"
     ]
    },
    {
     "name": "stderr",
     "output_type": "stream",
     "text": [
      "Epoch 218: 100%|██████████| 38/38 [00:10<00:00,  3.49batch/s, accuracy=96.61016949152543%, loss=0.183]\n"
     ]
    },
    {
     "name": "stdout",
     "output_type": "stream",
     "text": [
      "tensor([0.2778, 0.2152, 0.1533, 0.3538], device='cuda:7')\n"
     ]
    },
    {
     "name": "stderr",
     "output_type": "stream",
     "text": [
      "Epoch 219: 100%|██████████| 38/38 [00:10<00:00,  3.48batch/s, accuracy=96.61016949152543%, loss=0.174]\n"
     ]
    },
    {
     "name": "stdout",
     "output_type": "stream",
     "text": [
      "tensor([0.2791, 0.2147, 0.1541, 0.3521], device='cuda:7')\n"
     ]
    },
    {
     "name": "stderr",
     "output_type": "stream",
     "text": [
      "Epoch 220: 100%|██████████| 38/38 [00:10<00:00,  3.48batch/s, accuracy=98.30508474576271%, loss=0.151]\n"
     ]
    },
    {
     "name": "stdout",
     "output_type": "stream",
     "text": [
      "tensor([0.2802, 0.2141, 0.1553, 0.3504], device='cuda:7')\n"
     ]
    },
    {
     "name": "stderr",
     "output_type": "stream",
     "text": [
      "Epoch 221: 100%|██████████| 38/38 [00:10<00:00,  3.48batch/s, accuracy=98.30508474576271%, loss=0.165]\n"
     ]
    },
    {
     "name": "stdout",
     "output_type": "stream",
     "text": [
      "tensor([0.2814, 0.2131, 0.1560, 0.3496], device='cuda:7')\n"
     ]
    },
    {
     "name": "stderr",
     "output_type": "stream",
     "text": [
      "Epoch 222: 100%|██████████| 38/38 [00:10<00:00,  3.50batch/s, accuracy=94.91525423728814%, loss=0.206]\n"
     ]
    },
    {
     "name": "stdout",
     "output_type": "stream",
     "text": [
      "tensor([0.2825, 0.2125, 0.1570, 0.3480], device='cuda:7')\n"
     ]
    },
    {
     "name": "stderr",
     "output_type": "stream",
     "text": [
      "Epoch 223: 100%|██████████| 38/38 [00:10<00:00,  3.47batch/s, accuracy=98.30508474576271%, loss=0.158]\n"
     ]
    },
    {
     "name": "stdout",
     "output_type": "stream",
     "text": [
      "tensor([0.2829, 0.2119, 0.1583, 0.3470], device='cuda:7')\n"
     ]
    },
    {
     "name": "stderr",
     "output_type": "stream",
     "text": [
      "Epoch 224: 100%|██████████| 38/38 [00:10<00:00,  3.48batch/s, accuracy=94.91525423728814%, loss=0.195]\n"
     ]
    },
    {
     "name": "stdout",
     "output_type": "stream",
     "text": [
      "tensor([0.2841, 0.2120, 0.1588, 0.3451], device='cuda:7')\n"
     ]
    },
    {
     "name": "stderr",
     "output_type": "stream",
     "text": [
      "Epoch 225: 100%|██████████| 38/38 [00:10<00:00,  3.50batch/s, accuracy=94.91525423728814%, loss=0.216]\n"
     ]
    },
    {
     "name": "stdout",
     "output_type": "stream",
     "text": [
      "tensor([0.2848, 0.2111, 0.1600, 0.3440], device='cuda:7')\n"
     ]
    },
    {
     "name": "stderr",
     "output_type": "stream",
     "text": [
      "Epoch 226: 100%|██████████| 38/38 [00:10<00:00,  3.51batch/s, accuracy=98.30508474576271%, loss=0.191]\n"
     ]
    },
    {
     "name": "stdout",
     "output_type": "stream",
     "text": [
      "tensor([0.2848, 0.2104, 0.1616, 0.3432], device='cuda:7')\n"
     ]
    },
    {
     "name": "stderr",
     "output_type": "stream",
     "text": [
      "Epoch 227: 100%|██████████| 38/38 [00:10<00:00,  3.46batch/s, accuracy=98.30508474576271%, loss=0.151]\n"
     ]
    },
    {
     "name": "stdout",
     "output_type": "stream",
     "text": [
      "tensor([0.2857, 0.2099, 0.1628, 0.3416], device='cuda:7')\n"
     ]
    },
    {
     "name": "stderr",
     "output_type": "stream",
     "text": [
      "Epoch 228: 100%|██████████| 38/38 [00:10<00:00,  3.48batch/s, accuracy=96.61016949152543%, loss=0.197]\n"
     ]
    },
    {
     "name": "stdout",
     "output_type": "stream",
     "text": [
      "tensor([0.2860, 0.2095, 0.1641, 0.3404], device='cuda:7')\n"
     ]
    },
    {
     "name": "stderr",
     "output_type": "stream",
     "text": [
      "Epoch 229: 100%|██████████| 38/38 [00:11<00:00,  3.43batch/s, accuracy=96.61016949152543%, loss=0.224]\n"
     ]
    },
    {
     "name": "stdout",
     "output_type": "stream",
     "text": [
      "tensor([0.2863, 0.2086, 0.1646, 0.3405], device='cuda:7')\n"
     ]
    },
    {
     "name": "stderr",
     "output_type": "stream",
     "text": [
      "Epoch 230: 100%|██████████| 38/38 [00:10<00:00,  3.48batch/s, accuracy=93.22033898305085%, loss=0.23]\n"
     ]
    },
    {
     "name": "stdout",
     "output_type": "stream",
     "text": [
      "tensor([0.2862, 0.2076, 0.1665, 0.3397], device='cuda:7')\n"
     ]
    },
    {
     "name": "stderr",
     "output_type": "stream",
     "text": [
      "Epoch 231: 100%|██████████| 38/38 [00:10<00:00,  3.49batch/s, accuracy=100.0%, loss=0.173]   \n"
     ]
    },
    {
     "name": "stdout",
     "output_type": "stream",
     "text": [
      "tensor([0.2867, 0.2075, 0.1678, 0.3380], device='cuda:7')\n"
     ]
    },
    {
     "name": "stderr",
     "output_type": "stream",
     "text": [
      "Epoch 232: 100%|██████████| 38/38 [00:10<00:00,  3.48batch/s, accuracy=100.0%, loss=0.185]   \n"
     ]
    },
    {
     "name": "stdout",
     "output_type": "stream",
     "text": [
      "tensor([0.2875, 0.2067, 0.1691, 0.3367], device='cuda:7')\n"
     ]
    },
    {
     "name": "stderr",
     "output_type": "stream",
     "text": [
      "Epoch 233: 100%|██████████| 38/38 [00:10<00:00,  3.49batch/s, accuracy=98.30508474576271%, loss=0.168]\n"
     ]
    },
    {
     "name": "stdout",
     "output_type": "stream",
     "text": [
      "tensor([0.2876, 0.2061, 0.1705, 0.3358], device='cuda:7')\n"
     ]
    },
    {
     "name": "stderr",
     "output_type": "stream",
     "text": [
      "Epoch 234: 100%|██████████| 38/38 [00:10<00:00,  3.50batch/s, accuracy=96.61016949152543%, loss=0.187]\n"
     ]
    },
    {
     "name": "stdout",
     "output_type": "stream",
     "text": [
      "tensor([0.2875, 0.2051, 0.1717, 0.3356], device='cuda:7')\n"
     ]
    },
    {
     "name": "stderr",
     "output_type": "stream",
     "text": [
      "Epoch 235: 100%|██████████| 38/38 [00:10<00:00,  3.48batch/s, accuracy=98.30508474576271%, loss=0.156]\n"
     ]
    },
    {
     "name": "stdout",
     "output_type": "stream",
     "text": [
      "tensor([0.2883, 0.2048, 0.1728, 0.3341], device='cuda:7')\n"
     ]
    },
    {
     "name": "stderr",
     "output_type": "stream",
     "text": [
      "Epoch 236: 100%|██████████| 38/38 [00:10<00:00,  3.51batch/s, accuracy=100.0%, loss=0.153]   \n"
     ]
    },
    {
     "name": "stdout",
     "output_type": "stream",
     "text": [
      "tensor([0.2899, 0.2040, 0.1738, 0.3323], device='cuda:7')\n"
     ]
    },
    {
     "name": "stderr",
     "output_type": "stream",
     "text": [
      "Epoch 237: 100%|██████████| 38/38 [00:10<00:00,  3.48batch/s, accuracy=96.61016949152543%, loss=0.183]\n"
     ]
    },
    {
     "name": "stdout",
     "output_type": "stream",
     "text": [
      "tensor([0.2901, 0.2033, 0.1751, 0.3315], device='cuda:7')\n"
     ]
    },
    {
     "name": "stderr",
     "output_type": "stream",
     "text": [
      "Epoch 238: 100%|██████████| 38/38 [00:10<00:00,  3.48batch/s, accuracy=100.0%, loss=0.154]   \n"
     ]
    },
    {
     "name": "stdout",
     "output_type": "stream",
     "text": [
      "tensor([0.2912, 0.2026, 0.1759, 0.3303], device='cuda:7')\n"
     ]
    },
    {
     "name": "stderr",
     "output_type": "stream",
     "text": [
      "Epoch 239: 100%|██████████| 38/38 [00:10<00:00,  3.48batch/s, accuracy=98.30508474576271%, loss=0.175]\n"
     ]
    },
    {
     "name": "stdout",
     "output_type": "stream",
     "text": [
      "tensor([0.2912, 0.2027, 0.1775, 0.3285], device='cuda:7')\n"
     ]
    },
    {
     "name": "stderr",
     "output_type": "stream",
     "text": [
      "Epoch 240: 100%|██████████| 38/38 [00:11<00:00,  3.44batch/s, accuracy=100.0%, loss=0.163]   \n"
     ]
    },
    {
     "name": "stdout",
     "output_type": "stream",
     "text": [
      "tensor([0.2910, 0.2016, 0.1795, 0.3279], device='cuda:7')\n"
     ]
    },
    {
     "name": "stderr",
     "output_type": "stream",
     "text": [
      "Epoch 241: 100%|██████████| 38/38 [00:10<00:00,  3.48batch/s, accuracy=98.30508474576271%, loss=0.189]\n"
     ]
    },
    {
     "name": "stdout",
     "output_type": "stream",
     "text": [
      "tensor([0.2922, 0.2014, 0.1798, 0.3266], device='cuda:7')\n"
     ]
    },
    {
     "name": "stderr",
     "output_type": "stream",
     "text": [
      "Epoch 242: 100%|██████████| 38/38 [00:10<00:00,  3.52batch/s, accuracy=98.30508474576271%, loss=0.154]\n"
     ]
    },
    {
     "name": "stdout",
     "output_type": "stream",
     "text": [
      "tensor([0.2931, 0.2013, 0.1807, 0.3249], device='cuda:7')\n"
     ]
    },
    {
     "name": "stderr",
     "output_type": "stream",
     "text": [
      "Epoch 243: 100%|██████████| 38/38 [00:10<00:00,  3.53batch/s, accuracy=98.30508474576271%, loss=0.194]\n"
     ]
    },
    {
     "name": "stdout",
     "output_type": "stream",
     "text": [
      "tensor([0.2936, 0.2010, 0.1817, 0.3237], device='cuda:7')\n"
     ]
    },
    {
     "name": "stderr",
     "output_type": "stream",
     "text": [
      "Epoch 244: 100%|██████████| 38/38 [00:10<00:00,  3.47batch/s, accuracy=98.30508474576271%, loss=0.166]\n"
     ]
    },
    {
     "name": "stdout",
     "output_type": "stream",
     "text": [
      "tensor([0.2941, 0.2010, 0.1823, 0.3226], device='cuda:7')\n"
     ]
    },
    {
     "name": "stderr",
     "output_type": "stream",
     "text": [
      "Epoch 245: 100%|██████████| 38/38 [00:10<00:00,  3.49batch/s, accuracy=100.0%, loss=0.146]   \n"
     ]
    },
    {
     "name": "stdout",
     "output_type": "stream",
     "text": [
      "tensor([0.2953, 0.2008, 0.1828, 0.3211], device='cuda:7')\n"
     ]
    },
    {
     "name": "stderr",
     "output_type": "stream",
     "text": [
      "Epoch 246: 100%|██████████| 38/38 [00:10<00:00,  3.51batch/s, accuracy=96.61016949152543%, loss=0.191]\n"
     ]
    },
    {
     "name": "stdout",
     "output_type": "stream",
     "text": [
      "tensor([0.2952, 0.2005, 0.1839, 0.3204], device='cuda:7')\n"
     ]
    },
    {
     "name": "stderr",
     "output_type": "stream",
     "text": [
      "Epoch 247: 100%|██████████| 38/38 [00:10<00:00,  3.47batch/s, accuracy=98.30508474576271%, loss=0.184]\n"
     ]
    },
    {
     "name": "stdout",
     "output_type": "stream",
     "text": [
      "tensor([0.2953, 0.2002, 0.1848, 0.3197], device='cuda:7')\n"
     ]
    },
    {
     "name": "stderr",
     "output_type": "stream",
     "text": [
      "Epoch 248: 100%|██████████| 38/38 [00:10<00:00,  3.50batch/s, accuracy=100.0%, loss=0.158]   \n"
     ]
    },
    {
     "name": "stdout",
     "output_type": "stream",
     "text": [
      "tensor([0.2943, 0.1993, 0.1863, 0.3201], device='cuda:7')\n"
     ]
    },
    {
     "name": "stderr",
     "output_type": "stream",
     "text": [
      "Epoch 249: 100%|██████████| 38/38 [00:11<00:00,  3.44batch/s, accuracy=96.61016949152543%, loss=0.178]\n"
     ]
    },
    {
     "name": "stdout",
     "output_type": "stream",
     "text": [
      "tensor([0.2951, 0.1992, 0.1869, 0.3188], device='cuda:7')\n"
     ]
    },
    {
     "name": "stderr",
     "output_type": "stream",
     "text": [
      "Epoch 250: 100%|██████████| 38/38 [00:11<00:00,  3.43batch/s, accuracy=98.30508474576271%, loss=0.185]\n"
     ]
    },
    {
     "name": "stdout",
     "output_type": "stream",
     "text": [
      "tensor([0.2951, 0.1987, 0.1876, 0.3186], device='cuda:7')\n"
     ]
    },
    {
     "name": "stderr",
     "output_type": "stream",
     "text": [
      "Epoch 251: 100%|██████████| 38/38 [00:10<00:00,  3.48batch/s, accuracy=96.61016949152543%, loss=0.191]\n"
     ]
    },
    {
     "name": "stdout",
     "output_type": "stream",
     "text": [
      "tensor([0.2953, 0.1980, 0.1886, 0.3180], device='cuda:7')\n"
     ]
    },
    {
     "name": "stderr",
     "output_type": "stream",
     "text": [
      "Epoch 252: 100%|██████████| 38/38 [00:11<00:00,  3.44batch/s, accuracy=98.30508474576271%, loss=0.169]\n"
     ]
    },
    {
     "name": "stdout",
     "output_type": "stream",
     "text": [
      "tensor([0.2946, 0.1972, 0.1896, 0.3186], device='cuda:7')\n"
     ]
    },
    {
     "name": "stderr",
     "output_type": "stream",
     "text": [
      "Epoch 253: 100%|██████████| 38/38 [00:10<00:00,  3.49batch/s, accuracy=100.0%, loss=0.166]   \n"
     ]
    },
    {
     "name": "stdout",
     "output_type": "stream",
     "text": [
      "tensor([0.2946, 0.1967, 0.1902, 0.3185], device='cuda:7')\n"
     ]
    },
    {
     "name": "stderr",
     "output_type": "stream",
     "text": [
      "Epoch 254: 100%|██████████| 38/38 [00:10<00:00,  3.47batch/s, accuracy=100.0%, loss=0.155]   \n"
     ]
    },
    {
     "name": "stdout",
     "output_type": "stream",
     "text": [
      "tensor([0.2947, 0.1967, 0.1906, 0.3180], device='cuda:7')\n"
     ]
    },
    {
     "name": "stderr",
     "output_type": "stream",
     "text": [
      "Epoch 255: 100%|██████████| 38/38 [00:10<00:00,  3.49batch/s, accuracy=100.0%, loss=0.168]   \n"
     ]
    },
    {
     "name": "stdout",
     "output_type": "stream",
     "text": [
      "tensor([0.2962, 0.1966, 0.1910, 0.3161], device='cuda:7')\n"
     ]
    },
    {
     "name": "stderr",
     "output_type": "stream",
     "text": [
      "Epoch 256: 100%|██████████| 38/38 [00:10<00:00,  3.51batch/s, accuracy=96.61016949152543%, loss=0.177]\n"
     ]
    },
    {
     "name": "stdout",
     "output_type": "stream",
     "text": [
      "tensor([0.2970, 0.1965, 0.1918, 0.3147], device='cuda:7')\n"
     ]
    },
    {
     "name": "stderr",
     "output_type": "stream",
     "text": [
      "Epoch 257: 100%|██████████| 38/38 [00:10<00:00,  3.51batch/s, accuracy=98.30508474576271%, loss=0.18]\n"
     ]
    },
    {
     "name": "stdout",
     "output_type": "stream",
     "text": [
      "tensor([0.2973, 0.1963, 0.1920, 0.3144], device='cuda:7')\n"
     ]
    },
    {
     "name": "stderr",
     "output_type": "stream",
     "text": [
      "Epoch 258: 100%|██████████| 38/38 [00:10<00:00,  3.50batch/s, accuracy=100.0%, loss=0.159]   \n"
     ]
    },
    {
     "name": "stdout",
     "output_type": "stream",
     "text": [
      "tensor([0.2965, 0.1961, 0.1930, 0.3143], device='cuda:7')\n"
     ]
    },
    {
     "name": "stderr",
     "output_type": "stream",
     "text": [
      "Epoch 259: 100%|██████████| 38/38 [00:10<00:00,  3.48batch/s, accuracy=100.0%, loss=0.16]    \n"
     ]
    },
    {
     "name": "stdout",
     "output_type": "stream",
     "text": [
      "tensor([0.2972, 0.1960, 0.1930, 0.3138], device='cuda:7')\n"
     ]
    },
    {
     "name": "stderr",
     "output_type": "stream",
     "text": [
      "Epoch 260: 100%|██████████| 38/38 [00:10<00:00,  3.47batch/s, accuracy=100.0%, loss=0.163]   \n"
     ]
    },
    {
     "name": "stdout",
     "output_type": "stream",
     "text": [
      "tensor([0.2977, 0.1955, 0.1941, 0.3128], device='cuda:7')\n"
     ]
    },
    {
     "name": "stderr",
     "output_type": "stream",
     "text": [
      "Epoch 261: 100%|██████████| 38/38 [00:10<00:00,  3.50batch/s, accuracy=98.30508474576271%, loss=0.184]\n"
     ]
    },
    {
     "name": "stdout",
     "output_type": "stream",
     "text": [
      "tensor([0.2967, 0.1947, 0.1947, 0.3138], device='cuda:7')\n"
     ]
    },
    {
     "name": "stderr",
     "output_type": "stream",
     "text": [
      "Epoch 262: 100%|██████████| 38/38 [00:10<00:00,  3.48batch/s, accuracy=96.61016949152543%, loss=0.202]\n"
     ]
    },
    {
     "name": "stdout",
     "output_type": "stream",
     "text": [
      "tensor([0.2971, 0.1944, 0.1953, 0.3132], device='cuda:7')\n"
     ]
    },
    {
     "name": "stderr",
     "output_type": "stream",
     "text": [
      "Epoch 263: 100%|██████████| 38/38 [00:10<00:00,  3.49batch/s, accuracy=98.30508474576271%, loss=0.167]\n"
     ]
    },
    {
     "name": "stdout",
     "output_type": "stream",
     "text": [
      "tensor([0.2978, 0.1942, 0.1957, 0.3123], device='cuda:7')\n"
     ]
    },
    {
     "name": "stderr",
     "output_type": "stream",
     "text": [
      "Epoch 264: 100%|██████████| 38/38 [00:10<00:00,  3.50batch/s, accuracy=98.30508474576271%, loss=0.17]\n"
     ]
    },
    {
     "name": "stdout",
     "output_type": "stream",
     "text": [
      "tensor([0.2981, 0.1941, 0.1963, 0.3114], device='cuda:7')\n"
     ]
    },
    {
     "name": "stderr",
     "output_type": "stream",
     "text": [
      "Epoch 265: 100%|██████████| 38/38 [00:10<00:00,  3.51batch/s, accuracy=98.30508474576271%, loss=0.163]\n"
     ]
    },
    {
     "name": "stdout",
     "output_type": "stream",
     "text": [
      "tensor([0.2976, 0.1936, 0.1971, 0.3116], device='cuda:7')\n"
     ]
    },
    {
     "name": "stderr",
     "output_type": "stream",
     "text": [
      "Epoch 266: 100%|██████████| 38/38 [00:11<00:00,  3.44batch/s, accuracy=100.0%, loss=0.172]   \n"
     ]
    },
    {
     "name": "stdout",
     "output_type": "stream",
     "text": [
      "tensor([0.2972, 0.1936, 0.1978, 0.3114], device='cuda:7')\n"
     ]
    },
    {
     "name": "stderr",
     "output_type": "stream",
     "text": [
      "Epoch 267: 100%|██████████| 38/38 [00:10<00:00,  3.46batch/s, accuracy=96.61016949152543%, loss=0.191]\n"
     ]
    },
    {
     "name": "stdout",
     "output_type": "stream",
     "text": [
      "tensor([0.2968, 0.1932, 0.1978, 0.3123], device='cuda:7')\n"
     ]
    },
    {
     "name": "stderr",
     "output_type": "stream",
     "text": [
      "Epoch 268: 100%|██████████| 38/38 [00:10<00:00,  3.50batch/s, accuracy=100.0%, loss=0.16]    \n"
     ]
    },
    {
     "name": "stdout",
     "output_type": "stream",
     "text": [
      "tensor([0.2966, 0.1933, 0.1982, 0.3120], device='cuda:7')\n"
     ]
    },
    {
     "name": "stderr",
     "output_type": "stream",
     "text": [
      "Epoch 269: 100%|██████████| 38/38 [00:10<00:00,  3.50batch/s, accuracy=98.30508474576271%, loss=0.194]\n"
     ]
    },
    {
     "name": "stdout",
     "output_type": "stream",
     "text": [
      "tensor([0.2978, 0.1938, 0.1976, 0.3108], device='cuda:7')\n"
     ]
    },
    {
     "name": "stderr",
     "output_type": "stream",
     "text": [
      "Epoch 270: 100%|██████████| 38/38 [00:10<00:00,  3.48batch/s, accuracy=100.0%, loss=0.169]   \n"
     ]
    },
    {
     "name": "stdout",
     "output_type": "stream",
     "text": [
      "tensor([0.2986, 0.1941, 0.1974, 0.3099], device='cuda:7')\n"
     ]
    },
    {
     "name": "stderr",
     "output_type": "stream",
     "text": [
      "Epoch 271: 100%|██████████| 38/38 [00:10<00:00,  3.48batch/s, accuracy=100.0%, loss=0.181]   \n"
     ]
    },
    {
     "name": "stdout",
     "output_type": "stream",
     "text": [
      "tensor([0.2996, 0.1952, 0.1968, 0.3085], device='cuda:7')\n"
     ]
    },
    {
     "name": "stderr",
     "output_type": "stream",
     "text": [
      "Epoch 272: 100%|██████████| 38/38 [00:10<00:00,  3.48batch/s, accuracy=100.0%, loss=0.182]   \n"
     ]
    },
    {
     "name": "stdout",
     "output_type": "stream",
     "text": [
      "tensor([0.2990, 0.1952, 0.1972, 0.3086], device='cuda:7')\n"
     ]
    },
    {
     "name": "stderr",
     "output_type": "stream",
     "text": [
      "Epoch 273: 100%|██████████| 38/38 [00:10<00:00,  3.49batch/s, accuracy=98.30508474576271%, loss=0.177]\n"
     ]
    },
    {
     "name": "stdout",
     "output_type": "stream",
     "text": [
      "tensor([0.2991, 0.1951, 0.1971, 0.3088], device='cuda:7')\n"
     ]
    },
    {
     "name": "stderr",
     "output_type": "stream",
     "text": [
      "Epoch 274: 100%|██████████| 38/38 [00:10<00:00,  3.51batch/s, accuracy=96.61016949152543%, loss=0.218]\n"
     ]
    },
    {
     "name": "stdout",
     "output_type": "stream",
     "text": [
      "tensor([0.2985, 0.1953, 0.1968, 0.3095], device='cuda:7')\n"
     ]
    },
    {
     "name": "stderr",
     "output_type": "stream",
     "text": [
      "Epoch 275: 100%|██████████| 38/38 [00:10<00:00,  3.54batch/s, accuracy=100.0%, loss=0.17]    \n"
     ]
    },
    {
     "name": "stdout",
     "output_type": "stream",
     "text": [
      "tensor([0.2981, 0.1962, 0.1972, 0.3085], device='cuda:7')\n"
     ]
    },
    {
     "name": "stderr",
     "output_type": "stream",
     "text": [
      "Epoch 276: 100%|██████████| 38/38 [00:10<00:00,  3.50batch/s, accuracy=94.91525423728814%, loss=0.236]\n"
     ]
    },
    {
     "name": "stdout",
     "output_type": "stream",
     "text": [
      "tensor([0.2979, 0.1964, 0.1970, 0.3087], device='cuda:7')\n"
     ]
    },
    {
     "name": "stderr",
     "output_type": "stream",
     "text": [
      "Epoch 277: 100%|██████████| 38/38 [00:10<00:00,  3.50batch/s, accuracy=100.0%, loss=0.161]   \n"
     ]
    },
    {
     "name": "stdout",
     "output_type": "stream",
     "text": [
      "tensor([0.2983, 0.1968, 0.1971, 0.3078], device='cuda:7')\n"
     ]
    },
    {
     "name": "stderr",
     "output_type": "stream",
     "text": [
      "Epoch 278: 100%|██████████| 38/38 [00:10<00:00,  3.49batch/s, accuracy=100.0%, loss=0.171]   \n"
     ]
    },
    {
     "name": "stdout",
     "output_type": "stream",
     "text": [
      "tensor([0.2992, 0.1975, 0.1967, 0.3066], device='cuda:7')\n"
     ]
    },
    {
     "name": "stderr",
     "output_type": "stream",
     "text": [
      "Epoch 279: 100%|██████████| 38/38 [00:10<00:00,  3.51batch/s, accuracy=100.0%, loss=0.172]   \n"
     ]
    },
    {
     "name": "stdout",
     "output_type": "stream",
     "text": [
      "tensor([0.2981, 0.1978, 0.1973, 0.3068], device='cuda:7')\n"
     ]
    },
    {
     "name": "stderr",
     "output_type": "stream",
     "text": [
      "Epoch 280: 100%|██████████| 38/38 [00:10<00:00,  3.50batch/s, accuracy=96.61016949152543%, loss=0.198]\n"
     ]
    },
    {
     "name": "stdout",
     "output_type": "stream",
     "text": [
      "tensor([0.2983, 0.1979, 0.1975, 0.3063], device='cuda:7')\n"
     ]
    },
    {
     "name": "stderr",
     "output_type": "stream",
     "text": [
      "Epoch 281: 100%|██████████| 38/38 [00:10<00:00,  3.51batch/s, accuracy=100.0%, loss=0.172]   \n"
     ]
    },
    {
     "name": "stdout",
     "output_type": "stream",
     "text": [
      "tensor([0.2980, 0.1980, 0.1979, 0.3061], device='cuda:7')\n"
     ]
    },
    {
     "name": "stderr",
     "output_type": "stream",
     "text": [
      "Epoch 282: 100%|██████████| 38/38 [00:10<00:00,  3.49batch/s, accuracy=98.30508474576271%, loss=0.174]\n"
     ]
    },
    {
     "name": "stdout",
     "output_type": "stream",
     "text": [
      "tensor([0.2980, 0.1981, 0.1975, 0.3064], device='cuda:7')\n"
     ]
    },
    {
     "name": "stderr",
     "output_type": "stream",
     "text": [
      "Epoch 283: 100%|██████████| 38/38 [00:10<00:00,  3.49batch/s, accuracy=98.30508474576271%, loss=0.182]\n"
     ]
    },
    {
     "name": "stdout",
     "output_type": "stream",
     "text": [
      "tensor([0.2980, 0.1986, 0.1976, 0.3058], device='cuda:7')\n"
     ]
    },
    {
     "name": "stderr",
     "output_type": "stream",
     "text": [
      "Epoch 284: 100%|██████████| 38/38 [00:10<00:00,  3.49batch/s, accuracy=100.0%, loss=0.174]   \n"
     ]
    },
    {
     "name": "stdout",
     "output_type": "stream",
     "text": [
      "tensor([0.2976, 0.1986, 0.1975, 0.3063], device='cuda:7')\n"
     ]
    },
    {
     "name": "stderr",
     "output_type": "stream",
     "text": [
      "Epoch 285: 100%|██████████| 38/38 [00:10<00:00,  3.52batch/s, accuracy=100.0%, loss=0.169]   \n"
     ]
    },
    {
     "name": "stdout",
     "output_type": "stream",
     "text": [
      "tensor([0.2972, 0.1987, 0.1972, 0.3068], device='cuda:7')\n"
     ]
    },
    {
     "name": "stderr",
     "output_type": "stream",
     "text": [
      "Epoch 286: 100%|██████████| 38/38 [00:10<00:00,  3.50batch/s, accuracy=98.30508474576271%, loss=0.199]\n"
     ]
    },
    {
     "name": "stdout",
     "output_type": "stream",
     "text": [
      "tensor([0.2970, 0.1993, 0.1970, 0.3068], device='cuda:7')\n"
     ]
    },
    {
     "name": "stderr",
     "output_type": "stream",
     "text": [
      "Epoch 287: 100%|██████████| 38/38 [00:11<00:00,  3.45batch/s, accuracy=100.0%, loss=0.165]   \n"
     ]
    },
    {
     "name": "stdout",
     "output_type": "stream",
     "text": [
      "tensor([0.2973, 0.1998, 0.1970, 0.3059], device='cuda:7')\n"
     ]
    },
    {
     "name": "stderr",
     "output_type": "stream",
     "text": [
      "Epoch 288: 100%|██████████| 38/38 [00:11<00:00,  3.44batch/s, accuracy=100.0%, loss=0.178]   \n"
     ]
    },
    {
     "name": "stdout",
     "output_type": "stream",
     "text": [
      "tensor([0.2966, 0.2001, 0.1971, 0.3062], device='cuda:7')\n"
     ]
    },
    {
     "name": "stderr",
     "output_type": "stream",
     "text": [
      "Epoch 289: 100%|██████████| 38/38 [00:10<00:00,  3.49batch/s, accuracy=100.0%, loss=0.171]   \n"
     ]
    },
    {
     "name": "stdout",
     "output_type": "stream",
     "text": [
      "tensor([0.2969, 0.2010, 0.1967, 0.3053], device='cuda:7')\n"
     ]
    },
    {
     "name": "stderr",
     "output_type": "stream",
     "text": [
      "Epoch 290: 100%|██████████| 38/38 [00:11<00:00,  3.36batch/s, accuracy=100.0%, loss=0.158]   \n"
     ]
    },
    {
     "name": "stdout",
     "output_type": "stream",
     "text": [
      "tensor([0.2975, 0.2019, 0.1961, 0.3045], device='cuda:7')\n"
     ]
    },
    {
     "name": "stderr",
     "output_type": "stream",
     "text": [
      "Epoch 291: 100%|██████████| 38/38 [00:10<00:00,  3.52batch/s, accuracy=96.61016949152543%, loss=0.185]\n"
     ]
    },
    {
     "name": "stdout",
     "output_type": "stream",
     "text": [
      "tensor([0.2970, 0.2023, 0.1963, 0.3044], device='cuda:7')\n"
     ]
    },
    {
     "name": "stderr",
     "output_type": "stream",
     "text": [
      "Epoch 292: 100%|██████████| 38/38 [00:10<00:00,  3.51batch/s, accuracy=100.0%, loss=0.151]   \n"
     ]
    },
    {
     "name": "stdout",
     "output_type": "stream",
     "text": [
      "tensor([0.2959, 0.2024, 0.1969, 0.3048], device='cuda:7')\n"
     ]
    },
    {
     "name": "stderr",
     "output_type": "stream",
     "text": [
      "Epoch 293: 100%|██████████| 38/38 [00:10<00:00,  3.54batch/s, accuracy=100.0%, loss=0.178]   \n"
     ]
    },
    {
     "name": "stdout",
     "output_type": "stream",
     "text": [
      "tensor([0.2954, 0.2030, 0.1970, 0.3046], device='cuda:7')\n"
     ]
    },
    {
     "name": "stderr",
     "output_type": "stream",
     "text": [
      "Epoch 294: 100%|██████████| 38/38 [00:10<00:00,  3.48batch/s, accuracy=96.61016949152543%, loss=0.188]\n"
     ]
    },
    {
     "name": "stdout",
     "output_type": "stream",
     "text": [
      "tensor([0.2962, 0.2035, 0.1967, 0.3037], device='cuda:7')\n"
     ]
    },
    {
     "name": "stderr",
     "output_type": "stream",
     "text": [
      "Epoch 295: 100%|██████████| 38/38 [00:10<00:00,  3.49batch/s, accuracy=100.0%, loss=0.165]   \n"
     ]
    },
    {
     "name": "stdout",
     "output_type": "stream",
     "text": [
      "tensor([0.2961, 0.2040, 0.1967, 0.3033], device='cuda:7')\n"
     ]
    },
    {
     "name": "stderr",
     "output_type": "stream",
     "text": [
      "Epoch 296: 100%|██████████| 38/38 [00:10<00:00,  3.49batch/s, accuracy=98.30508474576271%, loss=0.185]\n"
     ]
    },
    {
     "name": "stdout",
     "output_type": "stream",
     "text": [
      "tensor([0.2967, 0.2046, 0.1959, 0.3029], device='cuda:7')\n"
     ]
    },
    {
     "name": "stderr",
     "output_type": "stream",
     "text": [
      "Epoch 297: 100%|██████████| 38/38 [00:10<00:00,  3.52batch/s, accuracy=100.0%, loss=0.165]   \n"
     ]
    },
    {
     "name": "stdout",
     "output_type": "stream",
     "text": [
      "tensor([0.2962, 0.2048, 0.1958, 0.3033], device='cuda:7')\n"
     ]
    },
    {
     "name": "stderr",
     "output_type": "stream",
     "text": [
      "Epoch 298: 100%|██████████| 38/38 [00:10<00:00,  3.53batch/s, accuracy=98.30508474576271%, loss=0.198]\n"
     ]
    },
    {
     "name": "stdout",
     "output_type": "stream",
     "text": [
      "tensor([0.2957, 0.2049, 0.1961, 0.3034], device='cuda:7')\n"
     ]
    },
    {
     "name": "stderr",
     "output_type": "stream",
     "text": [
      "Epoch 299: 100%|██████████| 38/38 [00:10<00:00,  3.47batch/s, accuracy=100.0%, loss=0.18]    "
     ]
    },
    {
     "name": "stdout",
     "output_type": "stream",
     "text": [
      "tensor([0.2948, 0.2050, 0.1962, 0.3040], device='cuda:7')\n"
     ]
    },
    {
     "name": "stderr",
     "output_type": "stream",
     "text": [
      "\n"
     ]
    }
   ],
   "source": [
    "from torch.optim import SGD\n",
    "from spuco.invariant_train import GroupDRO \n",
    "\n",
    "group_dro = GroupDRO(\n",
    "    model=model,\n",
    "    num_epochs=300,\n",
    "    trainset=invariant_trainset,\n",
    "    batch_size=128,\n",
    "    optimizer=SGD(model.parameters(), lr=1e-5, weight_decay=1.0, momentum=0.9),\n",
    "    device=device,\n",
    "    verbose=True\n",
    ")\n",
    "group_dro.train()"
   ]
  },
  {
   "cell_type": "code",
   "execution_count": 9,
   "metadata": {},
   "outputs": [
    {
     "name": "stderr",
     "output_type": "stream",
     "text": [
      "Evaluating group-wise accuracy:  25%|██▌       | 1/4 [00:02<00:08,  2.74s/it]"
     ]
    },
    {
     "name": "stdout",
     "output_type": "stream",
     "text": [
      "Group (0, 0) Test Accuracy: 98.22616407982261\n"
     ]
    },
    {
     "name": "stderr",
     "output_type": "stream",
     "text": [
      "Evaluating group-wise accuracy:  50%|█████     | 2/4 [00:05<00:05,  2.64s/it]"
     ]
    },
    {
     "name": "stdout",
     "output_type": "stream",
     "text": [
      "Group (0, 1) Test Accuracy: 89.490022172949\n"
     ]
    },
    {
     "name": "stderr",
     "output_type": "stream",
     "text": [
      "Evaluating group-wise accuracy:  75%|███████▌  | 3/4 [00:06<00:02,  2.05s/it]"
     ]
    },
    {
     "name": "stdout",
     "output_type": "stream",
     "text": [
      "Group (1, 0) Test Accuracy: 85.202492211838\n"
     ]
    },
    {
     "name": "stderr",
     "output_type": "stream",
     "text": [
      "Evaluating group-wise accuracy: 100%|██████████| 4/4 [00:07<00:00,  1.98s/it]"
     ]
    },
    {
     "name": "stdout",
     "output_type": "stream",
     "text": [
      "Group (1, 1) Test Accuracy: 92.05607476635514\n"
     ]
    },
    {
     "name": "stderr",
     "output_type": "stream",
     "text": [
      "\n"
     ]
    },
    {
     "data": {
      "text/plain": [
       "{(0, 0): 98.22616407982261,\n",
       " (0, 1): 89.490022172949,\n",
       " (1, 0): 85.202492211838,\n",
       " (1, 1): 92.05607476635514}"
      ]
     },
     "execution_count": 9,
     "metadata": {},
     "output_type": "execute_result"
    }
   ],
   "source": [
    "from spuco.evaluate import Evaluator\n",
    "\n",
    "evaluator = Evaluator(\n",
    "    testset=testset,\n",
    "    group_partition=testset.group_partition,\n",
    "    group_weights=trainset.group_weights,\n",
    "    batch_size=64,\n",
    "    model=model,\n",
    "    device=device,\n",
    "    verbose=True\n",
    ")\n",
    "evaluator.evaluate()"
   ]
  }
 ],
 "metadata": {
  "kernelspec": {
   "display_name": "clip",
   "language": "python",
   "name": "python3"
  },
  "language_info": {
   "codemirror_mode": {
    "name": "ipython",
    "version": 3
   },
   "file_extension": ".py",
   "mimetype": "text/x-python",
   "name": "python",
   "nbconvert_exporter": "python",
   "pygments_lexer": "ipython3",
   "version": "3.10.11"
  },
  "orig_nbformat": 4
 },
 "nbformat": 4,
 "nbformat_minor": 2
}
