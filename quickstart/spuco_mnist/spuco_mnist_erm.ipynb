{
 "cells": [
  {
   "cell_type": "code",
   "execution_count": 1,
   "metadata": {},
   "outputs": [
    {
     "name": "stdout",
     "output_type": "stream",
     "text": [
      "Processing /home/sjoshi/spuco\n",
      "  Installing build dependencies ... \u001b[?25ldone\n",
      "\u001b[?25h  Getting requirements to build wheel ... \u001b[?25ldone\n",
      "\u001b[?25h  Installing backend dependencies ... \u001b[?25ldone\n",
      "\u001b[?25h  Preparing metadata (pyproject.toml) ... \u001b[?25ldone\n",
      "\u001b[?25hRequirement already satisfied: matplotlib>=3.7.1 in /home/sjoshi/anaconda3/envs/clip/lib/python3.10/site-packages (from spuco==0.0.1) (3.7.1)\n",
      "Requirement already satisfied: numpy>=1.23.5 in /home/sjoshi/anaconda3/envs/clip/lib/python3.10/site-packages (from spuco==0.0.1) (1.24.3)\n",
      "Requirement already satisfied: setuptools>=61.0 in /home/sjoshi/anaconda3/envs/clip/lib/python3.10/site-packages (from spuco==0.0.1) (67.7.2)\n",
      "Requirement already satisfied: torch>=2.0.0 in /home/sjoshi/anaconda3/envs/clip/lib/python3.10/site-packages (from spuco==0.0.1) (2.0.1)\n",
      "Requirement already satisfied: torchvision>=0.15.1 in /home/sjoshi/anaconda3/envs/clip/lib/python3.10/site-packages (from spuco==0.0.1) (0.15.2)\n",
      "Requirement already satisfied: tqdm>=4.65.0 in /home/sjoshi/anaconda3/envs/clip/lib/python3.10/site-packages (from spuco==0.0.1) (4.65.0)\n",
      "Requirement already satisfied: scikit-learn>=0.20.0 in /home/sjoshi/anaconda3/envs/clip/lib/python3.10/site-packages (from spuco==0.0.1) (1.2.1)\n",
      "Requirement already satisfied: wilds>=2.0.0 in /home/sjoshi/anaconda3/envs/clip/lib/python3.10/site-packages (from spuco==0.0.1) (2.0.0)\n",
      "Requirement already satisfied: transformers>=3.5.0 in /home/sjoshi/anaconda3/envs/clip/lib/python3.10/site-packages (from spuco==0.0.1) (4.29.2)\n",
      "Requirement already satisfied: contourpy>=1.0.1 in /home/sjoshi/anaconda3/envs/clip/lib/python3.10/site-packages (from matplotlib>=3.7.1->spuco==0.0.1) (1.0.7)\n",
      "Requirement already satisfied: cycler>=0.10 in /home/sjoshi/anaconda3/envs/clip/lib/python3.10/site-packages (from matplotlib>=3.7.1->spuco==0.0.1) (0.11.0)\n",
      "Requirement already satisfied: fonttools>=4.22.0 in /home/sjoshi/anaconda3/envs/clip/lib/python3.10/site-packages (from matplotlib>=3.7.1->spuco==0.0.1) (4.39.4)\n",
      "Requirement already satisfied: kiwisolver>=1.0.1 in /home/sjoshi/anaconda3/envs/clip/lib/python3.10/site-packages (from matplotlib>=3.7.1->spuco==0.0.1) (1.4.4)\n",
      "Requirement already satisfied: packaging>=20.0 in /home/sjoshi/anaconda3/envs/clip/lib/python3.10/site-packages (from matplotlib>=3.7.1->spuco==0.0.1) (23.1)\n",
      "Requirement already satisfied: pillow>=6.2.0 in /home/sjoshi/anaconda3/envs/clip/lib/python3.10/site-packages (from matplotlib>=3.7.1->spuco==0.0.1) (9.5.0)\n",
      "Requirement already satisfied: pyparsing>=2.3.1 in /home/sjoshi/anaconda3/envs/clip/lib/python3.10/site-packages (from matplotlib>=3.7.1->spuco==0.0.1) (3.0.9)\n",
      "Requirement already satisfied: python-dateutil>=2.7 in /home/sjoshi/anaconda3/envs/clip/lib/python3.10/site-packages (from matplotlib>=3.7.1->spuco==0.0.1) (2.8.2)\n",
      "Requirement already satisfied: scipy>=1.3.2 in /home/sjoshi/anaconda3/envs/clip/lib/python3.10/site-packages (from scikit-learn>=0.20.0->spuco==0.0.1) (1.10.1)\n",
      "Requirement already satisfied: joblib>=1.1.1 in /home/sjoshi/anaconda3/envs/clip/lib/python3.10/site-packages (from scikit-learn>=0.20.0->spuco==0.0.1) (1.2.0)\n",
      "Requirement already satisfied: threadpoolctl>=2.0.0 in /home/sjoshi/anaconda3/envs/clip/lib/python3.10/site-packages (from scikit-learn>=0.20.0->spuco==0.0.1) (3.1.0)\n",
      "Requirement already satisfied: filelock in /home/sjoshi/anaconda3/envs/clip/lib/python3.10/site-packages (from torch>=2.0.0->spuco==0.0.1) (3.12.0)\n",
      "Requirement already satisfied: typing-extensions in /home/sjoshi/anaconda3/envs/clip/lib/python3.10/site-packages (from torch>=2.0.0->spuco==0.0.1) (4.5.0)\n",
      "Requirement already satisfied: sympy in /home/sjoshi/anaconda3/envs/clip/lib/python3.10/site-packages (from torch>=2.0.0->spuco==0.0.1) (1.12)\n",
      "Requirement already satisfied: networkx in /home/sjoshi/anaconda3/envs/clip/lib/python3.10/site-packages (from torch>=2.0.0->spuco==0.0.1) (3.1)\n",
      "Requirement already satisfied: jinja2 in /home/sjoshi/anaconda3/envs/clip/lib/python3.10/site-packages (from torch>=2.0.0->spuco==0.0.1) (3.1.2)\n",
      "Requirement already satisfied: nvidia-cuda-nvrtc-cu11==11.7.99 in /home/sjoshi/anaconda3/envs/clip/lib/python3.10/site-packages (from torch>=2.0.0->spuco==0.0.1) (11.7.99)\n",
      "Requirement already satisfied: nvidia-cuda-runtime-cu11==11.7.99 in /home/sjoshi/anaconda3/envs/clip/lib/python3.10/site-packages (from torch>=2.0.0->spuco==0.0.1) (11.7.99)\n",
      "Requirement already satisfied: nvidia-cuda-cupti-cu11==11.7.101 in /home/sjoshi/anaconda3/envs/clip/lib/python3.10/site-packages (from torch>=2.0.0->spuco==0.0.1) (11.7.101)\n",
      "Requirement already satisfied: nvidia-cudnn-cu11==8.5.0.96 in /home/sjoshi/anaconda3/envs/clip/lib/python3.10/site-packages (from torch>=2.0.0->spuco==0.0.1) (8.5.0.96)\n",
      "Requirement already satisfied: nvidia-cublas-cu11==11.10.3.66 in /home/sjoshi/anaconda3/envs/clip/lib/python3.10/site-packages (from torch>=2.0.0->spuco==0.0.1) (11.10.3.66)\n",
      "Requirement already satisfied: nvidia-cufft-cu11==10.9.0.58 in /home/sjoshi/anaconda3/envs/clip/lib/python3.10/site-packages (from torch>=2.0.0->spuco==0.0.1) (10.9.0.58)\n",
      "Requirement already satisfied: nvidia-curand-cu11==10.2.10.91 in /home/sjoshi/anaconda3/envs/clip/lib/python3.10/site-packages (from torch>=2.0.0->spuco==0.0.1) (10.2.10.91)\n",
      "Requirement already satisfied: nvidia-cusolver-cu11==11.4.0.1 in /home/sjoshi/anaconda3/envs/clip/lib/python3.10/site-packages (from torch>=2.0.0->spuco==0.0.1) (11.4.0.1)\n",
      "Requirement already satisfied: nvidia-cusparse-cu11==11.7.4.91 in /home/sjoshi/anaconda3/envs/clip/lib/python3.10/site-packages (from torch>=2.0.0->spuco==0.0.1) (11.7.4.91)\n",
      "Requirement already satisfied: nvidia-nccl-cu11==2.14.3 in /home/sjoshi/anaconda3/envs/clip/lib/python3.10/site-packages (from torch>=2.0.0->spuco==0.0.1) (2.14.3)\n",
      "Requirement already satisfied: nvidia-nvtx-cu11==11.7.91 in /home/sjoshi/anaconda3/envs/clip/lib/python3.10/site-packages (from torch>=2.0.0->spuco==0.0.1) (11.7.91)\n",
      "Requirement already satisfied: triton==2.0.0 in /home/sjoshi/anaconda3/envs/clip/lib/python3.10/site-packages (from torch>=2.0.0->spuco==0.0.1) (2.0.0)\n",
      "Requirement already satisfied: wheel in /home/sjoshi/anaconda3/envs/clip/lib/python3.10/site-packages (from nvidia-cublas-cu11==11.10.3.66->torch>=2.0.0->spuco==0.0.1) (0.40.0)\n",
      "Requirement already satisfied: cmake in /home/sjoshi/anaconda3/envs/clip/lib/python3.10/site-packages (from triton==2.0.0->torch>=2.0.0->spuco==0.0.1) (3.26.3)\n",
      "Requirement already satisfied: lit in /home/sjoshi/anaconda3/envs/clip/lib/python3.10/site-packages (from triton==2.0.0->torch>=2.0.0->spuco==0.0.1) (16.0.3)\n",
      "Requirement already satisfied: requests in /home/sjoshi/anaconda3/envs/clip/lib/python3.10/site-packages (from torchvision>=0.15.1->spuco==0.0.1) (2.30.0)\n",
      "Requirement already satisfied: huggingface-hub<1.0,>=0.14.1 in /home/sjoshi/anaconda3/envs/clip/lib/python3.10/site-packages (from transformers>=3.5.0->spuco==0.0.1) (0.14.1)\n",
      "Requirement already satisfied: pyyaml>=5.1 in /home/sjoshi/anaconda3/envs/clip/lib/python3.10/site-packages (from transformers>=3.5.0->spuco==0.0.1) (6.0)\n",
      "Requirement already satisfied: regex!=2019.12.17 in /home/sjoshi/anaconda3/envs/clip/lib/python3.10/site-packages (from transformers>=3.5.0->spuco==0.0.1) (2023.5.5)\n",
      "Requirement already satisfied: tokenizers!=0.11.3,<0.14,>=0.11.1 in /home/sjoshi/anaconda3/envs/clip/lib/python3.10/site-packages (from transformers>=3.5.0->spuco==0.0.1) (0.13.3)\n",
      "Requirement already satisfied: ogb>=1.2.6 in /home/sjoshi/anaconda3/envs/clip/lib/python3.10/site-packages (from wilds>=2.0.0->spuco==0.0.1) (1.3.6)\n",
      "Requirement already satisfied: outdated>=0.2.0 in /home/sjoshi/anaconda3/envs/clip/lib/python3.10/site-packages (from wilds>=2.0.0->spuco==0.0.1) (0.2.2)\n",
      "Requirement already satisfied: pandas>=1.1.0 in /home/sjoshi/anaconda3/envs/clip/lib/python3.10/site-packages (from wilds>=2.0.0->spuco==0.0.1) (1.5.3)\n",
      "Requirement already satisfied: pytz>=2020.4 in /home/sjoshi/anaconda3/envs/clip/lib/python3.10/site-packages (from wilds>=2.0.0->spuco==0.0.1) (2022.7.1)\n",
      "Requirement already satisfied: fsspec in /home/sjoshi/anaconda3/envs/clip/lib/python3.10/site-packages (from huggingface-hub<1.0,>=0.14.1->transformers>=3.5.0->spuco==0.0.1) (2023.5.0)\n",
      "Requirement already satisfied: six>=1.12.0 in /home/sjoshi/anaconda3/envs/clip/lib/python3.10/site-packages (from ogb>=1.2.6->wilds>=2.0.0->spuco==0.0.1) (1.16.0)\n",
      "Requirement already satisfied: urllib3>=1.24.0 in /home/sjoshi/anaconda3/envs/clip/lib/python3.10/site-packages (from ogb>=1.2.6->wilds>=2.0.0->spuco==0.0.1) (1.26.16)\n",
      "Requirement already satisfied: littleutils in /home/sjoshi/anaconda3/envs/clip/lib/python3.10/site-packages (from outdated>=0.2.0->wilds>=2.0.0->spuco==0.0.1) (0.2.2)\n",
      "Requirement already satisfied: MarkupSafe>=2.0 in /home/sjoshi/anaconda3/envs/clip/lib/python3.10/site-packages (from jinja2->torch>=2.0.0->spuco==0.0.1) (2.1.2)\n",
      "Requirement already satisfied: charset-normalizer<4,>=2 in /home/sjoshi/anaconda3/envs/clip/lib/python3.10/site-packages (from requests->torchvision>=0.15.1->spuco==0.0.1) (3.1.0)\n",
      "Requirement already satisfied: idna<4,>=2.5 in /home/sjoshi/anaconda3/envs/clip/lib/python3.10/site-packages (from requests->torchvision>=0.15.1->spuco==0.0.1) (3.4)\n",
      "Requirement already satisfied: certifi>=2017.4.17 in /home/sjoshi/anaconda3/envs/clip/lib/python3.10/site-packages (from requests->torchvision>=0.15.1->spuco==0.0.1) (2023.5.7)\n",
      "Requirement already satisfied: mpmath>=0.19 in /home/sjoshi/anaconda3/envs/clip/lib/python3.10/site-packages (from sympy->torch>=2.0.0->spuco==0.0.1) (1.3.0)\n",
      "Building wheels for collected packages: spuco\n",
      "  Building wheel for spuco (pyproject.toml) ... \u001b[?25ldone\n",
      "\u001b[?25h  Created wheel for spuco: filename=spuco-0.0.1-py3-none-any.whl size=94441 sha256=34ba35b8c9d1be6b42bf06614149682f212a2c05eb18ae26bca21c31c4ef0594\n",
      "  Stored in directory: /tmp/pip-ephem-wheel-cache-sfd7abjx/wheels/ef/5d/43/a265894b1d52121a51705a208277e8d9a9670e95fa1a2e7ae6\n",
      "Successfully built spuco\n",
      "Installing collected packages: spuco\n",
      "  Attempting uninstall: spuco\n",
      "    Found existing installation: spuco 0.0.1\n",
      "    Uninstalling spuco-0.0.1:\n",
      "      Successfully uninstalled spuco-0.0.1\n",
      "Successfully installed spuco-0.0.1\n",
      "Note: you may need to restart the kernel to use updated packages.\n"
     ]
    }
   ],
   "source": [
    "%pip install .."
   ]
  },
  {
   "cell_type": "code",
   "execution_count": 13,
   "metadata": {},
   "outputs": [],
   "source": [
    "import torch \n",
    "\n",
    "device = torch.device(\"cuda:7\")"
   ]
  },
  {
   "cell_type": "code",
   "execution_count": 14,
   "metadata": {},
   "outputs": [],
   "source": [
    "from spuco.utils import set_seed\n",
    "\n",
    "set_seed(0)"
   ]
  },
  {
   "cell_type": "code",
   "execution_count": 15,
   "metadata": {},
   "outputs": [
    {
     "name": "stderr",
     "output_type": "stream",
     "text": [
      "100%|██████████| 11996/11996 [00:01<00:00, 11989.25it/s]\n"
     ]
    }
   ],
   "source": [
    "from spuco.datasets import SpuCoMNIST, SpuriousFeatureDifficulty\n",
    "\n",
    "classes = [[0, 1], [2, 3], [4, 5], [6, 7], [8, 9]]\n",
    "difficulty = SpuriousFeatureDifficulty.MAGNITUDE_LARGE\n",
    "\n",
    "valset = SpuCoMNIST(\n",
    "    root=\"/data/mnist/\",\n",
    "    spurious_feature_difficulty=difficulty,\n",
    "    classes=classes,\n",
    "    split=\"val\"\n",
    ")\n",
    "valset.initialize()\n"
   ]
  },
  {
   "cell_type": "code",
   "execution_count": 16,
   "metadata": {},
   "outputs": [
    {
     "name": "stderr",
     "output_type": "stream",
     "text": [
      "100%|██████████| 48004/48004 [00:04<00:00, 11662.23it/s]\n",
      "100%|██████████| 10000/10000 [00:00<00:00, 11335.44it/s]\n"
     ]
    }
   ],
   "source": [
    "from spuco.robust_train import ERM\n",
    "from spuco.datasets import SpuCoMNIST, SpuriousFeatureDifficulty\n",
    "import torchvision.transforms as T\n",
    "\n",
    "classes = [[0, 1], [2, 3], [4, 5], [6, 7], [8, 9]]\n",
    "difficulty = SpuriousFeatureDifficulty.MAGNITUDE_LARGE\n",
    "\n",
    "trainset = SpuCoMNIST(\n",
    "    root=\"/data/mnist/\",\n",
    "    spurious_feature_difficulty=difficulty,\n",
    "    spurious_correlation_strength=0.99,\n",
    "    classes=classes,\n",
    "    split=\"train\"\n",
    ")\n",
    "trainset.initialize()\n",
    "\n",
    "testset = SpuCoMNIST(\n",
    "    root=\"/data/mnist/\",\n",
    "    spurious_feature_difficulty=difficulty,\n",
    "    classes=classes,\n",
    "    split=\"test\"\n",
    ")\n",
    "testset.initialize()\n"
   ]
  },
  {
   "cell_type": "code",
   "execution_count": 17,
   "metadata": {},
   "outputs": [
    {
     "data": {
      "image/png": "[encoded data removed]",
      "text/plain": [
       "<PIL.Image.Image image mode=RGB size=28x28>"
      ]
     },
     "execution_count": 17,
     "metadata": {},
     "output_type": "execute_result"
    }
   ],
   "source": [
    "T.ToPILImage()(trainset[1000][0]).resize((28,28))"
   ]
  },
  {
   "cell_type": "code",
   "execution_count": 18,
   "metadata": {},
   "outputs": [],
   "source": [
    "from spuco.models import model_factory \n",
    "\n",
    "model = model_factory(\"lenet\", trainset[0][0].shape, trainset.num_classes).to(device)"
   ]
  },
  {
   "cell_type": "code",
   "execution_count": 19,
   "metadata": {},
   "outputs": [],
   "source": [
    "from torch.optim import SGD\n",
    "\n",
    "erm = ERM(\n",
    "    model=model,\n",
    "    num_epochs=1,\n",
    "    trainset=trainset,\n",
    "    batch_size=64,\n",
    "    optimizer=SGD(model.parameters(), lr=1e-2, momentum=0.9, nesterov=True),\n",
    "    device=device,\n",
    "    verbose=True\n",
    ")"
   ]
  },
  {
   "cell_type": "code",
   "execution_count": 20,
   "metadata": {},
   "outputs": [
    {
     "name": "stderr",
     "output_type": "stream",
     "text": [
      "Epoch 0: 100%|██████████| 751/751 [00:04<00:00, 161.07batch/s, accuracy=100.0%, loss=0.00996] \n"
     ]
    }
   ],
   "source": [
    "erm.train()"
   ]
  },
  {
   "cell_type": "code",
   "execution_count": 21,
   "metadata": {},
   "outputs": [
    {
     "name": "stderr",
     "output_type": "stream",
     "text": [
      "Evaluating group-wise accuracy:   4%|▍         | 1/25 [00:00<00:12,  1.97it/s]"
     ]
    },
    {
     "name": "stdout",
     "output_type": "stream",
     "text": [
      "Group (0, 0) Accuracy: 100.0\n"
     ]
    },
    {
     "name": "stderr",
     "output_type": "stream",
     "text": [
      "Evaluating group-wise accuracy:   8%|▊         | 2/25 [00:01<00:12,  1.85it/s]"
     ]
    },
    {
     "name": "stdout",
     "output_type": "stream",
     "text": [
      "Group (0, 1) Accuracy: 0.0\n"
     ]
    },
    {
     "name": "stderr",
     "output_type": "stream",
     "text": [
      "Evaluating group-wise accuracy:  12%|█▏        | 3/25 [00:01<00:12,  1.82it/s]"
     ]
    },
    {
     "name": "stdout",
     "output_type": "stream",
     "text": [
      "Group (0, 2) Accuracy: 0.0\n"
     ]
    },
    {
     "name": "stderr",
     "output_type": "stream",
     "text": [
      "Evaluating group-wise accuracy:  16%|█▌        | 4/25 [00:02<00:12,  1.74it/s]"
     ]
    },
    {
     "name": "stdout",
     "output_type": "stream",
     "text": [
      "Group (0, 3) Accuracy: 0.0\n"
     ]
    },
    {
     "name": "stderr",
     "output_type": "stream",
     "text": [
      "Evaluating group-wise accuracy:  20%|██        | 5/25 [00:02<00:11,  1.74it/s]"
     ]
    },
    {
     "name": "stdout",
     "output_type": "stream",
     "text": [
      "Group (0, 4) Accuracy: 0.0\n"
     ]
    },
    {
     "name": "stderr",
     "output_type": "stream",
     "text": [
      "Evaluating group-wise accuracy:  24%|██▍       | 6/25 [00:03<00:10,  1.78it/s]"
     ]
    },
    {
     "name": "stdout",
     "output_type": "stream",
     "text": [
      "Group (1, 0) Accuracy: 0.0\n"
     ]
    },
    {
     "name": "stderr",
     "output_type": "stream",
     "text": [
      "Evaluating group-wise accuracy:  28%|██▊       | 7/25 [00:03<00:10,  1.77it/s]"
     ]
    },
    {
     "name": "stdout",
     "output_type": "stream",
     "text": [
      "Group (1, 1) Accuracy: 100.0\n"
     ]
    },
    {
     "name": "stderr",
     "output_type": "stream",
     "text": [
      "Evaluating group-wise accuracy:  32%|███▏      | 8/25 [00:04<00:09,  1.77it/s]"
     ]
    },
    {
     "name": "stdout",
     "output_type": "stream",
     "text": [
      "Group (1, 2) Accuracy: 0.0\n"
     ]
    },
    {
     "name": "stderr",
     "output_type": "stream",
     "text": [
      "Evaluating group-wise accuracy:  36%|███▌      | 9/25 [00:05<00:08,  1.79it/s]"
     ]
    },
    {
     "name": "stdout",
     "output_type": "stream",
     "text": [
      "Group (1, 3) Accuracy: 0.0\n"
     ]
    },
    {
     "name": "stderr",
     "output_type": "stream",
     "text": [
      "Evaluating group-wise accuracy:  40%|████      | 10/25 [00:05<00:08,  1.78it/s]"
     ]
    },
    {
     "name": "stdout",
     "output_type": "stream",
     "text": [
      "Group (1, 4) Accuracy: 0.0\n"
     ]
    },
    {
     "name": "stderr",
     "output_type": "stream",
     "text": [
      "Evaluating group-wise accuracy:  44%|████▍     | 11/25 [00:06<00:07,  1.78it/s]"
     ]
    },
    {
     "name": "stdout",
     "output_type": "stream",
     "text": [
      "Group (2, 0) Accuracy: 0.0\n"
     ]
    },
    {
     "name": "stderr",
     "output_type": "stream",
     "text": [
      "Evaluating group-wise accuracy:  48%|████▊     | 12/25 [00:06<00:07,  1.78it/s]"
     ]
    },
    {
     "name": "stdout",
     "output_type": "stream",
     "text": [
      "Group (2, 1) Accuracy: 0.0\n"
     ]
    },
    {
     "name": "stderr",
     "output_type": "stream",
     "text": [
      "Evaluating group-wise accuracy:  52%|█████▏    | 13/25 [00:07<00:06,  1.78it/s]"
     ]
    },
    {
     "name": "stdout",
     "output_type": "stream",
     "text": [
      "Group (2, 2) Accuracy: 100.0\n"
     ]
    },
    {
     "name": "stderr",
     "output_type": "stream",
     "text": [
      "Evaluating group-wise accuracy:  56%|█████▌    | 14/25 [00:07<00:06,  1.78it/s]"
     ]
    },
    {
     "name": "stdout",
     "output_type": "stream",
     "text": [
      "Group (2, 3) Accuracy: 0.0\n"
     ]
    },
    {
     "name": "stderr",
     "output_type": "stream",
     "text": [
      "Evaluating group-wise accuracy:  60%|██████    | 15/25 [00:08<00:05,  1.75it/s]"
     ]
    },
    {
     "name": "stdout",
     "output_type": "stream",
     "text": [
      "Group (2, 4) Accuracy: 0.0\n"
     ]
    },
    {
     "name": "stderr",
     "output_type": "stream",
     "text": [
      "Evaluating group-wise accuracy:  64%|██████▍   | 16/25 [00:08<00:05,  1.78it/s]"
     ]
    },
    {
     "name": "stdout",
     "output_type": "stream",
     "text": [
      "Group (3, 0) Accuracy: 0.0\n"
     ]
    },
    {
     "name": "stderr",
     "output_type": "stream",
     "text": [
      "Evaluating group-wise accuracy:  68%|██████▊   | 17/25 [00:09<00:04,  1.83it/s]"
     ]
    },
    {
     "name": "stdout",
     "output_type": "stream",
     "text": [
      "Group (3, 1) Accuracy: 0.0\n"
     ]
    },
    {
     "name": "stderr",
     "output_type": "stream",
     "text": [
      "Evaluating group-wise accuracy:  72%|███████▏  | 18/25 [00:10<00:03,  1.86it/s]"
     ]
    },
    {
     "name": "stdout",
     "output_type": "stream",
     "text": [
      "Group (3, 2) Accuracy: 0.0\n"
     ]
    },
    {
     "name": "stderr",
     "output_type": "stream",
     "text": [
      "Evaluating group-wise accuracy:  76%|███████▌  | 19/25 [00:10<00:03,  1.88it/s]"
     ]
    },
    {
     "name": "stdout",
     "output_type": "stream",
     "text": [
      "Group (3, 3) Accuracy: 100.0\n"
     ]
    },
    {
     "name": "stderr",
     "output_type": "stream",
     "text": [
      "Evaluating group-wise accuracy:  80%|████████  | 20/25 [00:11<00:02,  1.84it/s]"
     ]
    },
    {
     "name": "stdout",
     "output_type": "stream",
     "text": [
      "Group (3, 4) Accuracy: 0.0\n"
     ]
    },
    {
     "name": "stderr",
     "output_type": "stream",
     "text": [
      "Evaluating group-wise accuracy:  84%|████████▍ | 21/25 [00:11<00:02,  1.81it/s]"
     ]
    },
    {
     "name": "stdout",
     "output_type": "stream",
     "text": [
      "Group (4, 0) Accuracy: 0.0\n"
     ]
    },
    {
     "name": "stderr",
     "output_type": "stream",
     "text": [
      "Evaluating group-wise accuracy:  88%|████████▊ | 22/25 [00:12<00:01,  1.78it/s]"
     ]
    },
    {
     "name": "stdout",
     "output_type": "stream",
     "text": [
      "Group (4, 1) Accuracy: 0.0\n"
     ]
    },
    {
     "name": "stderr",
     "output_type": "stream",
     "text": [
      "Evaluating group-wise accuracy:  92%|█████████▏| 23/25 [00:12<00:01,  1.82it/s]"
     ]
    },
    {
     "name": "stdout",
     "output_type": "stream",
     "text": [
      "Group (4, 2) Accuracy: 0.0\n"
     ]
    },
    {
     "name": "stderr",
     "output_type": "stream",
     "text": [
      "Evaluating group-wise accuracy:  96%|█████████▌| 24/25 [00:13<00:00,  1.90it/s]"
     ]
    },
    {
     "name": "stdout",
     "output_type": "stream",
     "text": [
      "Group (4, 3) Accuracy: 1.5151515151515151\n"
     ]
    },
    {
     "name": "stderr",
     "output_type": "stream",
     "text": [
      "Evaluating group-wise accuracy: 100%|██████████| 25/25 [00:13<00:00,  1.81it/s]"
     ]
    },
    {
     "name": "stdout",
     "output_type": "stream",
     "text": [
      "Group (4, 4) Accuracy: 100.0\n"
     ]
    },
    {
     "name": "stderr",
     "output_type": "stream",
     "text": [
      "\n"
     ]
    },
    {
     "data": {
      "text/plain": [
       "{(0, 0): 100.0,\n",
       " (0, 1): 0.0,\n",
       " (0, 2): 0.0,\n",
       " (0, 3): 0.0,\n",
       " (0, 4): 0.0,\n",
       " (1, 0): 0.0,\n",
       " (1, 1): 100.0,\n",
       " (1, 2): 0.0,\n",
       " (1, 3): 0.0,\n",
       " (1, 4): 0.0,\n",
       " (2, 0): 0.0,\n",
       " (2, 1): 0.0,\n",
       " (2, 2): 100.0,\n",
       " (2, 3): 0.0,\n",
       " (2, 4): 0.0,\n",
       " (3, 0): 0.0,\n",
       " (3, 1): 0.0,\n",
       " (3, 2): 0.0,\n",
       " (3, 3): 100.0,\n",
       " (3, 4): 0.0,\n",
       " (4, 0): 0.0,\n",
       " (4, 1): 0.0,\n",
       " (4, 2): 0.0,\n",
       " (4, 3): 1.5151515151515151,\n",
       " (4, 4): 100.0}"
      ]
     },
     "execution_count": 21,
     "metadata": {},
     "output_type": "execute_result"
    }
   ],
   "source": [
    "from spuco.evaluate import Evaluator\n",
    "\n",
    "evaluator = Evaluator(\n",
    "    testset=testset,\n",
    "    group_partition=testset.group_partition,\n",
    "    group_weights=trainset.group_weights,\n",
    "    batch_size=64,\n",
    "    model=model,\n",
    "    device=device,\n",
    "    verbose=True\n",
    ")\n",
    "evaluator.evaluate()"
   ]
  },
  {
   "cell_type": "code",
   "execution_count": 22,
   "metadata": {},
   "outputs": [
    {
     "data": {
      "text/plain": [
       "((0, 1), 0.0)"
      ]
     },
     "execution_count": 22,
     "metadata": {},
     "output_type": "execute_result"
    }
   ],
   "source": [
    "evaluator.worst_group_accuracy"
   ]
  },
  {
   "cell_type": "code",
   "execution_count": 23,
   "metadata": {},
   "outputs": [
    {
     "data": {
      "text/plain": [
       "98.99443354467937"
      ]
     },
     "execution_count": 23,
     "metadata": {},
     "output_type": "execute_result"
    }
   ],
   "source": [
    "evaluator.average_accuracy"
   ]
  },
  {
   "cell_type": "code",
   "execution_count": 24,
   "metadata": {},
   "outputs": [
    {
     "data": {
      "text/plain": [
       "99.93"
      ]
     },
     "execution_count": 24,
     "metadata": {},
     "output_type": "execute_result"
    }
   ],
   "source": [
    "evaluator.evaluate_spurious_attribute_prediction()"
   ]
  }
 ],
 "metadata": {
  "kernelspec": {
   "display_name": "clip",
   "language": "python",
   "name": "python3"
  },
  "language_info": {
   "codemirror_mode": {
    "name": "ipython",
    "version": 3
   },
   "file_extension": ".py",
   "mimetype": "text/x-python",
   "name": "python",
   "nbconvert_exporter": "python",
   "pygments_lexer": "ipython3",
   "version": "3.10.9"
  },
  "orig_nbformat": 4
 },
 "nbformat": 4,
 "nbformat_minor": 2
}
