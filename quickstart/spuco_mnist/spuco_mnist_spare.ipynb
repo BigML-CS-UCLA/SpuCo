{
 "cells": [
  {
   "cell_type": "code",
   "execution_count": null,
   "metadata": {
    "colab": {
     "base_uri": "https://localhost:8080/"
    },
    "executionInfo": {
     "elapsed": 5470,
     "status": "ok",
     "timestamp": 1732673666876,
     "user": {
      "displayName": "Siddharth Joshi",
      "userId": "02365761039047183263"
     },
     "user_tz": 480
    },
    "id": "5gF_bKEr-dmF",
    "outputId": "fe13eafc-cdd5-4ba2-bd02-a1d4ee43bb60"
   },
   "outputs": [],
   "source": [
    "pip install spuco --upgrade\n"
   ]
  },
  {
   "cell_type": "code",
   "execution_count": null,
   "metadata": {
    "executionInfo": {
     "elapsed": 24912,
     "status": "ok",
     "timestamp": 1732673693276,
     "user": {
      "displayName": "Siddharth Joshi",
      "userId": "02365761039047183263"
     },
     "user_tz": 480
    },
    "id": "4Lj4Z5qy8G2h"
   },
   "outputs": [],
   "source": [
    "import os\n",
    "import torch\n",
    "import pandas as pd\n",
    "import torchvision.transforms as transforms\n",
    "from torch.optim import SGD\n",
    "from wilds import get_dataset\n",
    "\n",
    "from spuco.datasets import SpuCoMNIST, SpuriousFeatureDifficulty\n",
    "from spuco.evaluate import Evaluator\n",
    "from spuco.group_inference import SpareInference\n",
    "from spuco.robust_train import SpareTrain\n",
    "from spuco.models import model_factory\n",
    "from spuco.utils import Trainer, set_seed"
   ]
  },
  {
   "cell_type": "code",
   "execution_count": null,
   "metadata": {
    "executionInfo": {
     "elapsed": 15,
     "status": "ok",
     "timestamp": 1732673693276,
     "user": {
      "displayName": "Siddharth Joshi",
      "userId": "02365761039047183263"
     },
     "user_tz": 480
    },
    "id": "FwIRiJA4-Ahl"
   },
   "outputs": [],
   "source": [
    "params = {\n",
    "    \"gpu\": 0,\n",
    "    \"seed\": 0,\n",
    "    \"root_dir\": \"/data\",\n",
    "    \"batch_size\": 32,\n",
    "    \"num_epochs\": 20,\n",
    "    \"lr\": 1e-3,\n",
    "    \"weight_decay\": 1e-2,\n",
    "    \"momentum\": 0.9,\n",
    "    \"pretrained\": False,\n",
    "    \"infer_lr\": 1e-3,\n",
    "    \"infer_weight_decay\": 1e-2,\n",
    "    \"infer_momentum\": 0.9,\n",
    "    \"infer_num_epochs\": 1,\n",
    "    \"high_sampling_power\": 2,\n",
    "}"
   ]
  },
  {
   "cell_type": "code",
   "execution_count": null,
   "metadata": {
    "executionInfo": {
     "elapsed": 1,
     "status": "ok",
     "timestamp": 1732673693276,
     "user": {
      "displayName": "Siddharth Joshi",
      "userId": "02365761039047183263"
     },
     "user_tz": 480
    },
    "id": "DSQf65as-Br2"
   },
   "outputs": [],
   "source": [
    "device = torch.device(f\"cuda:{params['gpu']}\" if torch.cuda.is_available() else \"cpu\")\n",
    "set_seed(params[\"seed\"])"
   ]
  },
  {
   "cell_type": "code",
   "execution_count": null,
   "metadata": {
    "executionInfo": {
     "elapsed": 25049,
     "status": "ok",
     "timestamp": 1732673726318,
     "user": {
      "displayName": "Siddharth Joshi",
      "userId": "02365761039047183263"
     },
     "user_tz": 480
    },
    "id": "eBdypYup-Dkh"
   },
   "outputs": [],
   "source": [
    "classes = [[0, 1], [2, 3], [4, 5], [6, 7], [8, 9]]\n",
    "difficulty = SpuriousFeatureDifficulty.MAGNITUDE_LARGE\n",
    "\n",
    "trainset = SpuCoMNIST(\n",
    "    root=f\"{params['root_dir']}/mnist/\",\n",
    "    spurious_feature_difficulty=difficulty,\n",
    "    spurious_correlation_strength=0.995,\n",
    "    classes=classes,\n",
    "    split=\"train\"\n",
    ")\n",
    "trainset.initialize()\n",
    "\n",
    "valset = SpuCoMNIST(\n",
    "    root=f\"{params['root_dir']}/mnist/\",\n",
    "    spurious_feature_difficulty=difficulty,\n",
    "    classes=classes,\n",
    "    split=\"val\",\n",
    ")\n",
    "valset.initialize()\n",
    "\n",
    "testset = SpuCoMNIST(\n",
    "    root=f\"{params['root_dir']}/mnist/\",\n",
    "    spurious_feature_difficulty=difficulty,\n",
    "    classes=classes,\n",
    "    split=\"test\"\n",
    ")\n",
    "testset.initialize()\n"
   ]
  },
  {
   "cell_type": "code",
   "execution_count": null,
   "metadata": {
    "colab": {
     "base_uri": "https://localhost:8080/"
    },
    "executionInfo": {
     "elapsed": 16785,
     "status": "ok",
     "timestamp": 1732673872046,
     "user": {
      "displayName": "Siddharth Joshi",
      "userId": "02365761039047183263"
     },
     "user_tz": 480
    },
    "id": "Ak10Wk7h-F7F",
    "outputId": "e829d378-56be-400a-847a-018e0437b5a5"
   },
   "outputs": [],
   "source": [
    "model = model_factory(\"lenet\", trainset[0][0].shape, trainset.num_classes, pretrained=params[\"pretrained\"]).to(device)\n",
    "\n",
    "trainer = Trainer(\n",
    "    trainset=trainset,\n",
    "    model=model,\n",
    "    batch_size=params[\"batch_size\"],\n",
    "    optimizer=SGD(model.parameters(), lr=params[\"infer_lr\"], weight_decay=params[\"infer_weight_decay\"], momentum=params[\"infer_momentum\"]),\n",
    "    device=device,\n",
    "    verbose=True\n",
    ")\n",
    "\n",
    "trainer.train(num_epochs=params[\"infer_num_epochs\"])"
   ]
  },
  {
   "cell_type": "code",
   "execution_count": null,
   "metadata": {
    "colab": {
     "base_uri": "https://localhost:8080/"
    },
    "executionInfo": {
     "elapsed": 57482,
     "status": "ok",
     "timestamp": 1732673962873,
     "user": {
      "displayName": "Siddharth Joshi",
      "userId": "02365761039047183263"
     },
     "user_tz": 480
    },
    "id": "J48Ko31x-LEN",
    "outputId": "c11e8909-2644-4dc4-efc1-fef467632bbb"
   },
   "outputs": [],
   "source": [
    "logits = trainer.get_trainset_outputs()\n",
    "predictions = torch.nn.functional.softmax(logits, dim=1)\n",
    "\n",
    "spare_infer = SpareInference(\n",
    "    logits=predictions,\n",
    "    class_labels=trainset.labels,\n",
    "    device=device,\n",
    "    max_clusters=5,\n",
    "    high_sampling_power=params[\"high_sampling_power\"],\n",
    "    verbose=True\n",
    ")\n",
    "\n",
    "group_partition = spare_infer.infer_groups()\n",
    "print(group_partition)\n",
    "sampling_powers = spare_infer.sampling_powers\n",
    "\n",
    "print(\"Sampling powers:\", sampling_powers)\n",
    "for key in sorted(group_partition.keys()):\n",
    "    for true_key in sorted(trainset.group_partition.keys()):\n",
    "        print(f\"Inferred group: {key}, true group: {true_key}, size: {len([x for x in trainset.group_partition[true_key] if x in group_partition[key]])}\")\n"
   ]
  },
  {
   "cell_type": "code",
   "execution_count": null,
   "metadata": {
    "colab": {
     "base_uri": "https://localhost:8080/",
     "output_embedded_package_id": "1bCokBN6hmvMmIaeQnkAF586QuX7bGeU_"
    },
    "executionInfo": {
     "elapsed": 1041954,
     "status": "ok",
     "timestamp": 1732675004815,
     "user": {
      "displayName": "Siddharth Joshi",
      "userId": "02365761039047183263"
     },
     "user_tz": 480
    },
    "id": "EUojmFTS-Myn",
    "outputId": "0ae93b86-ef20-413b-e96d-53d64883f51d"
   },
   "outputs": [],
   "source": [
    "valid_evaluator = Evaluator(\n",
    "    testset=valset,\n",
    "    group_partition=valset.group_partition,\n",
    "    group_weights=valset.group_weights,\n",
    "    batch_size=params[\"batch_size\"],\n",
    "    model=model,\n",
    "    device=device,\n",
    "    verbose=True\n",
    ")\n",
    "\n",
    "spare_train = SpareTrain(\n",
    "    model=model,\n",
    "    num_epochs=params[\"num_epochs\"],\n",
    "    trainset=trainset,\n",
    "    group_partition=group_partition,\n",
    "    sampling_powers=[20] * 5,\n",
    "    batch_size=params[\"batch_size\"],\n",
    "    optimizer=SGD(model.parameters(), lr=params[\"lr\"], weight_decay=params[\"weight_decay\"], momentum=params[\"momentum\"]),\n",
    "    device=device,\n",
    "    val_evaluator=valid_evaluator,\n",
    "    verbose=True\n",
    ")\n",
    "spare_train.train()"
   ]
  },
  {
   "cell_type": "code",
   "execution_count": null,
   "metadata": {
    "colab": {
     "base_uri": "https://localhost:8080/"
    },
    "executionInfo": {
     "elapsed": 10426,
     "status": "ok",
     "timestamp": 1732675021775,
     "user": {
      "displayName": "Siddharth Joshi",
      "userId": "02365761039047183263"
     },
     "user_tz": 480
    },
    "id": "IME7-zEX-OKD",
    "outputId": "b681b758-654b-4391-dd04-e2a4b8b53c16"
   },
   "outputs": [],
   "source": [
    "evaluator = Evaluator(\n",
    "    testset=testset,\n",
    "    group_partition=testset.group_partition,\n",
    "    group_weights=trainset.group_weights,\n",
    "    batch_size=params[\"batch_size\"],\n",
    "    model=spare_train.best_model,\n",
    "    device=device,\n",
    "    verbose=True\n",
    ")\n",
    "evaluator.evaluate()\n",
    "\n",
    "print(\"Final Results:\")\n",
    "print(f\"Worst Group Accuracy: {evaluator.worst_group_accuracy[1]}\")\n",
    "print(f\"Average Accuracy: {evaluator.average_accuracy}\")"
   ]
  }
 ],
 "metadata": {
  "accelerator": "GPU",
  "colab": {
   "authorship_tag": "ABX9TyPjaQzf/AvApbNGY1mS/u5+",
   "gpuType": "T4",
   "provenance": []
  },
  "kernelspec": {
   "display_name": "Python 3",
   "name": "python3"
  },
  "language_info": {
   "name": "python"
  }
 },
 "nbformat": 4,
 "nbformat_minor": 0
}
