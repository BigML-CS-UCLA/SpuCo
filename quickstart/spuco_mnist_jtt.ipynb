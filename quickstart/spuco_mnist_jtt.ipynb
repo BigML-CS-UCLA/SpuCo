{
 "cells": [
  {
   "cell_type": "code",
   "execution_count": 1,
   "metadata": {},
   "outputs": [
    {
     "name": "stdout",
     "output_type": "stream",
     "text": [
      "Processing /home/sjoshi/spuco\n",
      "  Installing build dependencies ... \u001b[?25ldone\n",
      "\u001b[?25h  Getting requirements to build wheel ... \u001b[?25ldone\n",
      "\u001b[?25h  Installing backend dependencies ... \u001b[?25ldone\n",
      "\u001b[?25h  Preparing metadata (pyproject.toml) ... \u001b[?25ldone\n",
      "\u001b[?25hRequirement already satisfied: matplotlib>=3.7.1 in /home/sjoshi/anaconda3/envs/clip/lib/python3.10/site-packages (from spuco==0.0.1) (3.7.1)\n",
      "Requirement already satisfied: numpy>=1.23.5 in /home/sjoshi/anaconda3/envs/clip/lib/python3.10/site-packages (from spuco==0.0.1) (1.23.5)\n",
      "Requirement already satisfied: setuptools>=61.0 in /home/sjoshi/anaconda3/envs/clip/lib/python3.10/site-packages (from spuco==0.0.1) (65.6.3)\n",
      "Requirement already satisfied: torch>=2.0.0 in /home/sjoshi/anaconda3/envs/clip/lib/python3.10/site-packages (from spuco==0.0.1) (2.0.0)\n",
      "Requirement already satisfied: torchvision>=0.15.1 in /home/sjoshi/anaconda3/envs/clip/lib/python3.10/site-packages (from spuco==0.0.1) (0.15.1)\n",
      "Requirement already satisfied: tqdm>=4.65.0 in /home/sjoshi/anaconda3/envs/clip/lib/python3.10/site-packages (from spuco==0.0.1) (4.65.0)\n",
      "Requirement already satisfied: contourpy>=1.0.1 in /home/sjoshi/anaconda3/envs/clip/lib/python3.10/site-packages (from matplotlib>=3.7.1->spuco==0.0.1) (1.0.5)\n",
      "Requirement already satisfied: cycler>=0.10 in /home/sjoshi/anaconda3/envs/clip/lib/python3.10/site-packages (from matplotlib>=3.7.1->spuco==0.0.1) (0.11.0)\n",
      "Requirement already satisfied: fonttools>=4.22.0 in /home/sjoshi/anaconda3/envs/clip/lib/python3.10/site-packages (from matplotlib>=3.7.1->spuco==0.0.1) (4.25.0)\n",
      "Requirement already satisfied: kiwisolver>=1.0.1 in /home/sjoshi/anaconda3/envs/clip/lib/python3.10/site-packages (from matplotlib>=3.7.1->spuco==0.0.1) (1.4.4)\n",
      "Requirement already satisfied: packaging>=20.0 in /home/sjoshi/anaconda3/envs/clip/lib/python3.10/site-packages (from matplotlib>=3.7.1->spuco==0.0.1) (22.0)\n",
      "Requirement already satisfied: pillow>=6.2.0 in /home/sjoshi/anaconda3/envs/clip/lib/python3.10/site-packages (from matplotlib>=3.7.1->spuco==0.0.1) (9.4.0)\n",
      "Requirement already satisfied: pyparsing>=2.3.1 in /home/sjoshi/anaconda3/envs/clip/lib/python3.10/site-packages (from matplotlib>=3.7.1->spuco==0.0.1) (3.0.9)\n",
      "Requirement already satisfied: python-dateutil>=2.7 in /home/sjoshi/anaconda3/envs/clip/lib/python3.10/site-packages (from matplotlib>=3.7.1->spuco==0.0.1) (2.8.2)\n",
      "Requirement already satisfied: filelock in /home/sjoshi/anaconda3/envs/clip/lib/python3.10/site-packages (from torch>=2.0.0->spuco==0.0.1) (3.9.0)\n",
      "Requirement already satisfied: typing-extensions in /home/sjoshi/anaconda3/envs/clip/lib/python3.10/site-packages (from torch>=2.0.0->spuco==0.0.1) (4.4.0)\n",
      "Requirement already satisfied: sympy in /home/sjoshi/anaconda3/envs/clip/lib/python3.10/site-packages (from torch>=2.0.0->spuco==0.0.1) (1.11.1)\n",
      "Requirement already satisfied: networkx in /home/sjoshi/anaconda3/envs/clip/lib/python3.10/site-packages (from torch>=2.0.0->spuco==0.0.1) (3.1)\n",
      "Requirement already satisfied: jinja2 in /home/sjoshi/anaconda3/envs/clip/lib/python3.10/site-packages (from torch>=2.0.0->spuco==0.0.1) (3.1.2)\n",
      "Requirement already satisfied: nvidia-cuda-nvrtc-cu11==11.7.99 in /home/sjoshi/anaconda3/envs/clip/lib/python3.10/site-packages (from torch>=2.0.0->spuco==0.0.1) (11.7.99)\n",
      "Requirement already satisfied: nvidia-cuda-runtime-cu11==11.7.99 in /home/sjoshi/anaconda3/envs/clip/lib/python3.10/site-packages (from torch>=2.0.0->spuco==0.0.1) (11.7.99)\n",
      "Requirement already satisfied: nvidia-cuda-cupti-cu11==11.7.101 in /home/sjoshi/anaconda3/envs/clip/lib/python3.10/site-packages (from torch>=2.0.0->spuco==0.0.1) (11.7.101)\n",
      "Requirement already satisfied: nvidia-cudnn-cu11==8.5.0.96 in /home/sjoshi/anaconda3/envs/clip/lib/python3.10/site-packages (from torch>=2.0.0->spuco==0.0.1) (8.5.0.96)\n",
      "Requirement already satisfied: nvidia-cublas-cu11==11.10.3.66 in /home/sjoshi/anaconda3/envs/clip/lib/python3.10/site-packages (from torch>=2.0.0->spuco==0.0.1) (11.10.3.66)\n",
      "Requirement already satisfied: nvidia-cufft-cu11==10.9.0.58 in /home/sjoshi/anaconda3/envs/clip/lib/python3.10/site-packages (from torch>=2.0.0->spuco==0.0.1) (10.9.0.58)\n",
      "Requirement already satisfied: nvidia-curand-cu11==10.2.10.91 in /home/sjoshi/anaconda3/envs/clip/lib/python3.10/site-packages (from torch>=2.0.0->spuco==0.0.1) (10.2.10.91)\n",
      "Requirement already satisfied: nvidia-cusolver-cu11==11.4.0.1 in /home/sjoshi/anaconda3/envs/clip/lib/python3.10/site-packages (from torch>=2.0.0->spuco==0.0.1) (11.4.0.1)\n",
      "Requirement already satisfied: nvidia-cusparse-cu11==11.7.4.91 in /home/sjoshi/anaconda3/envs/clip/lib/python3.10/site-packages (from torch>=2.0.0->spuco==0.0.1) (11.7.4.91)\n",
      "Requirement already satisfied: nvidia-nccl-cu11==2.14.3 in /home/sjoshi/anaconda3/envs/clip/lib/python3.10/site-packages (from torch>=2.0.0->spuco==0.0.1) (2.14.3)\n",
      "Requirement already satisfied: nvidia-nvtx-cu11==11.7.91 in /home/sjoshi/anaconda3/envs/clip/lib/python3.10/site-packages (from torch>=2.0.0->spuco==0.0.1) (11.7.91)\n",
      "Requirement already satisfied: triton==2.0.0 in /home/sjoshi/anaconda3/envs/clip/lib/python3.10/site-packages (from torch>=2.0.0->spuco==0.0.1) (2.0.0)\n",
      "Requirement already satisfied: wheel in /home/sjoshi/anaconda3/envs/clip/lib/python3.10/site-packages (from nvidia-cublas-cu11==11.10.3.66->torch>=2.0.0->spuco==0.0.1) (0.38.4)\n",
      "Requirement already satisfied: cmake in /home/sjoshi/anaconda3/envs/clip/lib/python3.10/site-packages (from triton==2.0.0->torch>=2.0.0->spuco==0.0.1) (3.26.3)\n",
      "Requirement already satisfied: lit in /home/sjoshi/anaconda3/envs/clip/lib/python3.10/site-packages (from triton==2.0.0->torch>=2.0.0->spuco==0.0.1) (16.0.1)\n",
      "Requirement already satisfied: requests in /home/sjoshi/anaconda3/envs/clip/lib/python3.10/site-packages (from torchvision>=0.15.1->spuco==0.0.1) (2.28.1)\n",
      "Requirement already satisfied: six>=1.5 in /home/sjoshi/anaconda3/envs/clip/lib/python3.10/site-packages (from python-dateutil>=2.7->matplotlib>=3.7.1->spuco==0.0.1) (1.16.0)\n",
      "Requirement already satisfied: MarkupSafe>=2.0 in /home/sjoshi/anaconda3/envs/clip/lib/python3.10/site-packages (from jinja2->torch>=2.0.0->spuco==0.0.1) (2.1.2)\n",
      "Requirement already satisfied: charset-normalizer<3,>=2 in /home/sjoshi/anaconda3/envs/clip/lib/python3.10/site-packages (from requests->torchvision>=0.15.1->spuco==0.0.1) (2.0.4)\n",
      "Requirement already satisfied: idna<4,>=2.5 in /home/sjoshi/anaconda3/envs/clip/lib/python3.10/site-packages (from requests->torchvision>=0.15.1->spuco==0.0.1) (3.4)\n",
      "Requirement already satisfied: urllib3<1.27,>=1.21.1 in /home/sjoshi/anaconda3/envs/clip/lib/python3.10/site-packages (from requests->torchvision>=0.15.1->spuco==0.0.1) (1.26.14)\n",
      "Requirement already satisfied: certifi>=2017.4.17 in /home/sjoshi/anaconda3/envs/clip/lib/python3.10/site-packages (from requests->torchvision>=0.15.1->spuco==0.0.1) (2022.12.7)\n",
      "Requirement already satisfied: mpmath>=0.19 in /home/sjoshi/anaconda3/envs/clip/lib/python3.10/site-packages (from sympy->torch>=2.0.0->spuco==0.0.1) (1.3.0)\n",
      "Building wheels for collected packages: spuco\n",
      "  Building wheel for spuco (pyproject.toml) ... \u001b[?25ldone\n",
      "\u001b[?25h  Created wheel for spuco: filename=spuco-0.0.1-py3-none-any.whl size=20541 sha256=ad7cbca57a3aa906729abbf7f24afe92d6e854f74107863f6b1ec765384d2885\n",
      "  Stored in directory: /tmp/pip-ephem-wheel-cache-_3a30vc7/wheels/ef/5d/43/a265894b1d52121a51705a208277e8d9a9670e95fa1a2e7ae6\n",
      "Successfully built spuco\n",
      "Installing collected packages: spuco\n",
      "  Attempting uninstall: spuco\n",
      "    Found existing installation: spuco 0.0.1\n",
      "    Uninstalling spuco-0.0.1:\n",
      "      Successfully uninstalled spuco-0.0.1\n",
      "Successfully installed spuco-0.0.1\n"
     ]
    }
   ],
   "source": [
    "!pip install .."
   ]
  },
  {
   "cell_type": "code",
   "execution_count": 2,
   "metadata": {},
   "outputs": [],
   "source": [
    "import torch \n",
    "\n",
    "device = torch.device(\"cuda:3\")"
   ]
  },
  {
   "cell_type": "code",
   "execution_count": 3,
   "metadata": {},
   "outputs": [],
   "source": [
    "from spuco.datasets import SpuCoMNIST, SpuriousFeatureDifficulty\n",
    "import torchvision.transforms as T\n",
    "\n",
    "classes = [[0, 1], [2, 3], [4, 5], [6, 7], [8, 9]]\n",
    "difficulty = SpuriousFeatureDifficulty.MAGNITUDE_EASY\n",
    "\n",
    "trainset = SpuCoMNIST(\n",
    "    root=\"/data/mnist/\",\n",
    "    spurious_feature_difficulty=difficulty,\n",
    "    spurious_correlation_strength=0.995,\n",
    "    classes=classes,\n",
    "    train=True\n",
    ")\n",
    "trainset.initialize()\n",
    "\n",
    "testset = SpuCoMNIST(\n",
    "    root=\"/data/mnist/\",\n",
    "    spurious_feature_difficulty=difficulty,\n",
    "    classes=classes,\n",
    "    train=False\n",
    ")\n",
    "testset.initialize()\n"
   ]
  },
  {
   "cell_type": "code",
   "execution_count": 4,
   "metadata": {},
   "outputs": [
    {
     "data": {
      "image/png": "[encoded data removed]",
      "text/plain": [
       "<PIL.Image.Image image mode=RGB size=28x28>"
      ]
     },
     "execution_count": 4,
     "metadata": {},
     "output_type": "execute_result"
    }
   ],
   "source": [
    "T.ToPILImage()(trainset[1000][0]).resize((28,28))"
   ]
  },
  {
   "cell_type": "code",
   "execution_count": 5,
   "metadata": {},
   "outputs": [],
   "source": [
    "from spuco.group_inference import JTTInference\n",
    "from spuco.models import MLP\n",
    "from spuco.util import Trainer\n",
    "from torch.optim import SGD\n",
    "\n",
    "model = MLP(3*28*28, len(classes)).to(device)\n",
    "trainer = Trainer(\n",
    "    trainset=trainset,\n",
    "    model=model,\n",
    "    batch_size=64,\n",
    "    optimizer=SGD(model.parameters(), lr=1e-2, momentum=0.9, nesterov=True),\n",
    "    device=device,\n",
    "    verbose=True\n",
    ")\n",
    "\n",
    "jtt = JTTInference(trainset, trainer=trainer, num_epochs=1)"
   ]
  },
  {
   "cell_type": "code",
   "execution_count": 6,
   "metadata": {},
   "outputs": [
    {
     "name": "stderr",
     "output_type": "stream",
     "text": [
      "Epoch 0: 100%|██████████| 938/938 [00:02<00:00, 416.03batch/s, accuracy=96.875%, loss=0.279]  \n",
      "100%|██████████| 938/938 [00:00<00:00, 1594.87batch/s]\n"
     ]
    }
   ],
   "source": [
    "group_partition = jtt.infer_groups()"
   ]
  },
  {
   "cell_type": "code",
   "execution_count": 7,
   "metadata": {},
   "outputs": [
    {
     "name": "stdout",
     "output_type": "stream",
     "text": [
      "59713\n",
      "287\n"
     ]
    }
   ],
   "source": [
    "for key in group_partition.keys():\n",
    "    print(key, len(group_partition[key]))"
   ]
  },
  {
   "cell_type": "code",
   "execution_count": 8,
   "metadata": {},
   "outputs": [],
   "source": [
    "from spuco.invariant_train import InvariantTrainsetWrapper\n",
    "invariant_trainset = InvariantTrainsetWrapper(trainset, group_partition)"
   ]
  },
  {
   "cell_type": "code",
   "execution_count": 15,
   "metadata": {},
   "outputs": [
    {
     "ename": "ImportError",
     "evalue": "cannot import name 'CustomSampleERM' from 'spuco.invariant_train' (/home/sjoshi/anaconda3/envs/clip/lib/python3.10/site-packages/spuco/invariant_train/__init__.py)",
     "output_type": "error",
     "traceback": [
      "\u001b[0;31m---------------------------------------------------------------------------\u001b[0m",
      "\u001b[0;31mImportError\u001b[0m                               Traceback (most recent call last)",
      "Cell \u001b[0;32mIn[15], line 3\u001b[0m\n\u001b[1;32m      1\u001b[0m \u001b[39mfrom\u001b[39;00m \u001b[39mtorch\u001b[39;00m\u001b[39m.\u001b[39;00m\u001b[39moptim\u001b[39;00m \u001b[39mimport\u001b[39;00m SGD\n\u001b[1;32m      2\u001b[0m \u001b[39mfrom\u001b[39;00m \u001b[39mspuco\u001b[39;00m\u001b[39m.\u001b[39;00m\u001b[39mmodels\u001b[39;00m \u001b[39mimport\u001b[39;00m MLP\n\u001b[0;32m----> 3\u001b[0m \u001b[39mfrom\u001b[39;00m \u001b[39mspuco\u001b[39;00m\u001b[39m.\u001b[39;00m\u001b[39minvariant_train\u001b[39;00m \u001b[39mimport\u001b[39;00m GroupDRO, CustomSampleERM\n\u001b[1;32m      5\u001b[0m model \u001b[39m=\u001b[39m MLP(\u001b[39m3\u001b[39m\u001b[39m*\u001b[39m\u001b[39m28\u001b[39m\u001b[39m*\u001b[39m\u001b[39m28\u001b[39m, \u001b[39mlen\u001b[39m(classes))\u001b[39m.\u001b[39mto(device)\n\u001b[1;32m      6\u001b[0m group_dro \u001b[39m=\u001b[39m CustomSampleERM(\n\u001b[1;32m      7\u001b[0m     model\u001b[39m=\u001b[39mmodel,\n\u001b[1;32m      8\u001b[0m     num_epochs\u001b[39m=\u001b[39m\u001b[39m1\u001b[39m,\n\u001b[0;32m   (...)\u001b[0m\n\u001b[1;32m     13\u001b[0m     verbose\u001b[39m=\u001b[39m\u001b[39mTrue\u001b[39;00m\n\u001b[1;32m     14\u001b[0m )\n",
      "\u001b[0;31mImportError\u001b[0m: cannot import name 'CustomSampleERM' from 'spuco.invariant_train' (/home/sjoshi/anaconda3/envs/clip/lib/python3.10/site-packages/spuco/invariant_train/__init__.py)"
     ]
    }
   ],
   "source": [
    "from torch.optim import SGD\n",
    "from spuco.models import MLP\n",
    "from spuco.invariant_train import GroupDRO, CustomSampleERM\n",
    "\n",
    "model = MLP(3*28*28, len(classes)).to(device)\n",
    "group_dro = CustomSampleERM(\n",
    "    model=model,\n",
    "    num_epochs=1,\n",
    "    trainset=invariant_trainset,\n",
    "    batch_size=64,\n",
    "    indices=group_partition[(0,0)] + 200 * group_partition[(0,1)]\n",
    "    optimizer=SGD(model.parameters(), lr=1e-2, momentum=0.9, nesterov=True),\n",
    "    device=device,\n",
    "    verbose=True\n",
    ")"
   ]
  },
  {
   "cell_type": "code",
   "execution_count": 10,
   "metadata": {},
   "outputs": [
    {
     "name": "stderr",
     "output_type": "stream",
     "text": [
      "Epoch 0: 100%|██████████| 938/938 [00:03<00:00, 309.27batch/s, accuracy=78.125%, loss=0.817] \n"
     ]
    }
   ],
   "source": [
    "group_dro.train()"
   ]
  },
  {
   "cell_type": "code",
   "execution_count": 11,
   "metadata": {},
   "outputs": [
    {
     "name": "stdout",
     "output_type": "stream",
     "text": [
      "Group (0, 0) Test Accuracy: 95.50827423167848\n",
      "Group (0, 1) Test Accuracy: 67.84869976359339\n",
      "Group (0, 2) Test Accuracy: 60.520094562647756\n",
      "Group (0, 3) Test Accuracy: 53.191489361702125\n",
      "Group (0, 4) Test Accuracy: 70.2127659574468\n",
      "Group (1, 0) Test Accuracy: 53.789731051344745\n",
      "Group (1, 1) Test Accuracy: 92.66503667481662\n",
      "Group (1, 2) Test Accuracy: 68.38235294117646\n",
      "Group (1, 3) Test Accuracy: 59.55882352941177\n",
      "Group (1, 4) Test Accuracy: 41.666666666666664\n",
      "Group (2, 0) Test Accuracy: 49.06666666666667\n",
      "Group (2, 1) Test Accuracy: 79.73333333333333\n",
      "Group (2, 2) Test Accuracy: 94.93333333333334\n",
      "Group (2, 3) Test Accuracy: 46.4\n",
      "Group (2, 4) Test Accuracy: 10.16042780748663\n",
      "Group (3, 0) Test Accuracy: 62.06030150753769\n",
      "Group (3, 1) Test Accuracy: 12.090680100755668\n",
      "Group (3, 2) Test Accuracy: 68.76574307304786\n",
      "Group (3, 3) Test Accuracy: 96.72544080604534\n",
      "Group (3, 4) Test Accuracy: 73.29974811083123\n",
      "Group (4, 0) Test Accuracy: 84.1309823677582\n",
      "Group (4, 1) Test Accuracy: 0.0\n",
      "Group (4, 2) Test Accuracy: 21.410579345088163\n",
      "Group (4, 3) Test Accuracy: 22.97979797979798\n",
      "Group (4, 4) Test Accuracy: 93.68686868686869\n"
     ]
    },
    {
     "data": {
      "text/plain": [
       "{(0, 0): 95.50827423167848,\n",
       " (0, 1): 67.84869976359339,\n",
       " (0, 2): 60.520094562647756,\n",
       " (0, 3): 53.191489361702125,\n",
       " (0, 4): 70.2127659574468,\n",
       " (1, 0): 53.789731051344745,\n",
       " (1, 1): 92.66503667481662,\n",
       " (1, 2): 68.38235294117646,\n",
       " (1, 3): 59.55882352941177,\n",
       " (1, 4): 41.666666666666664,\n",
       " (2, 0): 49.06666666666667,\n",
       " (2, 1): 79.73333333333333,\n",
       " (2, 2): 94.93333333333334,\n",
       " (2, 3): 46.4,\n",
       " (2, 4): 10.16042780748663,\n",
       " (3, 0): 62.06030150753769,\n",
       " (3, 1): 12.090680100755668,\n",
       " (3, 2): 68.76574307304786,\n",
       " (3, 3): 96.72544080604534,\n",
       " (3, 4): 73.29974811083123,\n",
       " (4, 0): 84.1309823677582,\n",
       " (4, 1): 0.0,\n",
       " (4, 2): 21.410579345088163,\n",
       " (4, 3): 22.97979797979798,\n",
       " (4, 4): 93.68686868686869}"
      ]
     },
     "execution_count": 11,
     "metadata": {},
     "output_type": "execute_result"
    }
   ],
   "source": [
    "from spuco.evaluate import Evaluator\n",
    "\n",
    "evaluator = Evaluator(\n",
    "    testset=testset,\n",
    "    group_partition=testset.group_partition,\n",
    "    group_weights=trainset.group_weights,\n",
    "    batch_size=64,\n",
    "    model=model,\n",
    "    device=device,\n",
    "    verbose=True\n",
    ")\n",
    "evaluator.evaluate()"
   ]
  },
  {
   "cell_type": "code",
   "execution_count": 12,
   "metadata": {},
   "outputs": [
    {
     "data": {
      "text/plain": [
       "((4, 1), 0.0)"
      ]
     },
     "execution_count": 12,
     "metadata": {},
     "output_type": "execute_result"
    }
   ],
   "source": [
    "evaluator.worst_group_accuracy"
   ]
  },
  {
   "cell_type": "code",
   "execution_count": 13,
   "metadata": {},
   "outputs": [
    {
     "data": {
      "text/plain": [
       "94.51861224047502"
      ]
     },
     "execution_count": 13,
     "metadata": {},
     "output_type": "execute_result"
    }
   ],
   "source": [
    "evaluator.average_accuracy"
   ]
  },
  {
   "cell_type": "code",
   "execution_count": 14,
   "metadata": {},
   "outputs": [
    {
     "data": {
      "text/plain": [
       "42.74"
      ]
     },
     "execution_count": 14,
     "metadata": {},
     "output_type": "execute_result"
    }
   ],
   "source": [
    "evaluator.evaluate_spurious_task()"
   ]
  }
 ],
 "metadata": {
  "kernelspec": {
   "display_name": "clip",
   "language": "python",
   "name": "python3"
  },
  "language_info": {
   "codemirror_mode": {
    "name": "ipython",
    "version": 3
   },
   "file_extension": ".py",
   "mimetype": "text/x-python",
   "name": "python",
   "nbconvert_exporter": "python",
   "pygments_lexer": "ipython3",
   "version": "3.10.9"
  },
  "orig_nbformat": 4
 },
 "nbformat": 4,
 "nbformat_minor": 2
}
