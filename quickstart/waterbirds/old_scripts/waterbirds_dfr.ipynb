{
 "cells": [
  {
   "cell_type": "code",
   "execution_count": null,
   "metadata": {},
   "outputs": [],
   "source": [
    "%pip install ../../"
   ]
  },
  {
   "cell_type": "code",
   "execution_count": null,
   "metadata": {},
   "outputs": [],
   "source": [
    "import torch \n",
    "from spuco.datasets import WILDSDatasetWrapper\n",
    "from spuco.datasets import GroupLabeledDatasetWrapper\n",
    "from spuco.utils import set_seed\n",
    "from wilds import get_dataset\n",
    "import torchvision.transforms as transforms\n",
    "import numpy as np\n",
    "\n",
    "from spuco.models import model_factory \n",
    "from spuco.evaluate import Evaluator\n",
    "from spuco.last_layer_retrain import DFR, DISPEL\n",
    "\n",
    "import pickle\n",
    "from spuco.invariant_train import ERM \n",
    "from torch.optim import SGD"
   ]
  },
  {
   "cell_type": "code",
   "execution_count": null,
   "metadata": {},
   "outputs": [],
   "source": [
    "set_seed(0)\n",
    "device = torch.device(\"cuda:7\")"
   ]
  },
  {
   "cell_type": "code",
   "execution_count": null,
   "metadata": {},
   "outputs": [],
   "source": [
    "# Load the full dataset, and download it if necessary\n",
    "dataset = get_dataset(dataset=\"waterbirds\", download=True, root_dir=\"/home/data\")\n",
    "\n",
    "target_resolution = (224, 224)\n",
    "scale = 256.0 / 224.0\n",
    "transform = transforms.Compose([\n",
    "        transforms.Resize((int(target_resolution[0]*scale), int(target_resolution[1]*scale))),\n",
    "        transforms.CenterCrop(target_resolution),\n",
    "        transforms.ToTensor(),\n",
    "        transforms.Normalize([0.485, 0.456, 0.406], [0.229, 0.224, 0.225])\n",
    "    ])\n",
    "\n",
    "# Get the training set\n",
    "train_data = dataset.get_subset(\n",
    "    \"train\",\n",
    "    transform=transform\n",
    ")\n",
    "\n",
    "# Get the test set\n",
    "test_data = dataset.get_subset(\n",
    "    \"test\",\n",
    "    transform=transform\n",
    ")\n",
    "\n",
    "# Get the val set\n",
    "val_data = dataset.get_subset(\n",
    "    \"val\",\n",
    "    transform=transform\n",
    ")\n"
   ]
  },
  {
   "cell_type": "code",
   "execution_count": null,
   "metadata": {},
   "outputs": [],
   "source": [
    "trainset = WILDSDatasetWrapper(dataset=train_data, metadata_spurious_label=\"background\", verbose=True)\n",
    "testset = WILDSDatasetWrapper(dataset=test_data, metadata_spurious_label=\"background\", verbose=True)\n",
    "valset = WILDSDatasetWrapper(dataset=val_data, metadata_spurious_label=\"background\", verbose=True)"
   ]
  },
  {
   "cell_type": "code",
   "execution_count": null,
   "metadata": {},
   "outputs": [],
   "source": [
    "# load a trained model from checkpoint\n",
    "model = model_factory(\"resnet50\", trainset[0][0].shape, 2).to(device)\n",
    "ckpt_path = 'path-to-erm-model'\n",
    "state_dict = torch.load(ckpt_path)\n",
    "model.load_state_dict(state_dict)"
   ]
  },
  {
   "cell_type": "code",
   "execution_count": null,
   "metadata": {},
   "outputs": [],
   "source": [
    "group_labeled_set = GroupLabeledDatasetWrapper(dataset=valset, group_partition=valset.group_partition)\n",
    "\n",
    "dfr = DFR(\n",
    "    group_labeled_set=group_labeled_set,\n",
    "    model=model,\n",
    "    data_for_scaler=trainset,\n",
    "    device=device,\n",
    "    verbose=True,\n",
    ")\n",
    "\n",
    "dfr.train()\n",
    "\n",
    "evaluator = Evaluator(\n",
    "    testset=testset,\n",
    "    group_partition=testset.group_partition,\n",
    "    group_weights=trainset.group_weights,\n",
    "    batch_size=64,\n",
    "    model=model,\n",
    "    sklearn_linear_model=dfr.linear_model,\n",
    "    device=device,\n",
    "    verbose=False\n",
    "    )\n",
    "evaluator.evaluate()\n"
   ]
  },
  {
   "cell_type": "code",
   "execution_count": null,
   "metadata": {},
   "outputs": [],
   "source": [
    "print(evaluator.worst_group_accuracy)\n",
    "print(evaluator.average_accuracy)"
   ]
  }
 ],
 "metadata": {
  "kernelspec": {
   "display_name": "myclone",
   "language": "python",
   "name": "python3"
  },
  "language_info": {
   "codemirror_mode": {
    "name": "ipython",
    "version": 3
   },
   "file_extension": ".py",
   "mimetype": "text/x-python",
   "name": "python",
   "nbconvert_exporter": "python",
   "pygments_lexer": "ipython3",
   "version": "3.10.9"
  },
  "orig_nbformat": 4
 },
 "nbformat": 4,
 "nbformat_minor": 2
}
