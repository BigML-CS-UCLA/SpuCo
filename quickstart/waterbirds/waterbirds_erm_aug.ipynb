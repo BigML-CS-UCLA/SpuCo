{
 "cells": [
  {
   "cell_type": "code",
   "execution_count": null,
   "metadata": {},
   "outputs": [],
   "source": [
    "%pip install ../../"
   ]
  },
  {
   "cell_type": "code",
   "execution_count": null,
   "metadata": {},
   "outputs": [],
   "source": [
    "import torch \n",
    "from spuco.utils import set_seed\n",
    "from wilds import get_dataset\n",
    "import torchvision.transforms as transforms\n",
    "from spuco.datasets import WILDSDatasetWrapper\n",
    "from spuco.datasets import GroupLabeledDatasetWrapper\n",
    "import numpy as np\n",
    "\n",
    "from spuco.models import model_factory \n",
    "from spuco.evaluate import Evaluator\n",
    "\n",
    "import pickle\n",
    "from spuco.invariant_train import ERM \n",
    "from torch.optim import SGD"
   ]
  },
  {
   "cell_type": "code",
   "execution_count": null,
   "metadata": {},
   "outputs": [],
   "source": [
    "seed = 0\n",
    "set_seed(seed)\n",
    "device = torch.device(\"cuda:0\")"
   ]
  },
  {
   "cell_type": "code",
   "execution_count": null,
   "metadata": {},
   "outputs": [],
   "source": [
    "# Load the full dataset, and download it if necessary\n",
    "dataset = get_dataset(dataset=\"waterbirds\", download=True, root_dir='/home/data')\n",
    "\n",
    "target_resolution = (224, 224)\n",
    "transform_train = transforms.Compose([\n",
    "            transforms.RandomResizedCrop(\n",
    "                target_resolution,\n",
    "                scale=(0.7, 1.0),\n",
    "                ratio=(0.75, 1.3333333333333333),\n",
    "                interpolation=2),\n",
    "            transforms.RandomHorizontalFlip(),\n",
    "            transforms.ToTensor(),\n",
    "            transforms.Normalize([0.485, 0.456, 0.406], [0.229, 0.224, 0.225])\n",
    "        ])\n",
    "\n",
    "scale = 256.0 / 224.0\n",
    "transform_test = transforms.Compose([\n",
    "        transforms.Resize((int(target_resolution[0]*scale), int(target_resolution[1]*scale))),\n",
    "        transforms.CenterCrop(target_resolution),\n",
    "        transforms.ToTensor(),\n",
    "        transforms.Normalize([0.485, 0.456, 0.406], [0.229, 0.224, 0.225])\n",
    "    ])\n",
    "\n",
    "# Get the training set\n",
    "train_data = dataset.get_subset(\n",
    "    \"train\",\n",
    "    transform=transform_train\n",
    ")\n",
    "\n",
    "# Get the test set\n",
    "test_data = dataset.get_subset(\n",
    "    \"test\",\n",
    "    transform=transform_test\n",
    ")\n",
    "\n",
    "# Get the val set\n",
    "val_data = dataset.get_subset(\n",
    "    \"val\",\n",
    "    transform=transform_test\n",
    ")"
   ]
  },
  {
   "cell_type": "code",
   "execution_count": null,
   "metadata": {},
   "outputs": [],
   "source": [
    "trainset = WILDSDatasetWrapper(dataset=train_data, metadata_spurious_label=\"background\", verbose=True)\n",
    "testset = WILDSDatasetWrapper(dataset=test_data, metadata_spurious_label=\"background\", verbose=True)\n",
    "valset = WILDSDatasetWrapper(dataset=val_data, metadata_spurious_label=\"background\", verbose=True)"
   ]
  },
  {
   "cell_type": "code",
   "execution_count": null,
   "metadata": {},
   "outputs": [],
   "source": [
    "model = model_factory(\"resnet50\", trainset[0][0].shape, 2, pretrained=True).to(device)\n",
    "\n",
    "val_evaluator = Evaluator(\n",
    "    testset=valset,\n",
    "    group_partition=valset.group_partition,\n",
    "    group_weights=trainset.group_weights,\n",
    "    batch_size=64,\n",
    "    model=model,\n",
    "    device=device,\n",
    "    verbose=False\n",
    "    )\n",
    "\n",
    "erm = ERM(\n",
    "    model=model,\n",
    "    num_epochs=300,\n",
    "    trainset=trainset,\n",
    "    val_evaluator=val_evaluator,\n",
    "    batch_size=128,\n",
    "    optimizer=SGD(model.parameters(), lr=1e-3, weight_decay=1e-3, momentum=0.9),\n",
    "    device=device,\n",
    "    verbose=True\n",
    ")\n",
    "erm.train()"
   ]
  },
  {
   "cell_type": "code",
   "execution_count": null,
   "metadata": {},
   "outputs": [],
   "source": [
    "evaluator = Evaluator(\n",
    "    testset=testset,\n",
    "    group_partition=testset.group_partition,\n",
    "    group_weights=trainset.group_weights,\n",
    "    batch_size=64,\n",
    "    model=erm.best_model,\n",
    "    device=device,\n",
    "    verbose=False\n",
    "    )\n",
    "evaluator.evaluate()"
   ]
  },
  {
   "cell_type": "code",
   "execution_count": null,
   "metadata": {},
   "outputs": [],
   "source": [
    "torch.save(model.state_dict(), 'path-to-save-the-model')"
   ]
  }
 ],
 "metadata": {
  "kernelspec": {
   "display_name": "myclone",
   "language": "python",
   "name": "python3"
  },
  "language_info": {
   "codemirror_mode": {
    "name": "ipython",
    "version": 3
   },
   "file_extension": ".py",
   "mimetype": "text/x-python",
   "name": "python",
   "nbconvert_exporter": "python",
   "pygments_lexer": "ipython3",
   "version": "3.10.9"
  },
  "orig_nbformat": 4
 },
 "nbformat": 4,
 "nbformat_minor": 2
}
