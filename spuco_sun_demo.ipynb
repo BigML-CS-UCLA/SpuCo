{
 "cells": [
  {
   "cell_type": "code",
   "execution_count": 1,
   "metadata": {},
   "outputs": [
    {
     "name": "stdout",
     "output_type": "stream",
     "text": [
      "Obtaining file:///home/sjoshi/spuco\n",
      "  Installing build dependencies ... \u001b[?25ldone\n",
      "\u001b[?25h  Checking if build backend supports build_editable ... \u001b[?25ldone\n",
      "\u001b[?25h  Getting requirements to build editable ... \u001b[?25ldone\n",
      "\u001b[?25h  Installing backend dependencies ... \u001b[?25ldone\n",
      "\u001b[?25h  Preparing editable metadata (pyproject.toml) ... \u001b[?25ldone\n",
      "\u001b[?25hRequirement already satisfied: matplotlib>=3.7.1 in /home/sjoshi/anaconda3/envs/clip/lib/python3.10/site-packages (from spuco==1.0.3) (3.7.1)\n",
      "Requirement already satisfied: numpy>=1.23.5 in /home/sjoshi/anaconda3/envs/clip/lib/python3.10/site-packages (from spuco==1.0.3) (1.24.3)\n",
      "Requirement already satisfied: setuptools>=61.0 in /home/sjoshi/.local/lib/python3.10/site-packages (from spuco==1.0.3) (68.1.0)\n",
      "Requirement already satisfied: torch>=2.0.0 in /home/sjoshi/anaconda3/envs/clip/lib/python3.10/site-packages (from spuco==1.0.3) (2.0.1)\n",
      "Requirement already satisfied: torchvision>=0.15.1 in /home/sjoshi/anaconda3/envs/clip/lib/python3.10/site-packages (from spuco==1.0.3) (0.15.2)\n",
      "Requirement already satisfied: tqdm>=4.65.0 in /home/sjoshi/anaconda3/envs/clip/lib/python3.10/site-packages (from spuco==1.0.3) (4.65.0)\n",
      "Requirement already satisfied: scikit-learn>=0.20.0 in /home/sjoshi/anaconda3/envs/clip/lib/python3.10/site-packages (from spuco==1.0.3) (1.2.1)\n",
      "Requirement already satisfied: wilds>=2.0.0 in /home/sjoshi/anaconda3/envs/clip/lib/python3.10/site-packages (from spuco==1.0.3) (2.0.0)\n",
      "Requirement already satisfied: transformers>=3.5.0 in /home/sjoshi/anaconda3/envs/clip/lib/python3.10/site-packages (from spuco==1.0.3) (4.29.2)\n",
      "Requirement already satisfied: contourpy>=1.0.1 in /home/sjoshi/anaconda3/envs/clip/lib/python3.10/site-packages (from matplotlib>=3.7.1->spuco==1.0.3) (1.0.7)\n",
      "Requirement already satisfied: cycler>=0.10 in /home/sjoshi/anaconda3/envs/clip/lib/python3.10/site-packages (from matplotlib>=3.7.1->spuco==1.0.3) (0.11.0)\n",
      "Requirement already satisfied: fonttools>=4.22.0 in /home/sjoshi/anaconda3/envs/clip/lib/python3.10/site-packages (from matplotlib>=3.7.1->spuco==1.0.3) (4.39.4)\n",
      "Requirement already satisfied: kiwisolver>=1.0.1 in /home/sjoshi/anaconda3/envs/clip/lib/python3.10/site-packages (from matplotlib>=3.7.1->spuco==1.0.3) (1.4.4)\n",
      "Requirement already satisfied: packaging>=20.0 in /home/sjoshi/anaconda3/envs/clip/lib/python3.10/site-packages (from matplotlib>=3.7.1->spuco==1.0.3) (23.1)\n",
      "Requirement already satisfied: pillow>=6.2.0 in /home/sjoshi/anaconda3/envs/clip/lib/python3.10/site-packages (from matplotlib>=3.7.1->spuco==1.0.3) (9.5.0)\n",
      "Requirement already satisfied: pyparsing>=2.3.1 in /home/sjoshi/anaconda3/envs/clip/lib/python3.10/site-packages (from matplotlib>=3.7.1->spuco==1.0.3) (3.0.9)\n",
      "Requirement already satisfied: python-dateutil>=2.7 in /home/sjoshi/anaconda3/envs/clip/lib/python3.10/site-packages (from matplotlib>=3.7.1->spuco==1.0.3) (2.8.2)\n",
      "Requirement already satisfied: scipy>=1.3.2 in /home/sjoshi/anaconda3/envs/clip/lib/python3.10/site-packages (from scikit-learn>=0.20.0->spuco==1.0.3) (1.10.1)\n",
      "Requirement already satisfied: joblib>=1.1.1 in /home/sjoshi/anaconda3/envs/clip/lib/python3.10/site-packages (from scikit-learn>=0.20.0->spuco==1.0.3) (1.2.0)\n",
      "Requirement already satisfied: threadpoolctl>=2.0.0 in /home/sjoshi/anaconda3/envs/clip/lib/python3.10/site-packages (from scikit-learn>=0.20.0->spuco==1.0.3) (3.1.0)\n",
      "Requirement already satisfied: filelock in /home/sjoshi/anaconda3/envs/clip/lib/python3.10/site-packages (from torch>=2.0.0->spuco==1.0.3) (3.12.0)\n",
      "Requirement already satisfied: typing-extensions in /home/sjoshi/anaconda3/envs/clip/lib/python3.10/site-packages (from torch>=2.0.0->spuco==1.0.3) (4.5.0)\n",
      "Requirement already satisfied: sympy in /home/sjoshi/anaconda3/envs/clip/lib/python3.10/site-packages (from torch>=2.0.0->spuco==1.0.3) (1.12)\n",
      "Requirement already satisfied: networkx in /home/sjoshi/anaconda3/envs/clip/lib/python3.10/site-packages (from torch>=2.0.0->spuco==1.0.3) (3.1)\n",
      "Requirement already satisfied: jinja2 in /home/sjoshi/anaconda3/envs/clip/lib/python3.10/site-packages (from torch>=2.0.0->spuco==1.0.3) (3.1.2)\n",
      "Requirement already satisfied: nvidia-cuda-nvrtc-cu11==11.7.99 in /home/sjoshi/anaconda3/envs/clip/lib/python3.10/site-packages (from torch>=2.0.0->spuco==1.0.3) (11.7.99)\n",
      "Requirement already satisfied: nvidia-cuda-runtime-cu11==11.7.99 in /home/sjoshi/anaconda3/envs/clip/lib/python3.10/site-packages (from torch>=2.0.0->spuco==1.0.3) (11.7.99)\n",
      "Requirement already satisfied: nvidia-cuda-cupti-cu11==11.7.101 in /home/sjoshi/anaconda3/envs/clip/lib/python3.10/site-packages (from torch>=2.0.0->spuco==1.0.3) (11.7.101)\n",
      "Requirement already satisfied: nvidia-cudnn-cu11==8.5.0.96 in /home/sjoshi/anaconda3/envs/clip/lib/python3.10/site-packages (from torch>=2.0.0->spuco==1.0.3) (8.5.0.96)\n",
      "Requirement already satisfied: nvidia-cublas-cu11==11.10.3.66 in /home/sjoshi/anaconda3/envs/clip/lib/python3.10/site-packages (from torch>=2.0.0->spuco==1.0.3) (11.10.3.66)\n",
      "Requirement already satisfied: nvidia-cufft-cu11==10.9.0.58 in /home/sjoshi/anaconda3/envs/clip/lib/python3.10/site-packages (from torch>=2.0.0->spuco==1.0.3) (10.9.0.58)\n",
      "Requirement already satisfied: nvidia-curand-cu11==10.2.10.91 in /home/sjoshi/anaconda3/envs/clip/lib/python3.10/site-packages (from torch>=2.0.0->spuco==1.0.3) (10.2.10.91)\n",
      "Requirement already satisfied: nvidia-cusolver-cu11==11.4.0.1 in /home/sjoshi/anaconda3/envs/clip/lib/python3.10/site-packages (from torch>=2.0.0->spuco==1.0.3) (11.4.0.1)\n",
      "Requirement already satisfied: nvidia-cusparse-cu11==11.7.4.91 in /home/sjoshi/anaconda3/envs/clip/lib/python3.10/site-packages (from torch>=2.0.0->spuco==1.0.3) (11.7.4.91)\n",
      "Requirement already satisfied: nvidia-nccl-cu11==2.14.3 in /home/sjoshi/anaconda3/envs/clip/lib/python3.10/site-packages (from torch>=2.0.0->spuco==1.0.3) (2.14.3)\n",
      "Requirement already satisfied: nvidia-nvtx-cu11==11.7.91 in /home/sjoshi/anaconda3/envs/clip/lib/python3.10/site-packages (from torch>=2.0.0->spuco==1.0.3) (11.7.91)\n",
      "Requirement already satisfied: triton==2.0.0 in /home/sjoshi/anaconda3/envs/clip/lib/python3.10/site-packages (from torch>=2.0.0->spuco==1.0.3) (2.0.0)\n",
      "Requirement already satisfied: wheel in /home/sjoshi/.local/lib/python3.10/site-packages (from nvidia-cublas-cu11==11.10.3.66->torch>=2.0.0->spuco==1.0.3) (0.41.1)\n",
      "Requirement already satisfied: cmake in /home/sjoshi/anaconda3/envs/clip/lib/python3.10/site-packages (from triton==2.0.0->torch>=2.0.0->spuco==1.0.3) (3.26.3)\n",
      "Requirement already satisfied: lit in /home/sjoshi/anaconda3/envs/clip/lib/python3.10/site-packages (from triton==2.0.0->torch>=2.0.0->spuco==1.0.3) (16.0.3)\n",
      "Requirement already satisfied: requests in /home/sjoshi/anaconda3/envs/clip/lib/python3.10/site-packages (from torchvision>=0.15.1->spuco==1.0.3) (2.30.0)\n",
      "Requirement already satisfied: huggingface-hub<1.0,>=0.14.1 in /home/sjoshi/anaconda3/envs/clip/lib/python3.10/site-packages (from transformers>=3.5.0->spuco==1.0.3) (0.14.1)\n",
      "Requirement already satisfied: pyyaml>=5.1 in /home/sjoshi/anaconda3/envs/clip/lib/python3.10/site-packages (from transformers>=3.5.0->spuco==1.0.3) (6.0)\n",
      "Requirement already satisfied: regex!=2019.12.17 in /home/sjoshi/anaconda3/envs/clip/lib/python3.10/site-packages (from transformers>=3.5.0->spuco==1.0.3) (2023.5.5)\n",
      "Requirement already satisfied: tokenizers!=0.11.3,<0.14,>=0.11.1 in /home/sjoshi/anaconda3/envs/clip/lib/python3.10/site-packages (from transformers>=3.5.0->spuco==1.0.3) (0.13.3)\n",
      "Requirement already satisfied: ogb>=1.2.6 in /home/sjoshi/anaconda3/envs/clip/lib/python3.10/site-packages (from wilds>=2.0.0->spuco==1.0.3) (1.3.6)\n",
      "Requirement already satisfied: outdated>=0.2.0 in /home/sjoshi/anaconda3/envs/clip/lib/python3.10/site-packages (from wilds>=2.0.0->spuco==1.0.3) (0.2.2)\n",
      "Requirement already satisfied: pandas>=1.1.0 in /home/sjoshi/anaconda3/envs/clip/lib/python3.10/site-packages (from wilds>=2.0.0->spuco==1.0.3) (1.5.3)\n",
      "Requirement already satisfied: pytz>=2020.4 in /home/sjoshi/anaconda3/envs/clip/lib/python3.10/site-packages (from wilds>=2.0.0->spuco==1.0.3) (2022.7.1)\n",
      "Requirement already satisfied: fsspec in /home/sjoshi/anaconda3/envs/clip/lib/python3.10/site-packages (from huggingface-hub<1.0,>=0.14.1->transformers>=3.5.0->spuco==1.0.3) (2023.5.0)\n",
      "Requirement already satisfied: six>=1.12.0 in /home/sjoshi/anaconda3/envs/clip/lib/python3.10/site-packages (from ogb>=1.2.6->wilds>=2.0.0->spuco==1.0.3) (1.16.0)\n",
      "Requirement already satisfied: urllib3>=1.24.0 in /home/sjoshi/anaconda3/envs/clip/lib/python3.10/site-packages (from ogb>=1.2.6->wilds>=2.0.0->spuco==1.0.3) (1.26.16)\n",
      "Requirement already satisfied: littleutils in /home/sjoshi/anaconda3/envs/clip/lib/python3.10/site-packages (from outdated>=0.2.0->wilds>=2.0.0->spuco==1.0.3) (0.2.2)\n",
      "Requirement already satisfied: MarkupSafe>=2.0 in /home/sjoshi/anaconda3/envs/clip/lib/python3.10/site-packages (from jinja2->torch>=2.0.0->spuco==1.0.3) (2.1.2)\n",
      "Requirement already satisfied: charset-normalizer<4,>=2 in /home/sjoshi/anaconda3/envs/clip/lib/python3.10/site-packages (from requests->torchvision>=0.15.1->spuco==1.0.3) (3.1.0)\n",
      "Requirement already satisfied: idna<4,>=2.5 in /home/sjoshi/anaconda3/envs/clip/lib/python3.10/site-packages (from requests->torchvision>=0.15.1->spuco==1.0.3) (3.4)\n",
      "Requirement already satisfied: certifi>=2017.4.17 in /home/sjoshi/anaconda3/envs/clip/lib/python3.10/site-packages (from requests->torchvision>=0.15.1->spuco==1.0.3) (2023.5.7)\n",
      "Requirement already satisfied: mpmath>=0.19 in /home/sjoshi/anaconda3/envs/clip/lib/python3.10/site-packages (from sympy->torch>=2.0.0->spuco==1.0.3) (1.3.0)\n",
      "Building wheels for collected packages: spuco\n",
      "  Building editable for spuco (pyproject.toml) ... \u001b[?25ldone\n",
      "\u001b[?25h  Created wheel for spuco: filename=spuco-1.0.3-0.editable-py3-none-any.whl size=3615 sha256=b25c0c02b6001dbf6528ea4cb54a0124d7c182f128219d6b694f6ee33d2fa9f6\n",
      "  Stored in directory: /tmp/pip-ephem-wheel-cache-47lozqz5/wheels/ef/5d/43/a265894b1d52121a51705a208277e8d9a9670e95fa1a2e7ae6\n",
      "Successfully built spuco\n",
      "Installing collected packages: spuco\n",
      "  Attempting uninstall: spuco\n",
      "    Found existing installation: spuco 1.0.3\n",
      "    Uninstalling spuco-1.0.3:\n",
      "      Successfully uninstalled spuco-1.0.3\n",
      "Successfully installed spuco-1.0.3\n",
      "Note: you may need to restart the kernel to use updated packages.\n"
     ]
    }
   ],
   "source": [
    "%pip install -e ."
   ]
  },
  {
   "cell_type": "code",
   "execution_count": 2,
   "metadata": {},
   "outputs": [
    {
     "name": "stderr",
     "output_type": "stream",
     "text": [
      "Loading classes: 100%|██████████| 2/2 [00:00<00:00, 6331.02it/s]\n"
     ]
    }
   ],
   "source": [
    "from spuco.datasets import SpuCoImageFolder\n",
    "from torchvision.transforms import ToPILImage\n",
    "\n",
    "to_image = ToPILImage()\n",
    "demo = SpuCoImageFolder(\"/data/spuco_image_folder_demo/\", verbose=True, transform=to_image)\n",
    "demo.initialize()"
   ]
  },
  {
   "cell_type": "code",
   "execution_count": 8,
   "metadata": {},
   "outputs": [
    {
     "data": {
      "text/plain": [
       "{(0, 0): [0], (0, 2): [1], (1, 1): [2], (1, 2): [3]}"
      ]
     },
     "execution_count": 8,
     "metadata": {},
     "output_type": "execute_result"
    }
   ],
   "source": [
    "demo.group_partition"
   ]
  },
  {
   "cell_type": "code",
   "execution_count": 7,
   "metadata": {},
   "outputs": [
    {
     "data": {
      "text/plain": [
       "[0, 0, 1, 1]"
      ]
     },
     "execution_count": 7,
     "metadata": {},
     "output_type": "execute_result"
    }
   ],
   "source": [
    "demo.labels"
   ]
  },
  {
   "cell_type": "code",
   "execution_count": 6,
   "metadata": {},
   "outputs": [
    {
     "data": {
      "text/plain": [
       "[0, 2, 1, 2]"
      ]
     },
     "execution_count": 6,
     "metadata": {},
     "output_type": "execute_result"
    }
   ],
   "source": [
    "demo.spurious"
   ]
  }
 ],
 "metadata": {
  "kernelspec": {
   "display_name": "clip",
   "language": "python",
   "name": "python3"
  },
  "language_info": {
   "codemirror_mode": {
    "name": "ipython",
    "version": 3
   },
   "file_extension": ".py",
   "mimetype": "text/x-python",
   "name": "python",
   "nbconvert_exporter": "python",
   "pygments_lexer": "ipython3",
   "version": "3.10.9"
  },
  "orig_nbformat": 4
 },
 "nbformat": 4,
 "nbformat_minor": 2
}
